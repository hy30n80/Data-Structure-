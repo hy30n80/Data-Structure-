{
  "nbformat": 4,
  "nbformat_minor": 0,
  "metadata": {
    "colab": {
      "provenance": [],
      "include_colab_link": true
    },
    "kernelspec": {
      "name": "python3",
      "display_name": "Python 3"
    },
    "language_info": {
      "name": "python"
    }
  },
  "cells": [
    {
      "cell_type": "markdown",
      "metadata": {
        "id": "view-in-github",
        "colab_type": "text"
      },
      "source": [
        "<a href=\"https://colab.research.google.com/github/hy30n80/Data-Structure-/blob/main/17_Binary_Search_Tree.ipynb\" target=\"_parent\"><img src=\"https://colab.research.google.com/assets/colab-badge.svg\" alt=\"Open In Colab\"/></a>"
      ]
    },
    {
      "cell_type": "markdown",
      "source": [
        "# EC2202 Binary Search Trees"
      ],
      "metadata": {
        "id": "gqZUxjuw8OE4"
      }
    },
    {
      "cell_type": "markdown",
      "source": [
        "**Disclaimer.**\n",
        "This code examples are based on\n",
        "1. [KAIST CS206 (Professor Otfried Cheong)](https://otfried.org/courses/cs206/)\n",
        "2. [LeetCode](https://leetcode.com/)\n",
        "3. [GeeksForGeeks](https://practice.geeksforgeeks.org/)\n",
        "4. Coding Interviews"
      ],
      "metadata": {
        "id": "1bWHozli8SQ_"
      }
    },
    {
      "cell_type": "code",
      "source": [
        "import doctest"
      ],
      "metadata": {
        "id": "k0FSZ0zsEBPz"
      },
      "execution_count": 1,
      "outputs": []
    },
    {
      "cell_type": "code",
      "source": [
        "%%HTML\n",
        "<iframe width=\"560\" height=\"315\" src=\"https://www.youtube.com/embed/nzxh77Jw6IU\" title=\"YouTube video player\" frameborder=\"0\" allowfullscreen></iframe>\n",
        "<iframe width=\"560\" height=\"315\" src=\"https://www.youtube.com/embed/3g7-16kzUQ4\" title=\"YouTube video player\" frameborder=\"0\" allowfullscreen></iframe>"
      ],
      "metadata": {
        "id": "RMv11LbPqUDw",
        "colab": {
          "base_uri": "https://localhost:8080/",
          "height": 336
        },
        "outputId": "6c076fdf-e290-4f55-c3df-cbcd0a767ce8"
      },
      "execution_count": null,
      "outputs": [
        {
          "output_type": "display_data",
          "data": {
            "text/plain": [
              "<IPython.core.display.HTML object>"
            ],
            "text/html": [
              "<iframe width=\"560\" height=\"315\" src=\"https://www.youtube.com/embed/nzxh77Jw6IU\" title=\"YouTube video player\" frameborder=\"0\" allowfullscreen></iframe>\n",
              "<iframe width=\"560\" height=\"315\" src=\"https://www.youtube.com/embed/3g7-16kzUQ4\" title=\"YouTube video player\" frameborder=\"0\" allowfullscreen></iframe>\n"
            ]
          },
          "metadata": {}
        }
      ]
    },
    {
      "cell_type": "markdown",
      "source": [
        "## Implementation of a BST"
      ],
      "metadata": {
        "id": "hbnez6pyxxH0"
      }
    },
    {
      "cell_type": "markdown",
      "source": [
        "A binary search tree is a binary tree where every node stores one key (and the value that corresponds to this key), and that has the binary search tree property: For any node v, all the keys in the left subtree of v are less than the key of v, and all the keys in the right subtree of v are larger than the key of v. As a result, an in-order traversal of a binary search tree returns the keys in sorted order."
      ],
      "metadata": {
        "id": "gABN5SUeeMvY"
      }
    },
    {
      "cell_type": "markdown",
      "source": [
        "Here is the node class of our binary search tree:"
      ],
      "metadata": {
        "id": "0Hrv_-BxeQq0"
      }
    },
    {
      "cell_type": "code",
      "source": [
        "class _Node():\n",
        "  # arrays => complete binary trees\n",
        "  # BST might not be complete!\n",
        "  # Linked list!\n",
        "  def __init__(self, key, value, left=None, right=None):\n",
        "    self.key = key\n",
        "    self.value = value\n",
        "    self.left = left\n",
        "    self.right = right"
      ],
      "metadata": {
        "id": "hVGN3ZZieT5U"
      },
      "execution_count": 2,
      "outputs": []
    },
    {
      "cell_type": "markdown",
      "source": [
        "**Finding keys.** To implement \\_\\_contains\\_\\_(k) and \\_\\_getitem\\_\\_(k), we need to find the node containing agiven key k. We start at the root and compare k to the keys of the root node. If k=s,then the node we are looking for is the root node itself. If k < s then by the search tree property, we know that k can only be in the left subtree of the root. If k > s, then k can only be in the right subtree of the root. We proceed in this manner until we either find a node with key k, or we reach an empty subtree:"
      ],
      "metadata": {
        "id": "yCIQgHaCeVC2"
      }
    },
    {
      "cell_type": "code",
      "source": [
        "  def _find(self, key):\n",
        "    if key == self.key:\n",
        "      return self\n",
        "    if key < self.key:\n",
        "      return self.left._find(key) if self.left else None\n",
        "    else:\n",
        "      return self.right._find(key) if self.right else None"
      ],
      "metadata": {
        "id": "Yjnjq0JhegwQ"
      },
      "execution_count": 3,
      "outputs": []
    },
    {
      "cell_type": "markdown",
      "source": [
        "**Smallest and largest keys.** To implement firstkey(), we need to find the smallest key in the search tree. For every node, its left subtree contains all the keys smaller than the key in the node itself, so the smallest key in the tree can be found by always walking down to the left child until there is no more left child:"
      ],
      "metadata": {
        "id": "w1aDvxlWejLV"
      }
    },
    {
      "cell_type": "code",
      "source": [
        "  # 'ppp' exercise\n",
        "  def _find_first(self):  # find_smallest\n",
        "    if self.left:\n",
        "      return self.left._find_first()\n",
        "    else:\n",
        "      return self\n",
        "\n",
        "  def _find_last(self):  # find_largest\n",
        "    if self.right:\n",
        "      return self.right._find_last()\n",
        "    else:\n",
        "      return self"
      ],
      "metadata": {
        "id": "N1VMeICEemqi"
      },
      "execution_count": 4,
      "outputs": []
    },
    {
      "cell_type": "code",
      "source": [
        "%%HTML\n",
        "<iframe width=\"560\" height=\"315\" src=\"https://www.youtube.com/embed/bBMXo8fFNuw\" title=\"YouTube video player\" frameborder=\"0\" allowfullscreen></iframe>\n",
        "<iframe width=\"560\" height=\"315\" src=\"https://www.youtube.com/embed/V9t-k94NPkk\" title=\"YouTube video player\" frameborder=\"0\" allowfullscreen></iframe>"
      ],
      "metadata": {
        "id": "RsSoaYzAqe9A",
        "colab": {
          "base_uri": "https://localhost:8080/",
          "height": 336
        },
        "outputId": "622c040d-197c-43cb-af69-da4d121fc64b"
      },
      "execution_count": null,
      "outputs": [
        {
          "output_type": "display_data",
          "data": {
            "text/plain": [
              "<IPython.core.display.HTML object>"
            ],
            "text/html": [
              "<iframe width=\"560\" height=\"315\" src=\"https://www.youtube.com/embed/bBMXo8fFNuw\" title=\"YouTube video player\" frameborder=\"0\" allowfullscreen></iframe>\n",
              "<iframe width=\"560\" height=\"315\" src=\"https://www.youtube.com/embed/V9t-k94NPkk\" title=\"YouTube video player\" frameborder=\"0\" allowfullscreen></iframe>\n"
            ]
          },
          "metadata": {}
        }
      ]
    },
    {
      "cell_type": "markdown",
      "source": [
        "**Inserting a key.** To add a mapping (k, v), we first need to find the correct place for the key k. Since we need to maintain the search tree property, this needs to be done exactly as in _find(k).\n",
        "If we find a node n that already contains the key k, then we update the tree by changing the value at n to v. Otherwise, we reach an empty subtree, and we replace this empty subtree by a single node with key k and value v."
      ],
      "metadata": {
        "id": "oLcifsv5e1gc"
      }
    },
    {
      "cell_type": "code",
      "source": [
        "  # 'ppp' exercise\n",
        "  def _insert(self, key, value):\n",
        "\n",
        "    # Case 1. there is already a node with given ket in the BST -> update\n",
        "    if key == self.key:\n",
        "      self.value = value\n",
        "\n",
        "\n",
        "    # Case 2. there is no node with the given key in the BST -> find the place and create a new node\n",
        "    elif key < self.key:\n",
        "      if self.left is None:\n",
        "        self.left = _Node(key, value)\n",
        "      else:\n",
        "        self.left._insert(key, value)\n",
        "\n",
        "    else:\n",
        "      if self.right is None:\n",
        "        self.right = _Node(key, value)\n",
        "      else:\n",
        "        self.right._insert(key, value)\n"
      ],
      "metadata": {
        "id": "sjOPbd_Ue3ag"
      },
      "execution_count": 13,
      "outputs": []
    },
    {
      "cell_type": "code",
      "source": [
        "%%HTML\n",
        "<iframe width=\"560\" height=\"315\" src=\"https://www.youtube.com/embed/Lt2nbOQYBfE\" title=\"YouTube video player\" frameborder=\"0\" allowfullscreen></iframe>\n",
        "<iframe width=\"560\" height=\"315\" src=\"https://www.youtube.com/embed/dPQ1Qgj4bCA\" title=\"YouTube video player\" frameborder=\"0\" allowfullscreen></iframe>"
      ],
      "metadata": {
        "id": "Vd_3Wz4dqheY",
        "colab": {
          "base_uri": "https://localhost:8080/",
          "height": 336
        },
        "outputId": "35f85a68-ad75-4bbc-8a04-4ecf96dddecb"
      },
      "execution_count": null,
      "outputs": [
        {
          "output_type": "display_data",
          "data": {
            "text/plain": [
              "<IPython.core.display.HTML object>"
            ],
            "text/html": [
              "<iframe width=\"560\" height=\"315\" src=\"https://www.youtube.com/embed/Lt2nbOQYBfE\" title=\"YouTube video player\" frameborder=\"0\" allowfullscreen></iframe>\n",
              "<iframe width=\"560\" height=\"315\" src=\"https://www.youtube.com/embed/dPQ1Qgj4bCA\" title=\"YouTube video player\" frameborder=\"0\" allowfullscreen></iframe>\n"
            ]
          },
          "metadata": {}
        }
      ]
    },
    {
      "cell_type": "markdown",
      "source": [
        "**Removing a key.** Removing a mapping is the hardest part.\n",
        "\n",
        "We first find the node n containing the key k to be deleted. If n is a leaf or has only one child, we can remove the node n easily, by changing the link from n’s parent. If n has two children, we do not remove the node n. Instead, we find the leftmost node u in the right subtree of n. The key of u is the smallest key in the tree that is larger than k. That means that we can move the key and value information from u to n, and delete the node u. Since u has no left child, this is again easy.\n",
        "The _Node’s internal method _remove(k) returns the root of a new subtree that is identical to the subtree rooted at n, except that the mapping for k has been removed:"
      ],
      "metadata": {
        "id": "u9cGLZv5e5ri"
      }
    },
    {
      "cell_type": "code",
      "source": [
        "  #      5\n",
        "  #    /   \\\n",
        "  #   3     9\n",
        "  #  / \\   / \\\n",
        "  # 2   4 7  11\n",
        "\n",
        "  # Returns the new root.\n",
        "  def _remove(self, key):\n",
        "    # assume key is inside this BST!\n",
        "    # 1st case: the node of interest has one or zero child (삭제하려는 노드의 자식이 없거나 하나만 있을 경우)\n",
        "    #           => just remove the node (+new connection; substitution)\n",
        "\n",
        "\n",
        "    # 2nd case: the node of interest has two children\n",
        "    #           => need to maintain the BST property\n",
        "    #           1) remove the node\n",
        "    #           2) exchange the deleted node with the smallest value\n",
        "    #             in the right subtree (the smallest value among\n",
        "    #             the right subtrees, but larger than the left part)\n",
        "\n",
        "    if key < self.key and self.left is not None:\n",
        "      self.left = self.left._remove(key)\n",
        "\n",
        "    elif key > self.key and self.right is not None:\n",
        "      self.right = self.right._remove(key)\n",
        "\n",
        "    elif key == self.key:\n",
        "      # 2nd case: two children\n",
        "      if self.left is not None and self.right is not None:\n",
        "        # Need to remove self, but has two children\n",
        "        n = self.right._find_first()\n",
        "        self.key = n.key\n",
        "        self.value = n.value\n",
        "        self.right = self.right._remove_first()\n",
        "      # 1st case\n",
        "      else:\n",
        "        # Need to remove self, which has zero or one child\n",
        "        return self.left if self.left else self.right\n",
        "    return self"
      ],
      "metadata": {
        "id": "e1ZlFlL3e9L5"
      },
      "execution_count": 14,
      "outputs": []
    },
    {
      "cell_type": "markdown",
      "source": [
        "_remove makes use of another internal method _remove_first(n), which again returns a new subtree, identical to the subtree at n except that the leftmost node has been removed:"
      ],
      "metadata": {
        "id": "VCggznPIfCDV"
      }
    },
    {
      "cell_type": "code",
      "source": [
        "  # 'ppp' exercise\n",
        "  # Remove the node with smallest key in the subtree rooted at this node\n",
        "  # Returns the new root.\n",
        "  def _remove_first(self):\n",
        "    if self.left is None: # 현재 노드가 가장 작음\n",
        "      return self.right # 현재 노드를 삭제한다는 의미\n",
        "    else:\n",
        "      self.left = self.left._remove_first()\n",
        "      return self\n",
        "\n"
      ],
      "metadata": {
        "id": "yHi8nB5BfE2x"
      },
      "execution_count": 8,
      "outputs": []
    },
    {
      "cell_type": "code",
      "source": [
        "%%HTML\n",
        "<iframe width=\"560\" height=\"315\" src=\"https://www.youtube.com/embed/DxoEDVMytbs\" title=\"YouTube video player\" frameborder=\"0\" allowfullscreen></iframe>\n",
        "<iframe width=\"560\" height=\"315\" src=\"https://www.youtube.com/embed/0jg801xJwcw\" title=\"YouTube video player\" frameborder=\"0\" allowfullscreen></iframe>"
      ],
      "metadata": {
        "id": "N1GY8XadqkPr",
        "colab": {
          "base_uri": "https://localhost:8080/",
          "height": 336
        },
        "outputId": "0207534a-889c-4326-a7df-1f276e66d323"
      },
      "execution_count": null,
      "outputs": [
        {
          "output_type": "display_data",
          "data": {
            "text/plain": [
              "<IPython.core.display.HTML object>"
            ],
            "text/html": [
              "<iframe width=\"560\" height=\"315\" src=\"https://www.youtube.com/embed/DxoEDVMytbs\" title=\"YouTube video player\" frameborder=\"0\" allowfullscreen></iframe>\n",
              "<iframe width=\"560\" height=\"315\" src=\"https://www.youtube.com/embed/0jg801xJwcw\" title=\"YouTube video player\" frameborder=\"0\" allowfullscreen></iframe>\n"
            ]
          },
          "metadata": {}
        }
      ]
    },
    {
      "cell_type": "markdown",
      "source": [
        "## Implementation of dict using a BST"
      ],
      "metadata": {
        "id": "uAbkBJKQfOW5"
      }
    },
    {
      "cell_type": "code",
      "source": [
        "  # 'ppp' exercise\n",
        "  def _insert(self, key, value):\n",
        "\n",
        "    # Case 1. there is already a node with given ket in the BST -> update\n",
        "    if key == self.key:\n",
        "      self.value = value\n",
        "\n",
        "\n",
        "    # Case 2. there is no node with the given key in the BST -> find the place and create a new node\n",
        "    elif key < self.key:\n",
        "      if self.left is None:\n",
        "        self.left = _Node(key, value)\n",
        "      else:\n",
        "        self.left._insert(key, value)\n",
        "\n",
        "    else:\n",
        "      if self.right is None:\n",
        "        self.right = _Node(key, value)\n",
        "      else:\n",
        "        self.right._insert(key, value)"
      ],
      "metadata": {
        "id": "4MXbQuScUs5-"
      },
      "execution_count": null,
      "outputs": []
    },
    {
      "cell_type": "code",
      "source": [
        "class dict():\n",
        "  def __init__(self):\n",
        "    self._root = None\n",
        "\n",
        "  def __str__(self):\n",
        "    return self._root._description(0) if self._root else \"[]\"\n",
        "\n",
        "  def _find(self, key):\n",
        "    return self._root._find(key) if self._root else None\n",
        "\n",
        "  def __getitem__(self, key):\n",
        "    n = self._find(key)\n",
        "    if n is None:\n",
        "      raise KeyError(key)\n",
        "    return n.value\n",
        "\n",
        "  def get(self, key, v=None):\n",
        "    n = self._find(key)\n",
        "    return n.value if n else v\n",
        "\n",
        "  def __contains__(self, key):\n",
        "    return self._find(key) is not None\n",
        "\n",
        "  def firstkey(self):\n",
        "    return self._root._find_first().key if self._root else None\n",
        "\n",
        "  def lastkey(self):\n",
        "    return self._root._find_last().key if self._root else None\n",
        "\n",
        "  def __delitem__(self, key):\n",
        "    if self._root:\n",
        "      self._root = self._root._remove(key)\n",
        "\n",
        "  def __setitem__(self, key, value):\n",
        "    if self._root is None:\n",
        "      self._root = _Node(key, value)\n",
        "    else:\n",
        "      self._root._insert(key, value)"
      ],
      "metadata": {
        "id": "1QZkRCFPx8K_"
      },
      "execution_count": 19,
      "outputs": []
    },
    {
      "cell_type": "markdown",
      "source": [
        "Some test codes for our `dict`"
      ],
      "metadata": {
        "id": "1t9LwNpqfQH4"
      }
    },
    {
      "cell_type": "markdown",
      "source": [],
      "metadata": {
        "id": "21OnqJFcU8Hz"
      }
    },
    {
      "cell_type": "code",
      "source": [
        "d = dict()\n",
        "\n",
        "d[7] = \"EC2202\"\n",
        "d[3] = \"GS1401\"\n",
        "\n",
        "print(\"d = %s\" % d)\n",
        "#   7\n",
        "#  /\n",
        "# 3\n",
        "print(\"d[3] = %s\" % d[3])\n",
        "print(\"d[7] = %s\" % d[7])\n",
        "\n",
        "d[7] = \"EC2202Spring\"\n",
        "print(\"\")\n",
        "print(\"d = %s\" % d)\n",
        "print(\"d[3] = %s\" % d[3])\n",
        "print(\"d[7] = %s\" % d[7])"
      ],
      "metadata": {
        "colab": {
          "base_uri": "https://localhost:8080/",
          "height": 306
        },
        "id": "i0r0xYuuE17E",
        "outputId": "85db6ede-521c-4d8c-be02-34edcc9ce671"
      },
      "execution_count": 20,
      "outputs": [
        {
          "output_type": "error",
          "ename": "AttributeError",
          "evalue": "'_Node' object has no attribute '_insert'",
          "traceback": [
            "\u001b[0;31m---------------------------------------------------------------------------\u001b[0m",
            "\u001b[0;31mAttributeError\u001b[0m                            Traceback (most recent call last)",
            "\u001b[0;32m<ipython-input-20-08241b4c0aea>\u001b[0m in \u001b[0;36m<cell line: 4>\u001b[0;34m()\u001b[0m\n\u001b[1;32m      2\u001b[0m \u001b[0;34m\u001b[0m\u001b[0m\n\u001b[1;32m      3\u001b[0m \u001b[0md\u001b[0m\u001b[0;34m[\u001b[0m\u001b[0;36m7\u001b[0m\u001b[0;34m]\u001b[0m \u001b[0;34m=\u001b[0m \u001b[0;34m\"EC2202\"\u001b[0m\u001b[0;34m\u001b[0m\u001b[0;34m\u001b[0m\u001b[0m\n\u001b[0;32m----> 4\u001b[0;31m \u001b[0md\u001b[0m\u001b[0;34m[\u001b[0m\u001b[0;36m3\u001b[0m\u001b[0;34m]\u001b[0m \u001b[0;34m=\u001b[0m \u001b[0;34m\"GS1401\"\u001b[0m\u001b[0;34m\u001b[0m\u001b[0;34m\u001b[0m\u001b[0m\n\u001b[0m\u001b[1;32m      5\u001b[0m \u001b[0;34m\u001b[0m\u001b[0m\n\u001b[1;32m      6\u001b[0m \u001b[0mprint\u001b[0m\u001b[0;34m(\u001b[0m\u001b[0;34m\"d = %s\"\u001b[0m \u001b[0;34m%\u001b[0m \u001b[0md\u001b[0m\u001b[0;34m)\u001b[0m\u001b[0;34m\u001b[0m\u001b[0;34m\u001b[0m\u001b[0m\n",
            "\u001b[0;32m<ipython-input-19-9f3d1aad32f6>\u001b[0m in \u001b[0;36m__setitem__\u001b[0;34m(self, key, value)\u001b[0m\n\u001b[1;32m     36\u001b[0m       \u001b[0mself\u001b[0m\u001b[0;34m.\u001b[0m\u001b[0m_root\u001b[0m \u001b[0;34m=\u001b[0m \u001b[0m_Node\u001b[0m\u001b[0;34m(\u001b[0m\u001b[0mkey\u001b[0m\u001b[0;34m,\u001b[0m \u001b[0mvalue\u001b[0m\u001b[0;34m)\u001b[0m\u001b[0;34m\u001b[0m\u001b[0;34m\u001b[0m\u001b[0m\n\u001b[1;32m     37\u001b[0m     \u001b[0;32melse\u001b[0m\u001b[0;34m:\u001b[0m\u001b[0;34m\u001b[0m\u001b[0;34m\u001b[0m\u001b[0m\n\u001b[0;32m---> 38\u001b[0;31m       \u001b[0mself\u001b[0m\u001b[0;34m.\u001b[0m\u001b[0m_root\u001b[0m\u001b[0;34m.\u001b[0m\u001b[0m_insert\u001b[0m\u001b[0;34m(\u001b[0m\u001b[0mkey\u001b[0m\u001b[0;34m,\u001b[0m \u001b[0mvalue\u001b[0m\u001b[0;34m)\u001b[0m\u001b[0;34m\u001b[0m\u001b[0;34m\u001b[0m\u001b[0m\n\u001b[0m",
            "\u001b[0;31mAttributeError\u001b[0m: '_Node' object has no attribute '_insert'"
          ]
        }
      ]
    },
    {
      "cell_type": "code",
      "source": [
        "print(\"Now testing an unbalanced insertion order:\")\n",
        "e = dict()\n",
        "n = 100\n",
        "for i in range(1, n):\n",
        "  e[i] = str(i)\n",
        "print(\"e = %s\" % e)\n",
        "\n",
        "# balanced BST => O(log N)\n",
        "# un-balanced BST => O(N)"
      ],
      "metadata": {
        "colab": {
          "base_uri": "https://localhost:8080/",
          "height": 324
        },
        "id": "BN2aVNY4ksaI",
        "outputId": "2f5c5023-c296-432b-fdca-6d42106f1fbf"
      },
      "execution_count": 21,
      "outputs": [
        {
          "output_type": "stream",
          "name": "stdout",
          "text": [
            "Now testing an unbalanced insertion order:\n"
          ]
        },
        {
          "output_type": "error",
          "ename": "AttributeError",
          "evalue": "'_Node' object has no attribute '_insert'",
          "traceback": [
            "\u001b[0;31m---------------------------------------------------------------------------\u001b[0m",
            "\u001b[0;31mAttributeError\u001b[0m                            Traceback (most recent call last)",
            "\u001b[0;32m<ipython-input-21-1c3da4282c28>\u001b[0m in \u001b[0;36m<cell line: 4>\u001b[0;34m()\u001b[0m\n\u001b[1;32m      3\u001b[0m \u001b[0mn\u001b[0m \u001b[0;34m=\u001b[0m \u001b[0;36m100\u001b[0m\u001b[0;34m\u001b[0m\u001b[0;34m\u001b[0m\u001b[0m\n\u001b[1;32m      4\u001b[0m \u001b[0;32mfor\u001b[0m \u001b[0mi\u001b[0m \u001b[0;32min\u001b[0m \u001b[0mrange\u001b[0m\u001b[0;34m(\u001b[0m\u001b[0;36m1\u001b[0m\u001b[0;34m,\u001b[0m \u001b[0mn\u001b[0m\u001b[0;34m)\u001b[0m\u001b[0;34m:\u001b[0m\u001b[0;34m\u001b[0m\u001b[0;34m\u001b[0m\u001b[0m\n\u001b[0;32m----> 5\u001b[0;31m   \u001b[0me\u001b[0m\u001b[0;34m[\u001b[0m\u001b[0mi\u001b[0m\u001b[0;34m]\u001b[0m \u001b[0;34m=\u001b[0m \u001b[0mstr\u001b[0m\u001b[0;34m(\u001b[0m\u001b[0mi\u001b[0m\u001b[0;34m)\u001b[0m\u001b[0;34m\u001b[0m\u001b[0;34m\u001b[0m\u001b[0m\n\u001b[0m\u001b[1;32m      6\u001b[0m \u001b[0mprint\u001b[0m\u001b[0;34m(\u001b[0m\u001b[0;34m\"e = %s\"\u001b[0m \u001b[0;34m%\u001b[0m \u001b[0me\u001b[0m\u001b[0;34m)\u001b[0m\u001b[0;34m\u001b[0m\u001b[0;34m\u001b[0m\u001b[0m\n\u001b[1;32m      7\u001b[0m \u001b[0;34m\u001b[0m\u001b[0m\n",
            "\u001b[0;32m<ipython-input-19-9f3d1aad32f6>\u001b[0m in \u001b[0;36m__setitem__\u001b[0;34m(self, key, value)\u001b[0m\n\u001b[1;32m     36\u001b[0m       \u001b[0mself\u001b[0m\u001b[0;34m.\u001b[0m\u001b[0m_root\u001b[0m \u001b[0;34m=\u001b[0m \u001b[0m_Node\u001b[0m\u001b[0;34m(\u001b[0m\u001b[0mkey\u001b[0m\u001b[0;34m,\u001b[0m \u001b[0mvalue\u001b[0m\u001b[0;34m)\u001b[0m\u001b[0;34m\u001b[0m\u001b[0;34m\u001b[0m\u001b[0m\n\u001b[1;32m     37\u001b[0m     \u001b[0;32melse\u001b[0m\u001b[0;34m:\u001b[0m\u001b[0;34m\u001b[0m\u001b[0;34m\u001b[0m\u001b[0m\n\u001b[0;32m---> 38\u001b[0;31m       \u001b[0mself\u001b[0m\u001b[0;34m.\u001b[0m\u001b[0m_root\u001b[0m\u001b[0;34m.\u001b[0m\u001b[0m_insert\u001b[0m\u001b[0;34m(\u001b[0m\u001b[0mkey\u001b[0m\u001b[0;34m,\u001b[0m \u001b[0mvalue\u001b[0m\u001b[0;34m)\u001b[0m\u001b[0;34m\u001b[0m\u001b[0;34m\u001b[0m\u001b[0m\n\u001b[0m",
            "\u001b[0;31mAttributeError\u001b[0m: '_Node' object has no attribute '_insert'"
          ]
        }
      ]
    },
    {
      "cell_type": "code",
      "source": [],
      "metadata": {
        "id": "aUXBClGhUWLE"
      },
      "execution_count": null,
      "outputs": []
    }
  ]
}