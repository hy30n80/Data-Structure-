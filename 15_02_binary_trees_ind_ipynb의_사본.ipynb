{
  "nbformat": 4,
  "nbformat_minor": 0,
  "metadata": {
    "colab": {
      "provenance": [],
      "include_colab_link": true
    },
    "kernelspec": {
      "name": "python3",
      "display_name": "Python 3"
    },
    "language_info": {
      "name": "python"
    }
  },
  "cells": [
    {
      "cell_type": "markdown",
      "metadata": {
        "id": "view-in-github",
        "colab_type": "text"
      },
      "source": [
        "<a href=\"https://colab.research.google.com/github/hy30n80/Data-Structure-/blob/main/15_02_binary_trees_ind_ipynb%EC%9D%98_%EC%82%AC%EB%B3%B8.ipynb\" target=\"_parent\"><img src=\"https://colab.research.google.com/assets/colab-badge.svg\" alt=\"Open In Colab\"/></a>"
      ]
    },
    {
      "cell_type": "markdown",
      "source": [
        "# EC2202 Binary Trees"
      ],
      "metadata": {
        "id": "gqZUxjuw8OE4"
      }
    },
    {
      "cell_type": "markdown",
      "source": [
        "## Student Information"
      ],
      "metadata": {
        "id": "HI1BAdoh-bQS"
      }
    },
    {
      "cell_type": "markdown",
      "source": [
        "* Student ID: YOUR ID\n",
        "* Name: YOUR NAME"
      ],
      "metadata": {
        "id": "j7txIscH-Zk9"
      }
    },
    {
      "cell_type": "markdown",
      "source": [
        "**Disclaimer.**\n",
        "This code examples are based on\n",
        "1. [UC Berkeley CS61A (Professor John DeNero)](https://cs61a.org/)\n",
        "2. [KAIST CS206 (Professor Otfried Cheong)](https://otfried.org/courses/cs206/)\n",
        "3. [LeetCode](https://leetcode.com/)\n",
        "4. [GeeksForGeeks](https://practice.geeksforgeeks.org/)\n",
        "5. Coding Interviews"
      ],
      "metadata": {
        "id": "1bWHozli8SQ_"
      }
    },
    {
      "cell_type": "code",
      "source": [
        "%%HTML\n",
        "<iframe width=\"560\" height=\"315\" src=\"https://www.youtube.com/embed/lzEfew4nHnc\" title=\"YouTube video player\" frameborder=\"0\" allowfullscreen></iframe>\n",
        "<iframe width=\"560\" height=\"315\" src=\"https://www.youtube.com/embed/6ULfIEmPfmk\" title=\"YouTube video player\" frameborder=\"0\" allowfullscreen></iframe>"
      ],
      "metadata": {
        "colab": {
          "base_uri": "https://localhost:8080/",
          "height": 655
        },
        "id": "HWHEWH_DDE1r",
        "outputId": "2fe7a97c-af0c-4e4e-cd75-c0ff1a6751cb"
      },
      "execution_count": null,
      "outputs": [
        {
          "output_type": "display_data",
          "data": {
            "text/plain": [
              "<IPython.core.display.HTML object>"
            ],
            "text/html": [
              "<iframe width=\"560\" height=\"315\" src=\"https://www.youtube.com/embed/lzEfew4nHnc\" title=\"YouTube video player\" frameborder=\"0\" allowfullscreen></iframe>\n",
              "<iframe width=\"560\" height=\"315\" src=\"https://www.youtube.com/embed/6ULfIEmPfmk\" title=\"YouTube video player\" frameborder=\"0\" allowfullscreen></iframe>\n"
            ]
          },
          "metadata": {}
        }
      ]
    },
    {
      "cell_type": "code",
      "source": [
        "import doctest"
      ],
      "metadata": {
        "id": "k0FSZ0zsEBPz"
      },
      "execution_count": null,
      "outputs": []
    },
    {
      "cell_type": "markdown",
      "source": [
        "## Tree Definition"
      ],
      "metadata": {
        "id": "cSVJCMMXilwt"
      }
    },
    {
      "cell_type": "markdown",
      "source": [
        "A Tree is an object composed of other Tree objects, so its constructor must have a way of passing in children Trees."
      ],
      "metadata": {
        "id": "MC2g0A5CACff"
      }
    },
    {
      "cell_type": "code",
      "source": [
        "# general tree => binary tree\n",
        "class Tree:\n",
        "  '''\n",
        "  #    3\n",
        "  #   / ＼\n",
        "  #  1   2\n",
        "  #     / ＼\n",
        "  #    1   1\n",
        "  >>> t = Tree(3, [Tree(1), Tree(2, [Tree(1), Tree(1)])])\n",
        "  >>> t.label\n",
        "  3\n",
        "  >>> t.is_leaf()\n",
        "  False\n",
        "  >>> t.branches[0].is_leaf()\n",
        "  True\n",
        "  '''\n",
        "  def __init__(self, label, branches=[]):\n",
        "    self.label = label\n",
        "    for branch in branches:\n",
        "      assert isinstance(branch, Tree)\n",
        "    self.branches = list(branches)\n",
        "\n",
        "  def is_leaf(self):\n",
        "    return not self.branches  # [] => False"
      ],
      "metadata": {
        "id": "bJQKTkOyinwj"
      },
      "execution_count": 2,
      "outputs": []
    },
    {
      "cell_type": "code",
      "source": [
        "#    3\n",
        "#   / ＼\n",
        "#  1   2\n",
        "#     / ＼\n",
        "#    1   1\n",
        "\n",
        "t = Tree(3, [\n",
        "            Tree(1),\n",
        "            Tree(2, [\n",
        "                    Tree(1),\n",
        "                    Tree(1)\n",
        "                    ])\n",
        "            ])"
      ],
      "metadata": {
        "id": "cyfx0N_T998F"
      },
      "execution_count": 3,
      "outputs": []
    },
    {
      "cell_type": "markdown",
      "source": [
        "## Tree Processing"
      ],
      "metadata": {
        "id": "p8dEfEbhAAjV"
      }
    },
    {
      "cell_type": "markdown",
      "source": [
        "**'ppp' Exercise (1)**"
      ],
      "metadata": {
        "id": "0dK96sTPASr_"
      }
    },
    {
      "cell_type": "code",
      "source": [
        "def count_leaves(t):\n",
        "  \"\"\"Returns the number of leaf nodes in T.\"\"\"\n",
        "  if t.is_leaf():\n",
        "    return 1\n",
        "\n",
        "  total = 0\n",
        "  for b in t.branches:\n",
        "    total += count_leaves(b)\n",
        "  return total\n",
        "  #return sum(map(count_leaves, t.branches)) 네 줄 짜리를, 한 줄로 끝낼 수도 있음"
      ],
      "metadata": {
        "id": "z57-4GRh_Kdh"
      },
      "execution_count": 1,
      "outputs": []
    },
    {
      "cell_type": "code",
      "source": [
        "%%HTML\n",
        "<iframe width=\"560\" height=\"315\" src=\"https://www.youtube.com/embed/vLApHTCJpWk\" title=\"YouTube video player\" frameborder=\"0\" allowfullscreen></iframe>\n",
        "<iframe width=\"560\" height=\"315\" src=\"https://www.youtube.com/embed/mz0kU-B65xY\" title=\"YouTube video player\" frameborder=\"0\" allowfullscreen></iframe>"
      ],
      "metadata": {
        "colab": {
          "base_uri": "https://localhost:8080/",
          "height": 655
        },
        "id": "FRNXX2qHC_tf",
        "outputId": "11650733-50e0-444a-90ee-7debdb04e5be"
      },
      "execution_count": null,
      "outputs": [
        {
          "output_type": "display_data",
          "data": {
            "text/plain": [
              "<IPython.core.display.HTML object>"
            ],
            "text/html": [
              "<iframe width=\"560\" height=\"315\" src=\"https://www.youtube.com/embed/vLApHTCJpWk\" title=\"YouTube video player\" frameborder=\"0\" allowfullscreen></iframe>\n",
              "<iframe width=\"560\" height=\"315\" src=\"https://www.youtube.com/embed/mz0kU-B65xY\" title=\"YouTube video player\" frameborder=\"0\" allowfullscreen></iframe>\n"
            ]
          },
          "metadata": {}
        }
      ]
    },
    {
      "cell_type": "markdown",
      "source": [
        "**'ppp' Exercise (2)**"
      ],
      "metadata": {
        "id": "U1u0QiANAz1L"
      }
    },
    {
      "cell_type": "code",
      "source": [
        "def print_tree(t, indent=0):\n",
        "  \"\"\"Prints the labels of T with depth-based indent.\n",
        "  >>> t = Tree(3, [Tree(1), Tree(2, [Tree(1), Tree(1)])])\n",
        "  >>> print(t)\n",
        "  3\n",
        "    1\n",
        "    2\n",
        "      1\n",
        "      1\n",
        "  \"\"\"\n",
        "  print(indent * \" \" + str(t.label))\n",
        "  for b in t.branches:\n",
        "    print_tree(b, indent + 2)\n"
      ],
      "metadata": {
        "id": "Kp4CiUGcA3Yb"
      },
      "execution_count": 4,
      "outputs": []
    },
    {
      "cell_type": "code",
      "source": [
        "print_tree(t)"
      ],
      "metadata": {
        "colab": {
          "base_uri": "https://localhost:8080/"
        },
        "id": "NfKyBCofA7oj",
        "outputId": "9492d40b-bf15-4e13-d933-481d12b50371"
      },
      "execution_count": 5,
      "outputs": [
        {
          "output_type": "stream",
          "name": "stdout",
          "text": [
            "3\n",
            "  1\n",
            "  2\n",
            "    1\n",
            "    1\n"
          ]
        }
      ]
    },
    {
      "cell_type": "code",
      "source": [
        "%%HTML\n",
        "<iframe width=\"560\" height=\"315\" src=\"https://www.youtube.com/embed/05w52clsfE8\" title=\"YouTube video player\" frameborder=\"0\" allowfullscreen></iframe>\n",
        "<iframe width=\"560\" height=\"315\" src=\"https://www.youtube.com/embed/atsxAmNbPEA\" title=\"YouTube video player\" frameborder=\"0\" allowfullscreen></iframe>"
      ],
      "metadata": {
        "colab": {
          "base_uri": "https://localhost:8080/",
          "height": 655
        },
        "id": "poZufbCGDCB9",
        "outputId": "9e8c11ee-3f76-43ff-fc0c-6cafe3200076"
      },
      "execution_count": null,
      "outputs": [
        {
          "output_type": "display_data",
          "data": {
            "text/plain": [
              "<IPython.core.display.HTML object>"
            ],
            "text/html": [
              "<iframe width=\"560\" height=\"315\" src=\"https://www.youtube.com/embed/05w52clsfE8\" title=\"YouTube video player\" frameborder=\"0\" allowfullscreen></iframe>\n",
              "<iframe width=\"560\" height=\"315\" src=\"https://www.youtube.com/embed/atsxAmNbPEA\" title=\"YouTube video player\" frameborder=\"0\" allowfullscreen></iframe>\n"
            ]
          },
          "metadata": {}
        }
      ]
    },
    {
      "cell_type": "markdown",
      "source": [
        "**'ppp' Exercise (3)**"
      ],
      "metadata": {
        "id": "ywaLae91BPfF"
      }
    },
    {
      "cell_type": "code",
      "source": [
        "def count_paths(t, total):\n",
        "  \"\"\"Return the number of paths from the root to any node in T\n",
        "  for which the labels along the path sum to TOTAL.\n",
        "\n",
        "  #      3\n",
        "  # -1   1        1\n",
        "  #      2  3    -1\n",
        "  #      1\n",
        "  >>> t = Tree(3, [Tree(-1), Tree(1, [Tree(2, [Tree(1)]), Tree(3)]), Tree(1, [Tree(-1)])])\n",
        "  >>> count_paths(t, 3)\n",
        "  2\n",
        "  >>> count_paths(t, 4)\n",
        "  2\n",
        "  >>> count_paths(t, 5)\n",
        "  0\n",
        "  >>> count_paths(t, 6)\n",
        "  1\n",
        "  >>> count_paths(t, 7)\n",
        "  2\n",
        "  \"\"\"\n",
        "  if t.label == total:\n",
        "    found = 1\n",
        "  else:\n",
        "    found = 0\n",
        "  return found + sum([count_paths(b, total-t.label) for b in t.branches])\n",
        "\n"
      ],
      "metadata": {
        "id": "d3-hmLCxA9A1"
      },
      "execution_count": 6,
      "outputs": []
    },
    {
      "cell_type": "code",
      "source": [
        "%%HTML\n",
        "<iframe width=\"560\" height=\"315\" src=\"https://www.youtube.com/embed/zpmKmj2yvAM\" title=\"YouTube video player\" frameborder=\"0\" allowfullscreen></iframe>\n",
        "<iframe width=\"560\" height=\"315\" src=\"https://www.youtube.com/embed/IPe9lhGdnUQ\" title=\"YouTube video player\" frameborder=\"0\" allowfullscreen></iframe>"
      ],
      "metadata": {
        "colab": {
          "base_uri": "https://localhost:8080/",
          "height": 655
        },
        "id": "DuEapWHRDIvH",
        "outputId": "74f2f208-e376-44fc-a333-6116bab786dc"
      },
      "execution_count": null,
      "outputs": [
        {
          "output_type": "display_data",
          "data": {
            "text/plain": [
              "<IPython.core.display.HTML object>"
            ],
            "text/html": [
              "<iframe width=\"560\" height=\"315\" src=\"https://www.youtube.com/embed/zpmKmj2yvAM\" title=\"YouTube video player\" frameborder=\"0\" allowfullscreen></iframe>\n",
              "<iframe width=\"560\" height=\"315\" src=\"https://www.youtube.com/embed/IPe9lhGdnUQ\" title=\"YouTube video player\" frameborder=\"0\" allowfullscreen></iframe>\n"
            ]
          },
          "metadata": {}
        }
      ]
    },
    {
      "cell_type": "markdown",
      "source": [
        "## Binary Tree Definition and Traversals"
      ],
      "metadata": {
        "id": "P616-jDcCfrI"
      }
    },
    {
      "cell_type": "code",
      "source": [
        "class BTree:\n",
        "  def __init__(self, label=0, left=None, right=None):\n",
        "    self.label = label\n",
        "    self.left  = left\n",
        "    self.right = right"
      ],
      "metadata": {
        "id": "zhDmJELzBbbL"
      },
      "execution_count": 7,
      "outputs": []
    },
    {
      "cell_type": "markdown",
      "source": [
        "**'ppp' Exercise (1)**"
      ],
      "metadata": {
        "id": "IGS_sf6nDVuH"
      }
    },
    {
      "cell_type": "code",
      "source": [
        "def print_preorder(t):\n",
        "  ''' Prints the labels of each node in in-order\n",
        "  #   1\n",
        "  # 3   4\n",
        "  >>> t = BTree(1, BTree(3), BTree(4))\n",
        "  >>> print_preorder(t)\n",
        "  1 3 4\n",
        "  >>> t = BTree('F', BTree('B', BTree('A'), BTree('D', BTree('C'), BTree('E'))), BTree('G', None, BTree('I', BTree('H'))))\n",
        "  >>> print_preorder(t)\n",
        "  F B A D C E G I H\n",
        "  '''\n",
        "  if t:\n",
        "    print(t.label, end=\" \")\n",
        "    print_preorder(t.left)\n",
        "    print_preorder(t.right)\n",
        ""
      ],
      "metadata": {
        "id": "AiJNhIIYChdU"
      },
      "execution_count": 8,
      "outputs": []
    },
    {
      "cell_type": "code",
      "source": [
        "def print_inorder(t):\n",
        "  ''' Prints the labels of each node in in-order\n",
        "  #   1\n",
        "  # 3   4\n",
        "  >>> t = BTree(1, BTree(3), BTree(4))\n",
        "  >>> print_inorder(t)\n",
        "  3 1 4\n",
        "  >>> t = BTree('F', BTree('B', BTree('A'), BTree('D', BTree('C'), BTree('E'))), BTree('G', None, BTree('I', BTree('H'))))\n",
        "  >>> print_inorder(t)\n",
        "  A B C D E F G H I\n",
        "  '''\n",
        "  if t:\n",
        "    print_inorder(t.left)\n",
        "    print(t.label, end=\" \")\n",
        "    print_inorder(t.right)"
      ],
      "metadata": {
        "id": "yOZsaveVD0vB"
      },
      "execution_count": 10,
      "outputs": []
    },
    {
      "cell_type": "code",
      "source": [
        "def print_postorder(t):\n",
        "  ''' Prints the labels of each node in in-order\n",
        "  #   1\n",
        "  # 3   4\n",
        "  >>> t = BTree(1, BTree(3), BTree(4))\n",
        "  >>> print_postorder(t)\n",
        "  3 4 1\n",
        "  >>> t = BTree('F', BTree('B', BTree('A'), BTree('D', BTree('C'), BTree('E'))), BTree('G', None, BTree('I', BTree('H'))))\n",
        "  >>> print_postorder(t)\n",
        "  A C E D B H I G F\n",
        "  '''\n",
        "  if t:\n",
        "    print_postorder(t.left)\n",
        "    print_postorder(t.right)\n",
        "    print(t.label, end=\" \")"
      ],
      "metadata": {
        "id": "WbN87ZiKDft6"
      },
      "execution_count": 11,
      "outputs": []
    },
    {
      "cell_type": "code",
      "source": [
        "doctest.run_docstring_examples(print_postorder, globals(), False, __name__)"
      ],
      "metadata": {
        "id": "yH9w8qkSENeX"
      },
      "execution_count": null,
      "outputs": []
    },
    {
      "cell_type": "code",
      "source": [
        "%%HTML\n",
        "<iframe width=\"560\" height=\"315\" src=\"https://www.youtube.com/embed/1-CF_TcxhnU\" title=\"YouTube video player\" frameborder=\"0\" allowfullscreen></iframe>\n",
        "<iframe width=\"560\" height=\"315\" src=\"https://www.youtube.com/embed/ZEmc6vtFE2Q\" title=\"YouTube video player\" frameborder=\"0\" allowfullscreen></iframe>"
      ],
      "metadata": {
        "colab": {
          "base_uri": "https://localhost:8080/",
          "height": 655
        },
        "id": "kABSmDexDLcZ",
        "outputId": "f92cd5ac-32ed-4d66-d19e-cf7d556be5f4"
      },
      "execution_count": null,
      "outputs": [
        {
          "output_type": "display_data",
          "data": {
            "text/plain": [
              "<IPython.core.display.HTML object>"
            ],
            "text/html": [
              "<iframe width=\"560\" height=\"315\" src=\"https://www.youtube.com/embed/1-CF_TcxhnU\" title=\"YouTube video player\" frameborder=\"0\" allowfullscreen></iframe>\n",
              "<iframe width=\"560\" height=\"315\" src=\"https://www.youtube.com/embed/ZEmc6vtFE2Q\" title=\"YouTube video player\" frameborder=\"0\" allowfullscreen></iframe>\n"
            ]
          },
          "metadata": {}
        }
      ]
    },
    {
      "cell_type": "markdown",
      "source": [
        "## 'ppp' Exercises"
      ],
      "metadata": {
        "id": "esDEdEXBEZdx"
      }
    },
    {
      "cell_type": "markdown",
      "source": [
        "### Q1"
      ],
      "metadata": {
        "id": "NnwZc8yOLV6O"
      }
    },
    {
      "cell_type": "code",
      "source": [
        "def min_leaf_depth(t):\n",
        "  \"\"\" min_leaf_depth takes in a tree t and returns the minimum depth of\n",
        "  any of the leaves in t\n",
        "  >>> t1 = Tree(2)\n",
        "  >>> min_leaf_depth(t1)\n",
        "  0\n",
        "  >>> t2 = Tree(2 , [Tree(0) , Tree(1) , Tree(6)])\n",
        "  >>> min_leaf_depth(t2)\n",
        "  1\n",
        "  >>> t3 = Tree(2 , [Tree(0) , t2])\n",
        "  >>> min_leaf_depth(t3)\n",
        "  1\n",
        "  >>> t4 = Tree(2 , [t2 , t3])\n",
        "  >>> min_leaf_depth(t4)\n",
        "  2\n",
        "  \"\"\"\n",
        "  if t.is_leaf():\n",
        "    return 0\n",
        "\n",
        "\n",
        "  b_depths = [min_leaf_depth(b) for b in t.branches]\n",
        "  return 1 + min(b_depths)\n",
        "  # return 1 + min(map(min_leaf_depth, t.branches))"
      ],
      "metadata": {
        "id": "EiS5g6aoLWzO"
      },
      "execution_count": 12,
      "outputs": []
    },
    {
      "cell_type": "code",
      "source": [
        "doctest.run_docstring_examples(min_leaf_depth, globals(), False, __name__)"
      ],
      "metadata": {
        "id": "LLRt_YmwLXBc",
        "colab": {
          "base_uri": "https://localhost:8080/",
          "height": 141
        },
        "outputId": "268b75b5-a9e7-4722-c0f2-779c4a0c7148"
      },
      "execution_count": 13,
      "outputs": [
        {
          "output_type": "error",
          "ename": "NameError",
          "evalue": "name 'doctest' is not defined",
          "traceback": [
            "\u001b[0;31m---------------------------------------------------------------------------\u001b[0m",
            "\u001b[0;31mNameError\u001b[0m                                 Traceback (most recent call last)",
            "\u001b[0;32m<ipython-input-13-aeebaa28bf7d>\u001b[0m in \u001b[0;36m<cell line: 1>\u001b[0;34m()\u001b[0m\n\u001b[0;32m----> 1\u001b[0;31m \u001b[0mdoctest\u001b[0m\u001b[0;34m.\u001b[0m\u001b[0mrun_docstring_examples\u001b[0m\u001b[0;34m(\u001b[0m\u001b[0mmin_leaf_depth\u001b[0m\u001b[0;34m,\u001b[0m \u001b[0mglobals\u001b[0m\u001b[0;34m(\u001b[0m\u001b[0;34m)\u001b[0m\u001b[0;34m,\u001b[0m \u001b[0;32mFalse\u001b[0m\u001b[0;34m,\u001b[0m \u001b[0m__name__\u001b[0m\u001b[0;34m)\u001b[0m\u001b[0;34m\u001b[0m\u001b[0;34m\u001b[0m\u001b[0m\n\u001b[0m",
            "\u001b[0;31mNameError\u001b[0m: name 'doctest' is not defined"
          ]
        }
      ]
    },
    {
      "cell_type": "code",
      "source": [
        "%%HTML\n",
        "<iframe width=\"560\" height=\"315\" src=\"https://www.youtube.com/embed/PSHC3bSaiNQ\" title=\"YouTube video player\" frameborder=\"0\" allowfullscreen></iframe>\n",
        "<iframe width=\"560\" height=\"315\" src=\"https://www.youtube.com/embed/K4ey8A_4su0\" title=\"YouTube video player\" frameborder=\"0\" allowfullscreen></iframe>"
      ],
      "metadata": {
        "colab": {
          "base_uri": "https://localhost:8080/",
          "height": 655
        },
        "id": "TJ5Gk3nYDNEd",
        "outputId": "24a9d66d-4539-4554-d3c7-75fe49ab3755"
      },
      "execution_count": null,
      "outputs": [
        {
          "output_type": "display_data",
          "data": {
            "text/plain": [
              "<IPython.core.display.HTML object>"
            ],
            "text/html": [
              "<iframe width=\"560\" height=\"315\" src=\"https://www.youtube.com/embed/PSHC3bSaiNQ\" title=\"YouTube video player\" frameborder=\"0\" allowfullscreen></iframe>\n",
              "<iframe width=\"560\" height=\"315\" src=\"https://www.youtube.com/embed/K4ey8A_4su0\" title=\"YouTube video player\" frameborder=\"0\" allowfullscreen></iframe>\n"
            ]
          },
          "metadata": {}
        }
      ]
    }
  ]
}