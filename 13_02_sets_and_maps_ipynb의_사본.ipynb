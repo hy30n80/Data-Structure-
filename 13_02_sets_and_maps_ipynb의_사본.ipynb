{
  "nbformat": 4,
  "nbformat_minor": 0,
  "metadata": {
    "colab": {
      "provenance": [],
      "include_colab_link": true
    },
    "kernelspec": {
      "name": "python3",
      "display_name": "Python 3"
    },
    "language_info": {
      "name": "python"
    }
  },
  "cells": [
    {
      "cell_type": "markdown",
      "metadata": {
        "id": "view-in-github",
        "colab_type": "text"
      },
      "source": [
        "<a href=\"https://colab.research.google.com/github/hy30n80/Data-Structure-/blob/main/13_02_sets_and_maps_ipynb%EC%9D%98_%EC%82%AC%EB%B3%B8.ipynb\" target=\"_parent\"><img src=\"https://colab.research.google.com/assets/colab-badge.svg\" alt=\"Open In Colab\"/></a>"
      ]
    },
    {
      "cell_type": "markdown",
      "source": [
        "# EC2202 Sets and Maps"
      ],
      "metadata": {
        "id": "gqZUxjuw8OE4"
      }
    },
    {
      "cell_type": "markdown",
      "source": [
        "## Student Information"
      ],
      "metadata": {
        "id": "k5XGUPz9YGwD"
      }
    },
    {
      "cell_type": "markdown",
      "source": [
        "* Student ID: YOUR ID\n",
        "* Name: YOUR NAME"
      ],
      "metadata": {
        "id": "XMDg7Oi3YFtV"
      }
    },
    {
      "cell_type": "markdown",
      "source": [
        "**Disclaimer.**\n",
        "This code examples are based on\n",
        "1. [KAIST CS206 (Professor Otfried Cheong)](https://otfried.org/courses/cs206/)\n",
        "2. [GeeksForGeeks](https://practice.geeksforgeeks.org/)\n",
        "3. Coding Interviews"
      ],
      "metadata": {
        "id": "1bWHozli8SQ_"
      }
    },
    {
      "cell_type": "code",
      "source": [
        "import doctest\n",
        "import time\n",
        "import math"
      ],
      "metadata": {
        "id": "q4M2tQpaaKQw"
      },
      "execution_count": 1,
      "outputs": []
    },
    {
      "cell_type": "markdown",
      "source": [
        "## Sets"
      ],
      "metadata": {
        "id": "2WrM_D34IFoN"
      }
    },
    {
      "cell_type": "code",
      "source": [
        "%%HTML\n",
        "<iframe width=\"560\" height=\"315\" src=\"https://www.youtube.com/embed/eHArNzW0gdQ\" title=\"YouTube video player\" frameborder=\"0\" allowfullscreen></iframe>\n",
        "<iframe width=\"560\" height=\"315\" src=\"https://www.youtube.com/embed/Fkzw3we-OT4\" title=\"YouTube video player\" frameborder=\"0\" allowfullscreen></iframe>"
      ],
      "metadata": {
        "colab": {
          "base_uri": "https://localhost:8080/",
          "height": 655
        },
        "id": "zjWQzCNyYMV6",
        "outputId": "41ce5c74-c72e-4dad-ea14-10ad31570c26"
      },
      "execution_count": null,
      "outputs": [
        {
          "output_type": "display_data",
          "data": {
            "text/plain": [
              "<IPython.core.display.HTML object>"
            ],
            "text/html": [
              "<iframe width=\"560\" height=\"315\" src=\"https://www.youtube.com/embed/eHArNzW0gdQ\" title=\"YouTube video player\" frameborder=\"0\" allowfullscreen></iframe>\n",
              "<iframe width=\"560\" height=\"315\" src=\"https://www.youtube.com/embed/Fkzw3we-OT4\" title=\"YouTube video player\" frameborder=\"0\" allowfullscreen></iframe>\n"
            ]
          },
          "metadata": {}
        }
      ]
    },
    {
      "cell_type": "markdown",
      "source": [
        "### Implementing the Set ADT Using a Python list"
      ],
      "metadata": {
        "id": "v2ploipuIIHB"
      }
    },
    {
      "cell_type": "code",
      "source": [
        "class set():\n",
        "  def __init__(self, items=None):\n",
        "    self._data = []  # empty list = empty set\n",
        "    if items:\n",
        "      for item in items:\n",
        "        self.add(item)\n",
        "\n",
        "  def __contains__(self, item):\n",
        "    # we are going to make this ~O(1) in the next lecture\n",
        "    return item in self._data\n",
        "\n",
        "  def __len__(self):\n",
        "    return len(self._data)\n",
        "\n",
        "  def add(self, item):\n",
        "    if item not in self._data:\n",
        "      self._data.append(item)\n",
        "\n",
        "  def remove(self, item):\n",
        "    if item in self._data:\n",
        "      self._data.remove(item) # use the default `remove` for lists\n",
        "    else:\n",
        "      raise KeyError(item)\n",
        "\n",
        "  def discard(self, el):\n",
        "    if item in self._data:\n",
        "      self._data.remove(item) # use remove for list\n",
        "\n",
        "  ################################\n",
        "  ######## 'ppp' exercise ########\n",
        "  ################################\n",
        "  def __eq__(self, t):\n",
        "    # return self.is_subset(t) and self.is_superset(t)\n",
        "    if len(self) != len(t):\n",
        "      return False\n",
        "    return self.is_subset(t)\n",
        "\n",
        "\n",
        "  ################################\n",
        "  ######## 'ppp' exercise ########\n",
        "  ################################\n",
        "  def is_subset(self, t):\n",
        "    # checks if s <= t\n",
        "    for item in self._data:\n",
        "      if item not in t:\n",
        "        return False\n",
        "    return True\n",
        "\n",
        "  ################################\n",
        "  ######## 'ppp' exercise ########\n",
        "  ################################\n",
        "  def is_superset(self, t):\n",
        "    # checks if s >= t\n",
        "    return t.is_subset(self)\n",
        "\n",
        "\n",
        "  ################################\n",
        "  ######## 'ppp' exercise ########\n",
        "  ################################\n",
        "  def union(self, t):\n",
        "    # should be non-destructive\n",
        "    new_set = set()\n",
        "    new_set._data.extend(self._data)  # copy elements to new set\n",
        "    for item in t:\n",
        "      new_set.add(item)\n",
        "    return new_set\n",
        "\n",
        "  def __iter__(self):\n",
        "    return _SetIterator(self._data)\n",
        "\n",
        "  def __repr__(self):\n",
        "    s = \"ListSet(\"\n",
        "    sep = \"\"\n",
        "    for item in self._data:\n",
        "      s += sep + repr(item)\n",
        "      sep = \",\"\n",
        "    return s + \")\"\n",
        "\n",
        "class _SetIterator():\n",
        "  def __init__(self, l):\n",
        "    self._l = l\n",
        "    self._current = 0\n",
        "\n",
        "  def __iter__(self):\n",
        "    return self\n",
        "\n",
        "  def __next__(self):\n",
        "    if self._current < len(self._l):\n",
        "      entry = self._l[self._current]\n",
        "      self._current += 1\n",
        "      return entry\n",
        "    else:\n",
        "      raise StopIteration"
      ],
      "metadata": {
        "id": "5ZgVrAHEInPj"
      },
      "execution_count": 2,
      "outputs": []
    },
    {
      "cell_type": "code",
      "source": [
        "%%HTML\n",
        "<iframe width=\"560\" height=\"315\" src=\"https://www.youtube.com/embed/pCShafI6jMc\" title=\"YouTube video player\" frameborder=\"0\" allowfullscreen></iframe>\n",
        "<iframe width=\"560\" height=\"315\" src=\"https://www.youtube.com/embed/XjoqMXMgNtU\" title=\"YouTube video player\" frameborder=\"0\" allowfullscreen></iframe>"
      ],
      "metadata": {
        "colab": {
          "base_uri": "https://localhost:8080/",
          "height": 655
        },
        "id": "DXkoDZhbYX_o",
        "outputId": "f1345109-4a29-44d9-e22b-84c15811106c"
      },
      "execution_count": null,
      "outputs": [
        {
          "output_type": "display_data",
          "data": {
            "text/plain": [
              "<IPython.core.display.HTML object>"
            ],
            "text/html": [
              "<iframe width=\"560\" height=\"315\" src=\"https://www.youtube.com/embed/pCShafI6jMc\" title=\"YouTube video player\" frameborder=\"0\" allowfullscreen></iframe>\n",
              "<iframe width=\"560\" height=\"315\" src=\"https://www.youtube.com/embed/XjoqMXMgNtU\" title=\"YouTube video player\" frameborder=\"0\" allowfullscreen></iframe>\n"
            ]
          },
          "metadata": {}
        }
      ]
    },
    {
      "cell_type": "markdown",
      "source": [
        "### Applications"
      ],
      "metadata": {
        "id": "LsWIcefTLSrj"
      }
    },
    {
      "cell_type": "markdown",
      "source": [
        "#### A Simple Spell Checker"
      ],
      "metadata": {
        "id": "4bgbPtzpMljO"
      }
    },
    {
      "cell_type": "code",
      "source": [
        "from google.colab import drive\n",
        "drive.mount('/content/drive')\n",
        "\n",
        "def read_words():\n",
        "  s = open(\"/content/drive/My Drive/수업자료/[EC2202] Data Structures/01_lecture_slides/words-5000.txt\", \"r\")\n",
        "  words = set()\n",
        "  for w in s.readlines():\n",
        "    words.add(w.strip())\n",
        "  s.close()\n",
        "  return words  # dictionary of valid words\n",
        "\n",
        "def spell(given_word):\n",
        "  words = read_words()\n",
        "  if given_word in words:\n",
        "    return True\n",
        "  return False\n",
        "\n",
        "\n",
        "def spell_interactive():\n",
        "  words = read_words()\n",
        "  while True:\n",
        "    w = input(\"Tell me a word> \").strip().lower()\n",
        "    if w == \"\":\n",
        "      return\n",
        "    if w in words:\n",
        "      print(\"'%s' is a word\" % w)\n",
        "    else:\n",
        "      print(\"Error: '%s' is not a word\" % w)"
      ],
      "metadata": {
        "colab": {
          "base_uri": "https://localhost:8080/"
        },
        "id": "-bhzECcPNbyS",
        "outputId": "0cc1bf8c-b144-47f5-f4b4-4ea8903dae96"
      },
      "execution_count": null,
      "outputs": [
        {
          "output_type": "stream",
          "name": "stdout",
          "text": [
            "Mounted at /content/drive\n"
          ]
        }
      ]
    },
    {
      "cell_type": "code",
      "source": [
        "spell()"
      ],
      "metadata": {
        "id": "FwNi19FTQ26Q"
      },
      "execution_count": null,
      "outputs": []
    },
    {
      "cell_type": "markdown",
      "source": [
        "#### **'ppp' Exercise** Sieve of Erathosthenes\n",
        "- This is to find the prime numbers smaller than given N."
      ],
      "metadata": {
        "id": "gBnduzDkMohK"
      }
    },
    {
      "cell_type": "code",
      "source": [
        "# 에라토스 테네스의 체 : \"2부터 순회하면서, 시작 수의 배수가 되는 수들을 모두 제거하는 방식\"\n",
        "def sieve(n):\n",
        "  '''finds the set of prime numbers smaller than n\n",
        "  '''\n",
        "  # naive implementation\n",
        "  prime_numbers = set(range(2,n))\n",
        "  for i in range(2,n):\n",
        "    k = 2\n",
        "    while i * k < n :\n",
        "      prime_numbers.discard(i*k)\n",
        "\n",
        "  return prime_numbers\n",
        "\n",
        "  #efficient implementation\n",
        "  # n = sqrt(n) * sqrt(n)\n",
        "\n",
        "  nums = set(range(2,n))\n",
        "  for num in range(2, int((n+1)**0.5)):\n",
        "    if num in nums:\n",
        "      for k in range(num * 2, n+1, num):\n",
        "        if k in nums:\n",
        "          nums.remove(k)\n",
        "  return nums._data\n",
        "\n",
        "\n",
        "################################\n",
        "########### caution! ###########\n",
        "################################\n",
        "num_list = list(range(10))\n",
        "\n",
        "for item in num_list:  # error in other languages\n",
        "  num_list.remove(item)\n",
        "\n",
        "print(num_list)\n",
        "################################\n",
        "\n",
        "num = 100\n",
        "\n",
        "start_time = time.perf_counter()\n",
        "primes = sieve(num)\n",
        "stop_time = time.perf_counter()\n",
        "\n",
        "for i in primes:\n",
        "  print(i, end=\" \")\n",
        "print()\n",
        "\n",
        "print(\"Runtime %g secs\" % (stop_time - start_time))"
      ],
      "metadata": {
        "colab": {
          "base_uri": "https://localhost:8080/"
        },
        "id": "XL_xWnTFNc2f",
        "outputId": "3447002d-6781-425e-fa95-093202e01336"
      },
      "execution_count": null,
      "outputs": [
        {
          "output_type": "stream",
          "name": "stdout",
          "text": [
            "2 3 5 7 11 13 17 19 23 29 31 37 41 43 47 53 59 61 67 71 73 79 83 89 97 \n",
            "Runtime 0.000419329 secs\n"
          ]
        }
      ]
    },
    {
      "cell_type": "code",
      "source": [
        "%%HTML\n",
        "<iframe width=\"560\" height=\"315\" src=\"https://www.youtube.com/embed/gppsSfE80NY\" title=\"YouTube video player\" frameborder=\"0\" allowfullscreen></iframe>\n",
        "<iframe width=\"560\" height=\"315\" src=\"https://www.youtube.com/embed/zHtg3cJVPb4\" title=\"YouTube video player\" frameborder=\"0\" allowfullscreen></iframe>"
      ],
      "metadata": {
        "colab": {
          "base_uri": "https://localhost:8080/",
          "height": 655
        },
        "id": "MxmOtjsdYdva",
        "outputId": "9451fede-14d3-4dc0-d89f-8c6d1e29949a"
      },
      "execution_count": null,
      "outputs": [
        {
          "output_type": "display_data",
          "data": {
            "text/plain": [
              "<IPython.core.display.HTML object>"
            ],
            "text/html": [
              "<iframe width=\"560\" height=\"315\" src=\"https://www.youtube.com/embed/gppsSfE80NY\" title=\"YouTube video player\" frameborder=\"0\" allowfullscreen></iframe>\n",
              "<iframe width=\"560\" height=\"315\" src=\"https://www.youtube.com/embed/zHtg3cJVPb4\" title=\"YouTube video player\" frameborder=\"0\" allowfullscreen></iframe>\n"
            ]
          },
          "metadata": {}
        }
      ]
    },
    {
      "cell_type": "markdown",
      "source": [
        "## Maps"
      ],
      "metadata": {
        "id": "QWyNr_wUIGu6"
      }
    },
    {
      "cell_type": "code",
      "source": [
        "%%HTML\n",
        "<iframe width=\"560\" height=\"315\" src=\"https://www.youtube.com/embed/I5UMIL_bbXY\" title=\"YouTube video player\" frameborder=\"0\" allowfullscreen></iframe>\n",
        "<iframe width=\"560\" height=\"315\" src=\"https://www.youtube.com/embed/Gi5JXlcWzsg\" title=\"YouTube video player\" frameborder=\"0\" allowfullscreen></iframe>"
      ],
      "metadata": {
        "colab": {
          "base_uri": "https://localhost:8080/",
          "height": 655
        },
        "id": "tfVXTWkoaJXx",
        "outputId": "5edae0a3-b7d3-4386-bfd7-0c1835407bd7"
      },
      "execution_count": null,
      "outputs": [
        {
          "output_type": "display_data",
          "data": {
            "text/plain": [
              "<IPython.core.display.HTML object>"
            ],
            "text/html": [
              "<iframe width=\"560\" height=\"315\" src=\"https://www.youtube.com/embed/I5UMIL_bbXY\" title=\"YouTube video player\" frameborder=\"0\" allowfullscreen></iframe>\n",
              "<iframe width=\"560\" height=\"315\" src=\"https://www.youtube.com/embed/Gi5JXlcWzsg\" title=\"YouTube video player\" frameborder=\"0\" allowfullscreen></iframe>\n"
            ]
          },
          "metadata": {}
        }
      ]
    },
    {
      "cell_type": "markdown",
      "source": [
        "### Implementing the Map ADT"
      ],
      "metadata": {
        "id": "5vOT5vdBNeRM"
      }
    },
    {
      "cell_type": "code",
      "source": [
        "class dict():\n",
        "  def __init__(self):\n",
        "    self._data = []\n",
        "\n",
        "  def __len__(self):\n",
        "    return len(self._data)\n",
        "\n",
        "  def __setitem__(self, k, value):\n",
        "    i = self._findkey(k)\n",
        "    if i >= 0:\n",
        "      self._data[i] = (k, value)\n",
        "    else:\n",
        "      self._data.append((k, value))\n",
        "    # di = dict()\n",
        "    # di['5'] = [1, 2, 3, 4, 5]\n",
        "\n",
        "  def _findkey(self, k):\n",
        "    for i in range(len(self._data)):\n",
        "      if k == self._data[i][0]:\n",
        "        return i\n",
        "    return -1\n",
        "\n",
        "  def __contains__(self, k):\n",
        "    return self._findkey(k) >= 0\n",
        "\n",
        "  ################################\n",
        "  ######## 'ppp' exercise ########\n",
        "  ################################\n",
        "  def __getitem__(self, k):\n",
        "    # print(di['5']) => [1, 2, 3, 4, 5]\n",
        "    i = self._findkey(k)\n",
        "    if i >= 0:\n",
        "      return self._data[i][1]\n",
        "    else:\n",
        "      raise KeyError(k)\n",
        "\n",
        "  ################################\n",
        "  ######## 'ppp' exercise ########\n",
        "  ################################\n",
        "  def get(self, k, v0=None):\n",
        "    i = self._findkey(k)\n",
        "    if i >= 0:\n",
        "      return self._data[i][1]\n",
        "    else:\n",
        "      return v0\n",
        "\n",
        "  def keys(self):\n",
        "    return _MapIterator(self._data)\n",
        "\n",
        "  def __repr__(self):\n",
        "    s = \"ListMap(\"\n",
        "    sep = \"\"\n",
        "    for k, v in self._data:\n",
        "      s += sep + repr(k) + \": \" + repr(v)\n",
        "      sep = \",\"\n",
        "    return s + \")\"\n",
        "\n",
        "  def __iter__(self):\n",
        "    return _MapIterator(self._data)\n",
        "\n",
        "class _MapIterator():\n",
        "  def __init__(self, d):\n",
        "    self._d = d\n",
        "    self._current = 0\n",
        "\n",
        "  def __iter__(self):\n",
        "    return self\n",
        "\n",
        "  def __next__(self):\n",
        "    if self._current < len(self._d):\n",
        "      key = self._d[self._current][0]\n",
        "      self._current += 1\n",
        "      return key\n",
        "    else:\n",
        "      raise StopIteration"
      ],
      "metadata": {
        "id": "L1ixP-kNTagl"
      },
      "execution_count": null,
      "outputs": []
    },
    {
      "cell_type": "markdown",
      "source": [
        "### Applications"
      ],
      "metadata": {
        "id": "lcVE5-7NNm9X"
      }
    },
    {
      "cell_type": "markdown",
      "source": [
        "#### Converting a DNA sequence to a protein sequence"
      ],
      "metadata": {
        "id": "SqX3n9XnN-14"
      }
    },
    {
      "cell_type": "code",
      "source": [
        "# Rosalind PROT\n",
        "# Convert a DNA sequence to the corresponding sequence of proteins\n",
        "#\n",
        "# Example input: AUGGCCAUGGCGCCCAGAACUGAGAUCAAUAGUACCCGUAUUAACGGGUGA\n",
        "# Output: MAMAPRTEINSTRING\n",
        "\n",
        "codon = { \"UUU\" : \"F\",    \"CUU\" : \"L\", \"AUU\" : \"I\", \"GUU\" : \"V\",\n",
        "          \"UUC\" : \"F\",    \"CUC\" : \"L\", \"AUC\" : \"I\", \"GUC\" : \"V\",\n",
        "          \"UUA\" : \"L\",    \"CUA\" : \"L\", \"AUA\" : \"I\", \"GUA\" : \"V\",\n",
        "          \"UUG\" : \"L\",    \"CUG\" : \"L\", \"AUG\" : \"M\", \"GUG\" : \"V\",\n",
        "          \"UCU\" : \"S\",    \"CCU\" : \"P\", \"ACU\" : \"T\", \"GCU\" : \"A\",\n",
        "          \"UCC\" : \"S\",    \"CCC\" : \"P\", \"ACC\" : \"T\", \"GCC\" : \"A\",\n",
        "          \"UCA\" : \"S\",    \"CCA\" : \"P\", \"ACA\" : \"T\", \"GCA\" : \"A\",\n",
        "          \"UCG\" : \"S\",    \"CCG\" : \"P\", \"ACG\" : \"T\", \"GCG\" : \"A\",\n",
        "          \"UAU\" : \"Y\",    \"CAU\" : \"H\", \"AAU\" : \"N\", \"GAU\" : \"D\",\n",
        "          \"UAC\" : \"Y\",    \"CAC\" : \"H\", \"AAC\" : \"N\", \"GAC\" : \"D\",\n",
        "          \"UAA\" : \"Stop\", \"CAA\" : \"Q\", \"AAA\" : \"K\", \"GAA\" : \"E\",\n",
        "          \"UAG\" : \"Stop\", \"CAG\" : \"Q\", \"AAG\" : \"K\", \"GAG\" : \"E\",\n",
        "          \"UGU\" : \"C\",    \"CGU\" : \"R\", \"AGU\" : \"S\", \"GGU\" : \"G\",\n",
        "          \"UGC\" : \"C\",    \"CGC\" : \"R\", \"AGC\" : \"S\", \"GGC\" : \"G\",\n",
        "          \"UGA\" : \"Stop\", \"CGA\" : \"R\", \"AGA\" : \"R\", \"GGA\" : \"G\",\n",
        "          \"UGG\" : \"W\",    \"CGG\" : \"R\", \"AGG\" : \"R\", \"GGG\" : \"G\" }\n",
        "\n",
        "rna = input(\"mRNA sequence> \")\n",
        "\n",
        "proteins = []\n",
        "\n",
        "i = 0\n",
        "transcribing = False\n",
        "while i < len(rna) - 3:\n",
        "  cod = rna[i:i+3]\n",
        "  p = codon[cod]\n",
        "  if cod == \"AUG\":\n",
        "    transcribing = True\n",
        "  if p == \"Stop\":\n",
        "    transcribing = False\n",
        "  if transcribing:\n",
        "    proteins.append(p)\n",
        "  i += 3\n",
        "\n",
        "print(\"\".join(proteins))"
      ],
      "metadata": {
        "id": "CSHWdPbbT8hB"
      },
      "execution_count": null,
      "outputs": []
    },
    {
      "cell_type": "markdown",
      "source": [
        "#### **'ppp' Exercise** [Amazon] Longest subarray having sum k"
      ],
      "metadata": {
        "id": "E4eJCGjbmFIV"
      }
    },
    {
      "cell_type": "code",
      "source": [
        "#가장 긴 subarray 찾기, 합은 k가 되어야 함\n",
        "def long_subarr_k(arr, k):\n",
        "  '''Given an array arr containing len(arr) integers and an integer k,\n",
        "  long_subarr_k finds\n",
        "    1) the length of the longest subarray\n",
        "       with the sum of the elements equal to the given value k, and\n",
        "    2) the list of elements summing to k.\n",
        "  >>> long_subarr_k([10, 5, 2, 7, 1, 9], 15)\n",
        "  (4, [5, 2, 7, 1])\n",
        "  >>> long_subarr_k([-1, 2, 3], 6)\n",
        "  0\n",
        "  >>> long_subarr_k([-5, 8, -14, 2, 4, 12], -5)\n",
        "  (5, [-5, 8, -14, 2, 4])\n",
        "  '''\n",
        "  result = {}\n",
        "  max_len = 0\n",
        "\n",
        "  for i in range(len(arr)):\n",
        "    cur_sum = 0\n",
        "    for j in range(i, len(arr)):\n",
        "      cur_sum += arr[j]\n",
        "      if cur_sum == k:\n",
        "        num = j-i+1\n",
        "        result[num] = arr[i:j+1]\n",
        "        if num > max_len:\n",
        "          max_len = num\n",
        "\n",
        "\n",
        "  if max_len == 0:\n",
        "    return 0\n",
        "  return (max_len, result[max_len])"
      ],
      "metadata": {
        "id": "IPTMGA-05MTX"
      },
      "execution_count": null,
      "outputs": []
    },
    {
      "cell_type": "code",
      "source": [
        "doctest.run_docstring_examples(long_subarr_k, globals(), False, __name__)"
      ],
      "metadata": {
        "id": "cbpN_Fux6Wbi"
      },
      "execution_count": null,
      "outputs": []
    },
    {
      "cell_type": "code",
      "source": [
        "%%HTML\n",
        "<iframe width=\"560\" height=\"315\" src=\"https://www.youtube.com/embed/X_xCSkCoR3w\" title=\"YouTube video player\" frameborder=\"0\" allowfullscreen></iframe>\n",
        "<iframe width=\"560\" height=\"315\" src=\"https://www.youtube.com/embed/0v3ODG1grAw\" title=\"YouTube video player\" frameborder=\"0\" allowfullscreen></iframe>"
      ],
      "metadata": {
        "colab": {
          "base_uri": "https://localhost:8080/",
          "height": 655
        },
        "id": "bD-BoxQNYgFj",
        "outputId": "e27a66c4-a65c-4716-d0c6-4e925a62510c"
      },
      "execution_count": null,
      "outputs": [
        {
          "output_type": "display_data",
          "data": {
            "text/plain": [
              "<IPython.core.display.HTML object>"
            ],
            "text/html": [
              "<iframe width=\"560\" height=\"315\" src=\"https://www.youtube.com/embed/X_xCSkCoR3w\" title=\"YouTube video player\" frameborder=\"0\" allowfullscreen></iframe>\n",
              "<iframe width=\"560\" height=\"315\" src=\"https://www.youtube.com/embed/0v3ODG1grAw\" title=\"YouTube video player\" frameborder=\"0\" allowfullscreen></iframe>\n"
            ]
          },
          "metadata": {}
        }
      ]
    },
    {
      "cell_type": "code",
      "source": [],
      "metadata": {
        "id": "FS3vQB5Ya3aO"
      },
      "execution_count": null,
      "outputs": []
    }
  ]
}