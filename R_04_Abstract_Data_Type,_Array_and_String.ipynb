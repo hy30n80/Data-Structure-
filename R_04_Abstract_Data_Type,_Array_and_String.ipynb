{
  "nbformat": 4,
  "nbformat_minor": 0,
  "metadata": {
    "colab": {
      "provenance": [],
      "include_colab_link": true
    },
    "kernelspec": {
      "name": "python3",
      "display_name": "Python 3"
    },
    "language_info": {
      "name": "python"
    }
  },
  "cells": [
    {
      "cell_type": "markdown",
      "metadata": {
        "id": "view-in-github",
        "colab_type": "text"
      },
      "source": [
        "<a href=\"https://colab.research.google.com/github/hy30n80/Data-Structure-/blob/main/R_04_Abstract_Data_Type%2C_Array_and_String.ipynb\" target=\"_parent\"><img src=\"https://colab.research.google.com/assets/colab-badge.svg\" alt=\"Open In Colab\"/></a>"
      ]
    },
    {
      "cell_type": "markdown",
      "source": [
        "# Abstract Data Type"
      ],
      "metadata": {
        "id": "-L4oqDKvuLaJ"
      }
    },
    {
      "cell_type": "markdown",
      "source": [
        "## 🎥[Recording](https://youtu.be/M7cOIpEevsg)"
      ],
      "metadata": {
        "id": "gdY_Z4NcBHR7"
      }
    },
    {
      "cell_type": "markdown",
      "source": [
        "## Abstract Data Type vs Data Structure\n",
        "\n"
      ],
      "metadata": {
        "id": "F_zRtWUIvlEa"
      }
    },
    {
      "cell_type": "markdown",
      "source": [
        "Abstract data type(ADT) is a **description of some data** and **what it can do**. Since it is literally an abstract type, it can be called an ADT without having to implement functions. This is the difference between a data structure and a ADT."
      ],
      "metadata": {
        "id": "WHeDYu5N-zkT"
      }
    },
    {
      "cell_type": "markdown",
      "source": [
        "## Example : ADT of Telephone\n",
        "\n",
        "We should create a telephone ADT. Telephone includes the following features.\n",
        "\n",
        "- Initalization(set number)\n",
        "- View call history.\n",
        "- Receive a call when a call comes but show busy status when on calling.\n",
        "- Hang up call.\n",
        "- Make a call."
      ],
      "metadata": {
        "id": "-HNGF185xwi9"
      }
    },
    {
      "cell_type": "code",
      "source": [
        "class Telephone():\n",
        "    message_for_refuse = 'Hard To Call'\n",
        "\n",
        "    def __init__(self, number, history=[]):\n",
        "        self._phone_number = number\n",
        "        self._call_history = history\n",
        "        self._is_call = False\n",
        "        self._call_info = [None, None, None]\n",
        "\n",
        "    def view_call_history(self):\n",
        "        if len(self._call_history) == 0:\n",
        "            print('Empty')\n",
        "        else:\n",
        "            for date, who, number, time in self._call_history:\n",
        "                print('Date: ', date, who, '\\tphoneNumber: ', number,\n",
        "                      '\\t', number, '\\tTime: ', time)\n",
        "\n",
        "    def receive_call(self, date, phone_number):\n",
        "        if self._is_call:\n",
        "            print(self.message_for_refuse)\n",
        "            return\n",
        "        self._is_call = True\n",
        "        self._call_info[0], self._call_info[1], self._call_info[2] = \\\n",
        "            date, 'From', phone_number\n",
        "\n",
        "    def hang_up_call(self, time):\n",
        "        if not self._is_call:\n",
        "            return\n",
        "        self._call_history.append(\n",
        "            (self._call_info[0], self._call_info[1], self._call_info[2], time))\n",
        "        self._is_call = False\n",
        "\n",
        "    def make_call(self, date, number):\n",
        "        self._is_call = True\n",
        "        self._call_info[0], self._call_info[1], self._call_info[2] = \\\n",
        "            date, 'To', number\n"
      ],
      "metadata": {
        "id": "6Qzpyg20xwUY"
      },
      "execution_count": 1,
      "outputs": []
    },
    {
      "cell_type": "code",
      "source": [
        "myPhone = Telephone('010-1234-5678')\n",
        "myPhone.view_call_history()\n",
        "myPhone.receive_call('20230328', '010-9876-5432')  # received\n",
        "myPhone.receive_call('20230328', '010-8765-4321')  # hard to call\n",
        "myPhone.hang_up_call('00:32:12')  # history updated\n",
        "myPhone.make_call('20230328', '010-1111-2222')  # make call\n",
        "myPhone.receive_call('20230328', '010-8765-4321')  # hard to call\n",
        "myPhone.hang_up_call('03:54:13')  # history updated\n",
        "myPhone.view_call_history()"
      ],
      "metadata": {
        "colab": {
          "base_uri": "https://localhost:8080/"
        },
        "id": "QxbVHqU_Hile",
        "outputId": "91b298cd-438b-4643-fa61-2d508be17ae7"
      },
      "execution_count": 2,
      "outputs": [
        {
          "output_type": "stream",
          "name": "stdout",
          "text": [
            "Empty\n",
            "Hard To Call\n",
            "Hard To Call\n",
            "Date:  20230328 From \tphoneNumber:  010-9876-5432 \t 010-9876-5432 \tTime:  00:32:12\n",
            "Date:  20230328 To \tphoneNumber:  010-1111-2222 \t 010-1111-2222 \tTime:  03:54:13\n"
          ]
        }
      ]
    },
    {
      "cell_type": "markdown",
      "source": [
        "# Array"
      ],
      "metadata": {
        "id": "fhqbW-P3_kti"
      }
    },
    {
      "cell_type": "markdown",
      "source": [
        "## Theory of Array"
      ],
      "metadata": {
        "id": "V1e0IxpTp2P2"
      }
    },
    {
      "cell_type": "markdown",
      "source": [
        "An array is a contiguous set of elements with fixed size. ADT of Array is as follows.\n",
        "\n",
        "- Initalization (set size)\n",
        "- Get Item\n",
        "- Set Item\n",
        "- Get Length\n",
        "- Representation\n",
        "- Iteration"
      ],
      "metadata": {
        "id": "KA_7_y_7_4mJ"
      }
    },
    {
      "cell_type": "code",
      "source": [
        "class Array():\n",
        "    def __init__(self, size):\n",
        "        self._size = size\n",
        "        self._elements = [None] * size\n",
        "        self._cur = 0\n",
        "\n",
        "    def __getitem__(self, i):\n",
        "        return self._elements[i]\n",
        "\n",
        "    def __setitem__(self, i, v):\n",
        "        self._elements[i] = v\n",
        "\n",
        "    def __len__(self):\n",
        "        return self._size\n",
        "\n",
        "    def __repr__(self):\n",
        "        return \"Array(\" + ', '.join(map(str, self._elements)) + ')'\n",
        "\n",
        "    def __iter__(self):\n",
        "        return self\n",
        "\n",
        "    def __next__(self):\n",
        "        if self._cur < self._size:\n",
        "            cur = self._cur\n",
        "            self._cur += 1\n",
        "            return self.__getitem__(cur)\n",
        "        else:\n",
        "            self._cur = 0\n",
        "            raise StopIteration\n"
      ],
      "metadata": {
        "id": "qPeGojs2fFUt"
      },
      "execution_count": 4,
      "outputs": []
    },
    {
      "cell_type": "code",
      "source": [
        "arr = Array(5)\n",
        "arr[4] = 1\n",
        "print(arr[4])\n",
        "\n",
        "print(arr[3])\n",
        "\n",
        "print(len(arr))\n",
        "\n",
        "for i in range(5):\n",
        "    arr[i] = i**i\n",
        "\n",
        "print(arr)\n",
        "\n",
        "for i in arr:\n",
        "    print(i)"
      ],
      "metadata": {
        "colab": {
          "base_uri": "https://localhost:8080/"
        },
        "id": "eMpGr59FJ_XY",
        "outputId": "419a720a-6f0c-40f8-a221-57865b917fc4"
      },
      "execution_count": 5,
      "outputs": [
        {
          "output_type": "stream",
          "name": "stdout",
          "text": [
            "1\n",
            "None\n",
            "5\n",
            "Array(1, 1, 4, 27, 256)\n",
            "1\n",
            "1\n",
            "4\n",
            "27\n",
            "256\n"
          ]
        }
      ]
    },
    {
      "cell_type": "markdown",
      "source": [
        "## in Python...\n",
        "\n",
        "In Python, We use `List` instead of `Array`. This is because most of the functions are overlapped and have more efficient functions."
      ],
      "metadata": {
        "id": "I5Yef-vP_1rM"
      }
    },
    {
      "cell_type": "code",
      "source": [
        "size = 10\n",
        "arr = [None for _ in range(size)]  # initialization\n",
        "\n",
        "for i in range(10):\n",
        "    arr[i] = i  # set Items\n",
        "\n",
        "print(arr[5])  # get Items\n",
        "\n",
        "print(len(arr))  # get Length\n",
        "\n",
        "for i in arr:  # iteration\n",
        "    print(i)\n",
        "\n",
        "print(arr)  # representation\n",
        "\n",
        "'''\n",
        "Below is a more diverse array of functions.\n",
        "'''\n",
        "arr.append(10)  # expand one element\n",
        "arr.extend([8, 9, 10])  # expand elements\n",
        "arr.pop()  # delete element\n",
        "\n",
        "arr.reverse()  # reversing array\n",
        "print(arr)\n",
        "\n",
        "arr.sort()  # sorting\n",
        "print(arr)\n"
      ],
      "metadata": {
        "id": "3QiYf-hE_1Qn",
        "colab": {
          "base_uri": "https://localhost:8080/"
        },
        "outputId": "c4deaa85-0f16-411f-e8a6-764ca808156a"
      },
      "execution_count": 6,
      "outputs": [
        {
          "output_type": "stream",
          "name": "stdout",
          "text": [
            "5\n",
            "10\n",
            "0\n",
            "1\n",
            "2\n",
            "3\n",
            "4\n",
            "5\n",
            "6\n",
            "7\n",
            "8\n",
            "9\n",
            "[0, 1, 2, 3, 4, 5, 6, 7, 8, 9]\n",
            "[9, 8, 10, 9, 8, 7, 6, 5, 4, 3, 2, 1, 0]\n",
            "[0, 1, 2, 3, 4, 5, 6, 7, 8, 8, 9, 9, 10]\n"
          ]
        }
      ]
    },
    {
      "cell_type": "code",
      "source": [
        "import doctest"
      ],
      "metadata": {
        "id": "dmM-DJPStnPQ"
      },
      "execution_count": 7,
      "outputs": []
    },
    {
      "cell_type": "markdown",
      "source": [
        "# Quiz 1 : Guess what function do\n",
        "\n",
        "The following is a `new_function` function related to an array. Guess what `new_function` do."
      ],
      "metadata": {
        "id": "PXA1WURKuEhg"
      }
    },
    {
      "cell_type": "code",
      "source": [
        "def new_function(arr):\n",
        "    e = len(arr)\n",
        "\n",
        "    for _ in range(len(arr)): # n번 반복\n",
        "        value, index = arr[0], 0 # 초기값 세팅\n",
        "        for i in range(e): # e th 까지 접근\n",
        "            if arr[i] > value: # 크면\n",
        "                value, index = arr[i], i # 업데이트 (최대값, 최대 인덱스)\n",
        "\n",
        "        e -= 1\n",
        "        arr[index], arr[e] = arr[e], arr[index] # 맨 마지막 요소와 최대값 요소 변경\n",
        "        print(arr)\n",
        "\n",
        "    return arr\n",
        "\n",
        "# [3,2,4,1,5] -> [3,2,4,1,5] -> [3,2,1,4,5] -> [1,2,3,4,5] -> [1,2,3,4,5] -> [1,2,3,4,5]"
      ],
      "metadata": {
        "id": "zfRsw3EHujps"
      },
      "execution_count": 8,
      "outputs": []
    },
    {
      "cell_type": "code",
      "source": [
        "new_function([5,4,6,3,7,2,8,1,9])"
      ],
      "metadata": {
        "colab": {
          "base_uri": "https://localhost:8080/"
        },
        "id": "miBXlPAuMtLn",
        "outputId": "29f100b2-7aaf-4317-ba9a-54f2b14303db"
      },
      "execution_count": 9,
      "outputs": [
        {
          "output_type": "stream",
          "name": "stdout",
          "text": [
            "[5, 4, 6, 3, 7, 2, 8, 1, 9]\n",
            "[5, 4, 6, 3, 7, 2, 1, 8, 9]\n",
            "[5, 4, 6, 3, 1, 2, 7, 8, 9]\n",
            "[5, 4, 2, 3, 1, 6, 7, 8, 9]\n",
            "[1, 4, 2, 3, 5, 6, 7, 8, 9]\n",
            "[1, 3, 2, 4, 5, 6, 7, 8, 9]\n",
            "[1, 2, 3, 4, 5, 6, 7, 8, 9]\n",
            "[1, 2, 3, 4, 5, 6, 7, 8, 9]\n",
            "[1, 2, 3, 4, 5, 6, 7, 8, 9]\n"
          ]
        },
        {
          "output_type": "execute_result",
          "data": {
            "text/plain": [
              "[1, 2, 3, 4, 5, 6, 7, 8, 9]"
            ]
          },
          "metadata": {},
          "execution_count": 9
        }
      ]
    },
    {
      "cell_type": "markdown",
      "source": [
        "# Quiz 2 : Count the Number of Alphabets\n",
        "\n",
        "When a string is given to `count_alphabets` function, the `count_alphabets` function returns the number of alphabets between a to z. The elements of string consist of lowercase alphabets and spaces. Return the number of letters from a to z in the form of a list.\n",
        "\n",
        "`Tip` : ord() function returns the `ASCII CODE` of the character."
      ],
      "metadata": {
        "id": "ol_bz2uzp8ei"
      }
    },
    {
      "cell_type": "code",
      "source": [
        "def count_alphabets(string):\n",
        "    '''\n",
        "    >>> count_alphabets('i am gist college student')\n",
        "    [1, 0, 1, 1, 3, 0, 2, 0, 2, 0, 0, 2, 1, 1, 1, 0, 0, 0, 2, 3, 1, 0, 0, 0, 0, 0]\n",
        "    >>> count_alphabets('your sugar yes please wont you come and put it down on me')\n",
        "    [3, 0, 1, 2, 5, 0, 1, 0, 1, 0, 0, 1, 2, 4, 6, 2, 0, 2, 3, 3, 4, 0, 2, 0, 3, 0]\n",
        "    >>> count_alphabets('i am right here cause i need little love and little sympathy')\n",
        "    [4, 0, 1, 2, 8, 0, 1, 3, 5, 0, 0, 5, 2, 2, 1, 1, 0, 2, 2, 6, 1, 1, 0, 0, 2, 0]\n",
        "    >>> count_alphabets('you and i it is more than iike l than and o then i yeah')\n",
        "    [5, 0, 0, 2, 4, 0, 0, 4, 6, 0, 1, 1, 1, 5, 3, 0, 0, 1, 1, 4, 1, 0, 0, 0, 2, 0]\n",
        "    '''\n",
        "    alphabets = [0 for _ in range(26)]\n",
        "\n",
        "    for i in string:\n",
        "        if i == ' ':\n",
        "            continue\n",
        "        alphabets[ord(i)-97] += 1\n",
        "    return alphabets"
      ],
      "metadata": {
        "id": "PEkQoM3Yltn4"
      },
      "execution_count": 10,
      "outputs": []
    },
    {
      "cell_type": "code",
      "source": [
        "doctest.run_docstring_examples(count_alphabets, globals(), False, __name__)"
      ],
      "metadata": {
        "id": "rLIg2U2orJ1p",
        "colab": {
          "base_uri": "https://localhost:8080/"
        },
        "outputId": "26d282ce-3eb0-4af7-bf38-5a1902a4edfb"
      },
      "execution_count": 11,
      "outputs": [
        {
          "output_type": "stream",
          "name": "stderr",
          "text": [
            "\n",
            "PYDEV DEBUGGER WARNING:\n",
            "sys.settrace() should not be used when the debugger is being used.\n",
            "This may cause the debugger to stop working correctly.\n",
            "If this is needed, please check: \n",
            "http://pydev.blogspot.com/2007/06/why-cant-pydev-debugger-work-with.html\n",
            "to see how to restore the debug tracing back correctly.\n",
            "Call Location:\n",
            "  File \"/usr/lib/python3.10/doctest.py\", line 1501, in run\n",
            "    sys.settrace(save_trace)\n",
            "\n"
          ]
        }
      ]
    },
    {
      "cell_type": "code",
      "source": [
        "count_alphabets('you and i it is more than iike l than and o then i yeah')"
      ],
      "metadata": {
        "colab": {
          "base_uri": "https://localhost:8080/"
        },
        "id": "3OsvdBHIOobo",
        "outputId": "b551f35e-9cdb-455c-9be4-ea946a8497f7"
      },
      "execution_count": 12,
      "outputs": [
        {
          "output_type": "execute_result",
          "data": {
            "text/plain": [
              "[5, 0, 0, 2, 4, 0, 0, 4, 6, 0, 1, 1, 1, 5, 3, 0, 0, 1, 1, 4, 1, 0, 0, 0, 2, 0]"
            ]
          },
          "metadata": {},
          "execution_count": 12
        }
      ]
    },
    {
      "cell_type": "markdown",
      "source": [
        "# Tips !\n",
        "\n",
        "Below links are problem set that is related to array. If you have difficulty to understand `Array`, I recommend to solve below problem set step by step.\n",
        "\n",
        "ENG : [LeetCode](https://leetcode.com/tag/array/)<br>\n",
        "KOR : [BOJ](https://www.acmicpc.net/step/6)<br>\n",
        "KOR : [CodeUP](https://codeup.kr/problemsetsol.php?psid=15)<br>\n"
      ],
      "metadata": {
        "id": "sW5faj7Rv03X"
      }
    }
  ]
}