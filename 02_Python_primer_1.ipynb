{
  "nbformat": 4,
  "nbformat_minor": 0,
  "metadata": {
    "colab": {
      "provenance": [],
      "include_colab_link": true
    },
    "kernelspec": {
      "name": "python3",
      "display_name": "Python 3"
    },
    "language_info": {
      "name": "python"
    }
  },
  "cells": [
    {
      "cell_type": "markdown",
      "metadata": {
        "id": "view-in-github",
        "colab_type": "text"
      },
      "source": [
        "<a href=\"https://colab.research.google.com/github/hy30n80/Data-Structure-/blob/main/Python_primer_1.ipynb\" target=\"_parent\"><img src=\"https://colab.research.google.com/assets/colab-badge.svg\" alt=\"Open In Colab\"/></a>"
      ]
    },
    {
      "cell_type": "markdown",
      "source": [
        "# EC2202 Python Primer"
      ],
      "metadata": {
        "id": "_mdzNJiCaHTv"
      }
    },
    {
      "cell_type": "markdown",
      "source": [
        "## Student Information"
      ],
      "metadata": {
        "id": "1WSES3dclsy0"
      }
    },
    {
      "cell_type": "markdown",
      "source": [
        "* Student ID: YOUR ID\n",
        "* Name: YOUR NAME"
      ],
      "metadata": {
        "id": "X8jw0a9flsDQ"
      }
    },
    {
      "cell_type": "markdown",
      "source": [
        "**Disclaimer.**\n",
        "This Python primer is based on\n",
        "\n",
        "1. [Stanford CS231n Python Tutorial](https://colab.research.google.com/github/cs231n/cs231n.github.io/blob/master/python-colab.ipynb)\n",
        "2. [LearnPython.org](https://www.learnpython.org/en/Welcome)"
      ],
      "metadata": {
        "id": "VBD747fVdITe"
      }
    },
    {
      "cell_type": "markdown",
      "source": [
        "## Introduction"
      ],
      "metadata": {
        "id": "2bJ0e5jyYljo"
      }
    },
    {
      "cell_type": "code",
      "source": [
        "%%HTML\n",
        "<iframe width=\"560\" height=\"315\" src=\"https://www.youtube.com/embed/h2Nqd3DvuPY\" title=\"YouTube video player\" frameborder=\"0\" allowfullscreen></iframe>\n",
        "<iframe width=\"560\" height=\"315\" src=\"https://www.youtube.com/embed/HnzMA17rkPI\" title=\"YouTube video player\" frameborder=\"0\" allowfullscreen></iframe>"
      ],
      "metadata": {
        "id": "u22PJWVCjFbi",
        "colab": {
          "base_uri": "https://localhost:8080/",
          "height": 336
        },
        "outputId": "67935529-ca89-4e1f-bc43-6b1f3bd1ad79"
      },
      "execution_count": null,
      "outputs": [
        {
          "output_type": "display_data",
          "data": {
            "text/plain": [
              "<IPython.core.display.HTML object>"
            ],
            "text/html": [
              "<iframe width=\"560\" height=\"315\" src=\"https://www.youtube.com/embed/h2Nqd3DvuPY\" title=\"YouTube video player\" frameborder=\"0\" allowfullscreen></iframe>\n",
              "<iframe width=\"560\" height=\"315\" src=\"https://www.youtube.com/embed/HnzMA17rkPI\" title=\"YouTube video player\" frameborder=\"0\" allowfullscreen></iframe>\n"
            ]
          },
          "metadata": {}
        }
      ]
    },
    {
      "cell_type": "markdown",
      "source": [
        "Python is a great high-level programming language on its own, but with the availability of a number of popular libraries (numpy, scipy, matplotlib, etc.) it becomes a powerfule development tool for numerous applications: data science, machine learning, visualization, etc.\n",
        "\n",
        "In this Python primer, we will cover:\n",
        "* Hello, world!\n",
        "* Variables and types\n",
        "* String formatting\n",
        "* Lists\n",
        "* Conditions\n",
        "* Loops\n"
      ],
      "metadata": {
        "id": "3bV5oaSLYda3"
      }
    },
    {
      "cell_type": "markdown",
      "source": [
        "### A Brief Note on Python Versions\n",
        "\n",
        "As of Janurary 1, 2020, Python has [officially dropped support](https://www.python.org/doc/sunset-python-2/) for `python2`. We'll be using Python 3.7 for this iteration of the course. You can check your Python version at the command line by running `python --version`. In Colab, we can enforce the Python version by clicking `Runtime -> Change Runtime Type` and selecting `python3`. Note that as of March 2022, Colab uses Python 3.7.12 which should run everything without any errors."
      ],
      "metadata": {
        "id": "f5qEyLq4aCsP"
      }
    },
    {
      "cell_type": "code",
      "execution_count": null,
      "metadata": {
        "id": "PQ5YGspTX0Uf"
      },
      "outputs": [],
      "source": [
        "!python --version"
      ]
    },
    {
      "cell_type": "markdown",
      "source": [
        "## Hello, World!"
      ],
      "metadata": {
        "id": "eml7SaoLdCKL"
      }
    },
    {
      "cell_type": "markdown",
      "source": [
        "Python is a very simple language, and has a very straightforward syntax. It encourages programmers to program without boilerplate (prepared) code. The simplest directive in Python is the `print` directive - it simply prints out a line (and also includes a newline, unlike in C).\n",
        "\n",
        "To print a string in Python 3,"
      ],
      "metadata": {
        "id": "ZXEWxiwQdFEj"
      }
    },
    {
      "cell_type": "code",
      "source": [
        "print(\"Hello, World!\")"
      ],
      "metadata": {
        "id": "tX_z0BOdeaL7"
      },
      "execution_count": null,
      "outputs": []
    },
    {
      "cell_type": "markdown",
      "source": [
        "Commenting a line/block of codes:"
      ],
      "metadata": {
        "id": "K7wjFfvMgQNv"
      }
    },
    {
      "cell_type": "code",
      "source": [
        "# print(\"Hello, World!\")\n",
        "\"\"\"\n",
        "These lines of codes\n",
        "will not be executed\n",
        "\"\"\""
      ],
      "metadata": {
        "id": "tSUtvI8Jghc1"
      },
      "execution_count": null,
      "outputs": []
    },
    {
      "cell_type": "markdown",
      "source": [
        "Some cautions about `print`"
      ],
      "metadata": {
        "id": "GxuwFzw5a_XZ"
      }
    },
    {
      "cell_type": "code",
      "source": [
        "print(None)\n",
        "print(1, 2, 3)\n",
        "print(None, None)\n",
        "print(print(1), print(2))"
      ],
      "metadata": {
        "id": "HT7clCJVbMtK"
      },
      "execution_count": null,
      "outputs": []
    },
    {
      "cell_type": "markdown",
      "source": [
        "## Variables and Types"
      ],
      "metadata": {
        "id": "7JniH4wecRHb"
      }
    },
    {
      "cell_type": "markdown",
      "source": [
        "### Numbers"
      ],
      "metadata": {
        "id": "Yx_Mur84cx2S"
      }
    },
    {
      "cell_type": "markdown",
      "source": [
        "Integers and floats work as you would expect from other languages:"
      ],
      "metadata": {
        "id": "Xr4MZuQrc3eu"
      }
    },
    {
      "cell_type": "code",
      "source": [
        "x = 3\n",
        "print(x, type(x))"
      ],
      "metadata": {
        "id": "kKFgboZbc2k1"
      },
      "execution_count": null,
      "outputs": []
    },
    {
      "cell_type": "code",
      "source": [
        "# operations on numbers\n",
        "print(x + 1)   # Addition\n",
        "print(x - 1)   # Subtraction\n",
        "print(x * 2)   # Multiplication\n",
        "print(x ** 2)  # Exponentiation"
      ],
      "metadata": {
        "id": "hF-j3t17gLmL"
      },
      "execution_count": null,
      "outputs": []
    },
    {
      "cell_type": "code",
      "source": [
        "x += 1\n",
        "print(x)\n",
        "x *= 2\n",
        "print(x)"
      ],
      "metadata": {
        "id": "3SC6JwVrh1mR"
      },
      "execution_count": null,
      "outputs": []
    },
    {
      "cell_type": "code",
      "source": [
        "y = 2.5\n",
        "print(type(y))\n",
        "print(y, y + 1, y * 2, y ** 2)"
      ],
      "metadata": {
        "id": "SgptSLeMh4TO"
      },
      "execution_count": null,
      "outputs": []
    },
    {
      "cell_type": "code",
      "source": [
        "z = 10\n",
        "print(z // 3)\n",
        "print(z / 3)\n",
        "print(z % 3)"
      ],
      "metadata": {
        "id": "VKpjK1g4KOuJ"
      },
      "execution_count": null,
      "outputs": []
    },
    {
      "cell_type": "markdown",
      "source": [
        "**WWPP Questions**"
      ],
      "metadata": {
        "id": "tkiDjhyxI6IM"
      }
    },
    {
      "cell_type": "code",
      "source": [
        "print(100 / 25)\n",
        "print(100 // 25)\n",
        "print(25 % 100)\n",
        "print(2 ** 3 ** 2)\n",
        "print(3 * 1 ** 3)\n",
        "print(2 * 3 ** 3 * 4)"
      ],
      "metadata": {
        "id": "TYkjr7PAHtp4"
      },
      "execution_count": null,
      "outputs": []
    },
    {
      "cell_type": "markdown",
      "source": [
        "Note that unlike many languages, Python does not have unary increment (x++) or decrement (x--) operators.\n",
        "\n",
        "Python also has built-in types for long integers and complex numbers; you can find all of the details in the [documentation](https://docs.python.org/3.7/library/stdtypes.html#numeric-types-int-float-long-complex)."
      ],
      "metadata": {
        "id": "BPWs_j5Nh9r8"
      }
    },
    {
      "cell_type": "code",
      "source": [
        "%%HTML\n",
        "<iframe width=\"560\" height=\"315\" src=\"https://www.youtube.com/embed/y7kVbT7j7H8\" title=\"YouTube video player\" frameborder=\"0\" allowfullscreen></iframe>\n",
        "<iframe width=\"560\" height=\"315\" src=\"https://www.youtube.com/embed/zIjZ-BUv96k\" title=\"YouTube video player\" frameborder=\"0\" allowfullscreen></iframe>"
      ],
      "metadata": {
        "id": "a5WUS3STjNv2",
        "colab": {
          "base_uri": "https://localhost:8080/",
          "height": 336
        },
        "outputId": "78f90df3-8292-48a5-e5ab-3604b11fbd07"
      },
      "execution_count": null,
      "outputs": [
        {
          "output_type": "display_data",
          "data": {
            "text/plain": [
              "<IPython.core.display.HTML object>"
            ],
            "text/html": [
              "<iframe width=\"560\" height=\"315\" src=\"https://www.youtube.com/embed/y7kVbT7j7H8\" title=\"YouTube video player\" frameborder=\"0\" allowfullscreen></iframe>\n",
              "<iframe width=\"560\" height=\"315\" src=\"https://www.youtube.com/embed/zIjZ-BUv96k\" title=\"YouTube video player\" frameborder=\"0\" allowfullscreen></iframe>\n"
            ]
          },
          "metadata": {}
        }
      ]
    },
    {
      "cell_type": "markdown",
      "source": [
        "### Booleans"
      ],
      "metadata": {
        "id": "wnqWNRyqh_c8"
      }
    },
    {
      "cell_type": "markdown",
      "source": [
        "Python implements all of the usual operators for Boolean logic, but uses English words rather than symbols (`&&`, `||`, etc.):"
      ],
      "metadata": {
        "id": "zLCIwO_LiJ1a"
      }
    },
    {
      "cell_type": "code",
      "source": [
        "t, f = True, False\n",
        "print(type(t))"
      ],
      "metadata": {
        "id": "qftgRUJGiKZS"
      },
      "execution_count": null,
      "outputs": []
    },
    {
      "cell_type": "markdown",
      "source": [
        "Now we let's look at the operations:"
      ],
      "metadata": {
        "id": "otE4BnqUiMlZ"
      }
    },
    {
      "cell_type": "code",
      "source": [
        "print(t and f)  # Logical AND;\n",
        "print(t or f)   # Logical OR;\n",
        "print(not t)    # Logical NOT;\n",
        "print(t != f)   # Logical XOR;"
      ],
      "metadata": {
        "id": "01JwTu3DiOfR"
      },
      "execution_count": null,
      "outputs": []
    },
    {
      "cell_type": "markdown",
      "source": [
        "**WWPP Questions**"
      ],
      "metadata": {
        "id": "tMoMf7U8JFdO"
      }
    },
    {
      "cell_type": "code",
      "source": [
        "print(True and 13)\n",
        "print(False or 0)\n",
        "print(not 10)\n",
        "print(not None)\n",
        "print(True and 1 / 0 and False)\n",
        "print(True or 1 / 0 or False)\n",
        "print(-1 and 1 > 0)\n",
        "print(1 / 0 or True)\n",
        "print((True or False) and False)"
      ],
      "metadata": {
        "id": "wBJiwuAuJJkk"
      },
      "execution_count": null,
      "outputs": []
    },
    {
      "cell_type": "code",
      "source": [
        "%%HTML\n",
        "<iframe width=\"560\" height=\"315\" src=\"https://www.youtube.com/embed/mHCLEuTorVE\" title=\"YouTube video player\" frameborder=\"0\" allowfullscreen></iframe>\n",
        "<iframe width=\"560\" height=\"315\" src=\"https://www.youtube.com/embed/2ioxaGlzjNc\" title=\"YouTube video player\" frameborder=\"0\" allowfullscreen></iframe>"
      ],
      "metadata": {
        "id": "tZ1t7Xf7jQSe",
        "colab": {
          "base_uri": "https://localhost:8080/",
          "height": 336
        },
        "outputId": "a37c6189-18f0-452d-d5a2-c0fe69dfd806"
      },
      "execution_count": null,
      "outputs": [
        {
          "output_type": "display_data",
          "data": {
            "text/plain": [
              "<IPython.core.display.HTML object>"
            ],
            "text/html": [
              "<iframe width=\"560\" height=\"315\" src=\"https://www.youtube.com/embed/mHCLEuTorVE\" title=\"YouTube video player\" frameborder=\"0\" allowfullscreen></iframe>\n",
              "<iframe width=\"560\" height=\"315\" src=\"https://www.youtube.com/embed/2ioxaGlzjNc\" title=\"YouTube video player\" frameborder=\"0\" allowfullscreen></iframe>\n"
            ]
          },
          "metadata": {}
        }
      ]
    },
    {
      "cell_type": "markdown",
      "source": [
        "### Strings"
      ],
      "metadata": {
        "id": "_fx-3atEiVCW"
      }
    },
    {
      "cell_type": "markdown",
      "source": [
        "Strings are defined either with a single quote or a double quotes."
      ],
      "metadata": {
        "id": "lExfXKlYWNm8"
      }
    },
    {
      "cell_type": "code",
      "source": [
        "hello = 'hello'   # String literals can use single quotes\n",
        "world = \"world\"   # or double quotes; it does not matter\n",
        "print(hello, len(hello))"
      ],
      "metadata": {
        "id": "But6h26fiXEM"
      },
      "execution_count": null,
      "outputs": []
    },
    {
      "cell_type": "markdown",
      "source": [
        "The difference between the two is that using double quotes makes it easy to include apostrophes (whereas these would terminate the string if using single quotes)"
      ],
      "metadata": {
        "id": "0Vr9fFn8WZxT"
      }
    },
    {
      "cell_type": "code",
      "source": [
        "mystring = \"Don't worry about apostrophes\"\n",
        "print(mystring)"
      ],
      "metadata": {
        "id": "cyymjtqtWgQu"
      },
      "execution_count": null,
      "outputs": []
    },
    {
      "cell_type": "markdown",
      "source": [
        "Simple operators can be executed on numbers and strings:"
      ],
      "metadata": {
        "id": "nVh3X2SkWmuU"
      }
    },
    {
      "cell_type": "code",
      "source": [
        "hw = hello + ' ' + world  # String concatenation\n",
        "print(hw)"
      ],
      "metadata": {
        "id": "pDcHv7pZiZTc"
      },
      "execution_count": null,
      "outputs": []
    },
    {
      "cell_type": "markdown",
      "source": [
        "Mixing operators between numbers and strings is not supported:"
      ],
      "metadata": {
        "id": "JNnzigTMXJOc"
      }
    },
    {
      "cell_type": "code",
      "source": [
        "# This will not work!\n",
        "one = 1\n",
        "two = 2\n",
        "hello = \"hello\"\n",
        "\n",
        "print(one + two + hello)\n",
        "\n",
        "# But,\n",
        "print(str(one) + str(two) + hello)\n",
        "\n",
        "# Similarly,\n",
        "three = \"3\"\n",
        "print(one + two + three)\n",
        "print(one + two + int(three))"
      ],
      "metadata": {
        "id": "H516eij8XJyp"
      },
      "execution_count": null,
      "outputs": []
    },
    {
      "cell_type": "markdown",
      "source": [
        "String objects have a bunch of useful methods; for example:"
      ],
      "metadata": {
        "id": "CiNQ58vCWq3K"
      }
    },
    {
      "cell_type": "code",
      "source": [
        "s = \"hello\"\n",
        "print(s.capitalize())           # Capitalize a string\n",
        "print(s.upper())                # Convert a string to uppercase; prints \"HELLO\"\n",
        "print(s.rjust(7))               # Right-justify a string, padding with spaces\n",
        "print(s.center(7))              # Center a string, padding with spaces\n",
        "print(s.replace('l', '(ell)'))  # Replace all instances of one substring with another\n",
        "print('  world '.strip())       # Strip leading and trailing whitespace"
      ],
      "metadata": {
        "id": "XdLXTHFqWRlI"
      },
      "execution_count": null,
      "outputs": []
    },
    {
      "cell_type": "code",
      "source": [
        "astring = \"Hello world!\"\n",
        "print(astring.index(\"o\"))\n",
        "print(astring.count(\"l\"))\n",
        "print(astring[3:7])\n",
        "print(astring[3:7:2])\n",
        "print(astring[::-1])\n",
        "print(astring.startswith(\"Hello\"))\n",
        "print(astring.endswith(\"asdfasdfasdf\"))\n",
        "afewwords = astring.split(\" \")\n",
        "print(afewwords)"
      ],
      "metadata": {
        "id": "_-OSFkSXXg4m"
      },
      "execution_count": null,
      "outputs": []
    },
    {
      "cell_type": "markdown",
      "source": [
        "You can find a list of all string methods in the [documentation](https://docs.python.org/3.7/library/stdtypes.html#string-methods)."
      ],
      "metadata": {
        "id": "qDL0skhTX-J7"
      }
    },
    {
      "cell_type": "markdown",
      "source": [
        "### Variables"
      ],
      "metadata": {
        "id": "6jQM-DPY3v71"
      }
    },
    {
      "cell_type": "markdown",
      "source": [
        "Variables can contain literally almost everything in Python."
      ],
      "metadata": {
        "id": "QZnRzKpR3yPN"
      }
    },
    {
      "cell_type": "code",
      "source": [
        "a = 1\n",
        "b = 2\n",
        "b, a = a + b, b\n",
        "print(a, b)"
      ],
      "metadata": {
        "id": "P6qhwaVk4AWd"
      },
      "execution_count": null,
      "outputs": []
    },
    {
      "cell_type": "markdown",
      "source": [
        "There are some predefined variables (or names)"
      ],
      "metadata": {
        "id": "WBdlp6Aj4THC"
      }
    },
    {
      "cell_type": "code",
      "source": [
        "min(1, 2, 3)\n",
        "max(1, 2, 3)"
      ],
      "metadata": {
        "id": "ICCFqxK74NO3"
      },
      "execution_count": null,
      "outputs": []
    },
    {
      "cell_type": "code",
      "source": [
        "ppp = print\n",
        "ppp('awesome!')"
      ],
      "metadata": {
        "id": "AeAOwKuvahZa"
      },
      "execution_count": null,
      "outputs": []
    },
    {
      "cell_type": "markdown",
      "source": [
        "**WWPP Question**"
      ],
      "metadata": {
        "id": "HjGEV2hg4en3"
      }
    },
    {
      "cell_type": "code",
      "source": [
        "f = min\n",
        "f = max\n",
        "g, h = min, max\n",
        "max = g\n",
        "print(max(f(2, g(h(1, 5), 3)), 4))"
      ],
      "metadata": {
        "id": "qW1gsRxz4jhC"
      },
      "execution_count": null,
      "outputs": []
    },
    {
      "cell_type": "code",
      "source": [
        "%%HTML\n",
        "<iframe width=\"560\" height=\"315\" src=\"https://www.youtube.com/embed/SmQsSnzEIBc\" title=\"YouTube video player\" frameborder=\"0\" allowfullscreen></iframe>\n",
        "<iframe width=\"560\" height=\"315\" src=\"https://www.youtube.com/embed/kjcZoIvPc6w\" title=\"YouTube video player\" frameborder=\"0\" allowfullscreen></iframe>"
      ],
      "metadata": {
        "id": "lQcT_r61jStL",
        "colab": {
          "base_uri": "https://localhost:8080/",
          "height": 336
        },
        "outputId": "9e4e51f1-40e8-4a41-a44a-1390cbdf5d9b"
      },
      "execution_count": null,
      "outputs": [
        {
          "output_type": "display_data",
          "data": {
            "text/plain": [
              "<IPython.core.display.HTML object>"
            ],
            "text/html": [
              "<iframe width=\"560\" height=\"315\" src=\"https://www.youtube.com/embed/SmQsSnzEIBc\" title=\"YouTube video player\" frameborder=\"0\" allowfullscreen></iframe>\n",
              "<iframe width=\"560\" height=\"315\" src=\"https://www.youtube.com/embed/kjcZoIvPc6w\" title=\"YouTube video player\" frameborder=\"0\" allowfullscreen></iframe>\n"
            ]
          },
          "metadata": {}
        }
      ]
    },
    {
      "cell_type": "markdown",
      "source": [
        "## String Formatting\n"
      ],
      "metadata": {
        "id": "7_Sc-AWFcQy0"
      }
    },
    {
      "cell_type": "markdown",
      "source": [
        "### Three Methods for Formatting"
      ],
      "metadata": {
        "id": "DOPu0q_usbiv"
      }
    },
    {
      "cell_type": "markdown",
      "source": [
        "Python provides [three types of string formatting methods](https://codechacha.com/ko/python-string-formatting/)\n",
        "* % formatting: the C-style formatting method\n",
        "* String formatting: new formatting convention\n",
        "* f-string: newer formatting convention"
      ],
      "metadata": {
        "id": "keCDaZ8sXMgK"
      }
    },
    {
      "cell_type": "code",
      "source": [
        "temperature = 202\n",
        "measure = 'Fahrenheit'\n",
        "print('Water boils at %d degrees %s' % (temperature, measure))     # % formatting\n",
        "print('Water boils at {} degrees {}'.format(temperature, measure)) # string formatting\n",
        "print(f'Water boils at {temperature} degrees {measure}')           # f-string"
      ],
      "metadata": {
        "id": "spxT1gNIYIqd"
      },
      "execution_count": null,
      "outputs": []
    },
    {
      "cell_type": "markdown",
      "source": [
        "Here are some basic argument specifiers for C-style formatting:\n",
        "\n",
        "%s - String (or any object with a string representation, like numbers)\n",
        "\n",
        "%d - Integers\n",
        "\n",
        "%f - Floating point numbers\n",
        "\n",
        "%.<number of digits>f - Floating point numbers with a fixed amount of digits to the right of the dot.\n",
        "\n",
        "%x/%X - Integers in hex representation (lowercase/uppercase)"
      ],
      "metadata": {
        "id": "5TFLjftnYRqq"
      }
    },
    {
      "cell_type": "markdown",
      "source": [
        "### Padding and Aligning"
      ],
      "metadata": {
        "id": "V3IANTT5sY6t"
      }
    },
    {
      "cell_type": "code",
      "source": [
        "# padding left and right-aligned\n",
        "string = 'test'\n",
        "print('%10s' % (string))\n",
        "print('{:>10}'.format(string))\n",
        "print(f'{string:>10}')"
      ],
      "metadata": {
        "id": "SPlSJOCTseSj"
      },
      "execution_count": null,
      "outputs": []
    },
    {
      "cell_type": "code",
      "source": [
        "# padding right and left-aligned\n",
        "string = 'test'\n",
        "print('%-10s' % (string))\n",
        "print('{:10}'.format(string))\n",
        "print(f'{string:10}')"
      ],
      "metadata": {
        "id": "4UswfvFCsnEz"
      },
      "execution_count": null,
      "outputs": []
    },
    {
      "cell_type": "code",
      "source": [
        "# padding with a specified character\n",
        "string = 'test'\n",
        "print('{:*>10}'.format('test'))\n",
        "print(f'{string:*>10}')\n",
        "\n",
        "print('{:*<10}'.format('test'))\n",
        "print(f'{string:*<10}')"
      ],
      "metadata": {
        "id": "oWo9uZ-vssWj"
      },
      "execution_count": null,
      "outputs": []
    },
    {
      "cell_type": "code",
      "source": [
        "# center-aligned\n",
        "string = 'test'\n",
        "print('{:^10}'.format('test'))\n",
        "print(f'{string:^10}')\n",
        "\n",
        "print('{:*^10}'.format('test'))\n",
        "print(f'{string:*^10}')"
      ],
      "metadata": {
        "id": "QIjXXn5usxQm"
      },
      "execution_count": null,
      "outputs": []
    },
    {
      "cell_type": "code",
      "source": [
        "# restrict the number of char.s\n",
        "string = 'xylophone'\n",
        "print('%-.5s' % (string))\n",
        "print('{:.5}'.format(string))\n",
        "print(f'{string:.5}')"
      ],
      "metadata": {
        "id": "y4VWDSi9s2bv"
      },
      "execution_count": null,
      "outputs": []
    },
    {
      "cell_type": "markdown",
      "source": [
        "### Formatting Numbers"
      ],
      "metadata": {
        "id": "kXecxuHXtXKX"
      }
    },
    {
      "cell_type": "code",
      "source": [
        "# formatting floats\n",
        "number = 3.141592653589793\n",
        "print('%f' % (number))\n",
        "print('{:f}'.format(number))\n",
        "print(f'{number:f}'.format(number))\n",
        "\n",
        "print(f'{number}')"
      ],
      "metadata": {
        "id": "DTGL8_Mls7gW"
      },
      "execution_count": null,
      "outputs": []
    },
    {
      "cell_type": "code",
      "source": [
        "print('%.2f' % (number))\n",
        "print('{:.2f}'.format(number))\n",
        "print(f'{number:.2f}')"
      ],
      "metadata": {
        "id": "bwFC7Ux8s_0v"
      },
      "execution_count": null,
      "outputs": []
    },
    {
      "cell_type": "code",
      "source": [
        "print('%08.2f' % (number))\n",
        "print('{:08.2f}'.format(number))\n",
        "print(f'{number:08.2f}')"
      ],
      "metadata": {
        "id": "CrW9XKrZtCWM"
      },
      "execution_count": null,
      "outputs": []
    },
    {
      "cell_type": "code",
      "source": [
        "# formatting integers\n",
        "number = 12\n",
        "print('%04d' % (number))\n",
        "print('{:04d}'.format(number))\n",
        "print(f'{number:04d}')"
      ],
      "metadata": {
        "id": "-VH-_Wc8tEgf"
      },
      "execution_count": null,
      "outputs": []
    },
    {
      "cell_type": "code",
      "source": [
        "print('%+04d' % (number))\n",
        "print('{:+04d}'.format(number))\n",
        "print(f'{number:+04d}')"
      ],
      "metadata": {
        "id": "y7PTUbPutIpl"
      },
      "execution_count": null,
      "outputs": []
    },
    {
      "cell_type": "markdown",
      "source": [
        "### Date and Time"
      ],
      "metadata": {
        "id": "Zao2ZV8ltZ-2"
      }
    },
    {
      "cell_type": "code",
      "source": [
        "# date and time\n",
        "from datetime import datetime\n",
        "print('{:%Y-%m-%d %H:%M}'.format(datetime(2001, 2, 3, 4, 5)))\n",
        "\n",
        "date = datetime(2001, 2, 3, 4, 5)\n",
        "print(f\"{date:%Y-%m-%d %H:%M}\")"
      ],
      "metadata": {
        "id": "7c5I6eKmtStn"
      },
      "execution_count": null,
      "outputs": []
    },
    {
      "cell_type": "markdown",
      "source": [
        "## Lists"
      ],
      "metadata": {
        "id": "Q4i7MR9UYvRc"
      }
    },
    {
      "cell_type": "markdown",
      "source": [
        "Lists are very similar to arrays. They can contain any type of variable, and they can contain as many variables as you wish. Lists can also be iterated over in a very simple manner. Here is an example of how to build a list."
      ],
      "metadata": {
        "id": "JdUJXv65Y12l"
      }
    },
    {
      "cell_type": "code",
      "source": [
        "xs = [3, 1, 2]   # Create a list\n",
        "print(xs, xs[2])\n",
        "print(xs[-1])    # Negative indices count from the end of the list; prints \"2\""
      ],
      "metadata": {
        "id": "H_1ZyKeJY7nZ"
      },
      "execution_count": null,
      "outputs": []
    },
    {
      "cell_type": "code",
      "source": [
        "xs[2] = 'foo'    # Lists can contain elements of different types\n",
        "print(xs)"
      ],
      "metadata": {
        "id": "AiSlsMVPY-Wh"
      },
      "execution_count": null,
      "outputs": []
    },
    {
      "cell_type": "code",
      "source": [
        "xs.append('bar') # Add a new element to the end of the list\n",
        "print(xs)"
      ],
      "metadata": {
        "id": "jaayBkiSY-6g"
      },
      "execution_count": null,
      "outputs": []
    },
    {
      "cell_type": "code",
      "source": [
        "x = xs.pop()     # Remove and return the last element of the list\n",
        "print(x, xs)"
      ],
      "metadata": {
        "id": "2VJJ60cgZCM6"
      },
      "execution_count": null,
      "outputs": []
    },
    {
      "cell_type": "code",
      "source": [
        "xxss = []  # You can even define an empty list and then process it!\n",
        "xxss.append('new_item')\n",
        "print(xxss)"
      ],
      "metadata": {
        "id": "L9PegecYbRGy"
      },
      "execution_count": null,
      "outputs": []
    },
    {
      "cell_type": "markdown",
      "source": [
        "As usual, you can find all the gory details about lists in the [documentation](https://docs.python.org/3.7/tutorial/datastructures.html#more-on-lists)."
      ],
      "metadata": {
        "id": "IFJFXIn9ZCnq"
      }
    },
    {
      "cell_type": "markdown",
      "source": [
        "### Slicing"
      ],
      "metadata": {
        "id": "zW1HYaMVZOwk"
      }
    },
    {
      "cell_type": "markdown",
      "source": [
        "In addition to accessing list elements one at a time, Python provides concise syntax to access sublists; this is known as slicing:"
      ],
      "metadata": {
        "id": "_fFDhLXUZUmp"
      }
    },
    {
      "cell_type": "code",
      "source": [
        "nums = list(range(5))  # range is a built-in function that creates a list of integers\n",
        "print(nums)            # Prints \"[0, 1, 2, 3, 4]\"\n",
        "print(nums[2:4])       # Get a slice from index 2 to 4 (exclusive); prints \"[2, 3]\"\n",
        "print(nums[2:])        # Get a slice from index 2 to the end; prints \"[2, 3, 4]\"\n",
        "print(nums[:2])        # Get a slice from the start to index 2 (exclusive); prints \"[0, 1]\"\n",
        "print(nums[:])         # Get a slice of the whole list; prints [\"0, 1, 2, 3, 4]\"\n",
        "print(nums[:-1])       # Slice indices can be negative; prints [\"0, 1, 2, 3]\"\n",
        "nums[2:4] = [8, 9]     # Assign a new sublist to a slice\n",
        "print(nums)            # Prints \"[0, 1, 8, 9, 4]\""
      ],
      "metadata": {
        "id": "nM1yBSOuZVgT"
      },
      "execution_count": null,
      "outputs": []
    },
    {
      "cell_type": "markdown",
      "source": [
        "**WWPP Questions**"
      ],
      "metadata": {
        "id": "0qTKTTyVK8yq"
      }
    },
    {
      "cell_type": "code",
      "source": [
        "sample_list = [1, 2, 3, 4, 5]\n",
        "print(sample_list[-2])\n",
        "print(sample_list[-4:-1])\n",
        "\n",
        "sample_list[2:4] = [20, 30, 40]\n",
        "print(sample_list)"
      ],
      "metadata": {
        "id": "O7bj7C1eLAr8"
      },
      "execution_count": null,
      "outputs": []
    },
    {
      "cell_type": "code",
      "source": [
        "%%HTML\n",
        "<iframe width=\"560\" height=\"315\" src=\"https://www.youtube.com/embed/lffuq4CsT8I\" title=\"YouTube video player\" frameborder=\"0\" allowfullscreen></iframe>\n",
        "<iframe width=\"560\" height=\"315\" src=\"https://www.youtube.com/embed/0JMoIMXieEQ\" title=\"YouTube video player\" frameborder=\"0\" allowfullscreen></iframe>"
      ],
      "metadata": {
        "id": "E7WJD1dljWH_",
        "colab": {
          "base_uri": "https://localhost:8080/",
          "height": 336
        },
        "outputId": "e95ec71a-2e78-4be0-ba9a-40c15d593d34"
      },
      "execution_count": null,
      "outputs": [
        {
          "output_type": "display_data",
          "data": {
            "text/plain": [
              "<IPython.core.display.HTML object>"
            ],
            "text/html": [
              "<iframe width=\"560\" height=\"315\" src=\"https://www.youtube.com/embed/lffuq4CsT8I\" title=\"YouTube video player\" frameborder=\"0\" allowfullscreen></iframe>\n",
              "<iframe width=\"560\" height=\"315\" src=\"https://www.youtube.com/embed/0JMoIMXieEQ\" title=\"YouTube video player\" frameborder=\"0\" allowfullscreen></iframe>\n"
            ]
          },
          "metadata": {}
        }
      ]
    },
    {
      "cell_type": "markdown",
      "source": [
        "## Conditions\n"
      ],
      "metadata": {
        "id": "vXNaZGR9cQaB"
      }
    },
    {
      "cell_type": "markdown",
      "source": [
        "### \"if\" and Indentation"
      ],
      "metadata": {
        "id": "Y9DkgP2Secz3"
      }
    },
    {
      "cell_type": "markdown",
      "source": [
        "Python uses indentation for blocks, instead of curly braces. Both tabs and spaces are supported, but the standard indentation requires standard Python code to use four spaces. For example:"
      ],
      "metadata": {
        "id": "SWM8FOJHefDh"
      }
    },
    {
      "cell_type": "code",
      "source": [
        "statement = False\n",
        "another_statement = True\n",
        "if statement is True:\n",
        "    # do something\n",
        "    pass\n",
        "elif another_statement is True: # else if\n",
        "    # do something else\n",
        "    pass\n",
        "else:\n",
        "    # do another thing\n",
        "    pass"
      ],
      "metadata": {
        "id": "NahHEMNLct0T"
      },
      "execution_count": null,
      "outputs": []
    },
    {
      "cell_type": "code",
      "source": [
        "x = 2\n",
        "if x == 2:\n",
        "    print(\"x equals two!\")\n",
        "else:\n",
        "    print(\"x does not equal to two.\")"
      ],
      "metadata": {
        "id": "ePgTEo0_c3qH"
      },
      "execution_count": null,
      "outputs": []
    },
    {
      "cell_type": "markdown",
      "source": [
        "### Condition Operators"
      ],
      "metadata": {
        "id": "ljsPH7Geboq-"
      }
    },
    {
      "cell_type": "markdown",
      "source": [
        "Python uses boolean logic to evaluate conditions. The boolean values True and False are returned when an expression is compared or evaluated. For example:"
      ],
      "metadata": {
        "id": "5_xj55FTbwFA"
      }
    },
    {
      "cell_type": "code",
      "source": [
        "x = 2\n",
        "print(x == 2) # prints out True\n",
        "print(x == 3) # prints out False\n",
        "print(x < 3)  # prints out True"
      ],
      "metadata": {
        "id": "ppF7AyQCekvg"
      },
      "execution_count": null,
      "outputs": []
    },
    {
      "cell_type": "markdown",
      "source": [
        "Notice that variable assignment is done using a single equals operator \"=\", whereas comparison between two variables is done using the double equals operator \"==\". The \"not equals\" operator is marked as \"!=\"."
      ],
      "metadata": {
        "id": "_o1hWeTib4LH"
      }
    },
    {
      "cell_type": "markdown",
      "source": [
        "#### Boolean Operators"
      ],
      "metadata": {
        "id": "w4uKm9qKb8_z"
      }
    },
    {
      "cell_type": "markdown",
      "source": [
        "The \"and\" and \"or\" boolean operators allow building complex boolean expressions, for example:"
      ],
      "metadata": {
        "id": "n3w-8K90cEnb"
      }
    },
    {
      "cell_type": "code",
      "source": [
        "name = \"John\"\n",
        "age = 23\n",
        "if name == \"John\" and age == 23:\n",
        "  print(\"Your name is John, and you are also 23 years old.\")\n",
        "\n",
        "if name == \"John\" or name == \"Rick\":\n",
        "  print(\"Your name is either John or Rick.\")"
      ],
      "metadata": {
        "id": "ON6FhMDQb6Ng"
      },
      "execution_count": null,
      "outputs": []
    },
    {
      "cell_type": "markdown",
      "source": [
        "#### The \"in\" operator"
      ],
      "metadata": {
        "id": "yXqdAKE6ceA2"
      }
    },
    {
      "cell_type": "code",
      "source": [
        "name = \"John\"\n",
        "if name in [\"John\", \"Rick\"]:\n",
        "    print(\"Your name is either John or Rick.\")"
      ],
      "metadata": {
        "id": "SSdzBWr2cenq"
      },
      "execution_count": null,
      "outputs": []
    },
    {
      "cell_type": "markdown",
      "source": [
        "Unlike the double equals operator \"==\", the \"is\" operator does not match the values of the variables, but the instances themselves. For example:"
      ],
      "metadata": {
        "id": "oCU42z9YfMFb"
      }
    },
    {
      "cell_type": "code",
      "source": [
        "x = [1,2,3]\n",
        "y = [1,2,3]\n",
        "print(x == y) # Prints out True\n",
        "print(x is y) # Prints out False"
      ],
      "metadata": {
        "id": "iCCWDAKUfLFq"
      },
      "execution_count": null,
      "outputs": []
    },
    {
      "cell_type": "markdown",
      "source": [
        "#### The \"not\" operator"
      ],
      "metadata": {
        "id": "bbZPH3XEfN3q"
      }
    },
    {
      "cell_type": "code",
      "source": [
        "print(not False) # Prints out True\n",
        "print((not False) == (False)) # Prints out False"
      ],
      "metadata": {
        "id": "NX19j-mMfQID"
      },
      "execution_count": null,
      "outputs": []
    },
    {
      "cell_type": "markdown",
      "source": [
        "**WWPP Questions**"
      ],
      "metadata": {
        "id": "-zJEBEvjLwEb"
      }
    },
    {
      "cell_type": "code",
      "source": [
        "x = 0\n",
        "a = 5\n",
        "b = 5\n",
        "if a > 0:\n",
        "    if b < 0:\n",
        "        x = x + 5\n",
        "    elif a > 5:\n",
        "        x = x + 4\n",
        "    else:\n",
        "        x = x + 3\n",
        "else:\n",
        "    x = x + 2\n",
        "print(x)"
      ],
      "metadata": {
        "id": "4miTvu_rLy4t"
      },
      "execution_count": null,
      "outputs": []
    },
    {
      "cell_type": "code",
      "source": [
        "%%HTML\n",
        "<iframe width=\"560\" height=\"315\" src=\"https://www.youtube.com/embed/7SdI6y1iyLk\" title=\"YouTube video player\" frameborder=\"0\" allowfullscreen></iframe>\n",
        "<iframe width=\"560\" height=\"315\" src=\"https://www.youtube.com/embed/uFX64yLDK6s\" title=\"YouTube video player\" frameborder=\"0\" allowfullscreen></iframe>"
      ],
      "metadata": {
        "id": "-tOQK-m-jX8R",
        "colab": {
          "base_uri": "https://localhost:8080/",
          "height": 336
        },
        "outputId": "d8637e61-afad-4eb4-d86b-de0589af9b04"
      },
      "execution_count": null,
      "outputs": [
        {
          "output_type": "display_data",
          "data": {
            "text/plain": [
              "<IPython.core.display.HTML object>"
            ],
            "text/html": [
              "<iframe width=\"560\" height=\"315\" src=\"https://www.youtube.com/embed/7SdI6y1iyLk\" title=\"YouTube video player\" frameborder=\"0\" allowfullscreen></iframe>\n",
              "<iframe width=\"560\" height=\"315\" src=\"https://www.youtube.com/embed/uFX64yLDK6s\" title=\"YouTube video player\" frameborder=\"0\" allowfullscreen></iframe>\n"
            ]
          },
          "metadata": {}
        }
      ]
    },
    {
      "cell_type": "markdown",
      "source": [
        "## Loops\n"
      ],
      "metadata": {
        "id": "EmwG5FLncQCh"
      }
    },
    {
      "cell_type": "markdown",
      "source": [
        "### The \"for\" loop"
      ],
      "metadata": {
        "id": "070YxH4Bg21c"
      }
    },
    {
      "cell_type": "markdown",
      "source": [
        "For loops iterate over a given sequence. Here is an example:"
      ],
      "metadata": {
        "id": "2XD9uwGgg4kH"
      }
    },
    {
      "cell_type": "code",
      "source": [
        "primes = [2, 3, 5, 7]\n",
        "for prime in primes:\n",
        "    print(prime)"
      ],
      "metadata": {
        "id": "BigicttQg6A3"
      },
      "execution_count": null,
      "outputs": []
    },
    {
      "cell_type": "markdown",
      "source": [
        "For loops can iterate over a sequence of numbers using the \"range\" and \"xrange\" functions. The difference between range and xrange is that the range function returns a new list with numbers of that specified range, whereas xrange returns an iterator, which is more efficient. (Python 3 uses the range function, which acts like xrange). Note that the range function is zero based."
      ],
      "metadata": {
        "id": "okRsVnzKg7tK"
      }
    },
    {
      "cell_type": "code",
      "source": [
        "# Prints out the numbers 0,1,2,3,4\n",
        "for x in range(5):\n",
        "    print(x)\n",
        "\n",
        "# Prints out 3,4,5\n",
        "for x in range(3, 6):\n",
        "    print(x)\n",
        "\n",
        "# Prints out 3,5,7\n",
        "for x in range(3, 8, 2):\n",
        "    print(x)"
      ],
      "metadata": {
        "id": "4cN9aHvvg-GP"
      },
      "execution_count": null,
      "outputs": []
    },
    {
      "cell_type": "markdown",
      "source": [
        "If you want access to the index of each element within the body of a loop, use the built-in `enumerate` function:"
      ],
      "metadata": {
        "id": "8FP8c0E4hAEx"
      }
    },
    {
      "cell_type": "code",
      "source": [
        "animals = ['cat', 'dog', 'monkey']\n",
        "for idx, animal in enumerate(animals):\n",
        "    print('#{}: {}'.format(idx + 1, animal))"
      ],
      "metadata": {
        "id": "2Z6X8pmBhDhm"
      },
      "execution_count": null,
      "outputs": []
    },
    {
      "cell_type": "markdown",
      "source": [
        "### \"while\" loops"
      ],
      "metadata": {
        "id": "IsyndCv4hXwR"
      }
    },
    {
      "cell_type": "markdown",
      "source": [
        "While loops repeat as long as a certain boolean condition is met. For example:"
      ],
      "metadata": {
        "id": "zb4LKgH1hZJh"
      }
    },
    {
      "cell_type": "code",
      "source": [
        "count = 0\n",
        "while count < 5:\n",
        "    print(count)\n",
        "    count += 1  # This is the same as count = count + 1"
      ],
      "metadata": {
        "id": "BEBKsxdqhbPH"
      },
      "execution_count": null,
      "outputs": []
    },
    {
      "cell_type": "markdown",
      "source": [
        "### \"break\" and \"continue\" statements"
      ],
      "metadata": {
        "id": "5Egf_3vqhgJq"
      }
    },
    {
      "cell_type": "markdown",
      "source": [
        "**break** is used to exit a for loop or a while loop, whereas **continue** is used to skip the current block, and return to the \"for\" or \"while\" statement. A few examples:"
      ],
      "metadata": {
        "id": "Sy07hY4QhhMs"
      }
    },
    {
      "cell_type": "code",
      "source": [
        "# Prints out 0,1,2,3,4\n",
        "count = 0\n",
        "while True:\n",
        "    print(count)\n",
        "    count += 1\n",
        "    if count >= 5:\n",
        "        break\n",
        "\n",
        "# Prints out only odd numbers - 1,3,5,7,9\n",
        "for x in range(10):\n",
        "    # Check if x is even\n",
        "    if x % 2 == 0:\n",
        "        continue\n",
        "    print(x)"
      ],
      "metadata": {
        "id": "AawaqhRThlYX"
      },
      "execution_count": null,
      "outputs": []
    },
    {
      "cell_type": "markdown",
      "source": [
        "### Can we use \"else\" clause for loops?"
      ],
      "metadata": {
        "id": "qaMDbsOshrFv"
      }
    },
    {
      "cell_type": "markdown",
      "source": [
        "Unlike languages like C,CPP.. we can use else for loops. When the loop condition of \"for\" or \"while\" statement fails then code part in \"else\" is executed. If a break statement is executed inside the for loop then the \"else\" part is skipped. Note that the \"else\" part is executed even if there is a continue statement.\n",
        "\n",
        "Here are a few examples:"
      ],
      "metadata": {
        "id": "H9DOSFh1htop"
      }
    },
    {
      "cell_type": "code",
      "source": [
        "# Prints out 0,1,2,3,4 and then it prints \"count value reached 5\"\n",
        "count=0\n",
        "while count < 5:\n",
        "    print(count)\n",
        "    count +=1\n",
        "else:\n",
        "    print(\"count value reached %d\" % (count))\n",
        "\n",
        "# Prints out 1,2,3,4\n",
        "for i in range(1, 10):\n",
        "    if i % 5 == 0:\n",
        "        break\n",
        "    print(i)\n",
        "else:\n",
        "    print(\"this is not printed because for loop is terminated \\\n",
        "    because of break but not due to fail in condition\")"
      ],
      "metadata": {
        "id": "Pfu3sPKrhuNP"
      },
      "execution_count": null,
      "outputs": []
    },
    {
      "cell_type": "markdown",
      "source": [
        "**WWPP Questions**"
      ],
      "metadata": {
        "id": "Z2WRSooIL1rf"
      }
    },
    {
      "cell_type": "code",
      "source": [
        "numbers = [10, 20]\n",
        "items = [\"Chair\", \"Table\"]\n",
        "\n",
        "for x in numbers:\n",
        "  for y in items:\n",
        "    print(x, y)"
      ],
      "metadata": {
        "id": "tek-Bq0tL3KB"
      },
      "execution_count": null,
      "outputs": []
    },
    {
      "cell_type": "code",
      "source": [
        "var = 10\n",
        "for i in range(10):\n",
        "    for j in range(2, 10, 1):\n",
        "        if var % 2 == 0:\n",
        "            continue\n",
        "            var += 1\n",
        "    var+=1\n",
        "else:\n",
        "    var+=1\n",
        "print(var)"
      ],
      "metadata": {
        "id": "_y8p29viL5W2"
      },
      "execution_count": null,
      "outputs": []
    }
  ]
}
