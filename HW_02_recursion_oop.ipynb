{
  "nbformat": 4,
  "nbformat_minor": 0,
  "metadata": {
    "colab": {
      "provenance": [],
      "include_colab_link": true
    },
    "kernelspec": {
      "name": "python3",
      "display_name": "Python 3"
    },
    "language_info": {
      "name": "python"
    }
  },
  "cells": [
    {
      "cell_type": "markdown",
      "metadata": {
        "id": "view-in-github",
        "colab_type": "text"
      },
      "source": [
        "<a href=\"https://colab.research.google.com/github/hy30n80/Data-Structure-/blob/main/HW_02_recursion_oop.ipynb\" target=\"_parent\"><img src=\"https://colab.research.google.com/assets/colab-badge.svg\" alt=\"Open In Colab\"/></a>"
      ]
    },
    {
      "cell_type": "markdown",
      "source": [
        "# EC2202 Homework #2 (Due: 1:00 pm, Mar. 19, 2024)"
      ],
      "metadata": {
        "id": "4i_Y_6Mjjlg3"
      }
    },
    {
      "cell_type": "markdown",
      "source": [
        "**Disclaimer**\n",
        "This homework is based on\n",
        "1. [Berkeley CS61A](https://cs61a.org/)\n",
        "2. [Samsung SW Expert Academy](https://swexpertacademy.com/)"
      ],
      "metadata": {
        "id": "EbIb_c3Mju4X"
      }
    },
    {
      "cell_type": "markdown",
      "source": [
        "## Submission Link"
      ],
      "metadata": {
        "id": "0U29o-R0mLkO"
      }
    },
    {
      "cell_type": "markdown",
      "source": [
        "**Submit the sharing link :)**\n",
        "- Submit by [clicking here](https://forms.gle/UsRG3Vx73RpoXHcM9)!\n",
        "- Check your sumbission by [clicking here](https://docs.google.com/spreadsheets/d/155tFCwdc0ORHvKgObF3HR578s0bZs3x_xT5NirFl5ys/edit?usp=sharing)!"
      ],
      "metadata": {
        "id": "m33Sm8mQmN8s"
      }
    },
    {
      "cell_type": "markdown",
      "source": [
        "## Student Information"
      ],
      "metadata": {
        "id": "or_FSdW2mClU"
      }
    },
    {
      "cell_type": "markdown",
      "source": [
        "* Student ID: YOUR ID\n",
        "* Name: YOUR NAME"
      ],
      "metadata": {
        "id": "zK2IdssdmHlt"
      }
    },
    {
      "cell_type": "markdown",
      "source": [
        "## Evaluation Code Setting"
      ],
      "metadata": {
        "id": "m3Qvljj8jzD_"
      }
    },
    {
      "cell_type": "markdown",
      "source": [
        "Run the blow to test your implementation :)"
      ],
      "metadata": {
        "id": "9qWTFg1fj10p"
      }
    },
    {
      "cell_type": "code",
      "execution_count": 1,
      "metadata": {
        "id": "CVkw9OJkK6V0"
      },
      "outputs": [],
      "source": [
        "import doctest"
      ]
    },
    {
      "cell_type": "markdown",
      "source": [
        "## Q1"
      ],
      "metadata": {
        "id": "iO3oyH5Jj44f"
      }
    },
    {
      "cell_type": "markdown",
      "source": [
        "Davis has a number of staircases in his house and he likes to climb each staircase, or steps at a time. Being a very precocious child, he wonders how many ways there are to reach the top of the staircase.  ([HackersRank](https://www.hackerrank.com/challenges/ctci-recursive-staircase/problem))"
      ],
      "metadata": {
        "id": "lXriDl341Svx"
      }
    },
    {
      "cell_type": "code",
      "source": [
        "def count_ways(n):\n",
        "    \"\"\"\n",
        "    >>> count_ways(1)\n",
        "    1\n",
        "    >>> count_ways(2)\n",
        "    2                        # 1+1, 2\n",
        "    >>> count_ways(3)\n",
        "    4                        # 1+1+1, 1+2, 2+1, 3\n",
        "    >>> count_ways(8)\n",
        "    81\n",
        "    >>> count_ways(17)\n",
        "    19513\n",
        "    \"\"\"\n",
        "    # YOUR CODE HERE\n",
        "    if n == 0:\n",
        "      return 1\n",
        "\n",
        "    elif n < 0:\n",
        "      return 0\n",
        "\n",
        "    return count_ways(n-1) + count_ways(n-2) + count_ways(n-3)"
      ],
      "metadata": {
        "id": "h3n38aHWj8KK"
      },
      "execution_count": 4,
      "outputs": []
    },
    {
      "cell_type": "code",
      "source": [
        "doctest.run_docstring_examples(count_ways, globals(), False, __name__)"
      ],
      "metadata": {
        "id": "Wx0Kz6mlj8oz",
        "colab": {
          "base_uri": "https://localhost:8080/"
        },
        "outputId": "1450c058-9004-4eae-fbb4-58fb3b819f59"
      },
      "execution_count": 5,
      "outputs": [
        {
          "output_type": "stream",
          "name": "stdout",
          "text": [
            "**********************************************************************\n",
            "File \"__main__\", line 5, in __main__\n",
            "Failed example:\n",
            "    count_ways(2)\n",
            "Expected:\n",
            "    2                        # 1+1, 2\n",
            "Got:\n",
            "    2\n",
            "**********************************************************************\n",
            "File \"__main__\", line 7, in __main__\n",
            "Failed example:\n",
            "    count_ways(3)\n",
            "Expected:\n",
            "    4                        # 1+1+1, 1+2, 2+1, 3\n",
            "Got:\n",
            "    4\n"
          ]
        }
      ]
    },
    {
      "cell_type": "code",
      "source": [
        "#@title Hint 👀\n",
        "def count_ways(n):\n",
        "    # YOUR CODE HERE\n",
        "    if n == 0:\n",
        "        # YOUR CODE HERE\n",
        "    elif n < 0:\n",
        "        return 0\n",
        "    return count_ways(n-1) + # YOUR CODE HERE"
      ],
      "metadata": {
        "cellView": "form",
        "id": "7mrpZxVi4Pqv"
      },
      "execution_count": null,
      "outputs": []
    },
    {
      "cell_type": "markdown",
      "source": [
        "## Q2"
      ],
      "metadata": {
        "id": "X88kFjC7j9GI"
      }
    },
    {
      "cell_type": "markdown",
      "source": [
        "Implement the function `has_subseq`, which takes in a number `n` and a \"sequence\" of digits `seq`. The function returns whether `n` contains `seq` as a subsequence, which does not have to be consecutive.\n",
        "\n",
        "For example, `141` contains the sequence `11` because the first digit of the sequence, `1`, is the first digit of `141`, and the next digit of the sequence, `1`, is found later in `141`."
      ],
      "metadata": {
        "id": "za7Fbpgw10CP"
      }
    },
    {
      "cell_type": "code",
      "source": [
        "def has_subseq(n, seq):\n",
        "  \"\"\"\n",
        "  Complete has_subseq, a function which takes in a number n and a \"sequence\"\n",
        "  of digits seq and returns whether n contains seq as a subsequence, which\n",
        "  does not have to be consecutive.\n",
        "\n",
        "  >>> has_subseq(123, 12)\n",
        "  True\n",
        "  >>> has_subseq(141, 11)\n",
        "  True\n",
        "  >>> has_subseq(144, 12)\n",
        "  False\n",
        "  >>> has_subseq(144, 1441)\n",
        "  False\n",
        "  >>> has_subseq(1343412, 134)\n",
        "  True\n",
        "  \"\"\"\n",
        "  # YOUR CODE HERE\n",
        "\n",
        "  while(n!=0):\n",
        "    if n % 10 == seq % 10:\n",
        "      n = n // 10\n",
        "      seq = seq // 10\n",
        "\n",
        "    else:\n",
        "      n = n//10\n",
        "\n",
        "  if seq == 0:\n",
        "    return True\n",
        "  else:\n",
        "    return False\n",
        ""
      ],
      "metadata": {
        "id": "_IpDNFWVj-L6"
      },
      "execution_count": 10,
      "outputs": []
    },
    {
      "cell_type": "code",
      "source": [
        "doctest.run_docstring_examples(has_subseq, globals(), False, __name__)"
      ],
      "metadata": {
        "id": "NK1Tx4f3j-Xg"
      },
      "execution_count": 11,
      "outputs": []
    },
    {
      "cell_type": "code",
      "source": [
        "#@title Hint 👀\n",
        "def has_subseq(n, seq):\n",
        "  if # YOUR CODE HERE:\n",
        "    return True\n",
        "  if # YOUR CODE HERE:\n",
        "    return False\n",
        "  without = # YOUR CODE HERE\n",
        "  if # YOUR CODE HERE:\n",
        "    return has_subseq(n // 10, seq // 10) or without\n",
        "  return without"
      ],
      "metadata": {
        "cellView": "form",
        "id": "tqhIncTZ4RkG"
      },
      "execution_count": null,
      "outputs": []
    },
    {
      "cell_type": "markdown",
      "source": [
        "## Q3"
      ],
      "metadata": {
        "id": "w3C8Al6a3kA9"
      }
    },
    {
      "cell_type": "markdown",
      "source": [
        "Pascal's triangle gives the coefficients of a binomial expansion; if you expand the expression `(a + b) ** n`, all coefficients will be found on the `n`th row of the triangle, and the coefficient of the `i`th term will be at the `i`th column.\n",
        "\n",
        "Here's a part of the Pascal's trangle:\n",
        "\n",
        "1\n",
        "\n",
        "1 1\n",
        "\n",
        "1 2 1\n",
        "\n",
        "1 3 3 1\n",
        "\n",
        "1 4 6 4 1\n",
        "\n",
        "Every number in Pascal's triangle is defined as the sum of the item above it and the item above and to the left of it. Rows and columns are zero-indexed; that is, the first row is row 0 instead of 1 and the first column is column 0 instead of column 1. For example, the item at row 2, column 1 in Pascal's triangle is 2.\n",
        "\n",
        "Now, define the procedure `pascal(row, column)` which takes a row and a column, and finds the value of the item at that position in Pascal's triangle. Note that Pascal's triangle is only defined at certain areas; use `0` if the item does not exist. For the purposes of this question, you may also assume that `row >= 0` and `column >= 0`."
      ],
      "metadata": {
        "id": "x2nCrzXv3lMf"
      }
    },
    {
      "cell_type": "code",
      "source": [
        "def pascal(row, column):\n",
        "  \"\"\"Returns the value of the item in Pascal's Triangle\n",
        "  whose position is specified by row and column.\n",
        "  >>> pascal(0, 0)\n",
        "  1\n",
        "  >>> pascal(0, 5)\t# Empty entry; outside of Pascal's Triangle\n",
        "  0\n",
        "  >>> pascal(3, 2)\t# Row 3 (1 3 3 1), Column 2\n",
        "  3\n",
        "  >>> pascal(4, 2)     # Row 4 (1 4 6 4 1), Column 2\n",
        "  6\n",
        "  \"\"\"\n",
        "  # YOUR CODE HERE\n",
        "\n",
        "  if column < 0 or row < 0:\n",
        "    return 0\n",
        "\n",
        "  elif column == 0:\n",
        "    return 1\n",
        "\n",
        "  return pascal(row-1, column-1) + pascal(row-1, column)"
      ],
      "metadata": {
        "id": "B4rpDXV-31ST"
      },
      "execution_count": 12,
      "outputs": []
    },
    {
      "cell_type": "code",
      "source": [
        "doctest.run_docstring_examples(pascal, globals(), False, __name__)"
      ],
      "metadata": {
        "id": "LAtsHIpF33zl"
      },
      "execution_count": 13,
      "outputs": []
    },
    {
      "cell_type": "code",
      "source": [
        "#@title Hint 👀\n",
        "def pascal(row, column):\n",
        "  if # YOUR CODE HERE:\n",
        "    return 1\n",
        "  elif # YOUR CODE HERE:\n",
        "    return 0\n",
        "  else:\n",
        "    return pascal(# YOUR CODE HERE) + pascal(# YOUR CODE HERE)"
      ],
      "metadata": {
        "cellView": "form",
        "id": "Uj-qYgqS4Szd"
      },
      "execution_count": null,
      "outputs": []
    },
    {
      "cell_type": "markdown",
      "source": [
        "## Q4"
      ],
      "metadata": {
        "id": "wxUaLpTWj-w0"
      }
    },
    {
      "cell_type": "markdown",
      "source": [
        "Given a positive integer `change`, a set of coins makes change for `change` if the sum of the values of the coins is `change`. Here we will use standard US Coin values: 1, 5, 10, 25. For example, the following sets make change for 15:\n",
        "\n",
        "- 15 1-cent coins\n",
        "- 10 1-cent, 1 5-cent coins\n",
        "- 5 1-cent, 2 5-cent coins\n",
        "- 5 1-cent, 1 10-cent coins\n",
        "- 3 5-cent coins\n",
        "- 1 5-cent, 1 10-cent coin\n",
        "Thus, there are 6 ways to make change for 15. Write a **recursive** function `count_coins` that takes a positive integer `change` and returns the number of ways to make `change` for change using coins.\n",
        "\n",
        "You can use either of the functions given to you:\n",
        "\n",
        "- `get_larger_coin` will return the next larger coin denomination from the input, i.e. `get_larger_coin(5)` is 10.\n",
        "- `get_smaller_coin` will return the next smaller coin denomination from the input, i.e. `get_smaller_coin(5)` is 1.\n",
        "\n",
        "There are two main ways in which you can approach this problem. One way uses `get_larger_coin`, and another uses `get_smaller_coin`.\n",
        "\n",
        "Important: Use recursion; the tests will fail if you use loops."
      ],
      "metadata": {
        "id": "xIq0s-V02VJ_"
      }
    },
    {
      "cell_type": "code",
      "source": [
        "def get_larger_coin(coin):\n",
        "  \"\"\"Returns the next larger coin in order.\n",
        "  >>> get_larger_coin(1)\n",
        "  5\n",
        "  >>> get_larger_coin(5)\n",
        "  10\n",
        "  >>> get_larger_coin(10)\n",
        "  25\n",
        "  >>> get_larger_coin(2) # Other values return None\n",
        "  \"\"\"\n",
        "  if coin == 1:\n",
        "    return 5\n",
        "  elif coin == 5:\n",
        "    return 10\n",
        "  elif coin == 10:\n",
        "    return 25\n",
        "\n",
        "def get_smaller_coin(coin):\n",
        "  \"\"\"Returns the next smaller coin in order.\n",
        "  >>> get_smaller_coin(25)\n",
        "  10\n",
        "  >>> get_smaller_coin(10)\n",
        "  5\n",
        "  >>> get_smaller_coin(5)\n",
        "  1\n",
        "  >>> get_smaller_coin(2) # Other values return None\n",
        "  \"\"\"\n",
        "  if coin == 25:\n",
        "    return 10\n",
        "  elif coin == 10:\n",
        "    return 5\n",
        "  elif coin == 5:\n",
        "    return 1\n",
        "\n",
        "def count_coins(change):\n",
        "  \"\"\"Return the number of ways to make change using coins of value of 1, 5, 10, 25.\n",
        "  >>> count_coins(15)\n",
        "  6\n",
        "  >>> count_coins(10)\n",
        "  4\n",
        "  >>> count_coins(20)\n",
        "  9\n",
        "  >>> count_coins(100) # How many ways to make change for a dollar?\n",
        "  242\n",
        "  >>> count_coins(200)\n",
        "  1463\n",
        "  \"\"\"\n",
        "  # YOUR CODE HERE\n",
        "  def constrained_count_small(change, largest_coin):\n",
        "    if change == 0:\n",
        "      return 1\n",
        "    if change < 0:\n",
        "      return 0\n",
        "    if largest_coin == None:\n",
        "      return 0\n",
        "    without_coin = constrained_count_small(change, get_smaller_coin(largest_coin))\n",
        "    with_coin = constrained_count_small(change - largest_coin, largest_coin)\n",
        "    return without_coin + with_coin\n",
        "\n",
        "  return constrained_count_small(change, 25)"
      ],
      "metadata": {
        "id": "CaRLRWz0kACi"
      },
      "execution_count": 28,
      "outputs": []
    },
    {
      "cell_type": "code",
      "source": [
        "doctest.run_docstring_examples(count_coins, globals(), False, __name__)"
      ],
      "metadata": {
        "id": "V2llwTxykANn"
      },
      "execution_count": 29,
      "outputs": []
    },
    {
      "cell_type": "code",
      "source": [
        "#@title Hint 👀\n",
        "def count_coins(change):\n",
        "  def constrained_count(change, smallest_coin):\n",
        "    if # YOUR CODE HERE:\n",
        "      return 1\n",
        "    if # YOUR CODE HERE:\n",
        "      return 0\n",
        "    if # YOUR CODE HERE:\n",
        "      return 0\n",
        "    without_coin = constrained_count(change, get_larger_coin(smallest_coin))\n",
        "    with_coin = constrained_count(change - smallest_coin, smallest_coin)\n",
        "    return without_coin + with_coin\n",
        "  return constrained_count(# YOUR CODE HERE)"
      ],
      "metadata": {
        "cellView": "form",
        "id": "uJJnkMDC4UUk"
      },
      "execution_count": null,
      "outputs": []
    },
    {
      "cell_type": "markdown",
      "source": [
        "## Q5"
      ],
      "metadata": {
        "id": "HcaMBTD34uHa"
      }
    },
    {
      "cell_type": "markdown",
      "source": [
        "Let's say we'd like to model a bank account that can handle interactions such as depositing funds or gaining interest on current funds. In the following questions, we will be building off of the `Account` class. Here's our current definition of the class:"
      ],
      "metadata": {
        "id": "MAot1_1j4vfE"
      }
    },
    {
      "cell_type": "code",
      "source": [
        "class Account:\n",
        "  \"\"\"An account has a balance and a holder.\n",
        "  >>> a = Account('John')\n",
        "  >>> a.deposit(10)\n",
        "  10\n",
        "  >>> a.balance\n",
        "  10\n",
        "  >>> a.interest\n",
        "  0.02\n",
        "  >>> a.time_to_retire(10.25) # 10 -> 10.2 -> 10.404\n",
        "  2\n",
        "  >>> a.balance               # balance should not change\n",
        "  10\n",
        "  >>> a.time_to_retire(11)    # 10 -> 10.2 -> ... -> 11.040808032\n",
        "  5\n",
        "  >>> a.time_to_retire(100)\n",
        "  117\n",
        "  \"\"\"\n",
        "  max_withdrawal = 10\n",
        "  interest = 0.02\n",
        "\n",
        "  def __init__(self, account_holder):\n",
        "    self.balance = 0\n",
        "    self.holder = account_holder\n",
        "\n",
        "  def deposit(self, amount):\n",
        "    self.balance = self.balance + amount\n",
        "    return self.balance\n",
        "\n",
        "  def withdraw(self, amount):\n",
        "    if amount > self.balance:\n",
        "      return \"Insufficient funds\"\n",
        "    if amount > self.max_withdrawal:\n",
        "      return \"Can't withdraw that amount\"\n",
        "    self.balance = self.balance - amount\n",
        "    return self.balance\n",
        "\n",
        "  def time_to_retire(self, amount):\n",
        "    \"\"\"Return the number of years until balance would grow to amount.\"\"\"\n",
        "    assert self.balance > 0 and amount > 0 and self.interest > 0\n",
        "\n",
        "    # YOUR CODE HERE\n",
        "    money = self.balance\n",
        "    year = 0\n",
        "\n",
        "    while (amount > money):\n",
        "      money = money * (self.interest+1)\n",
        "      year +=1\n",
        "    return year\n"
      ],
      "metadata": {
        "id": "z_6OOJlA4zKV"
      },
      "execution_count": 42,
      "outputs": []
    },
    {
      "cell_type": "markdown",
      "source": [
        "Implement the `time_to_retire` method to the `Account` class. This method takes in an `amount` and returns how many years the holder would need to wait in order for the current `balance` to grow to at least `amount`, assuming that the bank adds `balance` times the `interest` rate to the total balance at the end of every year."
      ],
      "metadata": {
        "id": "5lfr4Xra48ZM"
      }
    },
    {
      "cell_type": "code",
      "source": [
        "# doctest.run_docstring_examples(Account, globals(), False, __name__)\n",
        "a = Account('John')\n",
        "assert a.deposit(10) == 10\n",
        "assert a.balance == 10\n",
        "assert a.interest == 0.02\n",
        "assert a.time_to_retire(10.25) == 2\n",
        "assert a.balance == 10\n",
        "assert a.time_to_retire(11) == 5\n",
        "assert a.time_to_retire(100) == 117"
      ],
      "metadata": {
        "id": "nfgKK0iU5TU4"
      },
      "execution_count": 43,
      "outputs": []
    },
    {
      "cell_type": "code",
      "source": [
        "#@title Hint 👀\n",
        "def time_to_retire(self, amount):\n",
        "  \"\"\"Return the number of years until balance would grow to amount.\"\"\"\n",
        "  assert self.balance > 0 and amount > 0 and self.interest > 0\n",
        "  future = # YOUR CODE HERE\n",
        "  years = 0\n",
        "  while # YOUR CODE HERE:\n",
        "    future += # YOUR CODE HERE\n",
        "    years += 1\n",
        "  return # YOUR CODE HERE"
      ],
      "metadata": {
        "cellView": "form",
        "id": "bfuMcFZx4VjU"
      },
      "execution_count": null,
      "outputs": []
    },
    {
      "cell_type": "markdown",
      "source": [
        "## Q6"
      ],
      "metadata": {
        "id": "Xh9FCoy05WI4"
      }
    },
    {
      "cell_type": "markdown",
      "source": [
        "Implement the `FreeChecking` class; it charges a withdraw fee after 2 withdrawals. If a withdrawal is unsuccessful, it still counts towards the number of free withdrawals remaining, but no fee for the withdrawal will be charged."
      ],
      "metadata": {
        "id": "SJlPK6lW5Xqr"
      }
    },
    {
      "cell_type": "code",
      "source": [
        "class FreeChecking(Account):\n",
        "  \"\"\"A bank account that charges for withdrawals, but the first two are free!\n",
        "  >>> ch = FreeChecking('Jack')\n",
        "  >>> ch.balance = 20\n",
        "  >>> ch.withdraw(100)  # First one's free\n",
        "  'Insufficient funds'\n",
        "  >>> ch.withdraw(3)    # And the second\n",
        "  17\n",
        "  >>> ch.balance\n",
        "  17\n",
        "  >>> ch.withdraw(3)    # Ok, two free withdrawals is enough\n",
        "  13\n",
        "  >>> ch.withdraw(3)\n",
        "  9\n",
        "  >>> ch2 = FreeChecking('John')\n",
        "  >>> ch2.balance = 10\n",
        "  >>> ch2.withdraw(3) # No fee\n",
        "  7\n",
        "  >>> ch.withdraw(3)  # ch still charges a fee\n",
        "  5\n",
        "  >>> ch.withdraw(5)  # Not enough to cover fee + withdraw\n",
        "  'Insufficient funds'\n",
        "  \"\"\"\n",
        "  withdraw_fee = 1\n",
        "  free_withdrawals = 2\n",
        "  max_withdrawal = 10\n",
        "\n",
        "  # YOUR CODE HERE\n",
        "  def __init__(self, Name):\n",
        "    super().__init__(Name)\n",
        "    self.withdrawl_count = 0\n",
        "\n",
        "  def withdraw(self, amount):\n",
        "    if amount >= self.balance:\n",
        "      self.withdrawl_count += 1\n",
        "      return \"Insufficient funds\"\n",
        "\n",
        "    elif amount > self.max_withdrawal:\n",
        "      self.withdrawl_count +=1\n",
        "      return \"Max Withdrawl\"\n",
        "\n",
        "    else:\n",
        "      self.withdrawl_count += 1\n",
        "      if self.withdrawl_count > 2:\n",
        "        self.balance = self.balance - amount - 1\n",
        "        return self.balance\n",
        "\n",
        "      else:\n",
        "        self.balance = self.balance - amount\n",
        "        return self.balance\n",
        "\n"
      ],
      "metadata": {
        "id": "DZ4J_4fr5lYY"
      },
      "execution_count": 58,
      "outputs": []
    },
    {
      "cell_type": "code",
      "source": [
        "# doctest.run_docstring_examples(FreeChecking, globals(), False, __name__)\n",
        "ch = FreeChecking('Jack')\n",
        "ch.balance = 20\n",
        "assert ch.withdraw(100) == 'Insufficient funds'\n",
        "assert ch.withdraw(3) == 17\n",
        "assert ch.balance == 17\n",
        "assert ch.withdraw(3) == 13\n",
        "assert ch.withdraw(3) == 9\n",
        "ch2 = FreeChecking('John')\n",
        "ch2.balance = 10\n",
        "assert ch2.withdraw(3) == 7\n",
        "assert ch.withdraw(3) == 5\n",
        "assert ch.withdraw(5) == 'Insufficient funds'"
      ],
      "metadata": {
        "id": "-vefZZ7o6KZL"
      },
      "execution_count": 59,
      "outputs": []
    },
    {
      "cell_type": "code",
      "source": [
        "#@title Hint 👀\n",
        "\n",
        "  def __init__(self, account_holder):\n",
        "    super().__init__(account_holder)\n",
        "    self.withdrawals = # YOUR CODE HERE\n",
        "\n",
        "  def withdraw(self, amount):\n",
        "    self.withdrawals = # YOUR CODE HERE\n",
        "    fee = 0\n",
        "    if # YOUR CODE HERE:\n",
        "      fee = # YOUR CODE HERE\n",
        "    return super().withdraw(# YOUR CODE HERE)"
      ],
      "metadata": {
        "id": "5sY38QDo4Wi9"
      },
      "execution_count": null,
      "outputs": []
    },
    {
      "cell_type": "markdown",
      "source": [
        "## Q7"
      ],
      "metadata": {
        "id": "RsesrHKX7AEr"
      }
    },
    {
      "cell_type": "markdown",
      "source": [
        "A mint is a place where coins are made. In this question, you'll implement a `Mint` class that can output a `Coin` with the correct year and worth.\n",
        "\n",
        "- Each `Mint` instance has a `year` stamp. The `update` method sets the `year` stamp to the `present_year` class attribute of the `Mint` class.\n",
        "- The `create` method takes a subclass of `Coin` and returns an instance of that class stamped with the `mint`'s year (which may be different from `Mint.present_year` if it has not been updated.)\n",
        "- A `Coin`'s `worth` method returns the `cents` value of the coin plus one extra cent for each year of age beyond 50. A coin's age can be determined by subtracting the coin's year from the `present_year` class attribute of the `Mint` class."
      ],
      "metadata": {
        "id": "qWOhb3fC7BvD"
      }
    },
    {
      "cell_type": "code",
      "source": [
        "class Mint:\n",
        "  \"\"\"A mint creates coins by stamping on years.\n",
        "\n",
        "  The update method sets the mint's stamp to Mint.present_year.\n",
        "\n",
        "  >>> mint = Mint()\n",
        "  >>> mint.year\n",
        "  2021\n",
        "  >>> dime = mint.create(Dime)\n",
        "  >>> dime.year\n",
        "  2021\n",
        "  >>> Mint.present_year = 2101  # Time passes\n",
        "  >>> nickel = mint.create(Nickel)\n",
        "  >>> nickel.year     # The mint has not updated its stamp yet\n",
        "  2021\n",
        "  >>> nickel.worth()  # 5 cents + (80 - 50 years)\n",
        "  35\n",
        "  >>> mint.update()   # The mint's year is updated to 2101\n",
        "  >>> Mint.present_year = 2176     # More time passes\n",
        "  >>> mint.create(Dime).worth()    # 10 cents + (75 - 50 years)\n",
        "  35\n",
        "  >>> Mint().create(Dime).worth()  # A new mint has the current year\n",
        "  10\n",
        "  >>> dime.worth()     # 10 cents + (155 - 50 years)\n",
        "  115\n",
        "  >>> Dime.cents = 20  # Upgrade all dimes!\n",
        "  >>> dime.worth()     # 20 cents + (155 - 50 years)\n",
        "  125\n",
        "  \"\"\"\n",
        "  present_year = 2021\n",
        "\n",
        "  def __init__(self):\n",
        "    self.update()\n",
        "\n",
        "  def create(self, coin):\n",
        "    # YOUR CODE HERE\n",
        "    return coin(year = self.year)\n",
        "\n",
        "\n",
        "  def update(self):\n",
        "    # YOUR CODE HERE\n",
        "    self.year = self.present_year\n",
        "\n",
        "\n",
        "class Coin:\n",
        "  cents = None # will be provided by subclasses, but not by Coin itself\n",
        "\n",
        "  def __init__(self, year):\n",
        "    self.year = year\n",
        "\n",
        "  def worth(self):\n",
        "    # YOUR CODE HERE\n",
        "    return self.cents + max(0,(Mint.present_year - self.year - 50))\n",
        "\n",
        "class Nickel(Coin):\n",
        "  cents = 5\n",
        "\n",
        "class Dime(Coin):\n",
        "  cents = 10"
      ],
      "metadata": {
        "id": "lXZRKoX07ejp"
      },
      "execution_count": 63,
      "outputs": []
    },
    {
      "cell_type": "code",
      "source": [
        "# doctest.run_docstring_examples(Mint, globals(), False, __name__)\n",
        "mint = Mint()\n",
        "assert mint.year == 2021\n",
        "dime = mint.create(Dime)\n",
        "assert dime.year == 2021\n",
        "Mint.present_year = 2101  # Time passes\n",
        "nickel = mint.create(Nickel)\n",
        "assert nickel.year == 2021\n",
        "assert nickel.worth() == 35\n",
        "mint.update()   # The mint's year is updated to 2101\n",
        "Mint.present_year = 2176     # More time passes\n",
        "assert mint.create(Dime).worth() == 35\n",
        "assert Mint().create(Dime).worth() == 10\n",
        "assert dime.worth() == 115\n",
        "Dime.cents = 20  # Upgrade all dimes!\n",
        "assert dime.worth() == 125"
      ],
      "metadata": {
        "id": "NpEFdTCg7meG"
      },
      "execution_count": 64,
      "outputs": []
    },
    {
      "cell_type": "code",
      "source": [
        "#@title Hint 👀\n",
        "Solutions are just single lines :)"
      ],
      "metadata": {
        "id": "BfNKnUnE4Xzp"
      },
      "execution_count": null,
      "outputs": []
    },
    {
      "cell_type": "markdown",
      "source": [
        "## Q8 (Optional)"
      ],
      "metadata": {
        "id": "aX9v392H7m3p"
      }
    },
    {
      "cell_type": "markdown",
      "source": [
        "In this question you'll create a vending machine that only outputs a single product and provides change when needed.\n",
        "\n",
        "Create a class called `VendingMachine` that represents a vending machine for some product. A `VendingMachine` object returns strings describing its interactions. Remember to match exactly the strings in the doctests -- including punctuation and spacing!\n",
        "\n",
        "Fill in the `VendingMachine` class, adding attributes and methods as appropriate, such that its behavior matches the following doctests:"
      ],
      "metadata": {
        "id": "gqY6sE1y7oQ6"
      }
    },
    {
      "cell_type": "code",
      "source": [
        "class VendingMachine:\n",
        "  \"\"\"A vending machine that vends some product for some price.\n",
        "\n",
        "  >>> v = VendingMachine('candy', 10)\n",
        "  >>> v.vend()\n",
        "  'Nothing left to vend. Please restock.'\n",
        "  >>> v.add_funds(15)\n",
        "  'Nothing left to vend. Please restock. Here is your $15.'\n",
        "  >>> v.restock(2)\n",
        "  'Current candy stock: 2'\n",
        "  >>> v.vend()\n",
        "  'You must add $10 more funds.'\n",
        "  >>> v.add_funds(7)\n",
        "  'Current balance: $7'\n",
        "  >>> v.vend()\n",
        "  'You must add $3 more funds.'\n",
        "  >>> v.add_funds(5)\n",
        "  'Current balance: $12'\n",
        "  >>> v.vend()\n",
        "  'Here is your candy and $2 change.'\n",
        "  >>> v.add_funds(10)\n",
        "  'Current balance: $10'\n",
        "  >>> v.vend()\n",
        "  'Here is your candy.'\n",
        "  >>> v.add_funds(15)\n",
        "  'Nothing left to vend. Please restock. Here is your $15.'\n",
        "  >>> w = VendingMachine('soda', 2)\n",
        "  >>> w.restock(3)\n",
        "  'Current soda stock: 3'\n",
        "  >>> w.restock(3)\n",
        "  'Current soda stock: 6'\n",
        "  >>> w.add_funds(2)\n",
        "  'Current balance: $2'\n",
        "  >>> w.vend()\n",
        "  'Here is your soda.'\n",
        "  \"\"\"\n",
        "  # YOUR CODE HERE"
      ],
      "metadata": {
        "id": "iA4-XVRi7yLQ"
      },
      "execution_count": null,
      "outputs": []
    },
    {
      "cell_type": "code",
      "source": [
        "# doctest.run_docstring_examples(VendingMachine, globals(), False, __name__)\n",
        "v = VendingMachine('candy', 10)\n",
        "assert v.vend() == 'Nothing left to vend. Please restock.'\n",
        "assert v.add_funds(15) == 'Nothing left to vend. Please restock. Here is your $15.'\n",
        "assert v.restock(2) == 'Current candy stock: 2'\n",
        "assert v.vend() == 'You must add $10 more funds.'\n",
        "assert v.add_funds(7) == 'Current balance: $7'\n",
        "assert v.vend() == 'You must add $3 more funds.'\n",
        "assert v.add_funds(5) == 'Current balance: $12'\n",
        "assert v.vend() == 'Here is your candy and $2 change.'\n",
        "assert v.add_funds(10) == 'Current balance: $10'\n",
        "assert v.vend() == 'Here is your candy.'\n",
        "assert v.add_funds(15) == 'Nothing left to vend. Please restock. Here is your $15.'\n",
        "w = VendingMachine('soda', 2)\n",
        "assert w.restock(3) == 'Current soda stock: 3'\n",
        "assert w.restock(3) == 'Current soda stock: 6'\n",
        "assert w.add_funds(2) == 'Current balance: $2'\n",
        "assert w.vend() == 'Here is your soda.'"
      ],
      "metadata": {
        "id": "uKKmuKv770Zo"
      },
      "execution_count": null,
      "outputs": []
    },
    {
      "cell_type": "markdown",
      "source": [
        "## Q9 (Optional)"
      ],
      "metadata": {
        "id": "ceYybgBwAs22"
      }
    },
    {
      "cell_type": "markdown",
      "source": [
        "Implement the function `longest_common_subseq` to find the length of the longest common subsequence between two sequences. E.g. Given the strings \"serendipitous\" and \"precipitation\", the longest common subsequence is \"reipito\" and its length is 7."
      ],
      "metadata": {
        "id": "mli5r66eAwLq"
      }
    },
    {
      "cell_type": "code",
      "source": [
        "def longest_common_subseq(seq1, seq2, idx1=0, idx2=0):\n",
        "  \"\"\"\n",
        "  Returns the length of the longest common sequence\n",
        "  between seq1 and seq2\n",
        "  >>> longest_common_subseq('serendipitous', 'precipitation')\n",
        "  7\n",
        "  >>> longest_common_subseq([1, 3, 5, 6, 7, 2, 5, 2, 3], [6, 2, 4, 7, 1, 5, 6, 2, 3])\n",
        "  5\n",
        "  >>> longest_common_subseq('longest', 'stone')\n",
        "  3\n",
        "  >>> longest_common_subseq('asdfwevad', 'opkpoiklklj')\n",
        "  0\n",
        "  >>> longest_common_subseq('dense', 'condensed')\n",
        "  5\n",
        "  >>> longest_common_subseq('', 'opkpoiklklj')\n",
        "  0\n",
        "  >>> longest_common_subseq('', '')\n",
        "  0\n",
        "  >>> longest_common_subseq('abcdef', 'badcfe')\n",
        "  3\n",
        "  \"\"\"\n",
        "  # YOUR CODE HERE"
      ],
      "metadata": {
        "id": "3qyoMbRsA8FH"
      },
      "execution_count": null,
      "outputs": []
    }
  ]
}