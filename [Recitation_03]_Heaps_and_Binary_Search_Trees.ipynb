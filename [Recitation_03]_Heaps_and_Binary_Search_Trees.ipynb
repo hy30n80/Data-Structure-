{
  "nbformat": 4,
  "nbformat_minor": 0,
  "metadata": {
    "colab": {
      "provenance": [],
      "include_colab_link": true
    },
    "kernelspec": {
      "name": "python3",
      "display_name": "Python 3"
    },
    "language_info": {
      "name": "python"
    }
  },
  "cells": [
    {
      "cell_type": "markdown",
      "metadata": {
        "id": "view-in-github",
        "colab_type": "text"
      },
      "source": [
        "<a href=\"https://colab.research.google.com/github/hy30n80/Data-Structure-/blob/main/%5BRecitation_03%5D_Heaps_and_Binary_Search_Trees.ipynb\" target=\"_parent\"><img src=\"https://colab.research.google.com/assets/colab-badge.svg\" alt=\"Open In Colab\"/></a>"
      ]
    },
    {
      "cell_type": "markdown",
      "source": [
        "# Priority Queues"
      ],
      "metadata": {
        "id": "-_SbokNA0Odv"
      }
    },
    {
      "cell_type": "markdown",
      "source": [
        "It is a form of data structure that returns priority (in this recitation, it is minimum) data first."
      ],
      "metadata": {
        "id": "870AhvrJ1uFf"
      }
    },
    {
      "cell_type": "code",
      "execution_count": null,
      "metadata": {
        "id": "PCpN46J7Q7dj"
      },
      "outputs": [],
      "source": [
        "# Priority Queue with sorted Python list\n",
        "# (last element in the list is smallest)\n",
        "\n",
        "class PriorityQueue():\n",
        "    def __init__(self):\n",
        "        self._data = []\n",
        "\n",
        "    def insert(self, x):\n",
        "        i = 0\n",
        "        while i < len(self._data) and x < self._data[i]:\n",
        "            i += 1\n",
        "        self._data.insert(i, x) #list 의 특정 인덱스에 값을 넣는 함수 : insert(index, value)\n",
        "\n",
        "    def findmin(self):\n",
        "        if len(self._data) == 0:\n",
        "            raise ValueError(\"empty priority queue\")\n",
        "        return self._data[-1]\n",
        "\n",
        "    def deletemin(self):\n",
        "        if len(self._data) == 0:\n",
        "            raise ValueError(\"empty priority queue\")\n",
        "        return self._data.pop()"
      ]
    },
    {
      "cell_type": "code",
      "source": [
        "class PriorityQueue():\n",
        "  def __init__(self):\n",
        "    self._data = []\n",
        "\n",
        "  def insert(self, x):\n",
        "    i = 0\n",
        "    while i < len(self._data) and x < self._data[i]:\n",
        "      i = i + 1\n",
        "\n",
        "    self._data.insert(i,x)\n",
        "\n",
        "  def findmin(self):\n",
        "    if len(self._data) == 0:\n",
        "      raise ValueError(\"err\")\n",
        "    return self._data[-1]\n",
        "\n",
        "  def deletemin(self):\n",
        "    if len(self._data) == 0:\n",
        "      raise ValueError(\"err\")\n",
        "    return self._data.pop()"
      ],
      "metadata": {
        "id": "1i2lurYHFzVT"
      },
      "execution_count": null,
      "outputs": []
    },
    {
      "cell_type": "code",
      "source": [
        "minpriority = PriorityQueue()\n",
        "\n",
        "minpriority.insert(3)\n",
        "minpriority.insert(5)\n",
        "minpriority.insert(1)\n",
        "minpriority.insert(6)\n",
        "minpriority.insert(7)\n",
        "minpriority.insert(2)\n",
        "\n",
        "print(minpriority.deletemin())\n",
        "print(minpriority.deletemin())\n",
        "print(minpriority.deletemin())"
      ],
      "metadata": {
        "colab": {
          "base_uri": "https://localhost:8080/"
        },
        "id": "RQBx4j90196X",
        "outputId": "8b0d3599-9bd5-4151-a465-8c50ebea23d8"
      },
      "execution_count": null,
      "outputs": [
        {
          "output_type": "stream",
          "name": "stdout",
          "text": [
            "1\n",
            "2\n",
            "3\n"
          ]
        }
      ]
    },
    {
      "cell_type": "markdown",
      "source": [
        "# Heaps"
      ],
      "metadata": {
        "id": "t09gdXE90Uqs"
      }
    },
    {
      "cell_type": "markdown",
      "source": [
        "Heap ADT\n",
        "\n",
        "\n",
        "*   constructor: creates a new heap\n",
        "*   find_min(): returns the smallest element\n",
        "*   delete_min(): removes the smallest element from the set and returns it\n",
        "*   insert(item): inserts a new element into the set\n",
        "*   len(): returns the current size (number of elements) of the set"
      ],
      "metadata": {
        "id": "zXum6-Mn71fg"
      }
    },
    {
      "cell_type": "markdown",
      "source": [
        "Since the tree should be complete, we can implement heap by list.\n",
        "\n",
        "We can set the index of root node as 1. In this case, if the parent's index is p, the index of the left child is 2 * p and the right child is 2 * p + 1. So, we can easily find parents and children."
      ],
      "metadata": {
        "id": "jL597q9h5L-e"
      }
    },
    {
      "cell_type": "markdown",
      "source": [
        "          1\n",
        "        /   |\n",
        "       2     3\n",
        "     /  |   /\n",
        "    4   5  6\n",
        "\n",
        "=> [0, 1, (2, 3), (4, 5, 6)]\n",
        "\n",
        "---\n",
        "\n",
        "1 is in 1\n",
        "\n",
        "Its left child 2 is in 1 * 2 = 2\n",
        "\n",
        "Its left child 3 is in 1 * 2 + 1 = 3\n",
        "\n",
        "---\n",
        "2 is in 2\n",
        "\n",
        "Its left child 4 is in 2 * 2 = 4\n",
        "\n",
        "Its left child 5 is in 2 * 2 + 1 = 5\n"
      ],
      "metadata": {
        "id": "P5btujfm88l3"
      }
    },
    {
      "cell_type": "code",
      "source": [
        "# min heap\n",
        "\n",
        "class PriorityQueue():\n",
        "    DEFAULT_CAPACITY = 100\n",
        "\n",
        "    def __init__(self):\n",
        "        self._data = [None] * PriorityQueue.DEFAULT_CAPACITY\n",
        "        self._size = 0\n",
        "\n",
        "    def __len__(self):\n",
        "        return self._size\n",
        "\n",
        "    def findmin(self):\n",
        "        if self._size == 0:\n",
        "            raise ValueError(\"empty priority queue\")\n",
        "        return self._data[1]  # O(1) #일부러 시작 Index 를 1로 둔다\n",
        "\n",
        "    def insert(self, x):\n",
        "        if self._size + 1 == len(self._data): #예를들어 [None, 1, 2, 3] 인 경우, self._size = 3 & len(self._data) = 4 -> 확장 필요한 상황\n",
        "            # double size of the array storing the data\n",
        "            self._data.extend([None] * len(self._data))\n",
        "        self._size += 1\n",
        "        hole = self._size # index of x\n",
        "\n",
        "        # bubble up\n",
        "        while self._data[hole // 2] and x < self._data[hole // 2]: # _data[0] = None 이기 때문에\n",
        "            # exchange the values of the child and the parent\n",
        "            self._data[hole] = self._data[hole // 2]\n",
        "            hole //= 2  # inspect the next parent\n",
        "        self._data[hole] = x\n",
        "\n",
        "    def deletemin(self):\n",
        "        min_item = self.findmin()         # raises error if empty\n",
        "        self._data[1] = self._data[self._size] #말단에 있는 친구꺼 root 로 부르기\n",
        "        self._size -= 1\n",
        "        self._bubble_down(1)\n",
        "        return min_item\n",
        "\n",
        "    def _bubble_down(self, i):\n",
        "        value = self._data[i]\n",
        "        hole = i\n",
        "        child = self._smaller_child(hole, value)\n",
        "        while child != 0:\n",
        "            # exchange the values of the child and the parent\n",
        "            self._data[hole] = self._data[child]\n",
        "            hole = child\n",
        "            child = self._smaller_child(hole, value)\n",
        "        self._data[hole] = value\n",
        "\n",
        "    # find the smaller child. If parent is the smallest, then return 0\n",
        "    def _smaller_child(self, index, value):\n",
        "        child = 2 * index\n",
        "        if child <= self._size:\n",
        "            if child != self._size and self._data[child + 1] < self._data[child]: #둘중에 더 작은 애를 올려줘야 하기 때문에\n",
        "                child += 1\n",
        "            if self._data[child] < value:\n",
        "                return child\n",
        "        return 0"
      ],
      "metadata": {
        "id": "Qr8fmpJb0Vu9"
      },
      "execution_count": null,
      "outputs": []
    },
    {
      "cell_type": "code",
      "source": [
        "class PriorityQueue():\n",
        "    DEFAULT_CAPACITY = 100\n",
        "\n",
        "    def __init__(self):\n",
        "        self._data = [None] * PriorityQueue.DEFAULT_CAPACITY\n",
        "        self._size = 0\n",
        "\n",
        "    def __len__(self):\n",
        "        return self._size\n",
        "\n",
        "    def findmin(self):\n",
        "      if self._size == 0:\n",
        "        raise ValueError(\"err\")\n",
        "      else:\n",
        "        return self._data[1]\n",
        "\n",
        "    def insert(self, x):\n",
        "      if self._size + 1 == len(self._data):\n",
        "        self._data.extend([None]*len(self._data))\n",
        "      self._size += 1\n",
        "      hole = self._size\n",
        "\n",
        "      #bubble up\n",
        "      while self._data[hole // 2] and x < self._data[hole//2]:\n",
        "        self._data[hole] = self._data[hole//2]\n",
        "        hole = hole//2\n",
        "      self._data[hole] = x\n",
        "\n",
        "    def deletemin(self):\n",
        "      min_item = self.findmin()\n",
        "      self._data[1] = self._data[self._size]\n",
        "      self._size -= 1\n",
        "      self._bubble_down(1)\n",
        "      return min_item\n",
        "\n",
        "    def _bubble_down(self, i):\n",
        "      value = self._data[i]\n",
        "      hole = i\n",
        "      child = self._smaller_child(i, value)\n",
        "      while child != 0:\n",
        "        self._data[hole] = self._data[child]\n",
        "        hole = child\n",
        "        child = self._smaller_child(hole, value)\n",
        "      self._data[hole] = value\n",
        "\n",
        "\n",
        "\n",
        "    # find the smaller child. If parent is the smallest, then return 0\n",
        "    def _smaller_child(self, index, value):\n",
        "      child = 2 * index\n",
        "      if child <= self._size:\n",
        "        if child != self._size and self._data[child+1] < self._data[child]:\n",
        "          child += 1\n",
        "        if self._data[child] < value:\n",
        "          return child\n",
        "\n",
        "      return 0"
      ],
      "metadata": {
        "id": "om4fN6nhKVat"
      },
      "execution_count": null,
      "outputs": []
    },
    {
      "cell_type": "code",
      "source": [
        "minpriority = PriorityQueue()\n",
        "\n",
        "minpriority.insert(3)\n",
        "minpriority.insert(5)\n",
        "minpriority.insert(1)\n",
        "minpriority.insert(6)\n",
        "minpriority.insert(7)\n",
        "minpriority.insert(2)\n",
        "\n",
        "print(minpriority.deletemin())\n",
        "print(minpriority.deletemin())\n",
        "print(minpriority.deletemin())"
      ],
      "metadata": {
        "colab": {
          "base_uri": "https://localhost:8080/"
        },
        "id": "bkH2XMLoA-Mq",
        "outputId": "cb8668d9-582a-41f1-8a7c-e8ea4d9985f3"
      },
      "execution_count": null,
      "outputs": [
        {
          "output_type": "stream",
          "name": "stdout",
          "text": [
            "1\n",
            "2\n",
            "3\n"
          ]
        }
      ]
    },
    {
      "cell_type": "markdown",
      "source": [
        "## Application of Heap"
      ],
      "metadata": {
        "id": "taJ5bf-cCXw7"
      }
    },
    {
      "cell_type": "markdown",
      "source": [
        "### Default Heap from Python"
      ],
      "metadata": {
        "id": "_ryCAoEnCbxE"
      }
    },
    {
      "cell_type": "markdown",
      "source": [
        "[More information EN](https://docs.python.org/3/library/heapq.html)\n",
        "\n",
        "[More information KO](https://docs.python.org/ko/3/library/heapq.html)"
      ],
      "metadata": {
        "id": "bCaqbRq8Cgoi"
      }
    },
    {
      "cell_type": "code",
      "source": [
        "import heapq  # min heap\n",
        "\n",
        "heap = []\n",
        "item1 = [4, 1, 7, 9, 3]\n",
        "item2 = [4, 1, 7, 9, 3]\n",
        "\n",
        "for item in item1:\n",
        "    heapq.heappush(heap, item) #새로운 heap 이라는 list 에 item2 의 요소들을 쳐박기\n",
        "\n",
        "# or\n",
        "\n",
        "heapq.heapify(item2) #itme2 라는 list 를 heap 으로 만들거나\n",
        "\n",
        "print(heap)\n",
        "print(item2)"
      ],
      "metadata": {
        "colab": {
          "base_uri": "https://localhost:8080/"
        },
        "id": "reWNsV8nCjzl",
        "outputId": "f79495d9-c2ed-4697-9cb5-35343558b8ea"
      },
      "execution_count": null,
      "outputs": [
        {
          "output_type": "stream",
          "name": "stdout",
          "text": [
            "[1, 3, 7, 9, 4]\n",
            "[1, 3, 7, 9, 4]\n"
          ]
        }
      ]
    },
    {
      "cell_type": "code",
      "source": [
        "min_v = heapq.heappop(heap)\n",
        "print(min_v)\n",
        "print(heap)"
      ],
      "metadata": {
        "colab": {
          "base_uri": "https://localhost:8080/"
        },
        "id": "6JAJNAl6Doxv",
        "outputId": "cc18d644-c9b8-419b-fbee-368a61cd31d8"
      },
      "execution_count": null,
      "outputs": [
        {
          "output_type": "stream",
          "name": "stdout",
          "text": [
            "1\n",
            "[3, 4, 7, 9]\n"
          ]
        }
      ]
    },
    {
      "cell_type": "markdown",
      "source": [
        "### K-th largest element"
      ],
      "metadata": {
        "id": "Vop2YkeEFrMD"
      }
    },
    {
      "cell_type": "markdown",
      "source": [
        "**Approach**\n",
        "1. Insert an element one by one in min heap\n",
        "2. If the length of the min heap is larger than k pop the root node. Because, since k elements are larger than the root node, the root node can be k largest element.\n",
        "3. return the min heap"
      ],
      "metadata": {
        "id": "Tfr3MdrrFt6B"
      }
    },
    {
      "cell_type": "code",
      "source": [
        "import heapq\n",
        "\n",
        "\n",
        "def kth_largestest(nums, k):\n",
        "    heap = []\n",
        "    for num in nums:\n",
        "        heapq.heappush(heap, num)  # insert\n",
        "        if len(heap) > k:\n",
        "            heapq.heappop(heap)\n",
        "    return heap\n",
        "\n",
        "\n",
        "print(kth_largestest([4, 1, 7, 3, 8, 5], 3))\n",
        "print(heapq.nlargest(3, [4, 1, 7, 3, 8, 5]))\n",
        "print(heapq.nsmallest(3, [4, 1, 7, 3, 8, 5]))"
      ],
      "metadata": {
        "colab": {
          "base_uri": "https://localhost:8080/"
        },
        "id": "xiGfv0QuFNpa",
        "outputId": "8ebd900d-a948-4d1a-bad4-d2b74670ba32"
      },
      "execution_count": null,
      "outputs": [
        {
          "output_type": "stream",
          "name": "stdout",
          "text": [
            "[5, 8, 7]\n",
            "[8, 7, 5]\n",
            "[1, 3, 4]\n"
          ]
        }
      ]
    },
    {
      "cell_type": "code",
      "source": [
        "import heapq #python list 를 heap 의 역할을 할 수 있도록 만들어주는 친구\n",
        "\n",
        "def kth_largestest(nums, k):\n",
        "  heap = []\n",
        "  for num in nums:\n",
        "    heapq.heappush(heap, num)\n",
        "    if len(heap) > k: #heap 에는 최대 k개만 저장할 수 있음, 더 들어오면 k+1 개 중 minimum 방출\n",
        "      heapq.heappop(heap)\n",
        "\n",
        "  return heap\n",
        "\n",
        "\n",
        "print(kth_largestest([4, 1, 7, 3, 8, 5], 3))\n",
        "print(heapq.nlargest(3, [4, 1, 7, 3, 8, 5]))\n",
        "print(heapq.nsmallest(3, [4, 1, 7, 3, 8, 5]))"
      ],
      "metadata": {
        "colab": {
          "base_uri": "https://localhost:8080/"
        },
        "id": "iMm9vv1qPfaa",
        "outputId": "90b62aad-c4af-45d2-aee0-66bf8d098634"
      },
      "execution_count": null,
      "outputs": [
        {
          "output_type": "stream",
          "name": "stdout",
          "text": [
            "[5, 8, 7]\n",
            "[8, 7, 5]\n",
            "[1, 3, 4]\n"
          ]
        }
      ]
    },
    {
      "cell_type": "markdown",
      "source": [
        "### Heap Sort (increasing)"
      ],
      "metadata": {
        "id": "P9Vftm9WHmb9"
      }
    },
    {
      "cell_type": "markdown",
      "source": [
        "**Approach**\n",
        "1. Make min heap\n",
        "2. Remove them using heappop\n",
        "\n",
        "We can use max heap to make decreasing order."
      ],
      "metadata": {
        "id": "dDHY1hqGHq3i"
      }
    },
    {
      "cell_type": "code",
      "source": [
        "def heap_sort(nums):\n",
        "    heapq.heapify(nums)\n",
        "    sorted_nums = []\n",
        "    while nums:\n",
        "        sorted_nums.append(heapq.heappop(nums))\n",
        "    return sorted_nums\n",
        "\n",
        "\n",
        "print(heap_sort([4, 1, 7, 3, 8, 5]))"
      ],
      "metadata": {
        "colab": {
          "base_uri": "https://localhost:8080/"
        },
        "id": "0YOlbwiPIWxp",
        "outputId": "a5cd5370-d48b-443e-f897-ed7ec9dd546e"
      },
      "execution_count": null,
      "outputs": [
        {
          "output_type": "stream",
          "name": "stdout",
          "text": [
            "[1, 3, 4, 5, 7, 8]\n"
          ]
        }
      ]
    },
    {
      "cell_type": "code",
      "source": [
        "def heap_sort(nums):\n",
        "  heapq.heapify(nums)\n",
        "  sorted_nums = []\n",
        "\n",
        "  while nums:\n",
        "    sorted_nums.append(heapq.heappop(nums))\n",
        "  return sorted_nums\n",
        "\n",
        "\n",
        "print(heap_sort([4, 1, 7, 3, 8, 5]))"
      ],
      "metadata": {
        "colab": {
          "base_uri": "https://localhost:8080/"
        },
        "id": "hjpLNvXNQHc6",
        "outputId": "b624c943-1c87-4647-a463-caebb2de8452"
      },
      "execution_count": null,
      "outputs": [
        {
          "output_type": "stream",
          "name": "stdout",
          "text": [
            "[1, 3, 4, 5, 7, 8]\n"
          ]
        }
      ]
    },
    {
      "cell_type": "code",
      "source": [
        "def heap_sort(nums):\n",
        "    heap = []\n",
        "    for num in nums:\n",
        "        heapq.heappush(heap, (-num, num))\n",
        "\n",
        "    sorted_nums = []\n",
        "    while heap:\n",
        "        sorted_nums.append(heapq.heappop(heap)[1])\n",
        "    return sorted_nums\n",
        "\n",
        "\n",
        "print(heap_sort([4, 1, 7, 3, 8, 5]))"
      ],
      "metadata": {
        "colab": {
          "base_uri": "https://localhost:8080/"
        },
        "id": "nonSp2-rYPKk",
        "outputId": "e3059c93-5b5b-4707-9efd-9983905b9eeb"
      },
      "execution_count": null,
      "outputs": [
        {
          "output_type": "stream",
          "name": "stdout",
          "text": [
            "[8, 7, 5, 4, 3, 1]\n"
          ]
        }
      ]
    },
    {
      "cell_type": "markdown",
      "source": [
        "# Binary Search Trees"
      ],
      "metadata": {
        "id": "DsQmIuZs0WIo"
      }
    },
    {
      "cell_type": "markdown",
      "source": [
        "A binary search tree is a special type of a binary tree.\n",
        "\n",
        "The value in each node must be greater than (or equal to) any values stored in its left subtree.\n",
        "\n",
        "The value in each node must be less than (or equal to) any values stored in its right subtree.\n",
        "\n"
      ],
      "metadata": {
        "id": "fcPv04syRJhr"
      }
    },
    {
      "cell_type": "markdown",
      "source": [
        "                  4\n",
        "               /    |\n",
        "             2        8\n",
        "           /  |      /  |\n",
        "          1    3    6    9"
      ],
      "metadata": {
        "id": "Kg8ceFcvRsxU"
      }
    },
    {
      "cell_type": "markdown",
      "source": [
        "## Implementation with linked list"
      ],
      "metadata": {
        "id": "eW3BKTfNTBit"
      }
    },
    {
      "cell_type": "code",
      "source": [
        "class _Node():\n",
        "    def __init__(self, key, value, left=None, right=None):\n",
        "        self.key = key\n",
        "        self.value = value\n",
        "        self.left = left\n",
        "        self.right = right\n",
        "\n",
        "    def _find(self, key): # return the node that has key\n",
        "        if key == self.key:\n",
        "            return self\n",
        "        if key < self.key: # find key in left subtree\n",
        "            return self.left._find(key) if self.left else None\n",
        "        else:              # find key in right subtree\n",
        "            return self.right._find(key) if self.right else None\n",
        "\n",
        "    def _insert(self, key, value):\n",
        "        if key == self.key: # update\n",
        "            self.value = value\n",
        "        elif key < self.key: # find key in left subtree\n",
        "            if self.left is None: # If the key does not exist, then make a new node\n",
        "                self.left = _Node(key, value)\n",
        "            else:\n",
        "                self.left._insert(key, value)\n",
        "        else:                # find key in right subtree\n",
        "            if self.right is None: # If the key does not exist, then make a new node\n",
        "                self.right = _Node(key, value)\n",
        "            else:\n",
        "                self.right._insert(key, value)\n",
        "\n",
        "    def _description(self, level):\n",
        "        ls = self.left._description(level+1) if self.left else \"\"\n",
        "        rs = self.right._description(level+1) if self.right else \"\"\n",
        "        return ls + str(self.key) + (\"(%d) \" % level) + rs\n",
        "\n",
        "    def _find_first(self): # the minimum value is in left subtree\n",
        "        p = self\n",
        "        while p.left is not None:\n",
        "            p = p.left\n",
        "        return p\n",
        "\n",
        "    def _find_last(self):# the maximum value is in left subtree\n",
        "        p = self\n",
        "        while p.right is not None:\n",
        "            p = p.right\n",
        "        return p\n",
        "\n",
        "    # Remove node with smallest key in the subtree rooted at this node\n",
        "    # Returns the new root.\n",
        "    def _remove_first(self):\n",
        "        if self.left is None: # If the left is None, then current node is smallest\n",
        "            return self.right\n",
        "        else:\n",
        "            self.left = self.left._remove_first()\n",
        "            return self\n",
        "\n",
        "    # Returns the new root.\n",
        "    def _remove(self, key):\n",
        "        if key < self.key and self.left is not None: # find key in left subtree\n",
        "            self.left = self.left._remove(key)\n",
        "\n",
        "        elif key > self.key and self.right is not None: # find key in right subtree\n",
        "            self.right = self.right._remove(key)\n",
        "\n",
        "        elif key == self.key:\n",
        "            if self.left is not None and self.right is not None:\n",
        "                # Need to remove self, but has two children\n",
        "                n = self.right._find_first() #왼쪽과 오른쪽 모두 존재할 때, 오른쪽에서 첫번째 element 찾기 -> 얘가 hold 로 와야 해\n",
        "                self.key = n.key\n",
        "                self.value = n.value\n",
        "                self.right = self.right._remove_first()\n",
        "            else:\n",
        "                # Need to remove self, which has zero or one child\n",
        "                return self.left if self.left else self.right #왼쪽만 있을 때에는, 왼쪽 걸 hole 로 가져오기 & 오른쪽만 있을 때는 오른쪽 걸 hole 로 가져오기\n",
        "        return self"
      ],
      "metadata": {
        "id": "bbgqaFf90YdB"
      },
      "execution_count": null,
      "outputs": []
    },
    {
      "cell_type": "markdown",
      "source": [
        "## Implementation of dict using a BST"
      ],
      "metadata": {
        "id": "MdtauZ1rVQUY"
      }
    },
    {
      "cell_type": "code",
      "source": [
        "class dict():\n",
        "    def __init__(self):\n",
        "        self._root = None\n",
        "\n",
        "    def __str__(self):\n",
        "        return self._root._description(0) if self._root else \"[]\"\n",
        "\n",
        "    def _find(self, key):\n",
        "        return self._root._find(key) if self._root else None\n",
        "\n",
        "    def __getitem__(self, key):\n",
        "        n = self._find(key)\n",
        "        if n is None:\n",
        "            raise KeyError(key)\n",
        "        return n.value\n",
        "\n",
        "    def get(self, key, v=None):\n",
        "        n = self._find(key)\n",
        "        return n.value if n else v\n",
        "\n",
        "    def __contains__(self, key):\n",
        "        return self._find(key) is not None\n",
        "\n",
        "    def firstkey(self):\n",
        "        return self._root._find_first().key if self._root else None\n",
        "\n",
        "    def lastkey(self):\n",
        "        return self._root._find_last().key if self._root else None\n",
        "\n",
        "    def __delitem__(self, key):\n",
        "        if self._root:\n",
        "            self._root = self._root._remove(key)\n",
        "\n",
        "    def __setitem__(self, key, value):\n",
        "        if self._root is None:\n",
        "            self._root = _Node(key, value)\n",
        "        else:\n",
        "            self._root._insert(key, value)"
      ],
      "metadata": {
        "id": "bF3sA7JgRECl"
      },
      "execution_count": null,
      "outputs": []
    },
    {
      "cell_type": "code",
      "source": [
        "d = dict()\n",
        "\n",
        "d[7] = \"7\"\n",
        "d[3] = \"3\"\n",
        "\n",
        "print(\"d = %s\" % d)\n",
        "print(\"d[3] = %s\" % d[3])\n",
        "print(\"d[7] = %s\" % d[7])\n",
        "\n",
        "d[7] = \"new 7\"\n",
        "print()\n",
        "print(\"d = %s\" % d)\n",
        "print(\"d[3] = %s\" % d[3])\n",
        "print(\"d[7] = %s\" % d[7])\n",
        "\n",
        "d[13] = \"13\"\n",
        "d[29] = \"29\"\n",
        "d[5] = \"5\"\n",
        "d[17] = \"17\"\n",
        "d[11] = \"11\"\n",
        "\n",
        "print()\n",
        "print(\"d = %s\" % d)\n",
        "print(17 in d)\n",
        "\n",
        "del d[17]\n",
        "\n",
        "print()\n",
        "print(17 in d)\n",
        "print(\"d = %s\" % d)\n",
        "\n",
        "print()\n",
        "print(\"First key is %s\" % d.firstkey())\n",
        "print(\"Last key is %s\" % d.lastkey())"
      ],
      "metadata": {
        "colab": {
          "base_uri": "https://localhost:8080/"
        },
        "id": "1Pel1G2KVhFJ",
        "outputId": "419fba43-d69d-4704-a4f3-c4156c4d338f"
      },
      "execution_count": null,
      "outputs": [
        {
          "output_type": "stream",
          "name": "stdout",
          "text": [
            "d = 3(1) 7(0) \n",
            "d[3] = 3\n",
            "d[7] = 7\n",
            "\n",
            "d = 3(1) 7(0) \n",
            "d[3] = 3\n",
            "d[7] = new 7\n",
            "\n",
            "d = 3(1) 5(2) 7(0) 11(2) 13(1) 17(3) 29(2) \n",
            "True\n",
            "\n",
            "False\n",
            "d = 3(1) 5(2) 7(0) 11(2) 13(1) 29(2) \n",
            "\n",
            "First key is 3\n",
            "Last key is 29\n"
          ]
        }
      ]
    },
    {
      "cell_type": "code",
      "source": [
        "print(\"Now testing an unbalanced insertion order:\")\n",
        "e = dict()\n",
        "n = 100\n",
        "for i in range(1, n):\n",
        "    e[i] = str(i)\n",
        "print(\"e = %s\" % e)\n",
        "\n",
        "# balanced BST => O(log N)\n",
        "# un-balanced BST => O(N)"
      ],
      "metadata": {
        "colab": {
          "base_uri": "https://localhost:8080/"
        },
        "id": "srdshVlfVyyl",
        "outputId": "1522c686-4d26-4ad4-d42b-283cbfa31fdb"
      },
      "execution_count": null,
      "outputs": [
        {
          "output_type": "stream",
          "name": "stdout",
          "text": [
            "Now testing an unbalanced insertion order:\n",
            "e = 1(0) 2(1) 3(2) 4(3) 5(4) 6(5) 7(6) 8(7) 9(8) 10(9) 11(10) 12(11) 13(12) 14(13) 15(14) 16(15) 17(16) 18(17) 19(18) 20(19) 21(20) 22(21) 23(22) 24(23) 25(24) 26(25) 27(26) 28(27) 29(28) 30(29) 31(30) 32(31) 33(32) 34(33) 35(34) 36(35) 37(36) 38(37) 39(38) 40(39) 41(40) 42(41) 43(42) 44(43) 45(44) 46(45) 47(46) 48(47) 49(48) 50(49) 51(50) 52(51) 53(52) 54(53) 55(54) 56(55) 57(56) 58(57) 59(58) 60(59) 61(60) 62(61) 63(62) 64(63) 65(64) 66(65) 67(66) 68(67) 69(68) 70(69) 71(70) 72(71) 73(72) 74(73) 75(74) 76(75) 77(76) 78(77) 79(78) 80(79) 81(80) 82(81) 83(82) 84(83) 85(84) 86(85) 87(86) 88(87) 89(88) 90(89) 91(90) 92(91) 93(92) 94(93) 95(94) 96(95) 97(96) 98(97) 99(98) \n"
          ]
        }
      ]
    },
    {
      "cell_type": "markdown",
      "source": [
        "          3\n",
        "        /\n",
        "       2\n",
        "     /\n",
        "    1\n",
        "=>\n",
        "\n",
        "        2\n",
        "      /  \\\n",
        "    1    3"
      ],
      "metadata": {
        "id": "wy9cD4lqV1TA"
      }
    },
    {
      "cell_type": "markdown",
      "source": [
        "# Quiz"
      ],
      "metadata": {
        "id": "DkzNPo_i0Y7v"
      }
    },
    {
      "cell_type": "code",
      "source": [
        "import doctest"
      ],
      "metadata": {
        "id": "JBK41Iyh0bjK"
      },
      "execution_count": null,
      "outputs": []
    },
    {
      "cell_type": "markdown",
      "source": [
        "## Q1. K-th nearest points"
      ],
      "metadata": {
        "id": "c8miH7Qv0cD4"
      }
    },
    {
      "cell_type": "markdown",
      "source": [
        "We have to calculate k-th nearest point from a given point. In this problem, we use manhattan distance as distance. We can calculate the distance from (a, b) to (x, y) with |a - x| + |b - y|. You can use heapq module.\n",
        "\n",
        "Input: k, (x, y), [some points]\n",
        "\n",
        "The number of points is larger than k and there do not exist ant two points that have the same distance to (x, y)\n",
        "\n",
        "Output: The list of k-th nearest points' index in increasing order"
      ],
      "metadata": {
        "id": "7rgDC39TQbbJ"
      }
    },
    {
      "cell_type": "code",
      "source": [
        "import heapq\n",
        "\n",
        "def kth_nearest(k, x, y, points):\n",
        "    '''\n",
        "    >>> kth_nearest(3, 0, 0, [(-2, -1), (3, 1), (-1, 1), (0, 1), (2, 3)])\n",
        "    [0, 2, 3]\n",
        "\n",
        "    >>> kth_nearest(3, 1, 2, [(-2, -1), (3, 1), (1, 1), (0, -1), (2, 3)])\n",
        "    [1, 2, 4]\n",
        "    '''\n",
        "    # Your Code Here\n",
        "    heap = []\n",
        "    for i in range(len(points)):\n",
        "      dis = abs(x - points[i][0]) + abs(y- points[i][1])\n",
        "      heapq.heappush(heap, (-dis, i))\n",
        "      if len(heap) > k:\n",
        "        heapq.heappop(heap)\n",
        "\n",
        "    result = []\n",
        "    while heap:\n",
        "      result.append(heapq.heappop(heap)[1])\n",
        "    result.sort()\n",
        "    return result\n",
        "\n"
      ],
      "metadata": {
        "id": "mFdpDUY_0c-C"
      },
      "execution_count": null,
      "outputs": []
    },
    {
      "cell_type": "code",
      "source": [
        "doctest.run_docstring_examples(kth_nearest, globals(), False, __name__)"
      ],
      "metadata": {
        "id": "GWI7VB9USK8S"
      },
      "execution_count": null,
      "outputs": []
    },
    {
      "cell_type": "markdown",
      "source": [
        "## Q2. Find a maximum and minimum"
      ],
      "metadata": {
        "id": "87hzEPMG0dop"
      }
    },
    {
      "cell_type": "markdown",
      "source": [
        "For a given binary search tree, we have to get a maximum key that is smaller than a root key and a minimum value that is larger than a root key. If there does not exist such minimum or maximum, it is None. You can use the _Node class that was previously implemented."
      ],
      "metadata": {
        "id": "sSRjIvIgaLGz"
      }
    },
    {
      "cell_type": "markdown",
      "source": [
        "                  4\n",
        "               /    |\n",
        "             2        8\n",
        "           /  |      /\n",
        "          1    3    6    \n",
        "\n",
        "If a root is 4, the output should be [3, 6]\n",
        "\n",
        "If a root is 8, the output should be [6, None]"
      ],
      "metadata": {
        "id": "0T9tUch7bkaj"
      }
    },
    {
      "cell_type": "code",
      "source": [
        "def find_min_max(root):\n",
        "    '''\n",
        "    >>> root = _Node(4, 0)\n",
        "    >>> root.left = _Node(2, 0)\n",
        "    >>> root.right = _Node(8, 0)\n",
        "    >>> root.left.left = _Node(1, 0)\n",
        "    >>> root.left.right = _Node(3, 0)\n",
        "    >>> root.right.left = _Node(6, 0)\n",
        "    >>> find_min_max(root)\n",
        "    [3, 6]\n",
        "    >>> find_min_max(root.right)\n",
        "    [6, None]\n",
        "    '''\n",
        "    # Your Code Here"
      ],
      "metadata": {
        "id": "V3i91Gdi0eyk"
      },
      "execution_count": null,
      "outputs": []
    },
    {
      "cell_type": "code",
      "source": [
        "doctest.run_docstring_examples(find_min_max, globals(), False, __name__)"
      ],
      "metadata": {
        "id": "s8C5BR8FcXDn"
      },
      "execution_count": null,
      "outputs": []
    }
  ]
}