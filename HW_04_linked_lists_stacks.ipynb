{
  "nbformat": 4,
  "nbformat_minor": 0,
  "metadata": {
    "colab": {
      "provenance": [],
      "include_colab_link": true
    },
    "kernelspec": {
      "name": "python3",
      "display_name": "Python 3"
    },
    "language_info": {
      "name": "python"
    }
  },
  "cells": [
    {
      "cell_type": "markdown",
      "metadata": {
        "id": "view-in-github",
        "colab_type": "text"
      },
      "source": [
        "<a href=\"https://colab.research.google.com/github/hy30n80/Data-Structure-/blob/main/HW_04_linked_lists_stacks.ipynb\" target=\"_parent\"><img src=\"https://colab.research.google.com/assets/colab-badge.svg\" alt=\"Open In Colab\"/></a>"
      ]
    },
    {
      "cell_type": "markdown",
      "source": [
        "# EC2202 Homework #4 (Due: 1:00 pm, Apr. 4, 2024)\n",
        "\n"
      ],
      "metadata": {
        "id": "4i_Y_6Mjjlg3"
      }
    },
    {
      "cell_type": "markdown",
      "source": [
        "**Disclaimer**\n",
        "This homework is based on\n",
        "1. [GeeksForGeeks](https://practice.geeksforgeeks.org/home)\n",
        "2. Coding Interviews"
      ],
      "metadata": {
        "id": "EbIb_c3Mju4X"
      }
    },
    {
      "cell_type": "markdown",
      "source": [
        "## Submission Link"
      ],
      "metadata": {
        "id": "0U29o-R0mLkO"
      }
    },
    {
      "cell_type": "markdown",
      "source": [
        "**Submit the sharing link :)**\n",
        "- Submit by [clicking here](https://forms.gle/FMg1DxKw1fp7Q3p76)!\n",
        "- Check your sumbission by [clicking here](https://docs.google.com/spreadsheets/d/1GqGdznjcOXaMkbCsyCt5qcX57u2laJw4WRR9EDErXLs/edit?usp=sharing)!"
      ],
      "metadata": {
        "id": "m33Sm8mQmN8s"
      }
    },
    {
      "cell_type": "markdown",
      "source": [
        "## Student Information"
      ],
      "metadata": {
        "id": "or_FSdW2mClU"
      }
    },
    {
      "cell_type": "markdown",
      "source": [
        "* Student ID: YOUR ID\n",
        "* Name: YOUR NAME"
      ],
      "metadata": {
        "id": "zK2IdssdmHlt"
      }
    },
    {
      "cell_type": "markdown",
      "source": [
        "## Evaluation Code Setting"
      ],
      "metadata": {
        "id": "m3Qvljj8jzD_"
      }
    },
    {
      "cell_type": "markdown",
      "source": [
        "Run the blow to test your implementation :)"
      ],
      "metadata": {
        "id": "9qWTFg1fj10p"
      }
    },
    {
      "cell_type": "code",
      "execution_count": 1,
      "metadata": {
        "id": "CVkw9OJkK6V0"
      },
      "outputs": [],
      "source": [
        "import doctest\n",
        "\n",
        "class Node:\n",
        "  def __init__(self, elem):\n",
        "    self.elem = elem\n",
        "    self.next = None\n",
        "\n",
        "# data is list\n",
        "class LinkedList:\n",
        "  def __init__(self, data):\n",
        "    self.head = Node(None)\n",
        "\n",
        "    node = self.head\n",
        "\n",
        "    for d in data:\n",
        "      node.next = Node(d)\n",
        "      node = node.next\n",
        "\n",
        "  def print_all(self):\n",
        "    node = self.head.next\n",
        "\n",
        "    while node:\n",
        "      print(node.elem, end='')\n",
        "      node = node.next\n",
        "      if node is not None:\n",
        "        print('->', end='')\n",
        "      else:\n",
        "        print()"
      ]
    },
    {
      "cell_type": "markdown",
      "source": [
        "## Q1\n",
        "\n",
        "[Amazon / Goldman Sachs] You are given a value of the node which is to be deleted from the linked list of N nodes. The task is to delete the node and print remaining list using `print` method of LinkedList.\n",
        "\n",
        "**Note**: If there is more than one node with the same value as a given value, delete the node in front of it. It is guaranteed that the node to be deleted is not a tail node in the linked list."
      ],
      "metadata": {
        "id": "iO3oyH5Jj44f"
      }
    },
    {
      "cell_type": "code",
      "source": [
        "def remove(linked_list, val):\n",
        "  \"\"\"\n",
        "  >>> remove(LinkedList([1, 2, 3, 4, 5]), 2)\n",
        "  1->3->4->5\n",
        "  >>> remove(LinkedList([1, 2, 3, 4, 5]), 3)\n",
        "  1->2->4->5\n",
        "  >>> remove(LinkedList([1, 2, 3, 4, 5]), 1)\n",
        "  2->3->4->5\n",
        "  >>> remove(LinkedList([1, 2, 3, 1, 2, 3]), 2)\n",
        "  1->3->1->2->3\n",
        "  >>> remove(LinkedList([1, 2, 3, 4, 5, 6, 7, 8, 9, 10]), 2)\n",
        "  1->3->4->5->6->7->8->9->10\n",
        "  \"\"\"\n",
        "  # YOUR CODE HERE\n",
        "  node = linked_list.head\n",
        "\n",
        "  while node:\n",
        "    if node.next.elem == val:\n",
        "      node.next = node.next.next\n",
        "      break\n",
        "    else:\n",
        "      node = node.next\n",
        "\n",
        "  linked_list.print_all()"
      ],
      "metadata": {
        "id": "h3n38aHWj8KK"
      },
      "execution_count": 8,
      "outputs": []
    },
    {
      "cell_type": "code",
      "source": [
        "doctest.run_docstring_examples(remove, globals(), False, __name__)"
      ],
      "metadata": {
        "id": "Wx0Kz6mlj8oz"
      },
      "execution_count": 9,
      "outputs": []
    },
    {
      "cell_type": "code",
      "source": [
        "#@title Hint 👀\n",
        "def remove(linked_list, val):\n",
        "  node = # YOUR CODE HERE\n",
        "\n",
        "  while node:\n",
        "    if # YOUR CODE HERE:\n",
        "      break\n",
        "    node = # YOUR CODE HERE\n",
        "\n",
        "  next = node.next\n",
        "  node.elem = # YOUR CODE HERE\n",
        "  node.next = # YOUR CODE HERE\n",
        "\n",
        "  linked_list.print_all()"
      ],
      "metadata": {
        "id": "Qm_i-k0WD6hU",
        "cellView": "form"
      },
      "execution_count": null,
      "outputs": []
    },
    {
      "cell_type": "markdown",
      "source": [
        "## Q2\n",
        "\n",
        "[Microsoft] Given a linked list and positions with index m and n. Reverse the linked list from position m to n."
      ],
      "metadata": {
        "id": "X88kFjC7j9GI"
      }
    },
    {
      "cell_type": "code",
      "source": [
        "def reverse_between(linked_list, m, n):\n",
        "  \"\"\"\n",
        "  >>> reverse_between(LinkedList([1, 2]), 0, 1)\n",
        "  2->1\n",
        "  >>> reverse_between(LinkedList([1, 2, 3, 4]), 0, 3)\n",
        "  4->3->2->1\n",
        "  >>> reverse_between(LinkedList([1, 2, 3, 4, 5]), 0, 1)\n",
        "  2->1->3->4->5\n",
        "  >>> reverse_between(LinkedList([1, 2, 3, 4, 5, 6, 7]), 0, 5)\n",
        "  6->5->4->3->2->1->7\n",
        "  >>> reverse_between(LinkedList([1, 7, 5, 3, 9, 8, 10, 2, 2, 5]), 0, 7)\n",
        "  2->10->8->9->3->5->7->1->2->5\n",
        "  \"\"\"\n",
        "  # YOUR CODE HERE\n",
        "\n",
        "\n",
        "  new_list = []\n",
        "\n",
        "  node = linked_list.head.next\n",
        "\n",
        "  for i in range(m):\n",
        "    node = node.next\n",
        "\n",
        "  for i in range(n-m+1):\n",
        "    elem = node.elem\n",
        "    new_list.append(elem)\n",
        "    node = node.next\n",
        "\n",
        "  new_list = new_list[::-1]\n",
        "\n",
        "\n",
        "  node = linked_list.head.next\n",
        "\n",
        "  for i in range(m):\n",
        "    node = node.next\n",
        "\n",
        "  for t in new_list:\n",
        "    node.elem = t\n",
        "    node = node.next\n",
        "\n",
        "\n",
        "  linked_list.print_all()\n",
        "\n",
        "\n",
        "\n"
      ],
      "metadata": {
        "id": "_IpDNFWVj-L6"
      },
      "execution_count": 18,
      "outputs": []
    },
    {
      "cell_type": "code",
      "source": [
        "doctest.run_docstring_examples(reverse_between, globals(), False, __name__)"
      ],
      "metadata": {
        "id": "NK1Tx4f3j-Xg"
      },
      "execution_count": 19,
      "outputs": []
    },
    {
      "cell_type": "code",
      "source": [
        "#@title Hint 👀\n",
        "def reverse_between(linked_list, m, n):\n",
        "  node = linked_list.head\n",
        "  track = []\n",
        "\n",
        "  for # YOUR CODE HERE:\n",
        "    node = node.next\n",
        "\n",
        "  for # YOUR CODE HERE:\n",
        "    node = node.next\n",
        "    track.append(node.elem)\n",
        "\n",
        "  track.reverse()\n",
        "\n",
        "  node = linked_list.head\n",
        "\n",
        "  for i in range(m):\n",
        "    node = node.next\n",
        "\n",
        "  for t in # YOUR CODE HERE:\n",
        "    node = node.next\n",
        "    node.elem = t\n",
        "\n",
        "  linked_list.print_all()"
      ],
      "metadata": {
        "id": "-lmlczRjD90Q",
        "cellView": "form"
      },
      "execution_count": null,
      "outputs": []
    },
    {
      "cell_type": "markdown",
      "source": [
        "##Q3"
      ],
      "metadata": {
        "id": "P25eAHlB55N9"
      }
    },
    {
      "cell_type": "markdown",
      "source": [
        "Given a linked list of size **N**,\n",
        "\n",
        "your task is to complete the function is_length_even_or_odd() which contains **head** of the linked list and check whether the length of linked list is even or odd.\n",
        "\n",
        "The is_length_even_or_odd() function takes one input : N elements of **linked list**.\n",
        "Your output should be \"even\"(without quotes) if the length is even. Else, \"odd\"(without quotes) if the length is odd."
      ],
      "metadata": {
        "id": "3uJI19Y-CAIn"
      }
    },
    {
      "cell_type": "code",
      "source": [
        "def is_length_even_or_odd(linked_list):\n",
        "  \"\"\"\n",
        "  >>> is_length_even_or_odd(LinkedList([]))\n",
        "  'even'\n",
        "  >>> is_length_even_or_odd(LinkedList([1]))\n",
        "  'odd'\n",
        "  >>> is_length_even_or_odd(LinkedList([1, 2, 3]))\n",
        "  'odd'\n",
        "  >>> is_length_even_or_odd(LinkedList([1, 2, 3, 4]))\n",
        "  'even'\n",
        "  >>> is_length_even_or_odd(LinkedList([1, 2, 3, 4, 5]))\n",
        "  'odd'\n",
        "  >>> is_length_even_or_odd(LinkedList([1, 2, 3, 4, 5, 6]))\n",
        "  'even'\n",
        "  >>> is_length_even_or_odd(LinkedList([1, 2, 3, 4, 5, 6, 7]))\n",
        "  'odd'\n",
        "  >>> is_length_even_or_odd(LinkedList([1, 2, 3, 4, 5, 6, 7, 8, 9, 10]))\n",
        "  'even'\n",
        "  >>> is_length_even_or_odd(LinkedList([1, 2, 3, 4, 5, 6, 7, 8, 9, 10, 11, 12, 13, 14, 15, 16, 17, 18, 19, 20]))\n",
        "  'even'\n",
        "  >>> is_length_even_or_odd(LinkedList([1, 2, 3, 4, 5, 6, 7, 8, 9, 10, 11, 12, 13, 14, 15, 16, 17, 18, 19, 20, 21]))\n",
        "  'odd'\n",
        "  >>> is_length_even_or_odd(LinkedList([1, 2, 3, 4, 5, 6, 7, 8, 9, 10, 11, 12, 13, 14, 15, 16, 17, 18, 19, 20, 21, 22, 23, 24, 25, 26, 27, 28, 29, 30]))\n",
        "  'even'\n",
        "  \"\"\"\n",
        "  # YOUR CODE HERE\n",
        "  cnt = 0\n",
        "\n",
        "  node = linked_list.head\n",
        "\n",
        "  while (node.next):\n",
        "    cnt +=1\n",
        "    node = node.next\n",
        "\n",
        "  if cnt % 2 == 0:\n",
        "    return 'even'\n",
        "\n",
        "  else:\n",
        "    return 'odd'"
      ],
      "metadata": {
        "id": "IOBJfpVr6AUK"
      },
      "execution_count": 22,
      "outputs": []
    },
    {
      "cell_type": "code",
      "source": [
        "doctest.run_docstring_examples(is_length_even_or_odd, globals(), False, __name__)"
      ],
      "metadata": {
        "id": "hDzupRnN6AhM"
      },
      "execution_count": 23,
      "outputs": []
    },
    {
      "cell_type": "code",
      "source": [
        "#@title Hint 👀\n",
        "def get_count(linked_list):\n",
        "  count = 0\n",
        "  node = # YOUR CODE HERE\n",
        "\n",
        "  while # YOUR CODE HERE:\n",
        "    count += 1\n",
        "    node = node.next\n",
        "\n",
        "  return count"
      ],
      "metadata": {
        "id": "NRg_LcvUD-r4"
      },
      "execution_count": null,
      "outputs": []
    },
    {
      "cell_type": "markdown",
      "source": [
        "##Q4 (Optional)"
      ],
      "metadata": {
        "id": "986_jNvp59cU"
      }
    },
    {
      "cell_type": "markdown",
      "source": [
        "[Google] Given two linked list of size N1 and N2 respectively of distinct elements.\n",
        "\n",
        "your task is to complete the function count_pairs(), which returns the count of all pairs from both lists whose sum is equal to the given value X.\n",
        "\n",
        "\n",
        "Note: The 2 numbers of a pair should be parts of different lists.\n",
        "\n",
        "\n",
        "**Note : All elements in a linked list are unique.**"
      ],
      "metadata": {
        "id": "327vIEke82KX"
      }
    },
    {
      "cell_type": "code",
      "source": [
        "def count_pair(linklist1, linklist2, value):\n",
        "  \"\"\"\n",
        "  Make LinkedList above class code\n",
        "  linkedlist1 is first LinkedList\n",
        "  linkdelist2 is second LinkedList\n",
        "  value is target value\n",
        "  >>> count_pair(LinkedList([1, 2, 3, 4, 5]), LinkedList([11, 12, 13]), 15)\n",
        "  3\n",
        "  >>> count_pair(LinkedList([7, 5, 1, 3]), LinkedList([3, 5, 2, 8]), 10)\n",
        "  2\n",
        "  >>> count_pair(LinkedList([1, 2, 3, 4, 5, 6, 7, 8, 9]), LinkedList([1, 2, 3, 4, 5, 6, 7, 8, 9]), 10)\n",
        "  9\n",
        "  >>> count_pair(LinkedList([1, 2, 5, 7, 8, 9]), LinkedList([0, 1, 2, 3, 4, 5, 6, 7, 8, 9]), 5)\n",
        "  3\n",
        "  >>> count_pair(LinkedList([]), LinkedList([]), 10)\n",
        "  0\n",
        "  >>> count_pair(LinkedList([1]), LinkedList([1]), 2)\n",
        "  1\n",
        "  \"\"\"\n",
        "  # YOUR CODE HERE"
      ],
      "metadata": {
        "id": "nYSKRcMP8Y_X"
      },
      "execution_count": null,
      "outputs": []
    },
    {
      "cell_type": "code",
      "source": [
        "doctest.run_docstring_examples(count_pair, globals(), False, __name__)"
      ],
      "metadata": {
        "id": "10s6ulNN8Y4g"
      },
      "execution_count": null,
      "outputs": []
    },
    {
      "cell_type": "markdown",
      "source": [
        "##Q5 (Optional)"
      ],
      "metadata": {
        "id": "0hUY_724RFOl"
      }
    },
    {
      "cell_type": "markdown",
      "source": [
        "[(c) TA-2024] Write a function that joins two linked lists(linklist1, linklist2) at a specific position(k)."
      ],
      "metadata": {
        "id": "sz4x0qxxljNs"
      }
    },
    {
      "cell_type": "code",
      "source": [
        "def join_linked_list(linklist1, k, linklist2):\n",
        "    \"\"\"\n",
        "    >>> join_linked_list(LinkedList([9, 8, 7, 6, 5]), 2, LinkedList([1, 2, 3]))\n",
        "    9->8->1->2->3->7->6->5\n",
        "    >>> join_linked_list(LinkedList([3, 9, 2]), 1, LinkedList([1, 4, 1, 5]))\n",
        "    3->1->4->1->5->9->2\n",
        "    >>> join_linked_list(LinkedList([2, 1, 2, 1]), 0, LinkedList([9, 8, 9]))\n",
        "    9->8->9->2->1->2->1\n",
        "    \"\"\"\n",
        "  # YOUR CODE HERE"
      ],
      "metadata": {
        "id": "tLMfJVZFRKEN"
      },
      "execution_count": null,
      "outputs": []
    },
    {
      "cell_type": "code",
      "source": [
        "doctest.run_docstring_examples(join_linked_list, globals(), False, __name__)"
      ],
      "metadata": {
        "id": "e4sjU3CRl4E2"
      },
      "execution_count": null,
      "outputs": []
    },
    {
      "cell_type": "markdown",
      "source": [
        "##Q6"
      ],
      "metadata": {
        "id": "j_nby8L1tZpA"
      }
    },
    {
      "cell_type": "markdown",
      "source": [
        "Make your own `Stack` class.\n",
        "\n",
        "Read the code of `Linked List` Class above(**Code Setting**) and create your Stack Class. Your Class must contain `push()`, `pop()`, `is_empty()` and `top()` functions.\n",
        "\n",
        "For `push()` function, it gets a input 'data' and add it on the **top** of the stack.There is no other output.\n",
        "\n",
        "(Hint: Use a function that add new data on the last of the list.)\n",
        "\n",
        "For `pop()` function, it has no input but output must be the data which is on the **top** of the stack. Also `pop()` function has to remove the top data after returning it.\n",
        "\n",
        "(Hint: You can use pop function in list or you can return the last data of the stack and remove it.)\n",
        "\n",
        "For `top()` function, it has no input but output must be the data which is on the top of the stack. No removal for top function.\n",
        "\n",
        "For `is_empty()` function, it has no input but output must be boolean. Return **True** if stack is empty and **False** for else.\n",
        "\n",
        "For `length()` function, it has no input but output must be the length of the stack."
      ],
      "metadata": {
        "id": "d3u3RIzZtdpx"
      }
    },
    {
      "cell_type": "code",
      "source": [
        "class Stack:\n",
        "  def __init__(self, data):\n",
        "    self.stack = []\n",
        "    if data != None:\n",
        "      for l in data:\n",
        "        self.push(l)\n",
        "\n",
        "  def push(self, data):\n",
        "    # YOUR CODE HERE\n",
        "    self.stack.append(data)\n",
        "\n",
        "  def pop(self):\n",
        "    # YOUR CODE HERE\n",
        "    if self.is_empty():\n",
        "      print(\"Stack is Empty\")\n",
        "      return None\n",
        "    return self.stack.pop()\n",
        "\n",
        "  def top(self):\n",
        "    # YOUR CODE HERE\n",
        "    if self.is_empty():\n",
        "      print(\"Stack is Empty\")\n",
        "      return None\n",
        "    return self.stack[-1]\n",
        "\n",
        "  def is_empty(self):\n",
        "    # YOUR CODE HERE\n",
        "    return len(self.stack) == 0\n",
        "\n",
        "  def length(self):\n",
        "    # YOUR CODE HERE\n",
        "    return len(self.stack)"
      ],
      "metadata": {
        "id": "xIuEJujQB9Cm"
      },
      "execution_count": 33,
      "outputs": []
    },
    {
      "cell_type": "code",
      "source": [
        "# DO NOT TOUCH CODE HERE\n",
        "\n",
        "def test_case(list_test):\n",
        "  \"\"\"\n",
        "  >>> test_case([1])\n",
        "  [100, 1, 1, True]\n",
        "  >>> test_case([1, 2, 4, 10])\n",
        "  [100, 10, 10, False]\n",
        "  >>> test_case([0, 0, 10, 0])\n",
        "  [100, 0, 0, False]\n",
        "  >>> test_case([1, 2, 3, 4, 5, 6, 7, 8, 9, 0])\n",
        "  [100, 0, 0, False]\n",
        "  >>> test_case([])\n",
        "  Stack is Empty\n",
        "  Stack is Empty\n",
        "  [100, None, None, True]\n",
        "  \"\"\"\n",
        "  ex_stack = Stack(list_test)\n",
        "  ex_stack.push(100)\n",
        "  temp = ex_stack.pop()\n",
        "  return_list = list()\n",
        "  return_list.append(temp)\n",
        "  temp = ex_stack.top()\n",
        "  return_list.append(temp)\n",
        "  temp = ex_stack.pop()\n",
        "  return_list.append(temp)\n",
        "  temp = ex_stack.is_empty()\n",
        "  return_list.append(temp)\n",
        "  return return_list\n",
        "\n",
        "# DO NOT TOUCH CODE HERE"
      ],
      "metadata": {
        "id": "DCgkjXbbQePj"
      },
      "execution_count": 34,
      "outputs": []
    },
    {
      "cell_type": "code",
      "source": [
        "doctest.run_docstring_examples(test_case, globals(), False, __name__)"
      ],
      "metadata": {
        "id": "IduiBQ6dQwu4"
      },
      "execution_count": 35,
      "outputs": []
    },
    {
      "cell_type": "code",
      "source": [
        "#@title Hint 👀\n",
        "No hint for this question :)"
      ],
      "metadata": {
        "id": "9Mhl-MO9EwjX"
      },
      "execution_count": null,
      "outputs": []
    },
    {
      "cell_type": "markdown",
      "source": [
        "##Q7"
      ],
      "metadata": {
        "id": "lGF_FvzKY-KV"
      }
    },
    {
      "cell_type": "markdown",
      "source": [
        "Given a mathematical equation using numbers/variables and +, -, *, /. Print the equation in reverse.\n",
        "\n",
        "For example S =\"20-3+5/2\" to change \"2/5+3-20\"\n",
        "\n",
        "**Note** : Solve the problem using the stack that you implemented in Q7"
      ],
      "metadata": {
        "id": "Wih7GD4CmHbl"
      }
    },
    {
      "cell_type": "code",
      "source": [
        "def reverse_eqn(change_string):\n",
        "  \"\"\"\n",
        "  >>> reverse_eqn(\"20-3+5/2\")\n",
        "  2/5+3-20\n",
        "  >>> reverse_eqn(\"a+b*c-d/e\")\n",
        "  e/d-c*b+a\n",
        "  >>> reverse_eqn(\"1+2\")\n",
        "  2+1\n",
        "  >>> reverse_eqn(\"12/34-12\")\n",
        "  12-34/12\n",
        "  >>> reverse_eqn(\"you+can/solve/this-question\")\n",
        "  question-this/solve/can+you\n",
        "  >>> reverse_eqn(\"\")\n",
        "  Input string is wrong\n",
        "  >>> reverse_eqn(\"----++++12++++34\")\n",
        "  34++++12++++----\n",
        "  \"\"\"\n",
        "  # YOUR CODE HERE\n",
        "  if change_string == \"\":\n",
        "    print(\"Input string is wrong\")\n",
        "    return\n",
        "\n",
        "  stack = []\n",
        "  result = []\n",
        "  for char in change_string:\n",
        "    if char in ['+','-','*','/']:\n",
        "      while stack:\n",
        "        result.append(stack.pop())\n",
        "      result.append(char)\n",
        "\n",
        "    else:\n",
        "      stack.append(char)\n",
        "\n",
        "  while stack:\n",
        "    result.append(stack.pop())\n",
        "\n",
        "  print(\"\".join(result[::-1]))"
      ],
      "metadata": {
        "id": "boIqiCcyZAkk"
      },
      "execution_count": 48,
      "outputs": []
    },
    {
      "cell_type": "code",
      "source": [
        "doctest.run_docstring_examples(reverse_eqn, globals(), False, __name__)"
      ],
      "metadata": {
        "id": "DraHquNNoLp_"
      },
      "execution_count": 49,
      "outputs": []
    },
    {
      "cell_type": "code",
      "source": [
        "#@title Hint 👀\n",
        "def reverse_eqn(change_string):\n",
        "  result = \"\"\n",
        "  stack = Stack([])\n",
        "  operators = # YOUR CODE HERE\n",
        "  for k in range(# YOUR CODE HERE):\n",
        "    if change_string[k] in operators:\n",
        "      while stack.is_empty()==False:\n",
        "        result += stack.pop()\n",
        "      result += change_string[k]\n",
        "    else:\n",
        "      stack.push(change_string[k])\n",
        "  while stack.is_empty()==False:\n",
        "      result += stack.pop()\n",
        "  if # YOUR CODE HERE:\n",
        "    print(\"Input string is wrong\")\n",
        "  else:\n",
        "    print(result)"
      ],
      "metadata": {
        "id": "lPJUmAoqEBAi"
      },
      "execution_count": null,
      "outputs": []
    },
    {
      "cell_type": "markdown",
      "source": [
        "## Q8"
      ],
      "metadata": {
        "id": "vjFVARsCuoF6"
      }
    },
    {
      "cell_type": "markdown",
      "source": [
        "[Yatra.com] Given a string S, composed of different combinations of '(' , ')', '{', '}', '[', ']'. The task is to verify the validity of the arrangement.\n",
        "\n",
        "**Note**:\n",
        "1. Ignore the precedence of brackets.\n",
        "2. Solve the problem using the stack that you implemented in Q7"
      ],
      "metadata": {
        "id": "bWZB33m_u1AD"
      }
    },
    {
      "cell_type": "code",
      "source": [
        "def valid(bracket_string):\n",
        "  \"\"\"\n",
        "  >>> valid(\"()[]{}\")\n",
        "  True\n",
        "  >>> valid(\"())({}\")\n",
        "  False\n",
        "  >>> valid(\"((})())\")\n",
        "  False\n",
        "  >>> valid(\"((\")\n",
        "  False\n",
        "  >>> valid(\"{()()}[(())]\")\n",
        "  True\n",
        "  >>> valid(\"{()}()()()[][()()()]{}\")\n",
        "  True\n",
        "  >>> valid(\"{()}()()()[][()()()]{}}\")\n",
        "  False\n",
        "  \"\"\"\n",
        "  # YOUR CODE HERE\n",
        "  pairs = {\")\":\"(\", \"}\":\"{\", \"]\":\"[\"}\n",
        "\n",
        "  stack = Stack([])\n",
        "\n",
        "  for char in bracket_string:\n",
        "    if char in ['(', '{', '[']:\n",
        "      stack.push(char)\n",
        "\n",
        "    else:\n",
        "      if stack.is_empty():\n",
        "        return False\n",
        "      elif pairs[char] == stack.pop():\n",
        "        continue\n",
        "      else:\n",
        "        return False\n",
        "\n",
        "  if stack.is_empty():\n",
        "    return True\n",
        "  else:\n",
        "    return False\n",
        "\n"
      ],
      "metadata": {
        "id": "vNJUqTaYvD10"
      },
      "execution_count": 55,
      "outputs": []
    },
    {
      "cell_type": "code",
      "source": [
        "doctest.run_docstring_examples(valid, globals(), False, __name__)"
      ],
      "metadata": {
        "id": "qfBaSnw2xexW"
      },
      "execution_count": 56,
      "outputs": []
    },
    {
      "cell_type": "code",
      "source": [
        "#@title Hint 👀\n",
        "def valid(bracket_string):\n",
        "  st = Stack([])\n",
        "  for i in bracket_string:\n",
        "      if i=='(' or i=='{' or i=='[':\n",
        "          st.push(i)\n",
        "      elif # YOUR CODE HERE:\n",
        "          return False\n",
        "      elif (i==')' and st.top()!='(' ) or (i=='}' and st.top()!='{' ) or (i==']' and st.top()!='[' ):\n",
        "          return False\n",
        "      else:\n",
        "          st.pop()\n",
        "  if # YOUR CODE HERE:\n",
        "      return True\n",
        "  else:\n",
        "      return False\n"
      ],
      "metadata": {
        "id": "NhifbjvbEB3B",
        "cellView": "form"
      },
      "execution_count": null,
      "outputs": []
    },
    {
      "cell_type": "markdown",
      "source": [
        "##Q9 (Optional)"
      ],
      "metadata": {
        "id": "AVmiXvVimqVw"
      }
    },
    {
      "cell_type": "markdown",
      "source": [
        "[COCI 2013/2014, Contest #5, Q3] All \"explosion\" strings included in a string explode and disappear, causing further explosions in the newly formed string if any new explosion strings are created. After all explosions have ended, if something remains in the string, it should be outputted; otherwise, output \"FRULA\". For example, if \"bc\" is an explosion string, and it is removed from \"abcdfghbc\", only \"adfgh\" remains.\n",
        "Create a function that returns the remaining string after all explosions. If nothing remains, return \"FRULA\"."
      ],
      "metadata": {
        "id": "3nJ2Bx3PmrcL"
      }
    },
    {
      "cell_type": "code",
      "source": [
        "def explode_string(s, explosion):\n",
        "    \"\"\"\n",
        "    >>> explode_string(\"mirkovC4nizCC44\", \"C4\")\n",
        "    mirkovniz                                      # mirkovC4nizCC44 -> mirkovnizCC44 -> mirkovnizC4 -> mirkovniz\n",
        "    >>> explode_string(\"12ab112ab2ab\", \"12ab\")\n",
        "    FRULA                                          # 12ab112ab2ab -> 112ab2ab -> 12ab -> FRULA\n",
        "    \"\"\"\n",
        "    # YOUR CODE HERE"
      ],
      "metadata": {
        "id": "-hvZ1WMrmtOk"
      },
      "execution_count": null,
      "outputs": []
    },
    {
      "cell_type": "code",
      "source": [
        "doctest.run_docstring_examples(explode_string, globals(), False, __name__)"
      ],
      "metadata": {
        "id": "Ii7qx6Drmw9n"
      },
      "execution_count": null,
      "outputs": []
    }
  ]
}