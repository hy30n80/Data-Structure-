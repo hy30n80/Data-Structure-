{
  "nbformat": 4,
  "nbformat_minor": 0,
  "metadata": {
    "colab": {
      "provenance": [],
      "toc_visible": true,
      "include_colab_link": true
    },
    "kernelspec": {
      "name": "python3",
      "display_name": "Python 3"
    },
    "language_info": {
      "name": "python"
    }
  },
  "cells": [
    {
      "cell_type": "markdown",
      "metadata": {
        "id": "view-in-github",
        "colab_type": "text"
      },
      "source": [
        "<a href=\"https://colab.research.google.com/github/hy30n80/Data-Structure-/blob/main/HW_07_binary_tree_heap_priority_queue.ipynb\" target=\"_parent\"><img src=\"https://colab.research.google.com/assets/colab-badge.svg\" alt=\"Open In Colab\"/></a>"
      ]
    },
    {
      "cell_type": "markdown",
      "source": [
        "# EC2202 Homework #7 (Due: 1:00 pm, May. 14, 2024)"
      ],
      "metadata": {
        "id": "4i_Y_6Mjjlg3"
      }
    },
    {
      "cell_type": "markdown",
      "source": [
        "**Disclaimer**\n",
        "This homework is based on\n",
        "\n",
        "1. [GeeksforGeeks](https://practice.geeksforgeeks.org/home)\n"
      ],
      "metadata": {
        "id": "EbIb_c3Mju4X"
      }
    },
    {
      "cell_type": "markdown",
      "source": [
        "## Submission Link"
      ],
      "metadata": {
        "id": "0U29o-R0mLkO"
      }
    },
    {
      "cell_type": "markdown",
      "source": [
        "**Submit the sharing link :)**\n",
        "- Submit by [clicking here](https://forms.gle/Tn72KNoL3F9qPeBf7)!\n",
        "- Check your sumbission by [clicking here](https://docs.google.com/spreadsheets/d/1UKzDHO1tNAlAAbrLwf-4oBxLVqArsxuhbpwvTZb1RbQ/edit?usp=sharing)!"
      ],
      "metadata": {
        "id": "m33Sm8mQmN8s"
      }
    },
    {
      "cell_type": "markdown",
      "source": [
        "## Student Information"
      ],
      "metadata": {
        "id": "or_FSdW2mClU"
      }
    },
    {
      "cell_type": "markdown",
      "source": [
        "* Student ID: YOUR ID\n",
        "* Name: YOUR NAME"
      ],
      "metadata": {
        "id": "zK2IdssdmHlt"
      }
    },
    {
      "cell_type": "markdown",
      "source": [
        "## Evaluation Code Setting"
      ],
      "metadata": {
        "id": "m3Qvljj8jzD_"
      }
    },
    {
      "cell_type": "markdown",
      "source": [
        "Run the blow to test your implementation :)"
      ],
      "metadata": {
        "id": "9qWTFg1fj10p"
      }
    },
    {
      "cell_type": "code",
      "execution_count": 1,
      "metadata": {
        "id": "CVkw9OJkK6V0"
      },
      "outputs": [],
      "source": [
        "import doctest"
      ]
    },
    {
      "cell_type": "markdown",
      "source": [
        "**[Note]**\n",
        "Binary trees can be represented in array representation (sequential representation).\n",
        "\n",
        "```\n",
        "        4\n",
        "       / \\\n",
        "      2   6\n",
        "     / \\  / \\\n",
        "    1   3 5  7\n",
        "```\n",
        "The tree that looks like the diagram above is represented by array as `[4, 2, 6, 1, 3, 5, 7]`\n",
        "\n",
        "<br/>\n",
        "\n",
        "Array values give the parent node of that particular index (or node).\n",
        "\n",
        "In order to represent a tree using an array, the numbering of nodes start from 0 to (n-1).\n",
        "\n",
        "Consider the below illustration as follows:\n",
        "```\n",
        "       A(0)    \n",
        "     /   \\\n",
        "    B(1)  C(2)  \n",
        "  /   \\      \\\n",
        " D(3)  E(4)   F(6)\n",
        "```\n",
        "\n",
        "In the problem **# 1** and **# 2**, binary trees are presented in the array representation.\n",
        "\n",
        "**If the value of the array entry is zero, the node is considered non-existent.**\n",
        "\n",
        "Therefore, the above tree is represented by array as `['A', 'B', 'C', 'D', 'E', 0, 'F']`\n",
        "\n"
      ],
      "metadata": {
        "id": "HVrbi8W2wGzK"
      }
    },
    {
      "cell_type": "markdown",
      "source": [
        "## Q1\n",
        "\n",
        "[Accolite / Amazon] Given a Binary Tree, print Left view of it. Left view of a Binary Tree is set of nodes visible when tree is visited from Left side. The task is to complete the function left_view(), which accepts root of the tree as argument.\n",
        "\n",
        "Left view of following tree is 1 2 4 8.\n",
        "```\n",
        "\n",
        "          1\n",
        "       /     \\\n",
        "     2        3\n",
        "   /   \\    /    \\\n",
        "  4     5   6    7\n",
        "   \\\n",
        "    8   \n",
        "```"
      ],
      "metadata": {
        "id": "iO3oyH5Jj44f"
      }
    },
    {
      "cell_type": "code",
      "source": [
        "def left_view(arr):\n",
        "  '''\n",
        "  >>> left_view([1, 3, 2])\n",
        "  [1, 3]\n",
        "  >>> left_view([10, 20, 30, 40, 60, 0, 0])\n",
        "  [10, 20, 40]\n",
        "  >>> left_view([1, 2, 3, 4, 5, 6, 7, 0, 8])\n",
        "  [1, 2, 4, 8]\n",
        "  >>> left_view([1, 2, 3, 4, 5, 6, 7, 8, 9])\n",
        "  [1, 2, 4, 8]\n",
        "  >>> left_view([1, 2, 3, 4, 5, 6, 7, 8, 9, 10, 11, 12, 13, 14, 15, 16])\n",
        "  [1, 2, 4, 8, 16]\n",
        "  >>> left_view([8, 0, 2, 0, 0, 0, 3, 0, 0, 0, 0, 0, 0, 1, 2])\n",
        "  [8, 2, 3, 1]\n",
        "  '''\n",
        "  # YOUR CODE HERE\n",
        "  #[0, 1, 3, 7, ... 2^n-1]\n",
        "\n",
        "  result = []\n",
        "  i = 0\n",
        "  while(True):\n",
        "\n",
        "    start = 2**(i) - 1\n",
        "    if start >= len(arr):\n",
        "      break\n",
        "\n",
        "    end = 2**(i+1)-1\n",
        "    for j in range(start, end):\n",
        "      if arr[j] != 0:\n",
        "        result.append(arr[j])\n",
        "        break\n",
        "\n",
        "    i += 1\n",
        "\n",
        "  return result\n",
        "\n",
        "\n",
        "\n"
      ],
      "metadata": {
        "id": "h3n38aHWj8KK"
      },
      "execution_count": 10,
      "outputs": []
    },
    {
      "cell_type": "code",
      "source": [
        "doctest.run_docstring_examples(left_view, globals(), False, __name__)"
      ],
      "metadata": {
        "id": "Wx0Kz6mlj8oz"
      },
      "execution_count": 11,
      "outputs": []
    },
    {
      "cell_type": "markdown",
      "source": [
        "## Q2\n",
        "\n",
        "[Amazon / Microsoft] The diameter of a tree (sometimes called the width) is the number of nodes on the longest path between two end nodes. The diagram below shows two trees each with diameter nine, the leaves that form the ends of the longest path are shaded (note that there is more than one path in each tree of length nine, but no path longer than nine nodes).\n",
        "\n",
        "<img src=\"https://contribute.geeksforgeeks.org/wp-content/uploads/diameter.jpg\" />\n",
        "\n",
        "**Your Task**:\n",
        "You need to complete the function diameter() that takes binary tree as parameter and returns the diameter.\n"
      ],
      "metadata": {
        "id": "X88kFjC7j9GI"
      }
    },
    {
      "cell_type": "code",
      "source": [
        "import doctest\n",
        "\n",
        "def height(arr, i):\n",
        "  l = i*2 + 1\n",
        "  r = i*2 + 2\n",
        "\n",
        "  if len(arr) <= i:\n",
        "    return 0\n",
        "\n",
        "  elif arr[i] == 0:\n",
        "    return 0\n",
        "\n",
        "  else:\n",
        "    return max(height(arr, l), height(arr, r)) + 1\n",
        "\n",
        "def diameter_for_subtree(arr,i):\n",
        "  l = i*2 + 1\n",
        "  r = i*2 + 2\n",
        "\n",
        "  if len(arr) <= i:\n",
        "    return 0\n",
        "\n",
        "  elif arr[i] == 0:\n",
        "    return 0\n",
        "\n",
        "  else:\n",
        "    l_height = height(arr, l)\n",
        "    r_height = height(arr, r)\n",
        "    l_diameter = diameter_for_subtree(arr, l)\n",
        "    r_diameter = diameter_for_subtree(arr, r)\n",
        "\n",
        "    return max(l_height + r_height + 1, max(l_diameter, r_diameter))\n",
        "\n",
        "def diameter(arr):\n",
        "  '''\n",
        "  >>> diameter([1, 3, 2])\n",
        "  3\n",
        "  >>> diameter([10, 20, 30, 40, 60, 0, 0])\n",
        "  4\n",
        "  >>> diameter([1, 2, 3, 4, 5, 0, 7, 0, 0, 10, 11, 0, 0, 0, 15, 0, 0, 0, 0, 0, 0, 0, 0, 0, 0, 0, 0, 0, 0, 31, 32, 0, 0, 0, 0, 0, 0, 0, 0, 0, 0, 0, 0, 0, 0, 0, 0, 0, 0, 0, 0, 0, 0, 0, 0, 0, 0, 0, 0, 60, 61, 0, 0])\n",
        "  9\n",
        "  >>> diameter([1, 2, 3, 4, 5, 0, 7, 8, 9, 0, 11, 0, 0, 0, 0, 0, 0, 18, 0, 0, 0, 22, 23, 0, 0, 0, 0, 0, 0, 0, 0, 0, 0, 0, 0, 36, 37, 0, 0, 0, 0, 0, 0, 0, 0, 0, 47, 0, 0, 0, 0, 0, 0, 0, 0, 0, 0, 0, 0, 0, 0, 0, 0])\n",
        "  9\n",
        "  >>> diameter([1, 2, 3, 4, 5, 0, 0, 8, 9, 0, 11, 0, 0, 0, 0, 0, 0, 18, 0, 0, 0, 22, 23, 0, 0, 0, 0, 0, 0, 0, 0, 0, 0, 0, 0, 36, 37, 0, 0, 0, 0, 0, 0, 0, 0, 0, 0, 0, 0, 0, 0, 0, 0, 0, 0, 0, 0, 0, 0, 0, 0, 0, 0])\n",
        "  8\n",
        "  >>> diameter([])\n",
        "  0\n",
        "  '''\n",
        "  # YOUR CODE HERE\n",
        "  return diameter_for_subtree(arr, 0)\n",
        "\n",
        "\n"
      ],
      "metadata": {
        "id": "_IpDNFWVj-L6"
      },
      "execution_count": 6,
      "outputs": []
    },
    {
      "cell_type": "code",
      "source": [
        "doctest.run_docstring_examples(diameter, globals(), False, __name__)"
      ],
      "metadata": {
        "id": "NK1Tx4f3j-Xg"
      },
      "execution_count": 7,
      "outputs": []
    },
    {
      "cell_type": "markdown",
      "source": [
        "## Q3"
      ],
      "metadata": {
        "id": "wxUaLpTWj-w0"
      }
    },
    {
      "cell_type": "markdown",
      "source": [
        "[Microsoft / Amazon / Oracle / Samsung / Visa] Heap sort\n",
        "\n",
        "Given an array of size N. Your task is to complete the functions `heapify()`, `build_heap()` which are used to implement `heap_sort()`. You have to return **arr** which is a given array. **You must implement `heap_sort()` in increasing order.**\n",
        "\n",
        "Heap sort algorithm is algorithm that using heap for sorting.\n",
        "Implement `heapify()` to make list into heap list which is list that satisfy the condition of heap. It will take array **arr**, the size of array **n**, index **i** as input.\n",
        "\n",
        "Implement `build_heap()` to create heap. You can use 'inserting' to implement `build_heap()`. It will take array **arr** and the size of array **n** as input.\n",
        "\n",
        "Implement `heap_sort()` to return sorted array using `build_heap()` and `heapify()`. It will take array **arr** and the size of array **n** as input.\n",
        "\n",
        "Hint: There is two way to implement heap sort. One is using insert to make heap and delete to return list. The other is using insert to make heap and switch each unsorted node to make heap list sorted. Get help from the gif below.\n",
        "\n",
        "\n",
        "<a title=\"Swfung8, CC BY-SA 3.0 &lt;https://creativecommons.org/licenses/by-sa/3.0&gt;, via Wikimedia Commons\" href=\"https://commons.wikimedia.org/wiki/File:Heapsort-example.gif\"><img width=\"256\" alt=\"Heapsort-example\" src=\"https://upload.wikimedia.org/wikipedia/commons/4/4d/Heapsort-example.gif\"></a>\n",
        "\n",
        "(Source : https://commons.wikimedia.org/wiki/File:Heapsort-example.gif)"
      ],
      "metadata": {
        "id": "OeTO_UaFib4e"
      }
    },
    {
      "cell_type": "code",
      "source": [
        "class HeapSort:\n",
        "    \"\"\"\n",
        "    >>> Heap = HeapSort()\n",
        "\n",
        "    >>> Heap.heap_sort([1,4,2,3,6,8,7,10,9,5], 10)\n",
        "    [1, 2, 3, 4, 5, 6, 7, 8, 9, 10]\n",
        "    >>> Heap.heap_sort([19, 18, 3, 7, 9, 16, 12], 7)\n",
        "    [3, 7, 9, 12, 16, 18, 19]\n",
        "    >>> Heap.heap_sort([7, 18, 0, 5, 5, 15, 1], 7)\n",
        "    [0, 1, 5, 5, 7, 15, 18]\n",
        "    >>> Heap.heap_sort([3, 7, 1, 18, 19, 11, 18, 6, 7, 14, 19, 9, 19, 12, 16, 15, 2, 17, 19, 19], 20)\n",
        "    [1, 2, 3, 6, 7, 7, 9, 11, 12, 14, 15, 16, 17, 18, 18, 19, 19, 19, 19, 19]\n",
        "    >>> Heap.heap_sort([6, 19, 14, 2, 8, 2, 9, 0, 3, 16, 18, 11, 1, 9, 3, 19, 12, 1, 20, 3, 2, 12, 11, 11, 14, 0, 6, 17, 11, 14], 30)\n",
        "    [0, 0, 1, 1, 2, 2, 2, 3, 3, 3, 6, 6, 8, 9, 9, 11, 11, 11, 11, 12, 12, 14, 14, 14, 16, 17, 18, 19, 19, 20]\n",
        "    >>> Heap.heap_sort([-4, 14, -13, 17, 14, -19, 4, -12, 10, 9], 10)\n",
        "    [-19, -13, -12, -4, 4, 9, 10, 14, 14, 17]\n",
        "    >>> Heap.heap_sort([10, -11, 17, 15, 0, -12, 8, -13, 7, -20, 7, 0, -1, 1, 15, 18, -18, -10, 7, -11], 20)\n",
        "    [-20, -18, -13, -12, -11, -11, -10, -1, 0, 0, 1, 7, 7, 7, 8, 10, 15, 15, 17, 18]\n",
        "    >>> Heap.heap_sort([20, 74, 92, 92, 83, 68, 75, 26, 58, 31, 90, 46, 87, 97, 21], 15)\n",
        "    [20, 21, 26, 31, 46, 58, 68, 74, 75, 83, 87, 90, 92, 92, 97]\n",
        "    >>> Heap.heap_sort([55, 63, 43, 25, 77, 51, 65, 99, 25, 23, 62, 4, 84, 86, 83, 47, 29, 52, 62, 12], 20)\n",
        "    [4, 12, 23, 25, 25, 29, 43, 47, 51, 52, 55, 62, 62, 63, 65, 77, 83, 84, 86, 99]\n",
        "    >>> Heap.heap_sort([], 0)\n",
        "    []\n",
        "    \"\"\"\n",
        "    #Heapify function to maintain heap property.\n",
        "    def heapify(self, arr, n, i):\n",
        "        # YOUR CODE HERE\n",
        "        largest = i\n",
        "        l = 2*i + 1\n",
        "        r = 2*i + 2\n",
        "        if l < n and arr[l] > arr[largest]:\n",
        "          largest = l\n",
        "\n",
        "        if r < n and arr[r] > arr[largest]:\n",
        "          largest = r\n",
        "\n",
        "        if largest != i:\n",
        "          arr[i], arr[largest] = arr[largest], arr[i]\n",
        "          self.heapify(arr, n, largest)\n",
        "\n",
        "\n",
        "    #Function to build a Heap from array.\n",
        "    def build_heap(self, arr,n):\n",
        "        # YOUR CODE HERE\n",
        "        idx = n//2 - 1\n",
        "        for i in range(idx, -1, -1):\n",
        "          self.heapify(arr, n, i)\n",
        "\n",
        "    #Function to sort an array using Heap Sort.\n",
        "    def heap_sort(self, arr, n):\n",
        "        # YOUR CODE HERE\n",
        "        self.build_heap(arr, n)\n",
        "        for i in range(n-1, 0, -1):\n",
        "          arr[i], arr[0] = arr[0], arr[i]\n",
        "          self.heapify(arr, i, 0)\n",
        "        return arr"
      ],
      "metadata": {
        "id": "CaRLRWz0kACi"
      },
      "execution_count": 8,
      "outputs": []
    },
    {
      "cell_type": "code",
      "source": [
        "doctest.run_docstring_examples(HeapSort, globals(), False, __name__)"
      ],
      "metadata": {
        "id": "V2llwTxykANn",
        "colab": {
          "base_uri": "https://localhost:8080/",
          "height": 295
        },
        "outputId": "12e7b617-6a61-459a-8109-5eb182501bf3"
      },
      "execution_count": 9,
      "outputs": [
        {
          "output_type": "error",
          "ename": "OSError",
          "evalue": "source code not available",
          "traceback": [
            "\u001b[0;31m---------------------------------------------------------------------------\u001b[0m",
            "\u001b[0;31mOSError\u001b[0m                                   Traceback (most recent call last)",
            "\u001b[0;32m<ipython-input-9-4421971eb902>\u001b[0m in \u001b[0;36m<cell line: 1>\u001b[0;34m()\u001b[0m\n\u001b[0;32m----> 1\u001b[0;31m \u001b[0mdoctest\u001b[0m\u001b[0;34m.\u001b[0m\u001b[0mrun_docstring_examples\u001b[0m\u001b[0;34m(\u001b[0m\u001b[0mHeapSort\u001b[0m\u001b[0;34m,\u001b[0m \u001b[0mglobals\u001b[0m\u001b[0;34m(\u001b[0m\u001b[0;34m)\u001b[0m\u001b[0;34m,\u001b[0m \u001b[0;32mFalse\u001b[0m\u001b[0;34m,\u001b[0m \u001b[0m__name__\u001b[0m\u001b[0;34m)\u001b[0m\u001b[0;34m\u001b[0m\u001b[0;34m\u001b[0m\u001b[0m\n\u001b[0m",
            "\u001b[0;32m/usr/lib/python3.10/doctest.py\u001b[0m in \u001b[0;36mrun_docstring_examples\u001b[0;34m(f, globs, verbose, name, compileflags, optionflags)\u001b[0m\n\u001b[1;32m   2123\u001b[0m     \u001b[0mfinder\u001b[0m \u001b[0;34m=\u001b[0m \u001b[0mDocTestFinder\u001b[0m\u001b[0;34m(\u001b[0m\u001b[0mverbose\u001b[0m\u001b[0;34m=\u001b[0m\u001b[0mverbose\u001b[0m\u001b[0;34m,\u001b[0m \u001b[0mrecurse\u001b[0m\u001b[0;34m=\u001b[0m\u001b[0;32mFalse\u001b[0m\u001b[0;34m)\u001b[0m\u001b[0;34m\u001b[0m\u001b[0;34m\u001b[0m\u001b[0m\n\u001b[1;32m   2124\u001b[0m     \u001b[0mrunner\u001b[0m \u001b[0;34m=\u001b[0m \u001b[0mDocTestRunner\u001b[0m\u001b[0;34m(\u001b[0m\u001b[0mverbose\u001b[0m\u001b[0;34m=\u001b[0m\u001b[0mverbose\u001b[0m\u001b[0;34m,\u001b[0m \u001b[0moptionflags\u001b[0m\u001b[0;34m=\u001b[0m\u001b[0moptionflags\u001b[0m\u001b[0;34m)\u001b[0m\u001b[0;34m\u001b[0m\u001b[0;34m\u001b[0m\u001b[0m\n\u001b[0;32m-> 2125\u001b[0;31m     \u001b[0;32mfor\u001b[0m \u001b[0mtest\u001b[0m \u001b[0;32min\u001b[0m \u001b[0mfinder\u001b[0m\u001b[0;34m.\u001b[0m\u001b[0mfind\u001b[0m\u001b[0;34m(\u001b[0m\u001b[0mf\u001b[0m\u001b[0;34m,\u001b[0m \u001b[0mname\u001b[0m\u001b[0;34m,\u001b[0m \u001b[0mglobs\u001b[0m\u001b[0;34m=\u001b[0m\u001b[0mglobs\u001b[0m\u001b[0;34m)\u001b[0m\u001b[0;34m:\u001b[0m\u001b[0;34m\u001b[0m\u001b[0;34m\u001b[0m\u001b[0m\n\u001b[0m\u001b[1;32m   2126\u001b[0m         \u001b[0mrunner\u001b[0m\u001b[0;34m.\u001b[0m\u001b[0mrun\u001b[0m\u001b[0;34m(\u001b[0m\u001b[0mtest\u001b[0m\u001b[0;34m,\u001b[0m \u001b[0mcompileflags\u001b[0m\u001b[0;34m=\u001b[0m\u001b[0mcompileflags\u001b[0m\u001b[0;34m)\u001b[0m\u001b[0;34m\u001b[0m\u001b[0;34m\u001b[0m\u001b[0m\n\u001b[1;32m   2127\u001b[0m \u001b[0;34m\u001b[0m\u001b[0m\n",
            "\u001b[0;32m/usr/lib/python3.10/doctest.py\u001b[0m in \u001b[0;36mfind\u001b[0;34m(self, obj, name, module, globs, extraglobs)\u001b[0m\n\u001b[1;32m    899\u001b[0m         \u001b[0;31m# given object's docstring.\u001b[0m\u001b[0;34m\u001b[0m\u001b[0;34m\u001b[0m\u001b[0m\n\u001b[1;32m    900\u001b[0m         \u001b[0;32mtry\u001b[0m\u001b[0;34m:\u001b[0m\u001b[0;34m\u001b[0m\u001b[0;34m\u001b[0m\u001b[0m\n\u001b[0;32m--> 901\u001b[0;31m             \u001b[0mfile\u001b[0m \u001b[0;34m=\u001b[0m \u001b[0minspect\u001b[0m\u001b[0;34m.\u001b[0m\u001b[0mgetsourcefile\u001b[0m\u001b[0;34m(\u001b[0m\u001b[0mobj\u001b[0m\u001b[0;34m)\u001b[0m\u001b[0;34m\u001b[0m\u001b[0;34m\u001b[0m\u001b[0m\n\u001b[0m\u001b[1;32m    902\u001b[0m         \u001b[0;32mexcept\u001b[0m \u001b[0mTypeError\u001b[0m\u001b[0;34m:\u001b[0m\u001b[0;34m\u001b[0m\u001b[0;34m\u001b[0m\u001b[0m\n\u001b[1;32m    903\u001b[0m             \u001b[0msource_lines\u001b[0m \u001b[0;34m=\u001b[0m \u001b[0;32mNone\u001b[0m\u001b[0;34m\u001b[0m\u001b[0;34m\u001b[0m\u001b[0m\n",
            "\u001b[0;32m/usr/lib/python3.10/inspect.py\u001b[0m in \u001b[0;36mgetsourcefile\u001b[0;34m(object)\u001b[0m\n\u001b[1;32m    815\u001b[0m     \u001b[0mReturn\u001b[0m \u001b[0;32mNone\u001b[0m \u001b[0;32mif\u001b[0m \u001b[0mno\u001b[0m \u001b[0mway\u001b[0m \u001b[0mcan\u001b[0m \u001b[0mbe\u001b[0m \u001b[0midentified\u001b[0m \u001b[0mto\u001b[0m \u001b[0mget\u001b[0m \u001b[0mthe\u001b[0m \u001b[0msource\u001b[0m\u001b[0;34m.\u001b[0m\u001b[0;34m\u001b[0m\u001b[0;34m\u001b[0m\u001b[0m\n\u001b[1;32m    816\u001b[0m     \"\"\"\n\u001b[0;32m--> 817\u001b[0;31m     \u001b[0mfilename\u001b[0m \u001b[0;34m=\u001b[0m \u001b[0mgetfile\u001b[0m\u001b[0;34m(\u001b[0m\u001b[0mobject\u001b[0m\u001b[0;34m)\u001b[0m\u001b[0;34m\u001b[0m\u001b[0;34m\u001b[0m\u001b[0m\n\u001b[0m\u001b[1;32m    818\u001b[0m     \u001b[0mall_bytecode_suffixes\u001b[0m \u001b[0;34m=\u001b[0m \u001b[0mimportlib\u001b[0m\u001b[0;34m.\u001b[0m\u001b[0mmachinery\u001b[0m\u001b[0;34m.\u001b[0m\u001b[0mDEBUG_BYTECODE_SUFFIXES\u001b[0m\u001b[0;34m[\u001b[0m\u001b[0;34m:\u001b[0m\u001b[0;34m]\u001b[0m\u001b[0;34m\u001b[0m\u001b[0;34m\u001b[0m\u001b[0m\n\u001b[1;32m    819\u001b[0m     \u001b[0mall_bytecode_suffixes\u001b[0m \u001b[0;34m+=\u001b[0m \u001b[0mimportlib\u001b[0m\u001b[0;34m.\u001b[0m\u001b[0mmachinery\u001b[0m\u001b[0;34m.\u001b[0m\u001b[0mOPTIMIZED_BYTECODE_SUFFIXES\u001b[0m\u001b[0;34m[\u001b[0m\u001b[0;34m:\u001b[0m\u001b[0;34m]\u001b[0m\u001b[0;34m\u001b[0m\u001b[0;34m\u001b[0m\u001b[0m\n",
            "\u001b[0;32m/usr/lib/python3.10/inspect.py\u001b[0m in \u001b[0;36mgetfile\u001b[0;34m(object)\u001b[0m\n\u001b[1;32m    783\u001b[0m                 \u001b[0;32mreturn\u001b[0m \u001b[0mmodule\u001b[0m\u001b[0;34m.\u001b[0m\u001b[0m__file__\u001b[0m\u001b[0;34m\u001b[0m\u001b[0;34m\u001b[0m\u001b[0m\n\u001b[1;32m    784\u001b[0m             \u001b[0;32mif\u001b[0m \u001b[0mobject\u001b[0m\u001b[0;34m.\u001b[0m\u001b[0m__module__\u001b[0m \u001b[0;34m==\u001b[0m \u001b[0;34m'__main__'\u001b[0m\u001b[0;34m:\u001b[0m\u001b[0;34m\u001b[0m\u001b[0;34m\u001b[0m\u001b[0m\n\u001b[0;32m--> 785\u001b[0;31m                 \u001b[0;32mraise\u001b[0m \u001b[0mOSError\u001b[0m\u001b[0;34m(\u001b[0m\u001b[0;34m'source code not available'\u001b[0m\u001b[0;34m)\u001b[0m\u001b[0;34m\u001b[0m\u001b[0;34m\u001b[0m\u001b[0m\n\u001b[0m\u001b[1;32m    786\u001b[0m         \u001b[0;32mraise\u001b[0m \u001b[0mTypeError\u001b[0m\u001b[0;34m(\u001b[0m\u001b[0;34m'{!r} is a built-in class'\u001b[0m\u001b[0;34m.\u001b[0m\u001b[0mformat\u001b[0m\u001b[0;34m(\u001b[0m\u001b[0mobject\u001b[0m\u001b[0;34m)\u001b[0m\u001b[0;34m)\u001b[0m\u001b[0;34m\u001b[0m\u001b[0;34m\u001b[0m\u001b[0m\n\u001b[1;32m    787\u001b[0m     \u001b[0;32mif\u001b[0m \u001b[0mismethod\u001b[0m\u001b[0;34m(\u001b[0m\u001b[0mobject\u001b[0m\u001b[0;34m)\u001b[0m\u001b[0;34m:\u001b[0m\u001b[0;34m\u001b[0m\u001b[0;34m\u001b[0m\u001b[0m\n",
            "\u001b[0;31mOSError\u001b[0m: source code not available"
          ]
        }
      ]
    },
    {
      "cell_type": "markdown",
      "source": [
        "##Q4"
      ],
      "metadata": {
        "id": "uj_hXzKO7MXN"
      }
    },
    {
      "cell_type": "markdown",
      "source": [
        "[Amazon / Google / Microsoft / Samsung / Walmart] K largest elements.\n",
        "\n",
        "Given an array **arr** of **n** positive integers, find **k** largest elements from the array. The output should be printed in decreasing order. You can use functions from **Q3**.\n",
        "\n",
        "Your task is to complete the function `k_largest()` which takes the array of integers **arr**, **n** and **k** as parameters and returns an array of integers denoting the answer. **The array should be in decreasing order.**"
      ],
      "metadata": {
        "id": "yb10kqT9oSEs"
      }
    },
    {
      "cell_type": "code",
      "source": [
        "import heapq\n",
        "\n",
        "def k_largest(arr, n, k):\n",
        "  \"\"\"\n",
        "  >>> k_largest([4, 3, 2, 1], 4, 2)\n",
        "  [4, 3]\n",
        "  >>> k_largest([43, 37, 87, 5, 8, 23, 7], 7, 4)\n",
        "  [87, 43, 37, 23]\n",
        "  >>> k_largest([17, 33, 48, 81, 17, 53, 70], 7, 1)\n",
        "  [81]\n",
        "  >>> k_largest([5, 94, 79, 51, 50, 74, 17, 98, 91, 34], 10, 3)\n",
        "  [98, 94, 91]\n",
        "  >>> k_largest([28, 84, 53, 39, 47, 33, 22, 49, 86, 53, 42, 50, 53, 30, 98, 60, 67, 95, 0, 33], 20, 9)\n",
        "  [98, 95, 86, 84, 67, 60, 53, 53, 53]\n",
        "  >>> k_largest([67, 10, 1, 58, 67, 94, 85, 43, 33, 27, 79, 60, 34, 92, 27, 29, 27, 19, 60, 58], 20, 6)\n",
        "  [94, 92, 85, 79, 67, 67]\n",
        "  >>> k_largest([-1, -6, 18, 7, 4, 20, -12, 3, -13, -16], 10, 4)\n",
        "  [20, 18, 7, 4]\n",
        "  >>> k_largest([-88, 11, -73, -15, -22, -25, -68, -75, -84, 63, -63, -2, 10, -69, 48, -68, 49, 14, 75, -50], 20, 2)\n",
        "  [75, 63]\n",
        "  >>> k_largest([-73, 1, 68, 76, -67, -6, -28, 3, 99, 11, 10, -8, 71, 11, 73, -75, 85, -49, -85, 17], 20, 3)\n",
        "  [99, 85, 76]\n",
        "  >>> k_largest([-57, -4, -60, -89, -81, -98, -57, 0, -64, -27], 10, 2)\n",
        "  [0, -4]\n",
        "  >>> k_largest([], 0, 0)\n",
        "  []\n",
        "  \"\"\"\n",
        "  # YOUR CODE HERE\n",
        "  # heapq 는 기본적으로 최소 힙임, pop 할 때 minimum 값 나옴\n",
        "\n",
        "  result = []\n",
        "  max_heap = []\n",
        "\n",
        "  for item in arr:\n",
        "    heapq.heappush(max_heap, (-item, item))\n",
        "\n",
        "  for i in range(k):\n",
        "    ele = heapq.heappop(max_heap)[1]\n",
        "    result.append(ele)\n",
        "\n",
        "  return result\n",
        "\n"
      ],
      "metadata": {
        "id": "YfFa2guE7NOI"
      },
      "execution_count": 12,
      "outputs": []
    },
    {
      "cell_type": "code",
      "source": [
        "doctest.run_docstring_examples(k_largest, globals(), False, __name__)"
      ],
      "metadata": {
        "id": "ICCKUv7q7NlT"
      },
      "execution_count": 13,
      "outputs": []
    },
    {
      "cell_type": "markdown",
      "source": [
        "##Q5"
      ],
      "metadata": {
        "id": "3T7Dp-BT7QFt"
      }
    },
    {
      "cell_type": "markdown",
      "source": [
        "**K-th Largest Sum Contiguous Subarray**\n",
        "\n",
        "You are given an array Arr of size N. You have to find the K-th largest sum of contiguous subarray within the array elements.\n",
        "\n",
        "**The problem must be solved by using the priority queue**\n"
      ],
      "metadata": {
        "id": "lZyqh1cRLuqU"
      }
    },
    {
      "cell_type": "code",
      "source": [
        "from queue import PriorityQueue\n",
        "def kthLargest(arr,n) :\n",
        "    \"\"\"\n",
        "    >>> kthLargest([3,2,1],2)\n",
        "    5\n",
        "    >>> kthLargest([2,6,4,1],3)\n",
        "    11\n",
        "    >>> kthLargest([1,2,3,4,5,6],3)\n",
        "    18\n",
        "    >>> kthLargest([1,2,3,6],5)\n",
        "    5\n",
        "    >>> kthLargest([1],1)\n",
        "    1\n",
        "    >>> kthLargest([1,2],3)\n",
        "    1\n",
        "    >>> kthLargest([1,2,3],3)\n",
        "    3\n",
        "    \"\"\"\n",
        "    # YOUR CODE HERE\n",
        "\n",
        "    queue = PriorityQueue()\n",
        "    history = []\n",
        "\n",
        "    for i in range(0, len(arr)):\n",
        "      sum = 0\n",
        "      for j in range(i, len(arr)):\n",
        "        sum += arr[j]\n",
        "        if sum not in history:\n",
        "          history.append(sum)\n",
        "          queue.put((-sum, sum))\n",
        "\n",
        "    for k in range(n-1):\n",
        "      queue.get()\n",
        "\n",
        "    return queue.get()[1]\n",
        "\n"
      ],
      "metadata": {
        "id": "JzkOifDu7TCg"
      },
      "execution_count": 22,
      "outputs": []
    },
    {
      "cell_type": "code",
      "source": [
        "doctest.run_docstring_examples(kthLargest, globals(), False, __name__)"
      ],
      "metadata": {
        "id": "iOgGkkAX7S0-"
      },
      "execution_count": 23,
      "outputs": []
    },
    {
      "cell_type": "markdown",
      "source": [
        "##Q6"
      ],
      "metadata": {
        "id": "zqicBfyY7RYA"
      }
    },
    {
      "cell_type": "markdown",
      "source": [
        "[Amazon]\n",
        " Given an array arr[] which contains data of N nodes of Complete Binary tree in level order fashion. The task is to print the level order traversal in sorted order.\n",
        "\n"
      ],
      "metadata": {
        "id": "1cuKY85maA7d"
      }
    },
    {
      "cell_type": "code",
      "source": [
        "from heapq import heapify, heappush, heappop\n",
        "\n",
        "\n",
        "def binTreeSortedLevels (arr):\n",
        "    \"\"\"\n",
        "    >>> binTreeSortedLevels([1])\n",
        "    [[1]]\n",
        "    >>> binTreeSortedLevels([7,6,5,4,3,2,1])\n",
        "    [[7], [5, 6], [1, 2, 3, 4]]\n",
        "    >>> binTreeSortedLevels([1,2,3,4,5,6,7,8,9,10])\n",
        "    [[1], [2, 3], [4, 5, 6, 7], [8, 9, 10]]\n",
        "    >>> binTreeSortedLevels([5,6,4,9,2,1])\n",
        "    [[5], [4, 6], [1, 2, 9]]\n",
        "    >>> binTreeSortedLevels([])\n",
        "    []\n",
        "    \"\"\"\n",
        "    # YOUR CODE HERE\n",
        "    result = []\n",
        "    i = 0\n",
        "\n",
        "    while(True):\n",
        "      start = 2**i - 1\n",
        "      end = 2**(i+1) -1\n",
        "\n",
        "      if start >= len(arr):\n",
        "        break\n",
        "\n",
        "      data = arr[start:end]\n",
        "      heapq.heapify(data)\n",
        "      inter = []\n",
        "      for _ in range(len(data)):\n",
        "        inter.append(heapq.heappop(data))\n",
        "\n",
        "      result.append(inter)\n",
        "\n",
        "      i += 1\n",
        "\n",
        "    return result"
      ],
      "metadata": {
        "id": "KiUzUeSx7TxG"
      },
      "execution_count": 25,
      "outputs": []
    },
    {
      "cell_type": "code",
      "source": [
        "doctest.run_docstring_examples(binTreeSortedLevels, globals(), False, __name__)"
      ],
      "metadata": {
        "id": "cfOpeFXW7Tte"
      },
      "execution_count": 26,
      "outputs": []
    },
    {
      "cell_type": "markdown",
      "source": [
        "## Q7"
      ],
      "metadata": {
        "id": "bOGJF_N0jodm"
      }
    },
    {
      "cell_type": "markdown",
      "source": [
        " [2009 Greater New York Programming Contest, D] Write a program that reads a sequence of numbers and outputs the median whenever an odd-indexed number is read.\n",
        "\n",
        "For example, given the sequence 1, 5, 4, 3, 2, the odd-indexed numbers are the 1st, 3rd, and 5th numbers. When the 1st number is read, the median is 1; when the 3rd number is read, the median is 4; and when the 5th number is read, the median is 3.\n",
        "\n",
        "Hint: Use two heaps. With these two heaps, you can update the median value."
      ],
      "metadata": {
        "id": "GPdJ_QmnjslO"
      }
    },
    {
      "cell_type": "code",
      "source": [
        "import heapq\n",
        "\n",
        "def find_median_values(arr) :\n",
        "    \"\"\"\n",
        "    >>> find_median_values([1, 2, 3, 4, 5, 6, 7, 8, 9])\n",
        "    1 2 3 4 5\n",
        "    >>> find_median_values([9, 8, 7, 6, 5, 4, 3, 2, 1])\n",
        "    9 8 7 6 5\n",
        "    >>> find_median_values([23, 41, 13, 22, -3, 24, -31, -11, -8, -7, 3, 5, 103, 211, -311, -45, -67, -73, -81, -99, -33, 24, 56])\n",
        "    23 23 22 22 13 3 5 5 3 -3 -7 -3\n",
        "    \"\"\"\n",
        "    # YOUR CODE HERE\n",
        "    small_heap = []\n",
        "    big_heap = []\n",
        "    mid = arr[0]\n",
        "    result = [mid]\n",
        "\n",
        "    for i, val in enumerate(arr[1:]):\n",
        "      if val <= mid:\n",
        "        heapq.heappush(small_heap, (-val, val))\n",
        "      else:\n",
        "        heapq.heappush(big_heap, val)\n",
        "\n",
        "      if i % 2 == 1:\n",
        "        if len(small_heap) < len(big_heap):\n",
        "          heapq.heappush(small_heap, (-mid, mid))\n",
        "          mid = heapq.heappop(big_heap)\n",
        "\n",
        "        elif len(small_heap) > len(big_heap):\n",
        "          heapq.heappush(big_heap, mid)\n",
        "          mid = heapq.heappop(small_heap)[1]\n",
        "\n",
        "        else:\n",
        "          mid = mid\n",
        "\n",
        "        result.append(mid)\n",
        "    print(\" \".join(map(str,result)))\n",
        "\n"
      ],
      "metadata": {
        "id": "4VRC92oIj2U0"
      },
      "execution_count": 43,
      "outputs": []
    },
    {
      "cell_type": "code",
      "source": [
        "doctest.run_docstring_examples(find_median_values, globals(), False, __name__)"
      ],
      "metadata": {
        "id": "dxL7jtnYkCW3"
      },
      "execution_count": 44,
      "outputs": []
    },
    {
      "cell_type": "markdown",
      "source": [
        "## Q8 (Optional)"
      ],
      "metadata": {
        "id": "DmFrv0ki-JTC"
      }
    },
    {
      "cell_type": "markdown",
      "source": [
        "[Amazon / Microsoft] There are given **N** ropes of different lengths, we need to connect these ropes into one rope. The cost to connect two ropes is equal to sum of their lengths. The task is to connect the ropes with minimum cost. Given **N** size array **arr[]** contains the lengths of the ropes.\n",
        "\n",
        "- Expected Time Complexity : O(nlogn)\n",
        "- Expected Auxilliary Space : O(n)"
      ],
      "metadata": {
        "id": "qc4082ND-MHe"
      }
    },
    {
      "cell_type": "markdown",
      "source": [
        "*Explanation of the first test case\n",
        "\n",
        "We can connect the ropes in following ways.\n",
        "\n",
        "1) First connect ropes of lengths 2 and 3.\n",
        "Which makes the array {4, 5, 6}. Cost of\n",
        "this operation 2+3 = 5.\n",
        "\n",
        "2) Now connect ropes of lengths 4 and 5.\n",
        "Which makes the array {9, 6}. Cost of\n",
        "this operation 4+5 = 9.\n",
        "\n",
        "3) Finally connect the two ropes and all\n",
        "ropes have connected. Cost of this\n",
        "operation 9+6 =15\n",
        "\n",
        "Total cost for connecting all ropes is 5 + 9 + 15 = 29. This is the optimized cost\n",
        "for connecting ropes.\n",
        "\n",
        "Other ways of connecting ropes would always\n",
        "have same or more cost. For example, if we\n",
        "connect 4 and 6 first (we get three rope of 3,\n",
        "2 and 10), then connect 10 and 3 (we get\n",
        "two rope of 13 and 2). Finally we\n",
        "connect 13 and 2. Total cost in this way\n",
        "is 10 + 13 + 15 = 38."
      ],
      "metadata": {
        "id": "Z8rC5pmv-PQw"
      }
    },
    {
      "cell_type": "code",
      "source": [
        "import heapq\n",
        "\n",
        "def min_cost(a, n):\n",
        "  '''\n",
        "  >>> min_cost([4, 3, 2, 6], 4)\n",
        "  29\n",
        "  >>> min_cost([4, 2, 7, 6, 9], 5)\n",
        "  62\n",
        "  '''\n",
        "  # YOUR CODE HERE"
      ],
      "metadata": {
        "id": "tCc6mTiC-SH0"
      },
      "execution_count": null,
      "outputs": []
    }
  ]
}