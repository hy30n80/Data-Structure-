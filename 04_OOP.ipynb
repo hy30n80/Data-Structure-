{
  "nbformat": 4,
  "nbformat_minor": 0,
  "metadata": {
    "colab": {
      "provenance": [],
      "include_colab_link": true
    },
    "kernelspec": {
      "name": "python3",
      "display_name": "Python 3"
    },
    "language_info": {
      "name": "python"
    }
  },
  "cells": [
    {
      "cell_type": "markdown",
      "metadata": {
        "id": "view-in-github",
        "colab_type": "text"
      },
      "source": [
        "<a href=\"https://colab.research.google.com/github/hy30n80/Data-Structure-/blob/main/04_OOP.ipynb\" target=\"_parent\"><img src=\"https://colab.research.google.com/assets/colab-badge.svg\" alt=\"Open In Colab\"/></a>"
      ]
    },
    {
      "cell_type": "markdown",
      "source": [
        "# EC2202 Object Oriented Programming"
      ],
      "metadata": {
        "id": "gqZUxjuw8OE4"
      }
    },
    {
      "cell_type": "markdown",
      "source": [
        "**Disclaimer.**\n",
        "This code examples are based on\n",
        "\n",
        "1. [UC Berkeley CS61A (Professor John DeNero)](https://cs61a.org/)\n",
        "2. [KAIST CS206 (Professor Otfried Cheong)](https://otfried.org/courses/cs206/)"
      ],
      "metadata": {
        "id": "1bWHozli8SQ_"
      }
    },
    {
      "cell_type": "markdown",
      "source": [
        "Import necessary modules for testing the code blocks"
      ],
      "metadata": {
        "id": "37DZV-CtIuN9"
      }
    },
    {
      "cell_type": "code",
      "source": [
        "import doctest"
      ],
      "metadata": {
        "id": "WzPMmtbWIDIx"
      },
      "execution_count": 1,
      "outputs": []
    },
    {
      "cell_type": "code",
      "source": [
        "%%HTML\n",
        "<iframe width=\"560\" height=\"315\" src=\"https://www.youtube.com/embed/jwxuuFRnu7M\" title=\"YouTube video player\" frameborder=\"0\" allowfullscreen></iframe>\n",
        "<iframe width=\"560\" height=\"315\" src=\"https://www.youtube.com/embed/9qMDZB3caXc\" title=\"YouTube video player\" frameborder=\"0\" allowfullscreen></iframe>"
      ],
      "metadata": {
        "colab": {
          "base_uri": "https://localhost:8080/",
          "height": 336
        },
        "id": "xxYhgdkzT2FL",
        "outputId": "4beb01f0-b1a2-43d6-9b20-e13995a0c811"
      },
      "execution_count": null,
      "outputs": [
        {
          "output_type": "display_data",
          "data": {
            "text/plain": [
              "<IPython.core.display.HTML object>"
            ],
            "text/html": [
              "<iframe width=\"560\" height=\"315\" src=\"https://www.youtube.com/embed/jwxuuFRnu7M\" title=\"YouTube video player\" frameborder=\"0\" allowfullscreen></iframe>\n",
              "<iframe width=\"560\" height=\"315\" src=\"https://www.youtube.com/embed/9qMDZB3caXc\" title=\"YouTube video player\" frameborder=\"0\" allowfullscreen></iframe>\n"
            ]
          },
          "metadata": {}
        }
      ]
    },
    {
      "cell_type": "markdown",
      "source": [
        "## Defining Classes"
      ],
      "metadata": {
        "id": "lDEbL7Wj8Vv6"
      }
    },
    {
      "cell_type": "markdown",
      "source": [
        "We will see how to define a class in this section.\n",
        "\n",
        "First, we will write the test cases for the `Player` class, discuss the behaviors of Python classes, and implement the class."
      ],
      "metadata": {
        "id": "7bGGC068Fvjz"
      }
    },
    {
      "cell_type": "code",
      "execution_count": 2,
      "metadata": {
        "id": "pa6OKiIWyu-H"
      },
      "outputs": [],
      "source": [
        "class Player:\n",
        "  \"\"\"This class represents a player in a video game.\n",
        "  It tracks their name and health.\n",
        "  >>> warrior = Player(\"Mario\")  # instance instantiation (construction)\n",
        "  >>> warrior.name               # dot notation to access object attributs\n",
        "  'Mario'\n",
        "  >>> warrior.health\n",
        "  100\n",
        "  >>> warrior.experience\n",
        "  0\n",
        "  >>> warrior.damage(10)         # method invocation\n",
        "  >>> warrior.health\n",
        "  90\n",
        "  >>> warrior.boost(5)\n",
        "  >>> warrior.health\n",
        "  95\n",
        "  >>> warrior.attack(5)\n",
        "  >>> warrior.experience\n",
        "  5\n",
        "  \"\"\"\n",
        "  # constructor: called when a new instance of this class is created\n",
        "  # the first argument `self` is the new object created\n",
        "  def __init__(self, name, experience=0):\n",
        "    # list of instance variables\n",
        "    # instance variables describe the state of an object\n",
        "    # this example initializes 3 instance variables\n",
        "    self.name = name\n",
        "    self.health = 100\n",
        "    self.experience = experience\n",
        "\n",
        "  # defintion of class specific methods\n",
        "  # self is pre-bound to a particular value: warrior\n",
        "  def damage(self, amount):\n",
        "    self.health -= amount\n",
        "\n",
        "  def boost(self, amount):\n",
        "    self.health += amount\n",
        "\n",
        "  def attack(self, amount):\n",
        "    self.experience += amount"
      ]
    },
    {
      "cell_type": "code",
      "source": [
        "doctest.run_docstring_examples(Player, globals(), False, __name__)"
      ],
      "metadata": {
        "id": "2I-ixkmIHjGF",
        "colab": {
          "base_uri": "https://localhost:8080/",
          "height": 287
        },
        "outputId": "5f1fbd0c-c824-4609-9245-29d1485bc7c4"
      },
      "execution_count": 3,
      "outputs": [
        {
          "output_type": "error",
          "ename": "OSError",
          "evalue": "source code not available",
          "traceback": [
            "\u001b[0;31m---------------------------------------------------------------------------\u001b[0m",
            "\u001b[0;31mOSError\u001b[0m                                   Traceback (most recent call last)",
            "\u001b[0;32m<ipython-input-3-73724fb4d425>\u001b[0m in \u001b[0;36m<cell line: 1>\u001b[0;34m()\u001b[0m\n\u001b[0;32m----> 1\u001b[0;31m \u001b[0mdoctest\u001b[0m\u001b[0;34m.\u001b[0m\u001b[0mrun_docstring_examples\u001b[0m\u001b[0;34m(\u001b[0m\u001b[0mPlayer\u001b[0m\u001b[0;34m,\u001b[0m \u001b[0mglobals\u001b[0m\u001b[0;34m(\u001b[0m\u001b[0;34m)\u001b[0m\u001b[0;34m,\u001b[0m \u001b[0;32mFalse\u001b[0m\u001b[0;34m,\u001b[0m \u001b[0m__name__\u001b[0m\u001b[0;34m)\u001b[0m\u001b[0;34m\u001b[0m\u001b[0;34m\u001b[0m\u001b[0m\n\u001b[0m",
            "\u001b[0;32m/usr/lib/python3.10/doctest.py\u001b[0m in \u001b[0;36mrun_docstring_examples\u001b[0;34m(f, globs, verbose, name, compileflags, optionflags)\u001b[0m\n\u001b[1;32m   2123\u001b[0m     \u001b[0mfinder\u001b[0m \u001b[0;34m=\u001b[0m \u001b[0mDocTestFinder\u001b[0m\u001b[0;34m(\u001b[0m\u001b[0mverbose\u001b[0m\u001b[0;34m=\u001b[0m\u001b[0mverbose\u001b[0m\u001b[0;34m,\u001b[0m \u001b[0mrecurse\u001b[0m\u001b[0;34m=\u001b[0m\u001b[0;32mFalse\u001b[0m\u001b[0;34m)\u001b[0m\u001b[0;34m\u001b[0m\u001b[0;34m\u001b[0m\u001b[0m\n\u001b[1;32m   2124\u001b[0m     \u001b[0mrunner\u001b[0m \u001b[0;34m=\u001b[0m \u001b[0mDocTestRunner\u001b[0m\u001b[0;34m(\u001b[0m\u001b[0mverbose\u001b[0m\u001b[0;34m=\u001b[0m\u001b[0mverbose\u001b[0m\u001b[0;34m,\u001b[0m \u001b[0moptionflags\u001b[0m\u001b[0;34m=\u001b[0m\u001b[0moptionflags\u001b[0m\u001b[0;34m)\u001b[0m\u001b[0;34m\u001b[0m\u001b[0;34m\u001b[0m\u001b[0m\n\u001b[0;32m-> 2125\u001b[0;31m     \u001b[0;32mfor\u001b[0m \u001b[0mtest\u001b[0m \u001b[0;32min\u001b[0m \u001b[0mfinder\u001b[0m\u001b[0;34m.\u001b[0m\u001b[0mfind\u001b[0m\u001b[0;34m(\u001b[0m\u001b[0mf\u001b[0m\u001b[0;34m,\u001b[0m \u001b[0mname\u001b[0m\u001b[0;34m,\u001b[0m \u001b[0mglobs\u001b[0m\u001b[0;34m=\u001b[0m\u001b[0mglobs\u001b[0m\u001b[0;34m)\u001b[0m\u001b[0;34m:\u001b[0m\u001b[0;34m\u001b[0m\u001b[0;34m\u001b[0m\u001b[0m\n\u001b[0m\u001b[1;32m   2126\u001b[0m         \u001b[0mrunner\u001b[0m\u001b[0;34m.\u001b[0m\u001b[0mrun\u001b[0m\u001b[0;34m(\u001b[0m\u001b[0mtest\u001b[0m\u001b[0;34m,\u001b[0m \u001b[0mcompileflags\u001b[0m\u001b[0;34m=\u001b[0m\u001b[0mcompileflags\u001b[0m\u001b[0;34m)\u001b[0m\u001b[0;34m\u001b[0m\u001b[0;34m\u001b[0m\u001b[0m\n\u001b[1;32m   2127\u001b[0m \u001b[0;34m\u001b[0m\u001b[0m\n",
            "\u001b[0;32m/usr/lib/python3.10/doctest.py\u001b[0m in \u001b[0;36mfind\u001b[0;34m(self, obj, name, module, globs, extraglobs)\u001b[0m\n\u001b[1;32m    899\u001b[0m         \u001b[0;31m# given object's docstring.\u001b[0m\u001b[0;34m\u001b[0m\u001b[0;34m\u001b[0m\u001b[0m\n\u001b[1;32m    900\u001b[0m         \u001b[0;32mtry\u001b[0m\u001b[0;34m:\u001b[0m\u001b[0;34m\u001b[0m\u001b[0;34m\u001b[0m\u001b[0m\n\u001b[0;32m--> 901\u001b[0;31m             \u001b[0mfile\u001b[0m \u001b[0;34m=\u001b[0m \u001b[0minspect\u001b[0m\u001b[0;34m.\u001b[0m\u001b[0mgetsourcefile\u001b[0m\u001b[0;34m(\u001b[0m\u001b[0mobj\u001b[0m\u001b[0;34m)\u001b[0m\u001b[0;34m\u001b[0m\u001b[0;34m\u001b[0m\u001b[0m\n\u001b[0m\u001b[1;32m    902\u001b[0m         \u001b[0;32mexcept\u001b[0m \u001b[0mTypeError\u001b[0m\u001b[0;34m:\u001b[0m\u001b[0;34m\u001b[0m\u001b[0;34m\u001b[0m\u001b[0m\n\u001b[1;32m    903\u001b[0m             \u001b[0msource_lines\u001b[0m \u001b[0;34m=\u001b[0m \u001b[0;32mNone\u001b[0m\u001b[0;34m\u001b[0m\u001b[0;34m\u001b[0m\u001b[0m\n",
            "\u001b[0;32m/usr/lib/python3.10/inspect.py\u001b[0m in \u001b[0;36mgetsourcefile\u001b[0;34m(object)\u001b[0m\n\u001b[1;32m    815\u001b[0m     \u001b[0mReturn\u001b[0m \u001b[0;32mNone\u001b[0m \u001b[0;32mif\u001b[0m \u001b[0mno\u001b[0m \u001b[0mway\u001b[0m \u001b[0mcan\u001b[0m \u001b[0mbe\u001b[0m \u001b[0midentified\u001b[0m \u001b[0mto\u001b[0m \u001b[0mget\u001b[0m \u001b[0mthe\u001b[0m \u001b[0msource\u001b[0m\u001b[0;34m.\u001b[0m\u001b[0;34m\u001b[0m\u001b[0;34m\u001b[0m\u001b[0m\n\u001b[1;32m    816\u001b[0m     \"\"\"\n\u001b[0;32m--> 817\u001b[0;31m     \u001b[0mfilename\u001b[0m \u001b[0;34m=\u001b[0m \u001b[0mgetfile\u001b[0m\u001b[0;34m(\u001b[0m\u001b[0mobject\u001b[0m\u001b[0;34m)\u001b[0m\u001b[0;34m\u001b[0m\u001b[0;34m\u001b[0m\u001b[0m\n\u001b[0m\u001b[1;32m    818\u001b[0m     \u001b[0mall_bytecode_suffixes\u001b[0m \u001b[0;34m=\u001b[0m \u001b[0mimportlib\u001b[0m\u001b[0;34m.\u001b[0m\u001b[0mmachinery\u001b[0m\u001b[0;34m.\u001b[0m\u001b[0mDEBUG_BYTECODE_SUFFIXES\u001b[0m\u001b[0;34m[\u001b[0m\u001b[0;34m:\u001b[0m\u001b[0;34m]\u001b[0m\u001b[0;34m\u001b[0m\u001b[0;34m\u001b[0m\u001b[0m\n\u001b[1;32m    819\u001b[0m     \u001b[0mall_bytecode_suffixes\u001b[0m \u001b[0;34m+=\u001b[0m \u001b[0mimportlib\u001b[0m\u001b[0;34m.\u001b[0m\u001b[0mmachinery\u001b[0m\u001b[0;34m.\u001b[0m\u001b[0mOPTIMIZED_BYTECODE_SUFFIXES\u001b[0m\u001b[0;34m[\u001b[0m\u001b[0;34m:\u001b[0m\u001b[0;34m]\u001b[0m\u001b[0;34m\u001b[0m\u001b[0;34m\u001b[0m\u001b[0m\n",
            "\u001b[0;32m/usr/lib/python3.10/inspect.py\u001b[0m in \u001b[0;36mgetfile\u001b[0;34m(object)\u001b[0m\n\u001b[1;32m    783\u001b[0m                 \u001b[0;32mreturn\u001b[0m \u001b[0mmodule\u001b[0m\u001b[0;34m.\u001b[0m\u001b[0m__file__\u001b[0m\u001b[0;34m\u001b[0m\u001b[0;34m\u001b[0m\u001b[0m\n\u001b[1;32m    784\u001b[0m             \u001b[0;32mif\u001b[0m \u001b[0mobject\u001b[0m\u001b[0;34m.\u001b[0m\u001b[0m__module__\u001b[0m \u001b[0;34m==\u001b[0m \u001b[0;34m'__main__'\u001b[0m\u001b[0;34m:\u001b[0m\u001b[0;34m\u001b[0m\u001b[0;34m\u001b[0m\u001b[0m\n\u001b[0;32m--> 785\u001b[0;31m                 \u001b[0;32mraise\u001b[0m \u001b[0mOSError\u001b[0m\u001b[0;34m(\u001b[0m\u001b[0;34m'source code not available'\u001b[0m\u001b[0;34m)\u001b[0m\u001b[0;34m\u001b[0m\u001b[0;34m\u001b[0m\u001b[0m\n\u001b[0m\u001b[1;32m    786\u001b[0m         \u001b[0;32mraise\u001b[0m \u001b[0mTypeError\u001b[0m\u001b[0;34m(\u001b[0m\u001b[0;34m'{!r} is a built-in class'\u001b[0m\u001b[0;34m.\u001b[0m\u001b[0mformat\u001b[0m\u001b[0;34m(\u001b[0m\u001b[0mobject\u001b[0m\u001b[0;34m)\u001b[0m\u001b[0;34m)\u001b[0m\u001b[0;34m\u001b[0m\u001b[0;34m\u001b[0m\u001b[0m\n\u001b[1;32m    787\u001b[0m     \u001b[0;32mif\u001b[0m \u001b[0mismethod\u001b[0m\u001b[0;34m(\u001b[0m\u001b[0mobject\u001b[0m\u001b[0;34m)\u001b[0m\u001b[0;34m:\u001b[0m\u001b[0;34m\u001b[0m\u001b[0;34m\u001b[0m\u001b[0m\n",
            "\u001b[0;31mOSError\u001b[0m: source code not available"
          ]
        }
      ]
    },
    {
      "cell_type": "markdown",
      "source": [
        "So, what is `self`?"
      ],
      "metadata": {
        "id": "yGj2ujCSAzuz"
      }
    },
    {
      "cell_type": "code",
      "source": [
        "p1 = Player('Mario')\n",
        "p1.boost(10)\n",
        "print(p1.health)\n",
        "Player.boost(p1, 10)\n",
        "print(p1.health)"
      ],
      "metadata": {
        "id": "HjFZfMt_A2Ye",
        "colab": {
          "base_uri": "https://localhost:8080/"
        },
        "outputId": "38318362-d4ad-4604-c458-f05e2e0ef49a"
      },
      "execution_count": 4,
      "outputs": [
        {
          "output_type": "stream",
          "name": "stdout",
          "text": [
            "110\n",
            "120\n"
          ]
        }
      ]
    },
    {
      "cell_type": "markdown",
      "source": [
        "Why do we use the term `method` rather than `function`?\n",
        "\n",
        "`method` indicates functions that are bound to certain objects as in the previous example!\n",
        "\n",
        "Python in fact distinguish them:"
      ],
      "metadata": {
        "id": "TsNllejsNOkU"
      }
    },
    {
      "cell_type": "code",
      "source": [
        "player = Player('warrior')\n",
        "print(type(Player.boost))\n",
        "print(type(player.boost))"
      ],
      "metadata": {
        "colab": {
          "base_uri": "https://localhost:8080/"
        },
        "id": "gVBM279wNUV7",
        "outputId": "aebeb816-fb2d-4db8-b89f-c5ad476c129a"
      },
      "execution_count": null,
      "outputs": [
        {
          "output_type": "stream",
          "name": "stdout",
          "text": [
            "<class 'function'>\n",
            "<class 'method'>\n"
          ]
        }
      ]
    },
    {
      "cell_type": "markdown",
      "source": [
        "You can check whether an object has certain attributes as follows:"
      ],
      "metadata": {
        "id": "Yj84VuBXNuSD"
      }
    },
    {
      "cell_type": "code",
      "source": [
        "print(getattr(player, 'health'))\n",
        "print(hasattr(player, 'boost'))"
      ],
      "metadata": {
        "colab": {
          "base_uri": "https://localhost:8080/",
          "height": 159
        },
        "id": "mP3-eaQHN16r",
        "outputId": "8cca030c-1ab3-4be3-d00b-6c695312d949"
      },
      "execution_count": 5,
      "outputs": [
        {
          "output_type": "error",
          "ename": "NameError",
          "evalue": "name 'player' is not defined",
          "traceback": [
            "\u001b[0;31m---------------------------------------------------------------------------\u001b[0m",
            "\u001b[0;31mNameError\u001b[0m                                 Traceback (most recent call last)",
            "\u001b[0;32m<ipython-input-5-96123006fdee>\u001b[0m in \u001b[0;36m<cell line: 1>\u001b[0;34m()\u001b[0m\n\u001b[0;32m----> 1\u001b[0;31m \u001b[0mprint\u001b[0m\u001b[0;34m(\u001b[0m\u001b[0mgetattr\u001b[0m\u001b[0;34m(\u001b[0m\u001b[0mplayer\u001b[0m\u001b[0;34m,\u001b[0m \u001b[0;34m'health'\u001b[0m\u001b[0;34m)\u001b[0m\u001b[0;34m)\u001b[0m\u001b[0;34m\u001b[0m\u001b[0;34m\u001b[0m\u001b[0m\n\u001b[0m\u001b[1;32m      2\u001b[0m \u001b[0mprint\u001b[0m\u001b[0;34m(\u001b[0m\u001b[0mhasattr\u001b[0m\u001b[0;34m(\u001b[0m\u001b[0mplayer\u001b[0m\u001b[0;34m,\u001b[0m \u001b[0;34m'boost'\u001b[0m\u001b[0;34m)\u001b[0m\u001b[0;34m)\u001b[0m\u001b[0;34m\u001b[0m\u001b[0;34m\u001b[0m\u001b[0m\n",
            "\u001b[0;31mNameError\u001b[0m: name 'player' is not defined"
          ]
        }
      ]
    },
    {
      "cell_type": "markdown",
      "source": [
        "One thing to pay attention to is the object identity. `is` and `is not` compares object identity while `==` compares the values."
      ],
      "metadata": {
        "id": "7MGWoh0FMXrG"
      }
    },
    {
      "cell_type": "code",
      "source": [
        "a = Player('warrior')\n",
        "b = Player('magician')"
      ],
      "metadata": {
        "id": "s9NGCGioMXL3"
      },
      "execution_count": 6,
      "outputs": []
    },
    {
      "cell_type": "code",
      "source": [
        "print(a is a)\n",
        "print(a is not b)"
      ],
      "metadata": {
        "colab": {
          "base_uri": "https://localhost:8080/"
        },
        "id": "wrDw1SQMM3o6",
        "outputId": "b7520efe-be9b-4046-98c3-500b9003a1a6"
      },
      "execution_count": 7,
      "outputs": [
        {
          "output_type": "stream",
          "name": "stdout",
          "text": [
            "True\n",
            "True\n"
          ]
        }
      ]
    },
    {
      "cell_type": "code",
      "source": [
        "c = a\n",
        "print(c is a)"
      ],
      "metadata": {
        "colab": {
          "base_uri": "https://localhost:8080/"
        },
        "id": "txyI5CxPM5sZ",
        "outputId": "59db8bd3-8efb-43ee-fbb0-721777f52fd5"
      },
      "execution_count": 8,
      "outputs": [
        {
          "output_type": "stream",
          "name": "stdout",
          "text": [
            "True\n"
          ]
        }
      ]
    },
    {
      "cell_type": "code",
      "source": [
        "d = Player('warrior')\n",
        "print(a == d)\n",
        "print(id(a))\n",
        "print(id(d))"
      ],
      "metadata": {
        "colab": {
          "base_uri": "https://localhost:8080/"
        },
        "id": "MJIFTjT1NAuZ",
        "outputId": "4f3b6473-5a60-47ed-ef78-08893b5a4dfc"
      },
      "execution_count": 9,
      "outputs": [
        {
          "output_type": "stream",
          "name": "stdout",
          "text": [
            "False\n",
            "132235113291520\n",
            "132235113287824\n"
          ]
        }
      ]
    },
    {
      "cell_type": "markdown",
      "source": [
        "**ppp Exercise**"
      ],
      "metadata": {
        "id": "0ed1Kr0uI2BM"
      }
    },
    {
      "cell_type": "code",
      "source": [
        "class Clothing:\n",
        "  \"\"\"Clothing is a class that represents pieces of clothing in a closet.\n",
        "  It tracks the color, category, and clean/dirty state.\n",
        "  >>> blue_shirt = Clothing(\"shirt\", \"blue\")\n",
        "  >>> blue_shirt.category\n",
        "  'shirt'\n",
        "  >>> blue_shirt.color\n",
        "  'blue'\n",
        "  >>> blue_shirt.is_clean\n",
        "  True\n",
        "  >>> blue_shirt.wear()\n",
        "  >>> blue_shirt.is_clean\n",
        "  False\n",
        "  >>> blue_shirt.clean()\n",
        "  >>> blue_shirt.is_clean\n",
        "  True\n",
        "  \"\"\"\n",
        "  # YOUR CODE HERE\n",
        "  def __init__(self, category, color, is_clean=True):\n",
        "    self.category = category\n",
        "    self.color = color\n",
        "    self.is_clean = is_clean\n",
        "\n",
        "  def wear(self):\n",
        "    self.is_clean = False\n",
        "\n",
        "  def clean(self):\n",
        "    self.is_clean = True\n"
      ],
      "metadata": {
        "id": "-RT9LfenKGPi"
      },
      "execution_count": 10,
      "outputs": []
    },
    {
      "cell_type": "code",
      "source": [
        "doctest.run_docstring_examples(Clothing, globals(), False, __name__)"
      ],
      "metadata": {
        "id": "-oIMUc8_MPXB"
      },
      "execution_count": null,
      "outputs": []
    },
    {
      "cell_type": "code",
      "source": [
        "%%HTML\n",
        "<iframe width=\"560\" height=\"315\" src=\"https://www.youtube.com/embed/OueqzlAW8io\" title=\"YouTube video player\" frameborder=\"0\" allowfullscreen></iframe>\n",
        "<iframe width=\"560\" height=\"315\" src=\"https://www.youtube.com/embed/cT-ahTECbtc\" title=\"YouTube video player\" frameborder=\"0\" allowfullscreen></iframe>"
      ],
      "metadata": {
        "colab": {
          "base_uri": "https://localhost:8080/",
          "height": 336
        },
        "id": "X3sGk2g2T6ul",
        "outputId": "05ff4eac-a1b4-4a66-cf1f-ac32220f3a41"
      },
      "execution_count": null,
      "outputs": [
        {
          "output_type": "display_data",
          "data": {
            "text/plain": [
              "<IPython.core.display.HTML object>"
            ],
            "text/html": [
              "<iframe width=\"560\" height=\"315\" src=\"https://www.youtube.com/embed/OueqzlAW8io\" title=\"YouTube video player\" frameborder=\"0\" allowfullscreen></iframe>\n",
              "<iframe width=\"560\" height=\"315\" src=\"https://www.youtube.com/embed/cT-ahTECbtc\" title=\"YouTube video player\" frameborder=\"0\" allowfullscreen></iframe>\n"
            ]
          },
          "metadata": {}
        }
      ]
    },
    {
      "cell_type": "markdown",
      "source": [
        "## Class Variables"
      ],
      "metadata": {
        "id": "dQOPpFBbOAcR"
      }
    },
    {
      "cell_type": "markdown",
      "source": [
        "Class variables are \"shared\" across all instances of a class because they are attributes of the class, not the instance."
      ],
      "metadata": {
        "id": "HjTL_6qNOCoZ"
      }
    },
    {
      "cell_type": "code",
      "source": [
        "class Player:\n",
        "  # class variables\n",
        "  level_up_experience = 100\n",
        "\n",
        "  def __init__(self, name, experience=50):\n",
        "    # instance variables\n",
        "    self.name = name\n",
        "    self.health = 100\n",
        "    self.experience = 0\n",
        "\n",
        "  def damage(self, amount):\n",
        "    self.health -= amount\n",
        "\n",
        "  def boost(self, amount):\n",
        "    self.health += amount\n",
        "\n",
        "  def attack(self, amount):\n",
        "    self.experience += amount"
      ],
      "metadata": {
        "id": "ryrTN-GrO7Kb"
      },
      "execution_count": 11,
      "outputs": []
    },
    {
      "cell_type": "code",
      "source": [
        "a = Player('warrior')\n",
        "b = Player('warrior')\n",
        "c = Player('warrior')\n",
        "\n",
        "print(a.level_up_experience)\n",
        "print(b.level_up_experience)\n",
        "print(c.level_up_experience)"
      ],
      "metadata": {
        "colab": {
          "base_uri": "https://localhost:8080/"
        },
        "id": "8Vxq8LqQPKmW",
        "outputId": "15213d10-485e-4361-e318-7a24b932d3c0"
      },
      "execution_count": 12,
      "outputs": [
        {
          "output_type": "stream",
          "name": "stdout",
          "text": [
            "100\n",
            "100\n",
            "100\n"
          ]
        }
      ]
    },
    {
      "cell_type": "markdown",
      "source": [
        "A single assignment statement to a class variable changes the value of the attribute for all instances of the class."
      ],
      "metadata": {
        "id": "_DxePzYtPWgQ"
      }
    },
    {
      "cell_type": "code",
      "source": [
        "Player.level_up_experience = 200\n",
        "\n",
        "print(a.level_up_experience)\n",
        "print(b.level_up_experience)\n",
        "print(c.level_up_experience)"
      ],
      "metadata": {
        "colab": {
          "base_uri": "https://localhost:8080/"
        },
        "id": "H-fen8QJPeax",
        "outputId": "7df1314e-38fb-4e97-d8b7-3e7de03b29ec"
      },
      "execution_count": 13,
      "outputs": [
        {
          "output_type": "stream",
          "name": "stdout",
          "text": [
            "200\n",
            "200\n",
            "200\n"
          ]
        }
      ]
    },
    {
      "cell_type": "code",
      "source": [
        "a.level_up_experience = 150  # level_up_experience becomes an instance var.\n",
        "b.level_up_experience = 250\n",
        "print(\"a's level_up_experience: %d\" % (a.level_up_experience))\n",
        "print(\"b's level_up_experience: %d\" % (b.level_up_experience))\n",
        "print(\"c's level_up_experience: %d\" % (c.level_up_experience))\n",
        "\n",
        "Player.level_up_experience = 300\n",
        "\n",
        "\n",
        "# Instance 로 Class variable 을 재설정하게 되면, 그 후의 class variable 은 적용 안됨\n",
        "print(\"a's level_up_experience: %d\" % (a.level_up_experience))\n",
        "print(\"b's level_up_experience: %d\" % (b.level_up_experience))\n",
        "print(\"c's level_up_experience: %d\" % (c.level_up_experience))"
      ],
      "metadata": {
        "colab": {
          "base_uri": "https://localhost:8080/"
        },
        "id": "Gpk2JtCtPjLd",
        "outputId": "28319c7b-fc35-4811-e8c7-7e665f6754e6"
      },
      "execution_count": 15,
      "outputs": [
        {
          "output_type": "stream",
          "name": "stdout",
          "text": [
            "a's level_up_experience: 150\n",
            "b's level_up_experience: 250\n",
            "c's level_up_experience: 300\n",
            "a's level_up_experience: 150\n",
            "b's level_up_experience: 250\n",
            "c's level_up_experience: 300\n"
          ]
        }
      ]
    },
    {
      "cell_type": "markdown",
      "source": [
        "**ppp Exercise**"
      ],
      "metadata": {
        "id": "PIcIa8UvQjd6"
      }
    },
    {
      "cell_type": "code",
      "source": [
        "class StudentGrade:\n",
        "  \"\"\"This class represents grades for students in a class.\n",
        "  >>> grade1 = StudentGrade(\"Arfur Artery\", 300)\n",
        "  >>> grade1.need_to_study_more()\n",
        "  False\n",
        "  >>> grade2 = StudentGrade(\"MoMo OhNo\", 158)\n",
        "  >>> grade2.need_to_study_more()\n",
        "  True\n",
        "  >>> grade1.standard_grade\n",
        "  159\n",
        "  >>> grade2.standard_grade\n",
        "  159\n",
        "  >>> StudentGrade.standard_grade\n",
        "  159\n",
        "  >>>\n",
        "  \"\"\"\n",
        "  # YOUR CODE HERE\n",
        "  standard_grade = 159\n",
        "\n",
        "  def __init__(self, student_name, grade):\n",
        "    self.student_name = student_name\n",
        "    self.grade = grade\n",
        "\n",
        "  def need_to_study_more(self):\n",
        "    return self.grade < self.standard_grade"
      ],
      "metadata": {
        "id": "bjrVDAIiQMup"
      },
      "execution_count": 18,
      "outputs": []
    },
    {
      "cell_type": "code",
      "source": [
        "%%HTML\n",
        "<iframe width=\"560\" height=\"315\" src=\"https://www.youtube.com/embed/7hTBIME-zlw\" title=\"YouTube video player\" frameborder=\"0\" allowfullscreen></iframe>\n",
        "<iframe width=\"560\" height=\"315\" src=\"https://www.youtube.com/embed/slExWX5YbFc\" title=\"YouTube video player\" frameborder=\"0\" allowfullscreen></iframe>"
      ],
      "metadata": {
        "colab": {
          "base_uri": "https://localhost:8080/",
          "height": 336
        },
        "id": "auU1zQw-T9Yk",
        "outputId": "f95ecc44-f837-4679-99fb-869d4d424289"
      },
      "execution_count": null,
      "outputs": [
        {
          "output_type": "display_data",
          "data": {
            "text/plain": [
              "<IPython.core.display.HTML object>"
            ],
            "text/html": [
              "<iframe width=\"560\" height=\"315\" src=\"https://www.youtube.com/embed/7hTBIME-zlw\" title=\"YouTube video player\" frameborder=\"0\" allowfullscreen></iframe>\n",
              "<iframe width=\"560\" height=\"315\" src=\"https://www.youtube.com/embed/slExWX5YbFc\" title=\"YouTube video player\" frameborder=\"0\" allowfullscreen></iframe>\n"
            ]
          },
          "metadata": {}
        }
      ]
    },
    {
      "cell_type": "markdown",
      "source": [
        "## Public and Private Attributes"
      ],
      "metadata": {
        "id": "SOcOptonRD0n"
      }
    },
    {
      "cell_type": "markdown",
      "source": [
        "As long as you have a reference to an object, you can access or change any attributes. However, if you want to hide some attributes (variables & functions) from outside users (**encapsulation**), you can put\n",
        "\n",
        "* no underscore before public attribute names\n",
        "* `_` (single under score): before semi-private attribute names\n",
        "* `__`(double under score): before very private attribute names"
      ],
      "metadata": {
        "id": "yGa7a_ZBRHYb"
      }
    },
    {
      "cell_type": "code",
      "source": [
        "class Product:\n",
        "  def __init__(self):\n",
        "    self.name = \"Galaxy 22\"\n",
        "    self._semi_price = 150\n",
        "    self.__real_price = 50  # becomes: _ClassName__VariableName\n",
        "\n",
        "  def print_info(self):\n",
        "    print(f\"name:{self.name}\")\n",
        "    print(f\"price:{self.__real_price}\")"
      ],
      "metadata": {
        "id": "2f0zQc-LSDLg"
      },
      "execution_count": 19,
      "outputs": []
    },
    {
      "cell_type": "code",
      "source": [
        "p1 = Product()\n",
        "print(p1._semi_price)           # normal\n",
        "print(p1._Product__real_price)  # normal\n",
        "p1.print_info()                 # normal\n",
        "#print(p1.__real_price)          # error"
      ],
      "metadata": {
        "id": "GaM6l4eiSKHn",
        "colab": {
          "base_uri": "https://localhost:8080/"
        },
        "outputId": "c51a90b1-60bd-463b-e3e1-4939daf6df0a"
      },
      "execution_count": 23,
      "outputs": [
        {
          "output_type": "stream",
          "name": "stdout",
          "text": [
            "150\n",
            "50\n",
            "name:Galaxy 22\n",
            "price:50\n"
          ]
        }
      ]
    },
    {
      "cell_type": "markdown",
      "source": [
        "## Inheritance"
      ],
      "metadata": {
        "id": "gcMLvTeXS0cz"
      }
    },
    {
      "cell_type": "markdown",
      "source": [
        "When multiple classes share similar attributes, you can reduce redundant code by defining a `base class` and then `subclasses` can inherit from the `base class` (or `superclass`).\n",
        "\n",
        "Let's implement the `Animal` class (`base class`) and `subclasses`\n",
        "* `Rabbit`\n",
        "* `Panda`\n",
        "* `Elephant`\n",
        "* `Vulture`\n",
        "* `Lion`"
      ],
      "metadata": {
        "id": "c91nVATmTPbJ"
      }
    },
    {
      "cell_type": "code",
      "source": [
        "# helper class\n",
        "class Food:\n",
        "  def __init__(self, name, type, calories):\n",
        "    self.name = name\n",
        "    self.type = type\n",
        "    self.calories = calories\n",
        "\n",
        "class Animal:\n",
        "  # class variables\n",
        "  species_name = \"Animal\"\n",
        "  scientific_name = \"Animalia\"\n",
        "  play_multiplier = 2\n",
        "  interact_increment = 1\n",
        "\n",
        "  def __init__(self, name, age=0):\n",
        "    self.name = name\n",
        "    self.age = age\n",
        "    self.calories_eaten  = 0\n",
        "    self.happiness = 0\n",
        "\n",
        "  def play(self, num_hours):\n",
        "    self.happiness += (num_hours * self.play_multiplier)\n",
        "    print(\"WHEEE PLAY TIME!\")\n",
        "\n",
        "  def eat(self, food):\n",
        "    self.calories_eaten += food.calories\n",
        "    print(f\"Om nom nom yummy {food.name}\")\n",
        "    # we did not define `calories_needed` in the base class\n",
        "    # since this class serves as an interface\n",
        "    if self.calories_eaten > self.calories_needed:\n",
        "      self.happiness -= 1\n",
        "      print(\"Ugh so full\")\n",
        "\n",
        "  def interact_with(self, animal2):\n",
        "    self.happiness += self.interact_increment\n",
        "    print(f\"Yay happy fun time with {animal2.name}\")"
      ],
      "metadata": {
        "id": "qaNt2f0cUALS"
      },
      "execution_count": 24,
      "outputs": []
    },
    {
      "cell_type": "code",
      "source": [
        "# To declare a subclass, put parentheses after the class name\n",
        "# and specify the base class in the parentheses\n",
        "class Rabbit(Animal):\n",
        "  # Then the subclasses only need the code that's unique to them.\n",
        "  # They can redefine any aspect:\n",
        "  #   - class variables\n",
        "  #   - method definitions\n",
        "  #   - constructor\n",
        "  # A redefinition is called overriding.\n",
        "  #\n",
        "  # If you want, you can override nothig\n",
        "  # class AmorphousBlob(Animal):\n",
        "  #   pass\n",
        "\n",
        "  # Subclasses can override existing class variables\n",
        "  # and assign new class variables\n",
        "  species_name = \"European rabbit\"\n",
        "  scientific_name = \"Oryctolagus cuniculus\"\n",
        "  calories_needed = 200\n",
        "  play_multiplier = 8\n",
        "  interact_increment = 4\n",
        "  num_in_litter = 12\n",
        "\n",
        "class Elephant(Animal):\n",
        "  species_name = \"African Savanna Elephant\"\n",
        "  scientific_name = \"Loxodonta africana\"\n",
        "  calories_needed = 8000\n",
        "  play_multiplier = 4\n",
        "  interact_increment = 2\n",
        "  num_tusks = 2\n",
        "\n",
        "class Panda(Animal):\n",
        "  species_name = \"Giant Panda\"\n",
        "  scientific_name = \"Ailuropoda melanoleuca\"\n",
        "  calories_needed = 6000\n",
        "\n",
        "  # If a subclass overrides a method,\n",
        "  # Python will use that definition instead of the superclass definition.\n",
        "  def interact_with(self, other):\n",
        "    print(f\"I'm a Panda, I'm solitary, go away {other.name}!\")"
      ],
      "metadata": {
        "id": "3CKeIhE7Ysdz"
      },
      "execution_count": 25,
      "outputs": []
    },
    {
      "cell_type": "code",
      "source": [
        "v = Rabbit('rabbit')"
      ],
      "metadata": {
        "id": "0Mqpf7pcszkJ"
      },
      "execution_count": 27,
      "outputs": []
    },
    {
      "cell_type": "code",
      "source": [
        "v.play(5)"
      ],
      "metadata": {
        "colab": {
          "base_uri": "https://localhost:8080/"
        },
        "id": "0XgoKUmes9Bo",
        "outputId": "58a2b04b-5612-4f2a-9bb1-af04e726f063"
      },
      "execution_count": 28,
      "outputs": [
        {
          "output_type": "stream",
          "name": "stdout",
          "text": [
            "WHEEE PLAY TIME!\n"
          ]
        }
      ]
    },
    {
      "cell_type": "code",
      "source": [
        "print(v.species_name)"
      ],
      "metadata": {
        "colab": {
          "base_uri": "https://localhost:8080/"
        },
        "id": "suPXse-ts_dp",
        "outputId": "fdbe03a7-2eb8-4291-e8b2-f1874e0fbcec"
      },
      "execution_count": 29,
      "outputs": [
        {
          "output_type": "stream",
          "name": "stdout",
          "text": [
            "European rabbit\n"
          ]
        }
      ]
    },
    {
      "cell_type": "markdown",
      "source": [
        "**ppp Exercise**"
      ],
      "metadata": {
        "id": "Cl4YX6WqYsH_"
      }
    },
    {
      "cell_type": "code",
      "source": [
        "class Clothing:\n",
        "  \"\"\"\n",
        "  >>> blue_shirt = Clothing(\"shirt\", \"blue\")\n",
        "  >>> blue_shirt.size\n",
        "  'normal'\n",
        "  >>> blue_shirt.category\n",
        "  'shirt'\n",
        "  >>> blue_shirt.color\n",
        "  'blue'\n",
        "  >>> blue_shirt.is_clean\n",
        "  True\n",
        "  >>> blue_shirt.wear()\n",
        "  >>> blue_shirt.is_clean\n",
        "  False\n",
        "  >>> blue_shirt.clean()\n",
        "  >>> blue_shirt.is_clean\n",
        "  True\n",
        "  \"\"\"\n",
        "  size = 'normal'\n",
        "  def __init__(self, category, color):\n",
        "    self.category = category\n",
        "    self.color = color\n",
        "    self.is_clean = True\n",
        "\n",
        "  def wear(self):\n",
        "    self.is_clean = False\n",
        "\n",
        "  def clean(self):\n",
        "    self.is_clean = True"
      ],
      "metadata": {
        "id": "kMNY90scaY-F"
      },
      "execution_count": null,
      "outputs": []
    },
    {
      "cell_type": "code",
      "source": [
        "class KidsClothing(Clothing):\n",
        "  \"\"\"\n",
        "  >>> onesie = KidsClothing(\"onesie\", \"polka dots\")\n",
        "  >>> onesie.wear()\n",
        "  >>> onesie.is_clean\n",
        "  False\n",
        "  >>> onesie.clean()\n",
        "  >>> onesie.is_clean\n",
        "  False\n",
        "  >>> onesie.size\n",
        "  'small'\n",
        "  >>> dress = KidsClothing(\"dress\", \"rainbow\")\n",
        "  >>> dress.clean()\n",
        "  >>> dress.is_clean\n",
        "  True\n",
        "  >>> dress.wear()\n",
        "  >>> dress.is_clean\n",
        "  False\n",
        "  >>> dress.clean()\n",
        "  >>> dress.is_clean\n",
        "  False\n",
        "  \"\"\"\n",
        "  # YOUR CODE HERE\n",
        "  size = \"small\"\n",
        "\n",
        "  #init 만들 필요 없구나!\n"
      ],
      "metadata": {
        "id": "WKKFia7eacyG"
      },
      "execution_count": 30,
      "outputs": []
    },
    {
      "cell_type": "code",
      "source": [
        "onesie = KidsClothing(\"onesie\", \"polka dots\")"
      ],
      "metadata": {
        "id": "gR7gNg3PtvaY"
      },
      "execution_count": 32,
      "outputs": []
    },
    {
      "cell_type": "code",
      "source": [
        "onesie.wear()"
      ],
      "metadata": {
        "id": "jfYDqZvVtzjK"
      },
      "execution_count": 33,
      "outputs": []
    },
    {
      "cell_type": "code",
      "source": [
        "onesie.is_clean"
      ],
      "metadata": {
        "colab": {
          "base_uri": "https://localhost:8080/"
        },
        "id": "XwwtxR6Ot1BW",
        "outputId": "96341033-894f-4115-ceda-112b5f9c8307"
      },
      "execution_count": 34,
      "outputs": [
        {
          "output_type": "execute_result",
          "data": {
            "text/plain": [
              "False"
            ]
          },
          "metadata": {},
          "execution_count": 34
        }
      ]
    },
    {
      "cell_type": "code",
      "source": [
        "onesie.size"
      ],
      "metadata": {
        "colab": {
          "base_uri": "https://localhost:8080/",
          "height": 36
        },
        "id": "3oACBn_4t33P",
        "outputId": "d501a70b-9483-475a-e38d-3f8b73195ef7"
      },
      "execution_count": 35,
      "outputs": [
        {
          "output_type": "execute_result",
          "data": {
            "text/plain": [
              "'small'"
            ],
            "application/vnd.google.colaboratory.intrinsic+json": {
              "type": "string"
            }
          },
          "metadata": {},
          "execution_count": 35
        }
      ]
    },
    {
      "cell_type": "code",
      "source": [
        "%%HTML\n",
        "<iframe width=\"560\" height=\"315\" src=\"https://www.youtube.com/embed/2BhfT1gXS-g\" title=\"YouTube video player\" frameborder=\"0\" allowfullscreen></iframe>\n",
        "<iframe width=\"560\" height=\"315\" src=\"https://www.youtube.com/embed/Ycn71GBj6GI\" title=\"YouTube video player\" frameborder=\"0\" allowfullscreen></iframe>"
      ],
      "metadata": {
        "colab": {
          "base_uri": "https://localhost:8080/",
          "height": 336
        },
        "id": "J-gtRRehUBFs",
        "outputId": "e7917ace-cc7f-4955-f1c6-38c62381d277"
      },
      "execution_count": null,
      "outputs": [
        {
          "output_type": "display_data",
          "data": {
            "text/plain": [
              "<IPython.core.display.HTML object>"
            ],
            "text/html": [
              "<iframe width=\"560\" height=\"315\" src=\"https://www.youtube.com/embed/2BhfT1gXS-g\" title=\"YouTube video player\" frameborder=\"0\" allowfullscreen></iframe>\n",
              "<iframe width=\"560\" height=\"315\" src=\"https://www.youtube.com/embed/Ycn71GBj6GI\" title=\"YouTube video player\" frameborder=\"0\" allowfullscreen></iframe>\n"
            ]
          },
          "metadata": {}
        }
      ]
    },
    {
      "cell_type": "markdown",
      "source": [
        "### Using methods from the base class\n",
        "\n",
        "To refer to a superclass method, we can use super():"
      ],
      "metadata": {
        "id": "kPfSMkCHbUFY"
      }
    },
    {
      "cell_type": "code",
      "source": [
        "class Lion(Animal):\n",
        "  species_name = \"Lion\"\n",
        "  scientific_name = \"Panthera\"\n",
        "  calories_needed = 3000\n",
        "\n",
        "  def eat(self, food):\n",
        "    if food.type == \"meat\":\n",
        "      super().eat(food)\n",
        "    else:\n",
        "      print(\"I do not eat other than meat!\")"
      ],
      "metadata": {
        "id": "KnkEhucsbc8V"
      },
      "execution_count": 36,
      "outputs": []
    },
    {
      "cell_type": "code",
      "source": [
        "bones = Food(\"Bones\", \"meat\", 10)\n",
        "leaves = Food(\"Leaf\", \"leaves\", 10)\n",
        "mufasa = Lion(\"Mufasa\", 10)\n",
        "mufasa.eat(bones)\n",
        "mufasa.eat(leaves)"
      ],
      "metadata": {
        "id": "xgprYn5hbcxx",
        "colab": {
          "base_uri": "https://localhost:8080/"
        },
        "outputId": "c0512b6e-b824-4a2f-b1c9-3b3e4b5b3185"
      },
      "execution_count": 39,
      "outputs": [
        {
          "output_type": "stream",
          "name": "stdout",
          "text": [
            "Om nom nom yummy Bones\n",
            "I do not eat other than meat!\n"
          ]
        }
      ]
    },
    {
      "cell_type": "markdown",
      "source": [
        "In fact,"
      ],
      "metadata": {
        "id": "zppOZ57XcOT5"
      }
    },
    {
      "cell_type": "code",
      "source": [
        "class Lion(Animal):\n",
        "  species_name = \"Lion\"\n",
        "  scientific_name = \"Panthera\"\n",
        "  calories_needed = 3000\n",
        "\n",
        "  def eat(self, food):\n",
        "    if food.type == \"meat\":\n",
        "      Animal.eat(self, food)\n",
        "    else:\n",
        "      print(\"I do not eat other than meat!\")"
      ],
      "metadata": {
        "id": "Dl7rZi8kcPQ1"
      },
      "execution_count": 40,
      "outputs": []
    },
    {
      "cell_type": "markdown",
      "source": [
        "### Overriding `__init__`"
      ],
      "metadata": {
        "id": "qQBX8aXtcWTy"
      }
    },
    {
      "cell_type": "markdown",
      "source": [
        "Similarly, we need to explicitly call `super().__init__()` if we want to call the `__init__` functionality of the base class."
      ],
      "metadata": {
        "id": "0gR3vFYGcXqM"
      }
    },
    {
      "cell_type": "code",
      "source": [
        "class Elephant(Animal):\n",
        "  species_name = \"Elephant\"\n",
        "  scientific_name = \"Loxodonta\"\n",
        "  calories_needed = 8000\n",
        "\n",
        "  def __init__(self, name, age=0):\n",
        "    super().__init__(name, age)\n",
        "    if age < 1:\n",
        "        self.calories_needed = 1000\n",
        "    elif age < 5:\n",
        "        self.calories_needed = 3000"
      ],
      "metadata": {
        "id": "FGgCkrymceM2"
      },
      "execution_count": 41,
      "outputs": []
    },
    {
      "cell_type": "markdown",
      "source": [
        "**WWPP Exercise**"
      ],
      "metadata": {
        "id": "5Ig5lnqecg5U"
      }
    },
    {
      "cell_type": "code",
      "source": [
        "elly = Elephant(\"Ellie\", 3)\n",
        "elly.calories_needed"
      ],
      "metadata": {
        "id": "uMJGre6Tci5G",
        "colab": {
          "base_uri": "https://localhost:8080/"
        },
        "outputId": "76c47b10-70b0-47de-8f35-098c9ac22a0f"
      },
      "execution_count": 42,
      "outputs": [
        {
          "output_type": "execute_result",
          "data": {
            "text/plain": [
              "3000"
            ]
          },
          "metadata": {},
          "execution_count": 42
        }
      ]
    },
    {
      "cell_type": "markdown",
      "source": [
        "### Multiple Inheritance"
      ],
      "metadata": {
        "id": "hvs3ZU-9c5yX"
      }
    },
    {
      "cell_type": "code",
      "source": [
        "class Predator(Animal):\n",
        "  def interact_with(self, other):\n",
        "    if other.type == \"meat\":\n",
        "      self.eat(other)\n",
        "      print(\"om nom nom, I'm a predator\")\n",
        "    else:\n",
        "      super().interact_with(other)\n",
        "\n",
        "class Prey(Animal):\n",
        "  type = \"meat\"\n",
        "  calories = 200\n",
        "\n",
        "class Herbivore(Animal):\n",
        "  def eat(self, food):\n",
        "    if food.type == \"meat\":\n",
        "      self.happiness -= 5\n",
        "    else:\n",
        "      super().eat(food)\n",
        "\n",
        "class Carnivore(Animal):\n",
        "  def eat(self, food):\n",
        "    if food.type == \"meat\":\n",
        "      super().eat(food)"
      ],
      "metadata": {
        "id": "qYwxhd9OdAO4"
      },
      "execution_count": null,
      "outputs": []
    },
    {
      "cell_type": "code",
      "source": [
        "# class Name(Parent1, Parent2, ...)\n",
        "#\n",
        "# class Rabbit(Prey, Herbivore):\n",
        "# class Lion(Predator, Carnivore):\n",
        "#\n",
        "# Python finds for the attribute from\n",
        "# Name -> Parent1 -> Parent2"
      ],
      "metadata": {
        "id": "CO14eWMHdJZE"
      },
      "execution_count": null,
      "outputs": []
    },
    {
      "cell_type": "markdown",
      "source": [
        "In fact, every object inherits from the mother object `Object`"
      ],
      "metadata": {
        "id": "EsZmQFhfeDMa"
      }
    },
    {
      "cell_type": "code",
      "source": [
        "# class Animal(Object)"
      ],
      "metadata": {
        "id": "LZGJ5YMveIwO"
      },
      "execution_count": null,
      "outputs": []
    },
    {
      "cell_type": "markdown",
      "source": [
        "**WWPP Exercise**"
      ],
      "metadata": {
        "id": "Yh57VZlGdk1M"
      }
    },
    {
      "cell_type": "code",
      "source": [
        "class Parent:\n",
        "  def f(s):\n",
        "    print(\"Parent.f\")\n",
        "\n",
        "  def g(s):\n",
        "    s.f()\n",
        "\n",
        "class Child(Parent):\n",
        "  def f(me):\n",
        "    print(\"Child.f\")\n",
        "\n",
        "a_child = Child()\n",
        "a_child.g()"
      ],
      "metadata": {
        "id": "wnAIChpDdm49",
        "colab": {
          "base_uri": "https://localhost:8080/"
        },
        "outputId": "17d7789b-5e5f-422b-8cf9-79c0cc3f0247"
      },
      "execution_count": 43,
      "outputs": [
        {
          "output_type": "stream",
          "name": "stdout",
          "text": [
            "Child.f\n"
          ]
        }
      ]
    },
    {
      "cell_type": "markdown",
      "source": [
        "## Special Methods"
      ],
      "metadata": {
        "id": "666fVrYGTa1w"
      }
    },
    {
      "cell_type": "markdown",
      "source": [
        "### `__str__`"
      ],
      "metadata": {
        "id": "k2_xiCnteNif"
      }
    },
    {
      "cell_type": "markdown",
      "source": [
        "The `__str__` method returns a human readable string representation of an object."
      ],
      "metadata": {
        "id": "Q1_hv12nepj6"
      }
    },
    {
      "cell_type": "code",
      "source": [
        "from fractions import Fraction\n",
        "\n",
        "one_third = 1/3\n",
        "one_half = Fraction(1, 2)"
      ],
      "metadata": {
        "id": "N9Jl9n1kewum"
      },
      "execution_count": 44,
      "outputs": []
    },
    {
      "cell_type": "code",
      "source": [
        "float.__str__(one_third)      # '0.3333333333333333'\n",
        "Fraction.__str__(one_half)    # '1/2'"
      ],
      "metadata": {
        "id": "PSsxuMOVexhO",
        "colab": {
          "base_uri": "https://localhost:8080/",
          "height": 36
        },
        "outputId": "759bbb22-8196-433d-b4b4-447b2706f28b"
      },
      "execution_count": 45,
      "outputs": [
        {
          "output_type": "execute_result",
          "data": {
            "text/plain": [
              "'1/2'"
            ],
            "application/vnd.google.colaboratory.intrinsic+json": {
              "type": "string"
            }
          },
          "metadata": {},
          "execution_count": 45
        }
      ]
    },
    {
      "cell_type": "markdown",
      "source": [
        "The `__str__` method is used in multiple places by Python: print() function, str() constructor, f-strings, and more."
      ],
      "metadata": {
        "id": "gvxQIEU8e16t"
      }
    },
    {
      "cell_type": "code",
      "source": [
        "print(one_third)\n",
        "print(one_half)\n",
        "\n",
        "str(one_third)\n",
        "str(one_half)\n",
        "\n",
        "f\"{one_half} > {one_third}\""
      ],
      "metadata": {
        "id": "tOC0tkwqe3Ns",
        "colab": {
          "base_uri": "https://localhost:8080/",
          "height": 71
        },
        "outputId": "3cc1ce5e-5c35-41cd-d1c2-74e8374c4080"
      },
      "execution_count": 46,
      "outputs": [
        {
          "output_type": "stream",
          "name": "stdout",
          "text": [
            "0.3333333333333333\n",
            "1/2\n"
          ]
        },
        {
          "output_type": "execute_result",
          "data": {
            "text/plain": [
              "'1/2 > 0.3333333333333333'"
            ],
            "application/vnd.google.colaboratory.intrinsic+json": {
              "type": "string"
            }
          },
          "metadata": {},
          "execution_count": 46
        }
      ]
    },
    {
      "cell_type": "markdown",
      "source": [
        "We can override __str__ to define our human readable string representation."
      ],
      "metadata": {
        "id": "ezPUlX2je-7P"
      }
    },
    {
      "cell_type": "code",
      "source": [
        "class Lamb:\n",
        "  species_name = \"Lamb\"\n",
        "  scientific_name = \"Ovis aries\"\n",
        "\n",
        "  def __init__(self, name):\n",
        "    self.name = name\n",
        "\n",
        "  def __str__(self):\n",
        "    return \"Lamb named \" + self.name"
      ],
      "metadata": {
        "id": "K6D7NhLqfA84"
      },
      "execution_count": 47,
      "outputs": []
    },
    {
      "cell_type": "code",
      "source": [
        "lil = Lamb(\"Lil lamb\")\n",
        "str(lil)\n",
        "print(lil)"
      ],
      "metadata": {
        "id": "Zjx2nOOzfDEV",
        "colab": {
          "base_uri": "https://localhost:8080/"
        },
        "outputId": "809540ca-811f-4d9b-d2a7-3c4be21cc3bc"
      },
      "execution_count": 48,
      "outputs": [
        {
          "output_type": "stream",
          "name": "stdout",
          "text": [
            "Lamb named Lil lamb\n"
          ]
        }
      ]
    },
    {
      "cell_type": "markdown",
      "source": [
        "### `__repr__`"
      ],
      "metadata": {
        "id": "VcQ9BR08eQ__"
      }
    },
    {
      "cell_type": "markdown",
      "source": [
        "The `__repr__` method returns a string that would evaluate to an object with the same values."
      ],
      "metadata": {
        "id": "BoRBUaDjfG-o"
      }
    },
    {
      "cell_type": "code",
      "source": [
        "from fractions import Fraction\n",
        "\n",
        "one_half = Fraction(1, 2)\n",
        "Fraction.__repr__(one_half)           # 'Fraction(1, 2)'"
      ],
      "metadata": {
        "id": "orsMvc3zfIOz",
        "colab": {
          "base_uri": "https://localhost:8080/",
          "height": 36
        },
        "outputId": "a12a3e6b-9e89-40d4-aa84-ee2991d83f31"
      },
      "execution_count": 49,
      "outputs": [
        {
          "output_type": "execute_result",
          "data": {
            "text/plain": [
              "'Fraction(1, 2)'"
            ],
            "application/vnd.google.colaboratory.intrinsic+json": {
              "type": "string"
            }
          },
          "metadata": {},
          "execution_count": 49
        }
      ]
    },
    {
      "cell_type": "markdown",
      "source": [
        "If implemented correctly, calling `eval(`) on the result should return back that same-valued object."
      ],
      "metadata": {
        "id": "5tHKjvq8fKee"
      }
    },
    {
      "cell_type": "code",
      "source": [
        "another_half = eval(Fraction.__repr__(one_half))"
      ],
      "metadata": {
        "id": "MvnasfmEfN0h"
      },
      "execution_count": 50,
      "outputs": []
    },
    {
      "cell_type": "code",
      "source": [
        "from fractions import Fraction\n",
        "\n",
        "one_third = 1/3\n",
        "one_half = Fraction(1, 2)"
      ],
      "metadata": {
        "id": "s0A3yTmZfWRc"
      },
      "execution_count": 51,
      "outputs": []
    },
    {
      "cell_type": "code",
      "source": [
        "one_third\n",
        "one_half\n",
        "repr(one_third)\n",
        "repr(one_half)"
      ],
      "metadata": {
        "id": "Ilkq02KjfYB-",
        "colab": {
          "base_uri": "https://localhost:8080/",
          "height": 36
        },
        "outputId": "4305e212-98b1-4e0a-a331-447a3d24e7d4"
      },
      "execution_count": 52,
      "outputs": [
        {
          "output_type": "execute_result",
          "data": {
            "text/plain": [
              "'Fraction(1, 2)'"
            ],
            "application/vnd.google.colaboratory.intrinsic+json": {
              "type": "string"
            }
          },
          "metadata": {},
          "execution_count": 52
        }
      ]
    },
    {
      "cell_type": "markdown",
      "source": [
        "When making custom classes, we can override `__repr__` to return a more appropriate Python representation."
      ],
      "metadata": {
        "id": "BuTeZwCDfZ3Y"
      }
    },
    {
      "cell_type": "code",
      "source": [
        "class Lamb:\n",
        "  species_name = \"Lamb\"\n",
        "  scientific_name = \"Ovis aries\"\n",
        "\n",
        "  def __init__(self, name):\n",
        "    self.name = name\n",
        "\n",
        "  def __str__(self):\n",
        "    return \"Lamb named \" + self.name\n",
        "\n",
        "  def __repr__(self):\n",
        "    return f\"Lamb({repr(self.name)})\""
      ],
      "metadata": {
        "id": "8xNpNlXufckw"
      },
      "execution_count": 53,
      "outputs": []
    },
    {
      "cell_type": "code",
      "source": [
        "lil = Lamb(\"Lil lamb\")\n",
        "print(str(lil))\n",
        "print(repr(lil))\n",
        "print(lil)"
      ],
      "metadata": {
        "id": "tMrBznT_fedB",
        "colab": {
          "base_uri": "https://localhost:8080/"
        },
        "outputId": "6ed58ca8-9a18-4e92-89f3-2edc6bf7fa36"
      },
      "execution_count": 57,
      "outputs": [
        {
          "output_type": "stream",
          "name": "stdout",
          "text": [
            "Lamb named Lil lamb\n",
            "Lamb('Lil lamb')\n",
            "Lamb named Lil lamb\n"
          ]
        }
      ]
    },
    {
      "cell_type": "markdown",
      "source": [
        "You can refer to the full list of special methods [here](https://docs.python.org/3/reference/datamodel.html)"
      ],
      "metadata": {
        "id": "YQgNsNgagCkf"
      }
    }
  ]
}