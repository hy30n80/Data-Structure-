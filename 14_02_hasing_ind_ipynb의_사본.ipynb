{
  "nbformat": 4,
  "nbformat_minor": 0,
  "metadata": {
    "colab": {
      "provenance": [],
      "include_colab_link": true
    },
    "kernelspec": {
      "name": "python3",
      "display_name": "Python 3"
    },
    "language_info": {
      "name": "python"
    }
  },
  "cells": [
    {
      "cell_type": "markdown",
      "metadata": {
        "id": "view-in-github",
        "colab_type": "text"
      },
      "source": [
        "<a href=\"https://colab.research.google.com/github/hy30n80/Data-Structure-/blob/main/14_02_hasing_ind_ipynb%EC%9D%98_%EC%82%AC%EB%B3%B8.ipynb\" target=\"_parent\"><img src=\"https://colab.research.google.com/assets/colab-badge.svg\" alt=\"Open In Colab\"/></a>"
      ]
    },
    {
      "cell_type": "markdown",
      "source": [
        "# EC2202 Hashing"
      ],
      "metadata": {
        "id": "gqZUxjuw8OE4"
      }
    },
    {
      "cell_type": "markdown",
      "source": [
        "## Student Information"
      ],
      "metadata": {
        "id": "xf29CU3_Cf39"
      }
    },
    {
      "cell_type": "markdown",
      "source": [
        "* Student ID: YOUR ID\n",
        "* Name: YOUR NAME"
      ],
      "metadata": {
        "id": "khmDC_XOCiJO"
      }
    },
    {
      "cell_type": "markdown",
      "source": [
        "**Disclaimer.**\n",
        "This code examples are based on\n",
        "1. [MIT 6.006 (Professor Erik Demaine, Dr. Jason Ku, and Professor Justin Solomon)](https://ocw.mit.edu/courses/electrical-engineering-and-computer-science/6-006-introduction-to-algorithms-spring-2020/index.htm)\n",
        "2. [KAIST CS206 (Professor Otfried Cheong)](https://otfried.org/courses/cs206/)\n",
        "3. [LeetCode](https://leetcode.com/)\n",
        "4. [GeeksForGeeks](https://practice.geeksforgeeks.org/)\n",
        "5. Coding Interviews"
      ],
      "metadata": {
        "id": "1bWHozli8SQ_"
      }
    },
    {
      "cell_type": "code",
      "source": [
        "%%HTML\n",
        "<iframe width=\"560\" height=\"315\" src=\"https://www.youtube.com/embed/-_gOqXzexsg\" title=\"YouTube video player\" frameborder=\"0\" allowfullscreen></iframe>\n",
        "<iframe width=\"560\" height=\"315\" src=\"https://www.youtube.com/embed/tWk8iaflxm4\" title=\"YouTube video player\" frameborder=\"0\" allowfullscreen></iframe>"
      ],
      "metadata": {
        "colab": {
          "base_uri": "https://localhost:8080/",
          "height": 655
        },
        "id": "vDCoIEZOcryB",
        "outputId": "4f0fe266-2c67-4faf-df73-0ecc9046444f"
      },
      "execution_count": null,
      "outputs": [
        {
          "output_type": "display_data",
          "data": {
            "text/plain": [
              "<IPython.core.display.HTML object>"
            ],
            "text/html": [
              "<iframe width=\"560\" height=\"315\" src=\"https://www.youtube.com/embed/-_gOqXzexsg\" title=\"YouTube video player\" frameborder=\"0\" allowfullscreen></iframe>\n",
              "<iframe width=\"560\" height=\"315\" src=\"https://www.youtube.com/embed/tWk8iaflxm4\" title=\"YouTube video player\" frameborder=\"0\" allowfullscreen></iframe>\n"
            ]
          },
          "metadata": {}
        }
      ]
    },
    {
      "cell_type": "markdown",
      "source": [
        "## \bChaining"
      ],
      "metadata": {
        "id": "2WrM_D34IFoN"
      }
    },
    {
      "cell_type": "code",
      "source": [
        "class _Node():\n",
        "  def __init__(self, key, value, next=None):\n",
        "    self.key = key\n",
        "    self.value = value\n",
        "    self.next = next\n",
        "\n",
        "def _hash(key):\n",
        "  return (key) % 100\n",
        "\n",
        "class dict():\n",
        "  def __init__(self):\n",
        "    self._data = [ None ] * 100 # the memory space we have is 100\n",
        "\n",
        "  def __contains__(self, key):\n",
        "    return self._findnode(key) is not None\n",
        "\n",
        "  def _findnode(self, key):\n",
        "    i = _hash(key)     # memory location\n",
        "    p = self._data[i]  # the head of the linked list at memory location i\n",
        "    while p is not None:\n",
        "      if p.key == key:\n",
        "        return p\n",
        "      p = p.next\n",
        "    return None\n",
        "\n",
        "  # print(d[k]) -> value of the item with the key k\n",
        "  def __getitem__(self, key):\n",
        "    p = self._findnode(key)\n",
        "    if p:\n",
        "      return p.value\n",
        "    else:\n",
        "      raise ValueError(key)\n",
        "\n",
        "  # 'ppp' exercise\n",
        "  def __setitem__(self, key, value):  # d[k] = v\n",
        "    p = self._findnode(key)\n",
        "    if p:\n",
        "      p.value = value\n",
        "    else:\n",
        "      h = _hash(key)\n",
        "      self._data[h] = _Node(key, value, self._data[h])\n",
        "\n",
        "      \"\"\" LinkedList 끝에 넣어주는 코드\n",
        "      p = self._data[i]\n",
        "      while p in not None:\n",
        "        p = p.next\n",
        "      p.next = _Node(key,value)\n",
        "      \"\"\"\n",
        "\n",
        "  def __repr__(self):\n",
        "    s = \"\"\n",
        "    for i in range(100):\n",
        "      s += \"%02d: \" % i\n",
        "      p = self._data[i]\n",
        "      while p is not None:\n",
        "        s += str(p.key) + \" \"\n",
        "        p = p.next\n",
        "      s += \"\\n\"\n",
        "    return s"
      ],
      "metadata": {
        "id": "5ZgVrAHEInPj"
      },
      "execution_count": 1,
      "outputs": []
    },
    {
      "cell_type": "code",
      "source": [
        "%%HTML\n",
        "<iframe width=\"560\" height=\"315\" src=\"https://www.youtube.com/embed/Lrm0wxm1H8U\" title=\"YouTube video player\" frameborder=\"0\" allowfullscreen></iframe>\n",
        "<iframe width=\"560\" height=\"315\" src=\"https://www.youtube.com/embed/WBvohZehMPE\" title=\"YouTube video player\" frameborder=\"0\" allowfullscreen></iframe>"
      ],
      "metadata": {
        "colab": {
          "base_uri": "https://localhost:8080/",
          "height": 655
        },
        "id": "tl_nDBcNcuPM",
        "outputId": "2733c324-d47a-4176-c6de-79ce5b0824df"
      },
      "execution_count": null,
      "outputs": [
        {
          "output_type": "display_data",
          "data": {
            "text/plain": [
              "<IPython.core.display.HTML object>"
            ],
            "text/html": [
              "<iframe width=\"560\" height=\"315\" src=\"https://www.youtube.com/embed/Lrm0wxm1H8U\" title=\"YouTube video player\" frameborder=\"0\" allowfullscreen></iframe>\n",
              "<iframe width=\"560\" height=\"315\" src=\"https://www.youtube.com/embed/WBvohZehMPE\" title=\"YouTube video player\" frameborder=\"0\" allowfullscreen></iframe>\n"
            ]
          },
          "metadata": {}
        }
      ]
    },
    {
      "cell_type": "markdown",
      "source": [
        "## Open addressing\n",
        "\n"
      ],
      "metadata": {
        "id": "QWyNr_wUIGu6"
      }
    },
    {
      "cell_type": "code",
      "source": [
        "class _Entry():\n",
        "  def __init__(self, key, value):\n",
        "    self.key = key\n",
        "    self.value = value\n",
        "\n",
        "def _hash(key):\n",
        "  return (key) % 100\n",
        "\n",
        "class dict():\n",
        "  def __init__(self):\n",
        "    self._data = [ None ] * 100\n",
        "\n",
        "  def _findkey(self, key):\n",
        "    i = _hash(key)\n",
        "    while self._data[i] is not None:\n",
        "      if self._data[i].key == key:\n",
        "        return (True, i)\n",
        "\n",
        "      i = (i + 1) % 100\n",
        "    return (False, i)\n",
        "\n",
        "  def __contains__(self, key):\n",
        "    found, i = self._findkey(key)\n",
        "    return found\n",
        "\n",
        "  def __getitem__(self, key):\n",
        "    found, i = self._findkey(key)\n",
        "    if found:\n",
        "      return self._data[i].value\n",
        "    else:\n",
        "      raise ValueError(key)\n",
        "\n",
        "  # 'ppp' exercise\n",
        "  def __setitem__(self, key, value):\n",
        "    found, i = self._findkey(key)\n",
        "    if found:\n",
        "      self._data[i].value = value\n",
        "    else:\n",
        "      self._data[i] = _Entry(key,value)\n",
        "\n",
        "  def __repr__(self):\n",
        "    s = \"\"\n",
        "    for i in range(100):\n",
        "      s += \"%02d: \" % i\n",
        "      if self._data[i] is not None:\n",
        "        s += str(self._data[i].key)\n",
        "      s += \"\\n\"\n",
        "    return s"
      ],
      "metadata": {
        "id": "raTsJ7uk91eO"
      },
      "execution_count": 2,
      "outputs": []
    },
    {
      "cell_type": "code",
      "source": [
        "%%HTML\n",
        "<iframe width=\"560\" height=\"315\" src=\"https://www.youtube.com/embed/EAgLywwjmQY\" title=\"YouTube video player\" frameborder=\"0\" allowfullscreen></iframe>\n",
        "<iframe width=\"560\" height=\"315\" src=\"https://www.youtube.com/embed/P4kDR7Zdjrw\" title=\"YouTube video player\" frameborder=\"0\" allowfullscreen></iframe>"
      ],
      "metadata": {
        "colab": {
          "base_uri": "https://localhost:8080/",
          "height": 655
        },
        "id": "i0MT4aqQcwg0",
        "outputId": "86ee038b-d3fa-457a-d22f-edac5710164d"
      },
      "execution_count": null,
      "outputs": [
        {
          "output_type": "display_data",
          "data": {
            "text/plain": [
              "<IPython.core.display.HTML object>"
            ],
            "text/html": [
              "<iframe width=\"560\" height=\"315\" src=\"https://www.youtube.com/embed/EAgLywwjmQY\" title=\"YouTube video player\" frameborder=\"0\" allowfullscreen></iframe>\n",
              "<iframe width=\"560\" height=\"315\" src=\"https://www.youtube.com/embed/P4kDR7Zdjrw\" title=\"YouTube video player\" frameborder=\"0\" allowfullscreen></iframe>\n"
            ]
          },
          "metadata": {}
        }
      ]
    },
    {
      "cell_type": "markdown",
      "source": [
        "## Practial issues"
      ],
      "metadata": {
        "id": "nzp_7t9278dL"
      }
    },
    {
      "cell_type": "markdown",
      "source": [
        "### Naive implementation"
      ],
      "metadata": {
        "id": "MSJJDVSy8SzD"
      }
    },
    {
      "cell_type": "code",
      "source": [
        "class Point():\n",
        "  def __init__(self, x, y):\n",
        "    self.x = x\n",
        "    self.y = y\n",
        "\n",
        "  def __repr__(self):\n",
        "    return \"Point(%s, %s)\" % (self.x, self.y)"
      ],
      "metadata": {
        "id": "GEXiGu9Y77yq"
      },
      "execution_count": 16,
      "outputs": []
    },
    {
      "cell_type": "markdown",
      "source": [
        "**WWPP**"
      ],
      "metadata": {
        "id": "nuEyMDuU8O61"
      }
    },
    {
      "cell_type": "code",
      "source": [
        "s = set()\n",
        "s.add(Point(3, 5))\n",
        "print(s)\n",
        "print(Point(3, 5) in s)"
      ],
      "metadata": {
        "id": "3y_vbrur7_2r",
        "colab": {
          "base_uri": "https://localhost:8080/"
        },
        "outputId": "4f30fe82-298b-4594-9bdf-752fe271bec5"
      },
      "execution_count": 17,
      "outputs": [
        {
          "output_type": "stream",
          "name": "stdout",
          "text": [
            "{Point(3, 5)}\n",
            "False\n"
          ]
        }
      ]
    },
    {
      "cell_type": "markdown",
      "source": [
        "Even though we can see that s contains a Point(3, 5), we cannot find it in the set. The reason becomes clear when we try the following:"
      ],
      "metadata": {
        "id": "KdDqpwfi89oc"
      }
    },
    {
      "cell_type": "code",
      "source": [
        "p = Point(3, 5)\n",
        "q = Point(3, 5)\n",
        "print(p == q)"
      ],
      "metadata": {
        "id": "NS4i-7iH8H4H",
        "colab": {
          "base_uri": "https://localhost:8080/"
        },
        "outputId": "5e47ebec-1764-4b6c-92d6-d4a2750f994b"
      },
      "execution_count": 18,
      "outputs": [
        {
          "output_type": "stream",
          "name": "stdout",
          "text": [
            "False\n"
          ]
        }
      ]
    },
    {
      "cell_type": "code",
      "source": [
        "print(hash(p))\n",
        "print(hash(q))"
      ],
      "metadata": {
        "id": "h1NfqLWy8YXW",
        "colab": {
          "base_uri": "https://localhost:8080/"
        },
        "outputId": "26a9a102-96db-45d2-9e3f-c9b5a60d2882"
      },
      "execution_count": 19,
      "outputs": [
        {
          "output_type": "stream",
          "name": "stdout",
          "text": [
            "8246787999519\n",
            "8246787999735\n"
          ]
        }
      ]
    },
    {
      "cell_type": "markdown",
      "source": [
        "Even though two points have the same coordinates, Python does not consider them equal, and they have different hash codes—so there is no way that the set could find the entry."
      ],
      "metadata": {
        "id": "Pykp505E9A49"
      }
    },
    {
      "cell_type": "markdown",
      "source": [
        "### Implementing `__eq__`"
      ],
      "metadata": {
        "id": "cVThBNII8VSo"
      }
    },
    {
      "cell_type": "code",
      "source": [
        "class Point():\n",
        "  def __init__(self, x, y):\n",
        "    self.x = x\n",
        "    self.y = y\n",
        "\n",
        "  def __repr__(self):\n",
        "    return \"Point(%s, %s)\" % (self.x, self.y)\n",
        "\n",
        "  #새롭게 구현한 거 (구현 필수!!!)\n",
        "  def __eq__ (self, rhs):\n",
        "    return self.x == rhs.x and self.y == rhs.y\n",
        "\n",
        "  #새롭게 구현한 거\n",
        "  def __hash__(self):\n",
        "    return hash((self.x, self.y))"
      ],
      "metadata": {
        "id": "2_rpuigX8Rs8"
      },
      "execution_count": 20,
      "outputs": []
    },
    {
      "cell_type": "code",
      "source": [
        "p = Point(3, 5)\n",
        "q = Point(3, 5)\n",
        "print(p == q)"
      ],
      "metadata": {
        "id": "u1u__Z2i8mLO",
        "colab": {
          "base_uri": "https://localhost:8080/"
        },
        "outputId": "e3d3037b-5c46-4c78-8836-0781f42ad28a"
      },
      "execution_count": 21,
      "outputs": [
        {
          "output_type": "stream",
          "name": "stdout",
          "text": [
            "True\n"
          ]
        }
      ]
    },
    {
      "cell_type": "code",
      "source": [
        "s = set()\n",
        "s.add(Point(3, 5))"
      ],
      "metadata": {
        "id": "6Sr9Btak8o4t"
      },
      "execution_count": 22,
      "outputs": []
    },
    {
      "cell_type": "markdown",
      "source": [
        "Python can now determine that the two points are equal—but it tells us that Point objects cannot be used in a hash table. In fact, it’s the hash function that no longer works:"
      ],
      "metadata": {
        "id": "CR3C6jr49F2Z"
      }
    },
    {
      "cell_type": "code",
      "source": [
        "print(hash(p))"
      ],
      "metadata": {
        "id": "1PuTbSIt8qCu",
        "colab": {
          "base_uri": "https://localhost:8080/"
        },
        "outputId": "779adbb5-2bc5-41e8-a2de-da0d723e93dd"
      },
      "execution_count": 23,
      "outputs": [
        {
          "output_type": "stream",
          "name": "stdout",
          "text": [
            "7586885779985432798\n"
          ]
        }
      ]
    },
    {
      "cell_type": "markdown",
      "source": [
        "The Python interpreter will not use its default implementation of the hash function for objects with an equality operator. Why not? Because the hash code of equal objects needs to be the same, and Python has no way to ensure this."
      ],
      "metadata": {
        "id": "PzPN4x749JJI"
      }
    },
    {
      "cell_type": "markdown",
      "source": [
        "### Implementing `__hash__`"
      ],
      "metadata": {
        "id": "f-RbDkEp9MZy"
      }
    },
    {
      "cell_type": "code",
      "source": [
        "class Point():\n",
        "  def __init__(self, x, y):\n",
        "    self.x = x\n",
        "    self.y = y\n",
        "\n",
        "  def __repr__(self):\n",
        "    return \"Point(%s, %s)\" % (self.x, self.y)\n",
        "\n",
        "  def __eq__(self, rhs):\n",
        "    return self.x == rhs.x and self.y == rhs.y\n",
        "\n",
        "  def __hash__(self):\n",
        "    return hash((self.x, self.y))"
      ],
      "metadata": {
        "id": "dd-92mfZ9R_g"
      },
      "execution_count": 24,
      "outputs": []
    },
    {
      "cell_type": "code",
      "source": [
        "s = set()\n",
        "s.add(Point(3, 5))\n",
        "print(s)\n",
        "print(Point(3, 5) in s)"
      ],
      "metadata": {
        "id": "u14tV0mA9XjA",
        "colab": {
          "base_uri": "https://localhost:8080/"
        },
        "outputId": "9c0da66d-7edb-43ef-a861-cab6a7776b04"
      },
      "execution_count": 25,
      "outputs": [
        {
          "output_type": "stream",
          "name": "stdout",
          "text": [
            "{Point(3, 5)}\n",
            "True\n"
          ]
        }
      ]
    },
    {
      "cell_type": "code",
      "source": [
        "print(id(p))\n",
        "print(id(q))"
      ],
      "metadata": {
        "id": "f7d6MpdlYFWB",
        "colab": {
          "base_uri": "https://localhost:8080/"
        },
        "outputId": "e26eedb4-eece-4e7a-c026-5f4cb187b3f8"
      },
      "execution_count": 26,
      "outputs": [
        {
          "output_type": "stream",
          "name": "stdout",
          "text": [
            "131948607994416\n",
            "131948607981408\n"
          ]
        }
      ]
    },
    {
      "cell_type": "markdown",
      "source": [
        "The lesson is: hash tables require that keys satisfy the following “contract”"
      ],
      "metadata": {
        "id": "gZNhC3Ga8tMi"
      }
    },
    {
      "cell_type": "markdown",
      "source": [
        "### Mutable keys"
      ],
      "metadata": {
        "id": "gB0TufDN9cyV"
      }
    },
    {
      "cell_type": "code",
      "source": [
        "p = Point(3, 5)\n",
        "s = set()\n",
        "s.add(p)\n",
        "print(s)"
      ],
      "metadata": {
        "id": "IRO1hwxd9glz",
        "colab": {
          "base_uri": "https://localhost:8080/"
        },
        "outputId": "6f1779b9-48aa-4a82-d3c1-c8dcd02c2215"
      },
      "execution_count": 27,
      "outputs": [
        {
          "output_type": "stream",
          "name": "stdout",
          "text": [
            "{Point(3, 5)}\n"
          ]
        }
      ]
    },
    {
      "cell_type": "markdown",
      "source": [
        "**WWPP**"
      ],
      "metadata": {
        "id": "edzccses9pNm"
      }
    },
    {
      "cell_type": "code",
      "source": [
        "p.y = 9\n",
        "# mutable objects\n",
        "print(s)\n",
        "print(Point(3, 9) in s)\n",
        "print(Point(3, 5) in s)"
      ],
      "metadata": {
        "id": "AuZW9R7Q9ozf",
        "colab": {
          "base_uri": "https://localhost:8080/"
        },
        "outputId": "6cc83df1-91ce-47bf-e972-9738b048fd27"
      },
      "execution_count": 28,
      "outputs": [
        {
          "output_type": "stream",
          "name": "stdout",
          "text": [
            "{Point(3, 9)}\n",
            "False\n",
            "False\n"
          ]
        }
      ]
    },
    {
      "cell_type": "markdown",
      "source": [
        "Even though s clearly contains Point(3,9), the set cannot find it. The reason is that p’s hash code has changed after it was added to the hash table, so p is simply in the wrong slot of the hash table!\n",
        "\n",
        "The lesson here: Never modify keys after they were added to a hash table.\n",
        "In fact, I would go further and recommend: Never use mutable objects as keys in a hash table. This is yet another example why immutable objects make programming safer and easier.\n",
        "\n",
        "Python encourages this idea: Python lists and Python sets are themselves not hashable. You cannot put a Python list, or a Python set into a set! What you can do instead is to use a tuple or a frozenset. These objects are hashable, and can be used as keys in a map or as elements of a set."
      ],
      "metadata": {
        "id": "56hrVc5f9wi8"
      }
    },
    {
      "cell_type": "markdown",
      "source": [
        "여기 WWPP 시험나오니까, 한번 쭉 둘러보기!!!!"
      ],
      "metadata": {
        "id": "NHstMRfGweib"
      }
    },
    {
      "cell_type": "code",
      "source": [
        "d[[1, 2, 3]] = 5  # not allowed!"
      ],
      "metadata": {
        "id": "wcjMCXjGkc9L",
        "colab": {
          "base_uri": "https://localhost:8080/",
          "height": 141
        },
        "outputId": "dfaa6c3f-db1e-41db-88b7-bc818aa67f8c"
      },
      "execution_count": 29,
      "outputs": [
        {
          "output_type": "error",
          "ename": "NameError",
          "evalue": "name 'd' is not defined",
          "traceback": [
            "\u001b[0;31m---------------------------------------------------------------------------\u001b[0m",
            "\u001b[0;31mNameError\u001b[0m                                 Traceback (most recent call last)",
            "\u001b[0;32m<ipython-input-29-5f91576f716e>\u001b[0m in \u001b[0;36m<cell line: 1>\u001b[0;34m()\u001b[0m\n\u001b[0;32m----> 1\u001b[0;31m \u001b[0md\u001b[0m\u001b[0;34m[\u001b[0m\u001b[0;34m[\u001b[0m\u001b[0;36m1\u001b[0m\u001b[0;34m,\u001b[0m \u001b[0;36m2\u001b[0m\u001b[0;34m,\u001b[0m \u001b[0;36m3\u001b[0m\u001b[0;34m]\u001b[0m\u001b[0;34m]\u001b[0m \u001b[0;34m=\u001b[0m \u001b[0;36m5\u001b[0m  \u001b[0;31m# not allowed!\u001b[0m\u001b[0;34m\u001b[0m\u001b[0;34m\u001b[0m\u001b[0m\n\u001b[0m",
            "\u001b[0;31mNameError\u001b[0m: name 'd' is not defined"
          ]
        }
      ]
    },
    {
      "cell_type": "code",
      "source": [],
      "metadata": {
        "id": "LAJhhslqwb0Q"
      },
      "execution_count": null,
      "outputs": []
    }
  ]
}