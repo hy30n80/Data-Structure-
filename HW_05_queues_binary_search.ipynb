{
  "nbformat": 4,
  "nbformat_minor": 0,
  "metadata": {
    "colab": {
      "provenance": [],
      "include_colab_link": true
    },
    "kernelspec": {
      "name": "python3",
      "display_name": "Python 3"
    },
    "language_info": {
      "name": "python"
    }
  },
  "cells": [
    {
      "cell_type": "markdown",
      "metadata": {
        "id": "view-in-github",
        "colab_type": "text"
      },
      "source": [
        "<a href=\"https://colab.research.google.com/github/hy30n80/Data-Structure-/blob/main/HW_05_queues_binary_search.ipynb\" target=\"_parent\"><img src=\"https://colab.research.google.com/assets/colab-badge.svg\" alt=\"Open In Colab\"/></a>"
      ]
    },
    {
      "cell_type": "markdown",
      "source": [
        "# EC2202 Homework #5 (Due: 1:00 pm, Apr. 11, 2024)"
      ],
      "metadata": {
        "id": "4i_Y_6Mjjlg3"
      }
    },
    {
      "cell_type": "markdown",
      "source": [
        "**Disclaimer**\n",
        "This homework is based on\n",
        "\n",
        "1. [GeeksforGeeks](https://practice.geeksforgeeks.org/home)"
      ],
      "metadata": {
        "id": "EbIb_c3Mju4X"
      }
    },
    {
      "cell_type": "markdown",
      "source": [
        "## Submission Link"
      ],
      "metadata": {
        "id": "0U29o-R0mLkO"
      }
    },
    {
      "cell_type": "markdown",
      "source": [
        "**Submit the sharing link :)**\n",
        "- Submit by [clicking here](https://forms.gle/k7Rw3eZGdiZzon7V7)!\n",
        "- Check your sumbission by [clicking here](https://docs.google.com/spreadsheets/d/1hJFaEbdf74WEPeUmFbZZmlbvw7aduE1yCbpu-z9FSTU/edit?usp=sharing)!"
      ],
      "metadata": {
        "id": "m33Sm8mQmN8s"
      }
    },
    {
      "cell_type": "markdown",
      "source": [
        "## Student Information"
      ],
      "metadata": {
        "id": "or_FSdW2mClU"
      }
    },
    {
      "cell_type": "markdown",
      "source": [
        "* Student ID: YOUR ID\n",
        "* Name: YOUR NAME"
      ],
      "metadata": {
        "id": "zK2IdssdmHlt"
      }
    },
    {
      "cell_type": "markdown",
      "source": [
        "## Evaluation Code Setting"
      ],
      "metadata": {
        "id": "m3Qvljj8jzD_"
      }
    },
    {
      "cell_type": "markdown",
      "source": [
        "Run the blow to test your implementation :)"
      ],
      "metadata": {
        "id": "9qWTFg1fj10p"
      }
    },
    {
      "cell_type": "code",
      "execution_count": 1,
      "metadata": {
        "id": "CVkw9OJkK6V0"
      },
      "outputs": [],
      "source": [
        "import doctest"
      ]
    },
    {
      "cell_type": "markdown",
      "source": [
        "##Q1\n"
      ],
      "metadata": {
        "id": "H7FArenNcHUn"
      }
    },
    {
      "cell_type": "markdown",
      "source": [
        "[Amazon] Given an integer K and a queue of integers, we need to reverse the order of the first K elements of the queue, leaving the other elements in the same relative order.\n",
        "\n",
        "Only following standard operations are allowed on queue.\n",
        "\n",
        "- enqueue(x) : Add an item x to rear of queue\n",
        "\n",
        "- dequeue() : Remove an item from front of queue\n",
        "\n",
        "- size() : Returns number of elements in queue.\n",
        "\n",
        "- front() : Finds front item.\n",
        "\n",
        "**Note**: The above operations represent the general processings. In-built functions of the respective languages can be used to solve the problem.\n",
        "\n",
        "**If k is bigger than queue size you must return \"queue size is smaller than k\"**\n",
        "\n",
        "Expected Time Complexity : O(n)\n"
      ],
      "metadata": {
        "id": "UJUdpbhTMAvL"
      }
    },
    {
      "cell_type": "code",
      "source": [
        "class Queue :\n",
        "  def __init__(self, data) :\n",
        "    self._data = data\n",
        "    self._size = len(data)\n",
        "\n",
        "  def size(self) :\n",
        "    return self._size\n",
        "\n",
        "  def front(self) :\n",
        "    return self._data[0]\n",
        "\n",
        "  def dequeue(self) :\n",
        "    if self._size==0 :\n",
        "      return \"Empty queue\"\n",
        "    else :\n",
        "      self._size-=1\n",
        "      return self._data.pop(0)\n",
        "\n",
        "  def enqueue(self,x):\n",
        "    self._size+=1\n",
        "    self._data.append(x)"
      ],
      "metadata": {
        "id": "esEgPC_3MaBv"
      },
      "execution_count": 4,
      "outputs": []
    },
    {
      "cell_type": "code",
      "source": [
        "def modify_queue(queue,k) :\n",
        "  \"\"\"\n",
        "  >>> modify_queue(Queue([1,2,3,4,5,5]),3)\n",
        "  [3, 2, 1, 4, 5, 5]\n",
        "  >>> modify_queue(Queue([]),7)\n",
        "  'queue size is smaller than k'\n",
        "  >>> modify_queue(Queue([1,2,3,4,5]),3)\n",
        "  [3, 2, 1, 4, 5]\n",
        "  >>> modify_queue(Queue([1,2,3,4]),4)\n",
        "  [4, 3, 2, 1]\n",
        "  >>> modify_queue(Queue([1,2,3,4]),5)\n",
        "  'queue size is smaller than k'\n",
        "  >>> modify_queue(Queue([10,2,3,4,5,2,3,4]),3)\n",
        "  [3, 2, 10, 4, 5, 2, 3, 4]\n",
        "  >>> modify_queue(Queue([10,2,3,4,5,2,3,4]),1)\n",
        "  [10, 2, 3, 4, 5, 2, 3, 4]\n",
        "  \"\"\"\n",
        "  # YOUR CODE HERE\n",
        "\n",
        "  if queue.size() < k:\n",
        "    return \"queue size is smaller than k\"\n",
        "\n",
        "  new_queue = Queue([])\n",
        "  temp = []\n",
        "\n",
        "  for i in range(k):\n",
        "    temp.append(queue.dequeue())\n",
        "\n",
        "  while temp:\n",
        "    new_queue.enqueue(temp.pop())\n",
        "\n",
        "  while queue.size()!=0:\n",
        "    new_queue.enqueue(queue.dequeue())\n",
        "\n",
        "  return new_queue._data\n"
      ],
      "metadata": {
        "id": "YoHWxmyTcOiz"
      },
      "execution_count": 11,
      "outputs": []
    },
    {
      "cell_type": "code",
      "source": [
        "doctest.run_docstring_examples(modify_queue, globals(), False, __name__)"
      ],
      "metadata": {
        "id": "TYYYqr6jcOWE"
      },
      "execution_count": 12,
      "outputs": []
    },
    {
      "cell_type": "code",
      "source": [
        "#@title Hint 👀\n",
        "def modify_queue(queue,k) :\n",
        "  if queue.size() < k :\n",
        "    return \"queue size is smaller than k\"\n",
        "  temp = []\n",
        "  ansqueue = Queue([])\n",
        "\n",
        "  for i in range(k):\n",
        "      temp.append(queue.# YOUR CODE HERE)\n",
        "\n",
        "  while len(temp):\n",
        "      ansqueue.enqueue(temp.# YOUR CODE HERE)\n",
        "\n",
        "  while queue.size()!=0:\n",
        "      # YOUR CODE HERE\n",
        "\n",
        "  return ansqueue._data"
      ],
      "metadata": {
        "id": "3YkJUrqafpP1"
      },
      "execution_count": null,
      "outputs": []
    },
    {
      "cell_type": "markdown",
      "source": [
        "## Q2\n"
      ],
      "metadata": {
        "id": "iO3oyH5Jj44f"
      }
    },
    {
      "cell_type": "markdown",
      "source": [
        "\n",
        "There are N cards. Each card is numbered from 1 to N in turn, and the cards are placed in order, with card 1 at the top and card N at the bottom.\n",
        "\n",
        "Now, the following actions are repeated until there is one card left. First, discard the top card on the floor. Then, move the top card under the bottom card.\n",
        "\n",
        "Write a program that, given N, finds the last remaining card.\n",
        "\n",
        "**Note : Use the queue implemented in Q1**"
      ],
      "metadata": {
        "id": "ZuCaKvczqJwO"
      }
    },
    {
      "cell_type": "code",
      "source": [
        "def remain_card(N):\n",
        "  '''\n",
        "  >>> remain_card(6)\n",
        "  4\n",
        "  >>> remain_card(100)\n",
        "  72\n",
        "  >>> remain_card(2)\n",
        "  2\n",
        "  >>> remain_card(1)\n",
        "  1\n",
        "  >>> remain_card(20)\n",
        "  8\n",
        "  >>> remain_card(10)\n",
        "  4\n",
        "  >>> remain_card(1999)\n",
        "  1950\n",
        "  >>> remain_card(9999)\n",
        "  3614\n",
        "  '''\n",
        "  # YOUR CODE HERE\n",
        "  queue = Queue([i for i in range(1, N+1)])\n",
        "\n",
        "  while queue.size()!=1:\n",
        "    queue.dequeue()\n",
        "    queue.enqueue(queue.dequeue())\n",
        "\n",
        "  return queue._data[0]\n"
      ],
      "metadata": {
        "id": "h3n38aHWj8KK"
      },
      "execution_count": 17,
      "outputs": []
    },
    {
      "cell_type": "code",
      "source": [
        "doctest.run_docstring_examples(remain_card, globals(), False, __name__)"
      ],
      "metadata": {
        "id": "Wx0Kz6mlj8oz"
      },
      "execution_count": 18,
      "outputs": []
    },
    {
      "cell_type": "code",
      "source": [
        "#@title Hint 👀\n",
        "\n",
        "def remain_card(N):\n",
        "  queue = Queue([# YOUR CODE HERE])\n",
        "  for k in range(N-1) :\n",
        "    queue.dequeue()\n",
        "    ma = # YOUR CODE HERE\n",
        "    queue.enqueue(ma)\n",
        "\n",
        "  return # YOUR CODE HERE"
      ],
      "metadata": {
        "id": "g3yZAnYNfucL",
        "cellView": "form"
      },
      "execution_count": null,
      "outputs": []
    },
    {
      "cell_type": "markdown",
      "source": [
        "## Q3"
      ],
      "metadata": {
        "id": "jb-SOCHyZi0c"
      }
    },
    {
      "cell_type": "markdown",
      "source": [
        "You are given two arrays **A** and **B** of unique elements of size **N**. Check if array **B** is a stack permutation of the array **A** or not.\n",
        "Stack permutation means that array **B** can be created from array **A** using a stack and stack operations."
      ],
      "metadata": {
        "id": "_pGniH1FZkm4"
      }
    },
    {
      "cell_type": "markdown",
      "source": [
        "*Explanation of test cases*\n",
        "\n",
        "1st case\n",
        "- 1. push 1 from A to stack\n",
        "- 2. push 2 from A to stack\n",
        "- 3. pop 2 from stack to B\n",
        "- 4. pop 1 from stack to B\n",
        "- 5. push 3 from A to stack\n",
        "- 6. pop 3 from stack to B\n",
        "\n",
        "2nd case\n",
        "- Not possible"
      ],
      "metadata": {
        "id": "j2pR9qnJaaBy"
      }
    },
    {
      "cell_type": "code",
      "source": [
        "from collections import deque\n",
        "\n",
        "\n",
        "def is_stack_permutation(N, A, B):\n",
        "  '''\n",
        "  >>> is_stack_permutation(3, [1, 2, 3], [2, 1, 3])\n",
        "  1\n",
        "  >>> is_stack_permutation(3, [1, 2, 3], [3, 1, 2])\n",
        "  0\n",
        "  >>> is_stack_permutation(4, [1, 2, 3, 4], [4, 3, 2, 1])\n",
        "  1\n",
        "  >>> is_stack_permutation(4, [1, 2, 3, 4], [4, 2, 1, 3])\n",
        "  0\n",
        "  '''\n",
        "  # YOUR CODE HERE\n",
        "\n",
        "  stack = []\n",
        "\n",
        "  input = deque(A)\n",
        "  output = deque(B)\n",
        "\n",
        "  while input:\n",
        "    stack.append(input.popleft())\n",
        "\n",
        "    while stack:\n",
        "      if stack[-1] == output[0]:\n",
        "        stack.pop()\n",
        "        output.popleft()\n",
        "      else:\n",
        "        break\n",
        "\n",
        "  if len(input)==0 and len(stack)==0 and len(output)==0:\n",
        "    return 1\n",
        "  else:\n",
        "    return 0\n",
        "\n",
        "\n",
        "\n",
        "\n",
        "\n"
      ],
      "metadata": {
        "id": "3-FzPU1GZlDK"
      },
      "execution_count": 21,
      "outputs": []
    },
    {
      "cell_type": "code",
      "source": [
        "doctest.run_docstring_examples(is_stack_permutation, globals(), False, __name__)"
      ],
      "metadata": {
        "id": "0NBvsuncZmch"
      },
      "execution_count": 22,
      "outputs": []
    },
    {
      "cell_type": "code",
      "source": [
        "#@title Hint 👀\n",
        "\n",
        "def is_stack_permutation(N, A, B):\n",
        "  ip, op = deque([]), deque([])\n",
        "\n",
        "  for i in range(N):\n",
        "    ip.append(A[i])\n",
        "    op.append(B[i])\n",
        "\n",
        "  st = []\n",
        "  while ip:\n",
        "    tmp = # YOUR CODE HERE\n",
        "    if (tmp == op[0]):\n",
        "      op.# YOUR CODE HERE\n",
        "      while st:\n",
        "        if (st[-1] == op[0]):\n",
        "          st.# YOUR CODE HERE\n",
        "          op.popleft()\n",
        "        else:\n",
        "          break\n",
        "    else:\n",
        "      st.append(# YOUR CODE HERE)\n",
        "\n",
        "  if # YOUR CODE HERE:\n",
        "    return 1\n",
        "  return 0"
      ],
      "metadata": {
        "id": "SLSWoyzqfv8x",
        "cellView": "form"
      },
      "execution_count": null,
      "outputs": []
    },
    {
      "cell_type": "markdown",
      "source": [
        "##Q4 (Optional)"
      ],
      "metadata": {
        "id": "mQQccPk_cT25"
      }
    },
    {
      "cell_type": "markdown",
      "source": [
        "There are N people standing in a circle waiting to be executed. The counting out begins at some point in the circle and proceeds around the circle in a fixed direction. In each step, a certain number of people are skipped and the next person is executed. The elimination proceeds around the circle (which is becoming smaller and smaller as the executed people are removed), until only the last person remains, who is given freedom.  \n",
        "Given the total number of persons N and a number k which indicates that k-1 persons are skipped and the kth person is killed in a circle. The task is to choose the person in the initial circle that survives."
      ],
      "metadata": {
        "id": "mRHTidspbUfH"
      }
    },
    {
      "cell_type": "code",
      "source": [
        "def josh(n, k) :\n",
        "    \"\"\"\n",
        "    >>> josh(7, 3)\n",
        "    3 6 2 7 5 1 4\n",
        "    >>> josh(10, 2)\n",
        "    2 4 6 8 10 3 7 1 9 5\n",
        "    >>> josh(11, 5)\n",
        "    5 10 4 11 7 3 2 6 9 1 8\n",
        "    >>> josh(13, 8)\n",
        "    8 3 12 9 6 5 7 11 2 1 10 4 13\n",
        "    \"\"\"\n",
        "    # YOUR CODE HERE"
      ],
      "metadata": {
        "id": "NVNjIhoacWLn"
      },
      "execution_count": null,
      "outputs": []
    },
    {
      "cell_type": "code",
      "source": [
        "doctest.run_docstring_examples(josh, globals(), False, __name__)"
      ],
      "metadata": {
        "id": "USRaBtEepHxy"
      },
      "execution_count": null,
      "outputs": []
    },
    {
      "cell_type": "markdown",
      "source": [
        "## Q5"
      ],
      "metadata": {
        "id": "X88kFjC7j9GI"
      }
    },
    {
      "cell_type": "markdown",
      "source": [
        "[Accolite / Amazon] Given an non-negative integer x, find the square root of x. If x is not a perfect square, then return floor(√x).\n",
        "\n",
        "<br/>\n",
        "\n",
        "**Note:**\n",
        "\n",
        "Expected Time Complexity: O(log N)\n"
      ],
      "metadata": {
        "id": "4JjNhVEmtpDI"
      }
    },
    {
      "cell_type": "code",
      "source": [
        "def floor_sqrt(x):\n",
        "    '''\n",
        "    >>> floor_sqrt(0)\n",
        "    0\n",
        "    >>> floor_sqrt(1)\n",
        "    1\n",
        "    >>> floor_sqrt(3)\n",
        "    1\n",
        "    >>> floor_sqrt(4)\n",
        "    2\n",
        "    >>> floor_sqrt(5)\n",
        "    2\n",
        "    >>> floor_sqrt(38808)\n",
        "    196\n",
        "    >>> floor_sqrt(38809)\n",
        "    197\n",
        "    >>> floor_sqrt(38810)\n",
        "    197\n",
        "    >>> floor_sqrt(39204)\n",
        "    198\n",
        "    '''\n",
        "    # YOUR CODE HERE\n",
        "    start = 0\n",
        "    end = x+1\n",
        "\n",
        "    while(start < end):\n",
        "      mid = (start + end) // 2\n",
        "\n",
        "      if x > mid ** 2:\n",
        "        start = mid\n",
        "\n",
        "      elif x < mid ** 2:\n",
        "        end = mid\n",
        "\n",
        "      else:\n",
        "        return mid\n",
        "\n",
        "      if end - start == 1:\n",
        "        break\n",
        "\n",
        "    return start\n",
        "\n",
        "\n",
        "\n"
      ],
      "metadata": {
        "id": "NK1Tx4f3j-Xg"
      },
      "execution_count": 49,
      "outputs": []
    },
    {
      "cell_type": "code",
      "source": [
        "doctest.run_docstring_examples(floor_sqrt, globals(), False, __name__)"
      ],
      "metadata": {
        "id": "bamn66QyuOXO"
      },
      "execution_count": 50,
      "outputs": []
    },
    {
      "cell_type": "code",
      "source": [
        "#@title Hint 👀\n",
        "\n",
        "def floor_sqrt(x):\n",
        "    b = # YOUR CODE HERE\n",
        "    e = # YOUR CODE HERE\n",
        "\n",
        "    while b < e:\n",
        "      mid = (b + e) // 2\n",
        "      sqr_mid = # YOUR CODE HERE\n",
        "      if sqr_mid < x: b = mid\n",
        "      elif sqr_mid > x: e = mid\n",
        "      else : return mid\n",
        "      if e - b == 1: break\n",
        "    return # YOUR CODE HERE"
      ],
      "metadata": {
        "id": "m4qBbr5VfyMa",
        "colab": {
          "base_uri": "https://localhost:8080/",
          "height": 106
        },
        "cellView": "form",
        "outputId": "d9fc812f-b786-4f4d-f81d-5e6b56f78b2a"
      },
      "execution_count": 51,
      "outputs": [
        {
          "output_type": "error",
          "ename": "SyntaxError",
          "evalue": "invalid syntax (<ipython-input-51-bc6cec065f65>, line 4)",
          "traceback": [
            "\u001b[0;36m  File \u001b[0;32m\"<ipython-input-51-bc6cec065f65>\"\u001b[0;36m, line \u001b[0;32m4\u001b[0m\n\u001b[0;31m    b = # YOUR CODE HERE\u001b[0m\n\u001b[0m        ^\u001b[0m\n\u001b[0;31mSyntaxError\u001b[0m\u001b[0;31m:\u001b[0m invalid syntax\n"
          ]
        }
      ]
    },
    {
      "cell_type": "markdown",
      "source": [
        "## Q6\n"
      ],
      "metadata": {
        "id": "wxUaLpTWj-w0"
      }
    },
    {
      "cell_type": "markdown",
      "source": [
        "[Amazon] Given an array Arr[ ] of size N. For every element in the array, the task is to find the index of the farthest element in the array to the right which is smaller than the current element. If no such number exists then print -1.\n",
        "\n",
        "<br/>\n",
        "\n",
        "**Note:**\n",
        "\n",
        "Expected Time Complexity: O(N*logN)"
      ],
      "metadata": {
        "id": "oU_XrLhYwl7o"
      }
    },
    {
      "cell_type": "code",
      "source": [
        "def far_number(n, arr):\n",
        "  '''\n",
        "  >>> far_number(5, [3, 1, 5, 2, 4])\n",
        "  [3, -1, 4, -1, -1]\n",
        "  >>> far_number(5, [1, 2, 3, 4, 0])\n",
        "  [4, 4, 4, 4, -1]\n",
        "  >>> far_number(8, [4, 4, 2, 1, 0, 2, 100, 2])\n",
        "  [7, 7, 4, 4, -1, -1, 7, -1]\n",
        "  >>> far_number(8, [1, 1, 1, 1, 1, 1, 1, 1])\n",
        "  [-1, -1, -1, -1, -1, -1, -1, -1]\n",
        "  >>> far_number(8, [8, 7, 6, 5, 4, 3, 2, 1])\n",
        "  [7, 7, 7, 7, 7, 7, 7, -1]\n",
        "  >>> far_number(8, [8, 7, 9, 8, 10, 9, 11, 10])\n",
        "  [1, -1, 3, -1, 5, -1, 7, -1]\n",
        "  '''\n",
        "  # YOUR CODE HERE\n",
        "  answer = []\n",
        "  suffix_min = [0 for i in range(n)] #본인과 본인 뒤 리스트의 최소값 배열\n",
        "  suffix_min[n-1] = arr[n-1]\n",
        "\n",
        "  for i in range(n-2, -1, -1):\n",
        "    suffix_min[i] = min(suffix_min[i+1], arr[i]) #본인과 본인 뒤 리스트의 최소값을 저장 (뒤에 갈수록 값이 커짐)\n",
        "\n",
        "\n",
        "  for i in range(n):\n",
        "    low = i + 1\n",
        "    high = n - 1\n",
        "    ans = -1\n",
        "\n",
        "    while (low <= high):\n",
        "      mid = (low + high) // 2\n",
        "\n",
        "      # mid 지점에서의 최소값보다 내가 더 클 때 -> 오른쪽에 먹을 것이 있겠다\n",
        "      if suffix_min[mid] < arr[i]:\n",
        "        ans = mid\n",
        "        low = mid + 1\n",
        "      else:\n",
        "        high = mid - 1\n",
        "\n",
        "    answer.append(ans)\n",
        "  return answer\n"
      ],
      "metadata": {
        "id": "CaRLRWz0kACi"
      },
      "execution_count": 54,
      "outputs": []
    },
    {
      "cell_type": "code",
      "source": [
        "doctest.run_docstring_examples(far_number, globals(), False, __name__)"
      ],
      "metadata": {
        "id": "V2llwTxykANn"
      },
      "execution_count": 55,
      "outputs": []
    },
    {
      "cell_type": "code",
      "source": [
        "#@title Hint 👀\n",
        "\n",
        "def far_number(n, arr):\n",
        "  answer = []\n",
        "  suffix_min = [0 for i in range(n)]\n",
        "  suffix_min[n - 1] = # YOUR CODE HERE\n",
        "  for i in range(n - 2, -1, -1):\n",
        "    suffix_min[i] = min(suffix_min[i + 1], arr[i])\n",
        "\n",
        "  for i in range(n):\n",
        "    low = i + 1\n",
        "    high = n - 1\n",
        "    ans = -1\n",
        "\n",
        "    while (low <= high):\n",
        "      mid = (low + high) // 2\n",
        "\n",
        "      # If currnet element in the suffix_min\n",
        "      # is less than arr[i] then move right\n",
        "      if # YOUR CODE HERE:\n",
        "          ans = mid\n",
        "          low = # YOUR CODE HERE\n",
        "      else:\n",
        "          high = mid - 1\n",
        "\n",
        "    # Print the required answer\n",
        "    answer.append(ans)\n",
        "  return answer"
      ],
      "metadata": {
        "id": "PvCQyl__fzO8",
        "cellView": "form"
      },
      "execution_count": null,
      "outputs": []
    },
    {
      "cell_type": "markdown",
      "source": [
        "##Q7"
      ],
      "metadata": {
        "id": "ByYJpCkRbcMq"
      }
    },
    {
      "cell_type": "markdown",
      "source": [
        "[Amazon / Microsoft] Given a sorted array having **N** elements, find the indices of the first and last occurrences of an element **X** in the given array."
      ],
      "metadata": {
        "id": "RPPsQpawbdeM"
      }
    },
    {
      "cell_type": "code",
      "source": [
        "def find_first(arr, low, high, x, n):\n",
        "  if high >= low:\n",
        "    mid = low + (high - low) // 2\n",
        "    if ((mid == 0 or x > arr[mid - 1]) and arr[mid] == x):\n",
        "      return mid\n",
        "    elif x > arr[mid]:\n",
        "      return find_first(arr, (mid + 1), high, x, n)\n",
        "    else:\n",
        "      return find_first(arr, low, (mid - 1), x, n)\n",
        "  return -1\n",
        "\n",
        "\n",
        "def find_last(arr, low, high, x, n):\n",
        "  # YOUR CODE HERE\n",
        "  if high >= low:\n",
        "    mid = (low + high) // 2\n",
        "\n",
        "    if ((mid == n-1 or x < arr[mid+1]) and arr[mid] == x):\n",
        "      return mid\n",
        "\n",
        "    elif x >= arr[mid]:\n",
        "      return find_last(arr, mid+1, high, x, n)\n",
        "\n",
        "    else:\n",
        "      return find_last(arr, low, mid-1, x, n)\n",
        "\n",
        "  return -1\n",
        "\n",
        "\n",
        "\n",
        "def first_and_last(arr, n, x):\n",
        "  '''\n",
        "  >>> first_and_last([1, 3, 3, 4], 4, 3)\n",
        "  [1, 2]\n",
        "  >>> first_and_last([1, 2, 3, 4], 4, 5)\n",
        "  [-1]\n",
        "  >>> first_and_last([1, 2, 3, 4], 4, 2)\n",
        "  [1, 1]\n",
        "  >>> first_and_last([1, 3, 3, 3, 4], 5, 3)\n",
        "  [1, 3]\n",
        "  '''\n",
        "  # YOUR CODE HERE\n",
        "  ind_first = find_first(arr, 0, n - 1, x, n)\n",
        "  ind_last  = find_last(arr, 0, n - 1, x, n)\n",
        "  ans = []\n",
        "\n",
        "  if (ind_first == -1) and (ind_last == -1):\n",
        "    ans.append(-1)\n",
        "  else:\n",
        "    ans.append(ind_first)\n",
        "    ans.append(ind_last)\n",
        "\n",
        "  return ans"
      ],
      "metadata": {
        "id": "rCz6Wx3ibd2j"
      },
      "execution_count": 66,
      "outputs": []
    },
    {
      "cell_type": "code",
      "source": [
        "doctest.run_docstring_examples(first_and_last, globals(), False, __name__)"
      ],
      "metadata": {
        "id": "GJ4wmaUvbeFx"
      },
      "execution_count": 67,
      "outputs": []
    },
    {
      "cell_type": "code",
      "source": [
        "#@title Hint 👀\n",
        "\n",
        "def find_first(arr, low, high, x, n):\n",
        "  if high >= low:\n",
        "    mid = low + (high - low) // 2\n",
        "    if ((mid == 0 or x > arr[mid - 1]) and arr[mid] == x):\n",
        "      return mid\n",
        "    elif x > arr[mid]:\n",
        "      return find_first(arr, (mid + 1), high, x, n)\n",
        "    else:\n",
        "      return find_first(arr, low, (mid - 1), x, n)\n",
        "  return -1\n",
        "\n",
        "def find_last(arr, low, high, x, n):\n",
        "  # YOUR CODE HERE\n",
        "\n",
        "\n",
        "def first_and_last(arr, n, x):\n",
        "  '''\n",
        "  >>> first_and_last([1, 3, 3, 4], 4, 3)\n",
        "  [1, 2]\n",
        "  >>> first_and_last([1, 2, 3, 4], 4, 5)\n",
        "  [-1]\n",
        "  >>> first_and_last([1, 2, 3, 4], 4, 2)\n",
        "  [1, 1]\n",
        "  >>> first_and_last([1, 3, 3, 3, 4], 5, 3)\n",
        "  [1, 3]\n",
        "  '''\n",
        "  ind_first = find_first(arr, 0, n - 1, x, n)\n",
        "  ind_last  = find_last(arr, 0, n - 1, x, n)\n",
        "  ans = []\n",
        "\n",
        "  if # YOUR CODE HERE:\n",
        "    ans.append(-1)\n",
        "  else:\n",
        "    ans.append(ind_first)\n",
        "    ans.append(ind_last)\n",
        "\n",
        "  return ans"
      ],
      "metadata": {
        "id": "AVmROaZ5f0pb"
      },
      "execution_count": null,
      "outputs": []
    },
    {
      "cell_type": "markdown",
      "source": [
        "##Q8 (Optional)"
      ],
      "metadata": {
        "id": "0ocVpNEBcWwE"
      }
    },
    {
      "cell_type": "markdown",
      "source": [
        "[Google/ Codenation] Dilpreet wants to paint his dog's home that has n boards with different lengths. The length of ith board is given by arr[i] where arr[ ] is an array of n integers. He hired k painters for this work and each painter takes 1 unit time to paint 1 unit of the board.\n",
        "\n",
        "The problem is to find the minimum time to get this job done if all painters start together with the constraint that any painter will only paint continuous boards, say boards numbered {2,3,4} or only board {1} or nothing but not boards {2,4,5}.\n",
        "\n",
        "For example, for **n = 5**, **k = 3**, **arr[ ] = {5, 10, 30, 20, 15}**,\n",
        "<br/>the output will be 35.\n",
        "\n",
        "The most optimal way will be:\n",
        "<br/>Painter 1 allocation : {5,10}\n",
        "<br/>Painter 2 allocation : {30}\n",
        "<br/>Painter 3 allocation : {20,15}\n",
        "<br/>Job will be done when all painters finish\n",
        "i.e. at time = max(5+10, 30, 20+15) = 35"
      ],
      "metadata": {
        "id": "cCd7pxvm3nKF"
      }
    },
    {
      "cell_type": "code",
      "source": [
        "def partition(arr, n, k):\n",
        "  '''\n",
        "  >>> partition([5, 10, 30, 20, 15], 5, 3)\n",
        "  35\n",
        "  >>> partition([10, 20, 30, 40], 4, 2)\n",
        "  60\n",
        "  >>> partition([10, 20, 30, 40, 50, 60], 6, 2)\n",
        "  110\n",
        "  >>> partition([10, 10, 10, 10, 10, 10], 6, 2)\n",
        "  30\n",
        "  >>> partition([10, 10, 10, 10, 10], 5, 2)\n",
        "  30\n",
        "  >>> partition([40, 30, 40, 30, 40, 30], 6, 2)\n",
        "  110\n",
        "  '''\n",
        "  # YOUR CODE HERE"
      ],
      "metadata": {
        "id": "3HCRPa5RcYIm"
      },
      "execution_count": null,
      "outputs": []
    },
    {
      "cell_type": "code",
      "source": [
        "doctest.run_docstring_examples(partition, globals(), False, __name__)"
      ],
      "metadata": {
        "id": "waz_Db8VcYXM"
      },
      "execution_count": null,
      "outputs": []
    }
  ]
}