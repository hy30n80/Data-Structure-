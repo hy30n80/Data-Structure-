{
  "nbformat": 4,
  "nbformat_minor": 0,
  "metadata": {
    "colab": {
      "provenance": [],
      "toc_visible": true,
      "include_colab_link": true
    },
    "kernelspec": {
      "name": "python3",
      "display_name": "Python 3"
    },
    "language_info": {
      "name": "python"
    }
  },
  "cells": [
    {
      "cell_type": "markdown",
      "metadata": {
        "id": "view-in-github",
        "colab_type": "text"
      },
      "source": [
        "<a href=\"https://colab.research.google.com/github/hy30n80/Data-Structure-/blob/main/%5BRECITATION_01%5D_Sorting%2C_Sets_and_Maps.ipynb\" target=\"_parent\"><img src=\"https://colab.research.google.com/assets/colab-badge.svg\" alt=\"Open In Colab\"/></a>"
      ]
    },
    {
      "cell_type": "markdown",
      "source": [
        "# Sorting\n",
        "\n",
        "Sorting is a algorithm that remake an array or list according to a specific rule (Increase, Decrease, etc). In this class, we deal with sorting by increaing order. There is a more than 20 sorting different algorithms. followings are famous 5 sorting algorithms.\n",
        "\n",
        "**Slow** : $O(n^{2})$\n",
        "- Selection Sort\n",
        "- Insert Sort\n",
        "- Bubble Sort\n",
        "\n",
        "**Fast** : $O(n\\log{n})$\n",
        "- Merge Sort\n",
        "- Quick Sort\n"
      ],
      "metadata": {
        "id": "72HK7x4XLF5O"
      }
    },
    {
      "cell_type": "markdown",
      "source": [
        "## Selection Sort\n",
        "**Selection Sort** is a sorting algorithm that select number in increasing order. In the `i`th of the iteration statement, find the smallest number starting from `i` index and insert it at `i` index."
      ],
      "metadata": {
        "id": "23K7R-MbQIbF"
      }
    },
    {
      "cell_type": "code",
      "source": [
        "import random\n",
        "import doctest"
      ],
      "metadata": {
        "id": "C4M7dOTfW71Z"
      },
      "execution_count": null,
      "outputs": []
    },
    {
      "cell_type": "code",
      "source": [
        "def selection_sort(arr):\n",
        "    for i in range(len(arr)):  # while len(arr) times,\n",
        "        _min, index = arr[i], i\n",
        "        # find minimum element's index in range i ~ len(arr)\n",
        "        for j in range(i+1, len(arr)):\n",
        "            if arr[j] < _min:\n",
        "                _min, index = arr[j], j\n",
        "\n",
        "        arr[i], arr[index] = arr[index], arr[i]  # and insert minimum element.\n",
        "\n",
        "    return arr"
      ],
      "metadata": {
        "id": "calsU5jYK3zG"
      },
      "execution_count": null,
      "outputs": []
    },
    {
      "cell_type": "code",
      "source": [
        "def selection_sort(arr):\n",
        "  for i in range(len(arr)):\n",
        "    _min, index = arr[i], i\n",
        "    for j in range(i+1, len(arr)):\n",
        "      if arr[j] < _min:\n",
        "        _min = arr[j]\n",
        "        index = j\n",
        "\n",
        "    arr[i], arr[index] = arr[index], arr[i]\n",
        "  return arr"
      ],
      "metadata": {
        "id": "AhACWufWfstb"
      },
      "execution_count": null,
      "outputs": []
    },
    {
      "cell_type": "code",
      "source": [
        "arr = [random.randrange(0, 1000) for _ in range(10)]\n",
        "sorted_arr = selection_sort(arr.copy())\n",
        "\n",
        "print(arr)\n",
        "print(sorted_arr)"
      ],
      "metadata": {
        "id": "f6dNvWb-W5Ly",
        "outputId": "fc5bd7bf-f5a9-4e3b-a044-6b252f81dcce",
        "colab": {
          "base_uri": "https://localhost:8080/"
        }
      },
      "execution_count": null,
      "outputs": [
        {
          "output_type": "stream",
          "name": "stdout",
          "text": [
            "[752, 663, 809, 73, 518, 910, 820, 408, 97, 574]\n",
            "[73, 97, 408, 518, 574, 663, 752, 809, 820, 910]\n"
          ]
        }
      ]
    },
    {
      "cell_type": "markdown",
      "source": [
        "## Insert Sort\n",
        "**Insert Sort** is a algorithm that find elements' each index. In the `i`th of the iteration statement, `0` index to `i-1` index of array is sorted and insert `i`th element."
      ],
      "metadata": {
        "id": "rZ-2J-RUXe0N"
      }
    },
    {
      "cell_type": "code",
      "source": [
        "def insert_sort(arr):\n",
        "    for i in range(len(arr)):  # while len(arr) times,\n",
        "        j = i - 1\n",
        "        # find the index of element's location\n",
        "        while j >= 0 and arr[j] > arr[j+1]:\n",
        "            arr[j+1], arr[j] = arr[j], arr[j+1]\n",
        "            j -= 1\n",
        "\n",
        "    return arr"
      ],
      "metadata": {
        "id": "3VG9EH3QXed1"
      },
      "execution_count": null,
      "outputs": []
    },
    {
      "cell_type": "code",
      "source": [
        "def insert_sort(arr):\n",
        "  for i in range(len(arr)):\n",
        "    j = i-1\n",
        "    while j >= 0 and arr[j] > arr[j+1]:\n",
        "      arr[j+1], arr[j] = arr[j], arr[j+1]\n",
        "      j = j-1\n",
        "\n",
        "  return arr"
      ],
      "metadata": {
        "id": "4Zc5_22YgZHj"
      },
      "execution_count": null,
      "outputs": []
    },
    {
      "cell_type": "code",
      "source": [
        "arr = [random.randrange(0, 1000) for _ in range(10)]\n",
        "sorted_arr = insert_sort(arr.copy())\n",
        "\n",
        "print(arr)\n",
        "print(sorted_arr)"
      ],
      "metadata": {
        "id": "PztnBx1vYV0y",
        "outputId": "31f91eee-533f-410b-c81d-ac95589954d7",
        "colab": {
          "base_uri": "https://localhost:8080/"
        }
      },
      "execution_count": null,
      "outputs": [
        {
          "output_type": "stream",
          "name": "stdout",
          "text": [
            "[409, 555, 642, 108, 520, 923, 309, 228, 930, 29]\n",
            "[29, 108, 228, 309, 409, 520, 555, 642, 923, 930]\n"
          ]
        }
      ]
    },
    {
      "cell_type": "markdown",
      "source": [
        "## Bubble Sort\n",
        "**Bubble Sort** is a algorithm that sorts from the back by swapping in order according to elements. In the `i`th of the iteration statement, swap by order of element from `0` index to `len(arr)-i-1`.\n"
      ],
      "metadata": {
        "id": "hHqrWriHZdTU"
      }
    },
    {
      "cell_type": "code",
      "source": [
        "def bubble_sort(arr):\n",
        "    for i in range(len(arr)-1):  # while len(arr)-1 times,\n",
        "        for j in range(len(arr)-i-1):  # from 0 to len(arr)-i-1\n",
        "            if arr[j] > arr[j+1]:\n",
        "                # swap according to order\n",
        "                arr[j], arr[j+1] = arr[j+1], arr[j]\n",
        "    return arr"
      ],
      "metadata": {
        "id": "M4_hLGfZZrAX"
      },
      "execution_count": null,
      "outputs": []
    },
    {
      "cell_type": "code",
      "source": [
        "def bubble_sort(arr):\n",
        "  for i in range(len(arr)-1):\n",
        "    for j in range(len(arr)-i-1):\n",
        "      if arr[j] > arr[j+1]:\n",
        "        arr[j], arr[j+1] = arr[j+1], arr[j]\n",
        "\n",
        "  return arr"
      ],
      "metadata": {
        "id": "HNfCyCbQhSUs"
      },
      "execution_count": null,
      "outputs": []
    },
    {
      "cell_type": "code",
      "source": [
        "arr = [random.randrange(0,1000) for _ in range(10)]\n",
        "sorted_arr = bubble_sort(arr.copy())\n",
        "\n",
        "print(arr)\n",
        "print(sorted_arr)"
      ],
      "metadata": {
        "id": "qu0DsUBeZX3I",
        "outputId": "e9d1f50a-c2cc-4a53-89c5-b5d242466cde",
        "colab": {
          "base_uri": "https://localhost:8080/"
        }
      },
      "execution_count": null,
      "outputs": [
        {
          "output_type": "stream",
          "name": "stdout",
          "text": [
            "[595, 304, 956, 331, 90, 811, 268, 410, 728, 952]\n",
            "[90, 268, 304, 331, 410, 595, 728, 811, 952, 956]\n"
          ]
        }
      ]
    },
    {
      "cell_type": "markdown",
      "source": [
        "## Merge Sort\n",
        "`Merge sort` is algorithm that consist of divide and conquer (It will be dealed with Algorithm Class.). It is an efficient sorting algorithm that started with the idea of two small sorted arrays can be sorted in linear time."
      ],
      "metadata": {
        "id": "HTLFy1HfbY4D"
      }
    },
    {
      "cell_type": "code",
      "source": [
        "def merge(arr1, arr2):\n",
        "    i, j = 0, 0\n",
        "    arr = []\n",
        "    while i < len(arr1) and j < len(arr2):  # merge two arrays\n",
        "        if arr1[i] < arr2[j]:\n",
        "            arr.append(arr1[i])\n",
        "            i += 1\n",
        "        else:\n",
        "            arr.append(arr2[j])\n",
        "            j += 1\n",
        "    arr.extend(arr1[i:])\n",
        "    arr.extend(arr2[j:])  # merge complete by extend remind elements\n",
        "    return arr\n",
        "\n",
        "\n",
        "def merge_sort(arr):\n",
        "    if len(arr) == 1:\n",
        "        return arr\n",
        "    m = len(arr) // 2\n",
        "    L, R = merge_sort(arr[:m]), merge_sort(arr[m:])  # divied array\n",
        "    return merge(L, R)"
      ],
      "metadata": {
        "id": "aHi5Cl1MbS3g"
      },
      "execution_count": null,
      "outputs": []
    },
    {
      "cell_type": "code",
      "source": [
        "def merge(arr1, arr2):\n",
        "  i, j = 0, 0\n",
        "  arr = []\n",
        "  while i < len(arr1) and j < len(arr2):\n",
        "    if arr1[i] < arr2[j]:\n",
        "      arr.append(arr1[i])\n",
        "      i += 1\n",
        "\n",
        "    elif arr1[i] > arr2[j]:\n",
        "      arr.append(arr2[j])\n",
        "      j += 1\n",
        "\n",
        "  arr.extend(arr1[i:])\n",
        "  arr.extend(arr2[j:])\n",
        "  return arr\n",
        "\n",
        "def merge_sort(arr):\n",
        "\n",
        "  if len(arr) == 1:\n",
        "    return arr\n",
        "\n",
        "  m = len(arr) // 2\n",
        "  L, R = merge_sort(arr[:m]), merge_sort(arr[m:])\n",
        "  return merge(L,R)\n"
      ],
      "metadata": {
        "id": "bdq02306hzFJ"
      },
      "execution_count": null,
      "outputs": []
    },
    {
      "cell_type": "code",
      "source": [
        "arr = [random.randrange(0, 1000) for _ in range(10)]\n",
        "sorted_arr = merge_sort(arr.copy())\n",
        "\n",
        "print(arr)\n",
        "print(sorted_arr)"
      ],
      "metadata": {
        "id": "Yw_WXfN_fc0K",
        "outputId": "5c72eb5b-1d4e-4b44-903b-c0bd3b55a208",
        "colab": {
          "base_uri": "https://localhost:8080/"
        }
      },
      "execution_count": null,
      "outputs": [
        {
          "output_type": "stream",
          "name": "stdout",
          "text": [
            "[14, 115, 254, 327, 550, 29, 796, 930, 699, 802]\n",
            "[14, 29, 115, 254, 327, 550, 699, 796, 802, 930]\n"
          ]
        }
      ]
    },
    {
      "cell_type": "markdown",
      "source": [
        "## Quick Sort\n",
        "\n",
        "`Quick sort` is simillar as merge sort. Not only is it divide-and-conquer, it's efficient like merge sort. Set a specific pivot, divide the number based on this pivot, and sort the divisions."
      ],
      "metadata": {
        "id": "buDWz0oNcxnc"
      }
    },
    {
      "cell_type": "code",
      "source": [
        "def quick_sort(arr):\n",
        "    if len(arr) < 2:\n",
        "        return arr\n",
        "    mid = arr[0]  # Choose any element\n",
        "    L, M, R = [], [], []\n",
        "    for i in arr:  # divide by choosen number\n",
        "        if i < mid:\n",
        "            L.append(i)\n",
        "        elif i > mid:\n",
        "            R.append(i)\n",
        "        else:\n",
        "            M.append(i)\n",
        "    return quick_sort(L) + M + quick_sort(R)  # sort by recursion"
      ],
      "metadata": {
        "id": "bnYpJvOucxSp"
      },
      "execution_count": null,
      "outputs": []
    },
    {
      "cell_type": "code",
      "source": [
        "def quick_sort(arr):\n",
        "  if len(arr) <= 1:\n",
        "    return arr\n",
        "\n",
        "  pivot = arr[0]\n",
        "\n",
        "  L = []\n",
        "  M = []\n",
        "  R = []\n",
        "\n",
        "  for i in arr:\n",
        "    if i == pivot:\n",
        "      M.append(i)\n",
        "    elif i < pivot:\n",
        "      L.append(i)\n",
        "    elif i > pivot:\n",
        "      R.append(i)\n",
        "\n",
        "  return quick_sort(L) + M + quick_sort(R)"
      ],
      "metadata": {
        "id": "Yz97NQx8j04X"
      },
      "execution_count": null,
      "outputs": []
    },
    {
      "cell_type": "code",
      "source": [
        "arr = [random.randrange(0, 1000) for _ in range(10)]\n",
        "sorted_arr = quick_sort(arr.copy())\n",
        "\n",
        "print(arr)\n",
        "print(sorted_arr)"
      ],
      "metadata": {
        "id": "vB8YL6m0fhcR",
        "outputId": "2be2ee4c-ace9-44ae-8f71-b2a54e6c86cc",
        "colab": {
          "base_uri": "https://localhost:8080/"
        }
      },
      "execution_count": null,
      "outputs": [
        {
          "output_type": "stream",
          "name": "stdout",
          "text": [
            "[819, 644, 866, 388, 72, 190, 556, 447, 405, 445]\n",
            "[72, 190, 388, 405, 445, 447, 556, 644, 819, 866]\n"
          ]
        }
      ]
    },
    {
      "cell_type": "markdown",
      "source": [
        "## Tips!\n",
        "Python supports built-in sort functions. It can be applied later in algorithm problems."
      ],
      "metadata": {
        "id": "a59RALbW4r6h"
      }
    },
    {
      "cell_type": "code",
      "source": [
        "import random\n",
        "arr = [random.randrange(0, 1000) for _ in range(10)]\n",
        "print(arr)\n",
        "arr.sort()\n",
        "print(arr)"
      ],
      "metadata": {
        "id": "Hq67mHru47HE",
        "colab": {
          "base_uri": "https://localhost:8080/"
        },
        "outputId": "01db1d57-02bc-4e68-cf6c-9e394b2e29d4"
      },
      "execution_count": null,
      "outputs": [
        {
          "output_type": "stream",
          "name": "stdout",
          "text": [
            "[400, 983, 619, 646, 903, 75, 270, 199, 201, 836]\n",
            "[75, 199, 201, 270, 400, 619, 646, 836, 903, 983]\n"
          ]
        }
      ]
    },
    {
      "cell_type": "markdown",
      "source": [
        "It can use with lambda function to determine sorting rule. By assign lambda function at key to make rule."
      ],
      "metadata": {
        "id": "xROgLXnX5Fqt"
      }
    },
    {
      "cell_type": "code",
      "source": [
        "arr = [random.randrange(-1000, 1000) for _ in range(20)]\n",
        "print(arr)\n",
        "\n",
        "arr.sort()  # increasing order\n",
        "print(arr)\n",
        "\n",
        "arr.sort(key=lambda x: -x)  # decreasing order\n",
        "print(arr)\n",
        "\n",
        "arr.sort(key=lambda x: abs(x))  # order close to zero\n",
        "print(arr)"
      ],
      "metadata": {
        "id": "QcC3VSU95CrO",
        "colab": {
          "base_uri": "https://localhost:8080/"
        },
        "outputId": "ade69442-8016-409d-dd42-ea2d8dbdeabb"
      },
      "execution_count": null,
      "outputs": [
        {
          "output_type": "stream",
          "name": "stdout",
          "text": [
            "[820, 377, -207, 51, 114, -888, 177, -154, -605, 100, 19, -746, 275, -78, 466, -342, -279, -561, -66, 526]\n",
            "[-888, -746, -605, -561, -342, -279, -207, -154, -78, -66, 19, 51, 100, 114, 177, 275, 377, 466, 526, 820]\n",
            "[820, 526, 466, 377, 275, 177, 114, 100, 51, 19, -66, -78, -154, -207, -279, -342, -561, -605, -746, -888]\n",
            "[19, 51, -66, -78, 100, 114, -154, 177, -207, 275, -279, -342, 377, 466, 526, -561, -605, -746, 820, -888]\n"
          ]
        }
      ]
    },
    {
      "cell_type": "markdown",
      "source": [
        "# Set\n",
        "A set is a type of structure, representing an unordered collection of zero or more distinct (different) objects. Following is a ADT of set.\n",
        "\n",
        "- Initalization\n",
        "- Get size\n",
        "- Check item is in set.\n",
        "- Insert item is not in set\n",
        "- Remove item is in the set\n",
        "- Representation"
      ],
      "metadata": {
        "id": "6NJmmq_ZF3ub"
      }
    },
    {
      "cell_type": "code",
      "source": [
        "class my_set():\n",
        "    def __init__(self, items=None):\n",
        "        self._data = []\n",
        "        if items:\n",
        "            for item in items:\n",
        "                self.add(item)\n",
        "\n",
        "    def __contains__(self, item):\n",
        "        return item in self._data\n",
        "\n",
        "    def __len__(self):\n",
        "        return len(self._data)\n",
        "\n",
        "    def add(self, item):\n",
        "        if item not in self._data:\n",
        "            self._data.append(item)\n",
        "\n",
        "    def remove(self, item):\n",
        "        if item in self._data:\n",
        "            self._data.remove(item) #list의 remove 함수\n",
        "        else:\n",
        "            raise KeyError(item)\n",
        "\n",
        "    def discard(self, el):\n",
        "        if el in self._data:\n",
        "            self._data.remove(el)\n",
        "\n",
        "    def __repr__(self):\n",
        "        s = \"ListSet(\"\n",
        "        sep = \"\"\n",
        "        for item in self._data:\n",
        "            s += sep + repr(item)\n",
        "            sep = \",\"\n",
        "        return s + \")\""
      ],
      "metadata": {
        "id": "5dL3N340F-Lc"
      },
      "execution_count": null,
      "outputs": []
    },
    {
      "cell_type": "code",
      "source": [
        "s = my_set([1, 2, 3, 4])\n",
        "print(s)\n",
        "s.discard(3)\n",
        "print(s)\n",
        "s.add(1)\n",
        "print(s)\n",
        "s.add(5)\n",
        "print(s)\n",
        "print(1 in s)"
      ],
      "metadata": {
        "id": "M-6vMkECF7CT",
        "outputId": "f6d3e9ba-2bea-4136-850b-922a3e61694e",
        "colab": {
          "base_uri": "https://localhost:8080/"
        }
      },
      "execution_count": null,
      "outputs": [
        {
          "output_type": "stream",
          "name": "stdout",
          "text": [
            "ListSet(1,2,3,4)\n",
            "ListSet(1,2,4)\n",
            "ListSet(1,2,4)\n",
            "ListSet(1,2,4,5)\n",
            "True\n"
          ]
        }
      ]
    },
    {
      "cell_type": "markdown",
      "source": [
        "## Tips !\n",
        "Python has built-in sets. When you want to use set, you can defind like below."
      ],
      "metadata": {
        "id": "JesjlkvzI3s6"
      }
    },
    {
      "cell_type": "code",
      "source": [
        "s1 = set()\n",
        "s2 = {1, 2, 3, 4}\n",
        "s3 = {}  # Caution ! {} is not a set.\n",
        "print(type(s1), type(s2), type(s3))"
      ],
      "metadata": {
        "id": "0DROTFXYJL-2",
        "colab": {
          "base_uri": "https://localhost:8080/"
        },
        "outputId": "244cb249-4486-4796-868b-149006425af7"
      },
      "execution_count": null,
      "outputs": [
        {
          "output_type": "stream",
          "name": "stdout",
          "text": [
            "<class 'set'> <class 'set'> <class 'dict'>\n"
          ]
        }
      ]
    },
    {
      "cell_type": "code",
      "source": [
        "s1.add(1)\n",
        "print(s1)\n",
        "s1.remove(1)\n",
        "print(s1)\n",
        "for i in range(3, 10):\n",
        "    s1.add(i)\n",
        "print(s1)\n",
        "print(5 in s1, 2 in s1)"
      ],
      "metadata": {
        "id": "_toN9NynKaYz",
        "colab": {
          "base_uri": "https://localhost:8080/"
        },
        "outputId": "228fbbb8-9254-415e-e533-608d87251691"
      },
      "execution_count": null,
      "outputs": [
        {
          "output_type": "stream",
          "name": "stdout",
          "text": [
            "{1, 3, 4, 5, 6, 7, 8, 9}\n",
            "{3, 4, 5, 6, 7, 8, 9}\n",
            "{3, 4, 5, 6, 7, 8, 9}\n",
            "True False\n"
          ]
        }
      ]
    },
    {
      "cell_type": "markdown",
      "source": [
        "# Map\n",
        "A map is a type of structure, which connects keys and values. Following is a ADT of map.\n",
        "\n",
        "- Initalization\n",
        "- Get size\n",
        "- Set item with key\n",
        "- Get item with key\n",
        "- Check key is in map.\n",
        "- Representation"
      ],
      "metadata": {
        "id": "Xi8Zs5j6F74U"
      }
    },
    {
      "cell_type": "code",
      "source": [
        "#List 안에 소괄호로 구현\n",
        "class my_map():\n",
        "    def __init__(self):\n",
        "        self._data = []\n",
        "\n",
        "    def __len__(self):\n",
        "        return len(self._data)\n",
        "\n",
        "    def __setitem__(self, k, value):\n",
        "        i = self._findkey(k)\n",
        "        if i >= 0:\n",
        "            self._data[i] = (k, value)\n",
        "        else:\n",
        "            self._data.append((k, value))\n",
        "\n",
        "    def _findkey(self, k):\n",
        "        for i in range(len(self._data)):\n",
        "            if k == self._data[i][0]:\n",
        "                return i\n",
        "        return -1\n",
        "\n",
        "    def __getitem__(self, k):\n",
        "        i = self._findkey(k)\n",
        "        if i >= 0:\n",
        "            return self._data[i][1]\n",
        "        else:\n",
        "            raise KeyError(k)\n",
        "\n",
        "    def __repr__(self):\n",
        "        s = \"ListMap(\"\n",
        "        sep = \"\"\n",
        "        for k, v in self._data:\n",
        "            s += sep + repr(k) + \": \" + repr(v)\n",
        "            sep = \",\"\n",
        "        return s + \")\""
      ],
      "metadata": {
        "id": "Z1cDzOV4MMC1"
      },
      "execution_count": null,
      "outputs": []
    },
    {
      "cell_type": "code",
      "source": [
        "m = my_map()\n",
        "m[1] = 2\n",
        "print(m)\n",
        "m[2] = '345'\n",
        "print(m)\n",
        "m[3] = [1, 2, 3, 4, 5]\n",
        "print(m)\n",
        "print(m[3])\n",
        "print(m[0])"
      ],
      "metadata": {
        "id": "MOSnAPu4M_MN",
        "outputId": "f4aef5db-982c-4ffa-e536-3440ab849c38",
        "colab": {
          "base_uri": "https://localhost:8080/",
          "height": 367
        }
      },
      "execution_count": null,
      "outputs": [
        {
          "output_type": "stream",
          "name": "stdout",
          "text": [
            "ListMap(1: 2)\n",
            "ListMap(1: 2,2: '345')\n",
            "ListMap(1: 2,2: '345',3: [1, 2, 3, 4, 5])\n",
            "[1, 2, 3, 4, 5]\n"
          ]
        },
        {
          "output_type": "error",
          "ename": "KeyError",
          "evalue": "0",
          "traceback": [
            "\u001b[0;31m---------------------------------------------------------------------------\u001b[0m",
            "\u001b[0;31mKeyError\u001b[0m                                  Traceback (most recent call last)",
            "\u001b[0;32m<ipython-input-46-2ab03990537f>\u001b[0m in \u001b[0;36m<cell line: 9>\u001b[0;34m()\u001b[0m\n\u001b[1;32m      7\u001b[0m \u001b[0mprint\u001b[0m\u001b[0;34m(\u001b[0m\u001b[0mm\u001b[0m\u001b[0;34m)\u001b[0m\u001b[0;34m\u001b[0m\u001b[0;34m\u001b[0m\u001b[0m\n\u001b[1;32m      8\u001b[0m \u001b[0mprint\u001b[0m\u001b[0;34m(\u001b[0m\u001b[0mm\u001b[0m\u001b[0;34m[\u001b[0m\u001b[0;36m3\u001b[0m\u001b[0;34m]\u001b[0m\u001b[0;34m)\u001b[0m\u001b[0;34m\u001b[0m\u001b[0;34m\u001b[0m\u001b[0m\n\u001b[0;32m----> 9\u001b[0;31m \u001b[0mprint\u001b[0m\u001b[0;34m(\u001b[0m\u001b[0mm\u001b[0m\u001b[0;34m[\u001b[0m\u001b[0;36m0\u001b[0m\u001b[0;34m]\u001b[0m\u001b[0;34m)\u001b[0m\u001b[0;34m\u001b[0m\u001b[0;34m\u001b[0m\u001b[0m\n\u001b[0m",
            "\u001b[0;32m<ipython-input-45-e027dfaea6e8>\u001b[0m in \u001b[0;36m__getitem__\u001b[0;34m(self, k)\u001b[0m\n\u001b[1;32m     24\u001b[0m             \u001b[0;32mreturn\u001b[0m \u001b[0mself\u001b[0m\u001b[0;34m.\u001b[0m\u001b[0m_data\u001b[0m\u001b[0;34m[\u001b[0m\u001b[0mi\u001b[0m\u001b[0;34m]\u001b[0m\u001b[0;34m[\u001b[0m\u001b[0;36m1\u001b[0m\u001b[0;34m]\u001b[0m\u001b[0;34m\u001b[0m\u001b[0;34m\u001b[0m\u001b[0m\n\u001b[1;32m     25\u001b[0m         \u001b[0;32melse\u001b[0m\u001b[0;34m:\u001b[0m\u001b[0;34m\u001b[0m\u001b[0;34m\u001b[0m\u001b[0m\n\u001b[0;32m---> 26\u001b[0;31m             \u001b[0;32mraise\u001b[0m \u001b[0mKeyError\u001b[0m\u001b[0;34m(\u001b[0m\u001b[0mk\u001b[0m\u001b[0;34m)\u001b[0m\u001b[0;34m\u001b[0m\u001b[0;34m\u001b[0m\u001b[0m\n\u001b[0m\u001b[1;32m     27\u001b[0m \u001b[0;34m\u001b[0m\u001b[0m\n\u001b[1;32m     28\u001b[0m     \u001b[0;32mdef\u001b[0m \u001b[0m__repr__\u001b[0m\u001b[0;34m(\u001b[0m\u001b[0mself\u001b[0m\u001b[0;34m)\u001b[0m\u001b[0;34m:\u001b[0m\u001b[0;34m\u001b[0m\u001b[0;34m\u001b[0m\u001b[0m\n",
            "\u001b[0;31mKeyError\u001b[0m: 0"
          ]
        }
      ]
    },
    {
      "cell_type": "markdown",
      "source": [
        "## Tips !\n",
        "Python has built-in map called dictionary. When you want to use set, you can defind like below."
      ],
      "metadata": {
        "id": "DhWuSeRJM4M3"
      }
    },
    {
      "cell_type": "code",
      "source": [
        "m1 = {}\n",
        "m2 = {1: 11, 2: 12}\n",
        "print(type(m1), type(m2))"
      ],
      "metadata": {
        "id": "7oVQvaNENctQ",
        "colab": {
          "base_uri": "https://localhost:8080/"
        },
        "outputId": "c4642709-b3ec-4131-a3e6-c567f7aac534"
      },
      "execution_count": null,
      "outputs": [
        {
          "output_type": "stream",
          "name": "stdout",
          "text": [
            "<class 'dict'> <class 'dict'>\n"
          ]
        }
      ]
    },
    {
      "cell_type": "code",
      "source": [
        "m = {}\n",
        "m[1] = 2\n",
        "print(m)\n",
        "m[2] = '345'\n",
        "print(m)\n",
        "m[3] = [1, 2, 3, 4, 5]\n",
        "print(m)\n",
        "print(m[3])\n",
        "print(m[0])"
      ],
      "metadata": {
        "id": "1XXEGzOmNg7a",
        "colab": {
          "base_uri": "https://localhost:8080/",
          "height": 245
        },
        "outputId": "920a90f1-8b5e-498e-f992-c91a8952d9a9"
      },
      "execution_count": null,
      "outputs": [
        {
          "output_type": "stream",
          "name": "stdout",
          "text": [
            "{1: 2}\n",
            "{1: 2, 2: '345'}\n",
            "{1: 2, 2: '345', 3: [1, 2, 3, 4, 5]}\n",
            "[1, 2, 3, 4, 5]\n"
          ]
        },
        {
          "output_type": "error",
          "ename": "KeyError",
          "evalue": "0",
          "traceback": [
            "\u001b[0;31m---------------------------------------------------------------------------\u001b[0m",
            "\u001b[0;31mKeyError\u001b[0m                                  Traceback (most recent call last)",
            "\u001b[0;32m<ipython-input-48-12bf02a7cf74>\u001b[0m in \u001b[0;36m<cell line: 9>\u001b[0;34m()\u001b[0m\n\u001b[1;32m      7\u001b[0m \u001b[0mprint\u001b[0m\u001b[0;34m(\u001b[0m\u001b[0mm\u001b[0m\u001b[0;34m)\u001b[0m\u001b[0;34m\u001b[0m\u001b[0;34m\u001b[0m\u001b[0m\n\u001b[1;32m      8\u001b[0m \u001b[0mprint\u001b[0m\u001b[0;34m(\u001b[0m\u001b[0mm\u001b[0m\u001b[0;34m[\u001b[0m\u001b[0;36m3\u001b[0m\u001b[0;34m]\u001b[0m\u001b[0;34m)\u001b[0m\u001b[0;34m\u001b[0m\u001b[0;34m\u001b[0m\u001b[0m\n\u001b[0;32m----> 9\u001b[0;31m \u001b[0mprint\u001b[0m\u001b[0;34m(\u001b[0m\u001b[0mm\u001b[0m\u001b[0;34m[\u001b[0m\u001b[0;36m0\u001b[0m\u001b[0;34m]\u001b[0m\u001b[0;34m)\u001b[0m\u001b[0;34m\u001b[0m\u001b[0;34m\u001b[0m\u001b[0m\n\u001b[0m",
            "\u001b[0;31mKeyError\u001b[0m: 0"
          ]
        }
      ]
    },
    {
      "cell_type": "markdown",
      "source": [
        "# Quiz 1 : Fastest Sort\n",
        "\n",
        "Calculate the time complexity of the following sort algorithm. Elements of input list are natural numbers between `1 and 100`"
      ],
      "metadata": {
        "id": "RzD-229PNrbM"
      }
    },
    {
      "cell_type": "code",
      "source": [
        "def fast_sort(arr):\n",
        "    nums = [0 for _ in range(101)]\n",
        "    for i in arr:\n",
        "        nums[i] += 1\n",
        "    sorted_arr = []\n",
        "    for i in range(100):\n",
        "        for _ in range(nums[i]):\n",
        "            sorted_arr.append(i)\n",
        "    return sorted_arr"
      ],
      "metadata": {
        "id": "AjLgV6S4Oe4L"
      },
      "execution_count": null,
      "outputs": []
    },
    {
      "cell_type": "code",
      "source": [
        "def fast_sort(arr):\n",
        "  nums = [0 for _ in range(101)]\n",
        "  for i in arr:\n",
        "    nums[i] += 1\n",
        "\n",
        "  sorted_arr = []\n",
        "  for i in range(100):\n",
        "    for _ in range(nums[i]):\n",
        "      sorted_arr.append(i)\n",
        "\n",
        "  return sorted_arr"
      ],
      "metadata": {
        "id": "pR_987zNpAs-"
      },
      "execution_count": null,
      "outputs": []
    },
    {
      "cell_type": "code",
      "source": [
        "arr = [random.randrange(0, 101) for i in range(10**2)]\n",
        "print(arr)\n",
        "print(fast_sort(arr))"
      ],
      "metadata": {
        "id": "wBWU9yemPFqN",
        "outputId": "ee4291ae-ba4a-4151-e22e-426e830253b8",
        "colab": {
          "base_uri": "https://localhost:8080/"
        }
      },
      "execution_count": null,
      "outputs": [
        {
          "output_type": "stream",
          "name": "stdout",
          "text": [
            "[82, 24, 20, 69, 79, 1, 49, 95, 22, 66, 74, 85, 11, 16, 49, 73, 55, 0, 76, 68, 60, 27, 64, 61, 47, 19, 26, 34, 2, 96, 79, 47, 20, 3, 64, 99, 61, 56, 98, 50, 44, 8, 56, 97, 5, 18, 98, 10, 92, 76, 1, 28, 1, 24, 66, 46, 82, 2, 14, 80, 36, 52, 38, 35, 93, 66, 62, 49, 29, 14, 100, 3, 99, 22, 72, 41, 32, 99, 48, 94, 60, 13, 1, 71, 0, 33, 1, 53, 83, 93, 80, 2, 33, 87, 19, 36, 33, 54, 97, 86]\n",
            "[0, 0, 1, 1, 1, 1, 1, 2, 2, 2, 3, 3, 5, 8, 10, 11, 13, 14, 14, 16, 18, 19, 19, 20, 20, 22, 22, 24, 24, 26, 27, 28, 29, 32, 33, 33, 33, 34, 35, 36, 36, 38, 41, 44, 46, 47, 47, 48, 49, 49, 49, 50, 52, 53, 54, 55, 56, 56, 60, 60, 61, 61, 62, 64, 64, 66, 66, 66, 68, 69, 71, 72, 73, 74, 76, 76, 79, 79, 80, 80, 82, 82, 83, 85, 86, 87, 92, 93, 93, 94, 95, 96, 97, 97, 98, 98, 99, 99, 99]\n"
          ]
        }
      ]
    },
    {
      "cell_type": "markdown",
      "source": [
        "# Quiz 2 : Genius card game player\n",
        "Gini is a genius card game player. Gini created his own strategy to win the game. It was to memorize all the decks made up of 52 cards (Combination of number{A, 2, 3, 4, 5, 6, 7, 8, 9, 10, J, Q, K} and suit{Clover, Diamond, Heart, Spade}). Let's create some code to help Gini.\n",
        "\n",
        "Input : `Playing card list` that contains the cards used and `number value` that Gini wants to know if the card of the number is used.\n",
        "\n",
        "Output : return the `card suit list' that was not used with value of input. The order of return suit is C->D->H->S (Ascii code order).\n",
        "\n",
        "\n",
        "Tip : You can use set, map, and sort()"
      ],
      "metadata": {
        "id": "0xBKfn1HOlkS"
      }
    },
    {
      "cell_type": "code",
      "source": [
        "def card_counting(used_card, value):\n",
        "    '''\n",
        "    >>> card_counting(['SA','S4','S6','SQ','DA','D2','D4','D6','D9','D10','DJ','HA','H3','H6','H9','HK','C2','C5','C6','C7','CQ'],'7')\n",
        "    ['D', 'H', 'S']\n",
        "    >>> card_counting(['SA','S4','S6','SQ','DA','D2','D4','D6','D9','D10','DJ','HA','H3','H6','H9','HK','C2','C5','C6','C7','CQ'],'6')\n",
        "    []\n",
        "    >>> card_counting(['SA','S4','S6','SQ','DA','D2','D4','D6','D9','D10','DJ','HA','H3','H6','H9','HK','C2','C5','C6','C7','CQ'],'4')\n",
        "    ['C','H']\n",
        "    >>> card_counting(['SA','DA','HA','CA'],'A')\n",
        "    []\n",
        "    >>> card_counting(['SA','DA','HA','CA'],'K')\n",
        "    ['C', 'D', 'H', 'S']\n",
        "    '''\n",
        "\n",
        "    card_set = dict()\n",
        "    for i in range(2, 11):\n",
        "      card_set[str(i)] = ['C','D','H','S']\n",
        "\n",
        "    card_set['A'] = ['C','D','H','S']\n",
        "    card_set['J'] = ['C','D','H','S']\n",
        "    card_set['Q'] = ['C','D','H','S']\n",
        "    card_set['K'] = ['C','D','H','S']\n",
        "\n",
        "    for card in used_card:\n",
        "      shape, num = card[0], card[1:]\n",
        "\n",
        "      card_set[num].remove(shape)\n",
        "\n",
        "    return card_set[value]"
      ],
      "metadata": {
        "id": "f8MqukvORqYH"
      },
      "execution_count": null,
      "outputs": []
    },
    {
      "cell_type": "code",
      "source": [
        "doctest.run_docstring_examples(card_counting, globals(), False, __name__)"
      ],
      "metadata": {
        "id": "-vj3AJFvUrHz",
        "outputId": "2f6c22f9-d11d-44e1-a5a5-b5ad858125b2",
        "colab": {
          "base_uri": "https://localhost:8080/"
        }
      },
      "execution_count": null,
      "outputs": [
        {
          "output_type": "stream",
          "name": "stdout",
          "text": [
            "**********************************************************************\n",
            "File \"__main__\", line 7, in __main__\n",
            "Failed example:\n",
            "    card_counting(['SA','S4','S6','SQ','DA','D2','D4','D6','D9','D10','DJ','HA','H3','H6','H9','HK','C2','C5','C6','C7','CQ'],'4')\n",
            "Expected:\n",
            "    ['C','H']\n",
            "Got:\n",
            "    ['C', 'H']\n"
          ]
        }
      ]
    },
    {
      "cell_type": "code",
      "source": [],
      "metadata": {
        "id": "2vcY3Vmcq806"
      },
      "execution_count": null,
      "outputs": []
    }
  ]
}