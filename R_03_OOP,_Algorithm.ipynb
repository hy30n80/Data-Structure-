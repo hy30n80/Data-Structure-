{
  "nbformat": 4,
  "nbformat_minor": 0,
  "metadata": {
    "colab": {
      "provenance": [],
      "include_colab_link": true
    },
    "kernelspec": {
      "name": "python3",
      "display_name": "Python 3"
    },
    "language_info": {
      "name": "python"
    }
  },
  "cells": [
    {
      "cell_type": "markdown",
      "metadata": {
        "id": "view-in-github",
        "colab_type": "text"
      },
      "source": [
        "<a href=\"https://colab.research.google.com/github/hy30n80/Data-Structure-/blob/main/R_03_OOP%2C_Algorithm.ipynb\" target=\"_parent\"><img src=\"https://colab.research.google.com/assets/colab-badge.svg\" alt=\"Open In Colab\"/></a>"
      ]
    },
    {
      "cell_type": "markdown",
      "source": [
        "# Object Oriented Programing\n",
        "\n"
      ],
      "metadata": {
        "id": "2JzPW7-H0nFW"
      }
    },
    {
      "cell_type": "markdown",
      "source": [
        "## 🎥[Recording](https://youtu.be/sM_OGzt7KLo)"
      ],
      "metadata": {
        "id": "y4c0WqLi2cK8"
      }
    },
    {
      "cell_type": "markdown",
      "source": [
        "## Class define"
      ],
      "metadata": {
        "id": "nkS-A0Ro81pU"
      }
    },
    {
      "cell_type": "code",
      "source": [
        "class Attendance:\n",
        "    # constructor: called when a new instance of this class is created\n",
        "    # the first argument `self` is the new object created\n",
        "    def __init__(self, name, basic_score=20):\n",
        "        self.name = name\n",
        "        self.score = basic_score\n",
        "\n",
        "    # defintion of class specific methods\n",
        "    # self is pre-bound to a particular value\n",
        "    def late(self):\n",
        "        self.score -= 1\n",
        "\n",
        "    def absent(self):\n",
        "        self.score -= 2\n",
        "\n",
        "    def print_attendance(self):\n",
        "        return self.name, self.score"
      ],
      "metadata": {
        "id": "NX_gAPndbdos"
      },
      "execution_count": 1,
      "outputs": []
    },
    {
      "cell_type": "code",
      "source": [
        "lee = Attendance('Lee')\n",
        "kim = Attendance('Kim')\n",
        "park = Attendance('Park')\n",
        "\n",
        "lee.late()\n",
        "# Attendance.late(lee)\n",
        "\n",
        "kim.absent()\n",
        "# Attendance.absent(kim)\n",
        "\n",
        "print(\"%s's attendance score is %d\" % lee.print_attendance())\n",
        "print(\"%s's attendance score is %d\" % kim.print_attendance())\n",
        "print(\"%s's attendance score is %d\" % park.print_attendance())"
      ],
      "metadata": {
        "colab": {
          "base_uri": "https://localhost:8080/"
        },
        "id": "7ISEyMsP6_Uh",
        "outputId": "b068d6d3-f679-49c7-8870-277dee67a81a"
      },
      "execution_count": 2,
      "outputs": [
        {
          "output_type": "stream",
          "name": "stdout",
          "text": [
            "Lee's attendance score is 19\n",
            "Kim's attendance score is 18\n",
            "Park's attendance score is 20\n"
          ]
        }
      ]
    },
    {
      "cell_type": "markdown",
      "source": [
        "**Method** is bounded by its object\n",
        "\n",
        "**Function** can use for the general case"
      ],
      "metadata": {
        "id": "dial50EJ9y0J"
      }
    },
    {
      "cell_type": "code",
      "source": [
        "print(type(Attendance.print_attendance))\n",
        "print(type(lee.print_attendance))"
      ],
      "metadata": {
        "colab": {
          "base_uri": "https://localhost:8080/"
        },
        "id": "cJTOK-Bd7l1b",
        "outputId": "205ab871-5f83-4a07-818f-0a0e557a6d40"
      },
      "execution_count": 3,
      "outputs": [
        {
          "output_type": "stream",
          "name": "stdout",
          "text": [
            "<class 'function'>\n",
            "<class 'method'>\n"
          ]
        }
      ]
    },
    {
      "cell_type": "markdown",
      "source": [
        "## Calss variables"
      ],
      "metadata": {
        "id": "FuMFFtPI-95a"
      }
    },
    {
      "cell_type": "markdown",
      "source": [
        "If we define a class variable, when you change the class variable, it applies to all object\n",
        "\n",
        "When you modify the class variable in each object it is no longer a class variable"
      ],
      "metadata": {
        "id": "fFV-GYD4AfCt"
      }
    },
    {
      "cell_type": "code",
      "source": [
        "class Attendance:\n",
        "\n",
        "    class_professor = 'Kim'\n",
        "\n",
        "    def __init__(self, name, basic_score=20):\n",
        "        # instance variables\n",
        "        self.name = name\n",
        "        self.score = basic_score\n",
        "\n",
        "    # defintion of class specific methods\n",
        "    # self is pre-bound to a particular value\n",
        "    def late(self):\n",
        "        self.score -= 1\n",
        "\n",
        "    def absent(self):\n",
        "        self.score -= 2\n",
        "\n",
        "    def print_attendance(self):\n",
        "        return self.name, self.score"
      ],
      "metadata": {
        "id": "KXIfdCRu9tCX"
      },
      "execution_count": 4,
      "outputs": []
    },
    {
      "cell_type": "code",
      "source": [
        "lee = Attendance('Lee')\n",
        "kim = Attendance('Kim')\n",
        "park = Attendance('Park')\n",
        "\n",
        "print(lee.class_professor)\n",
        "print(kim.class_professor)\n",
        "print(park.class_professor)"
      ],
      "metadata": {
        "colab": {
          "base_uri": "https://localhost:8080/"
        },
        "id": "zomJY9tRAdXC",
        "outputId": "0d532783-fdbb-413c-a327-fa3aaf0ccda1"
      },
      "execution_count": 5,
      "outputs": [
        {
          "output_type": "stream",
          "name": "stdout",
          "text": [
            "Kim\n",
            "Kim\n",
            "Kim\n"
          ]
        }
      ]
    },
    {
      "cell_type": "code",
      "source": [
        "Attendance.class_professor = 'Lee'\n",
        "\n",
        "print(lee.class_professor)\n",
        "print(kim.class_professor)\n",
        "print(park.class_professor)"
      ],
      "metadata": {
        "colab": {
          "base_uri": "https://localhost:8080/"
        },
        "id": "kVC1Jr5jBe4c",
        "outputId": "b396d4e1-ceff-49ce-f8a2-f8980be387ec"
      },
      "execution_count": 6,
      "outputs": [
        {
          "output_type": "stream",
          "name": "stdout",
          "text": [
            "Lee\n",
            "Lee\n",
            "Lee\n"
          ]
        }
      ]
    },
    {
      "cell_type": "code",
      "source": [
        "lee.class_professor = 'son'\n",
        "\n",
        "print(lee.class_professor)\n",
        "print(kim.class_professor)\n",
        "print(park.class_professor)"
      ],
      "metadata": {
        "colab": {
          "base_uri": "https://localhost:8080/"
        },
        "id": "WDgrnDHgBqLh",
        "outputId": "00badc35-4bbd-48d7-94c4-cacdedbf5305"
      },
      "execution_count": 7,
      "outputs": [
        {
          "output_type": "stream",
          "name": "stdout",
          "text": [
            "son\n",
            "Lee\n",
            "Lee\n"
          ]
        }
      ]
    },
    {
      "cell_type": "code",
      "source": [
        "Attendance.class_professor = 'Park'\n",
        "\n",
        "print(lee.class_professor)\n",
        "print(kim.class_professor)\n",
        "print(park.class_professor)"
      ],
      "metadata": {
        "colab": {
          "base_uri": "https://localhost:8080/"
        },
        "id": "2kVBu4P0B5pP",
        "outputId": "2892415f-9dce-4d1a-ef8a-34c44f309d7e"
      },
      "execution_count": 8,
      "outputs": [
        {
          "output_type": "stream",
          "name": "stdout",
          "text": [
            "son\n",
            "Park\n",
            "Park\n"
          ]
        }
      ]
    },
    {
      "cell_type": "markdown",
      "source": [
        "##Public and Private Attributes"
      ],
      "metadata": {
        "id": "tukkGz1aCFsn"
      }
    },
    {
      "cell_type": "markdown",
      "source": [
        "As long as you have a reference to an object, you can access or change any attributes. However, if you want to hide some attributes (variables & functions) from outside users (**encapsulation**), you can put\n",
        "\n",
        "* no underscore before public attribute names\n",
        "* `_` (single under score): before semi-private attribute names\n",
        "* `__`(double under score): before very private attribute names"
      ],
      "metadata": {
        "id": "A_U6aANUCRQa"
      }
    },
    {
      "cell_type": "code",
      "source": [
        "class user:\n",
        "    def __init__(self):\n",
        "        self.name = 'user123'\n",
        "        self._kind = 'normal'\n",
        "        self.__code = 'if2311k'\n",
        "\n",
        "    def print_info(self):\n",
        "        print(\"user's kind: %s\" % self._kind)\n",
        "        print(\"user code: %s\" % self.__code)\n",
        "        self.__end()\n",
        "\n",
        "    def __end(self):\n",
        "        print(\"It is end of the info\")"
      ],
      "metadata": {
        "id": "SE0O9c9hB8cU"
      },
      "execution_count": 9,
      "outputs": []
    },
    {
      "cell_type": "code",
      "source": [
        "p1 = user()\n",
        "print(p1._kind)            # normal\n",
        "# print(p1.__code)         # error\n",
        "p1.print_info()            # normal\n",
        "# p1.__end()               # error"
      ],
      "metadata": {
        "colab": {
          "base_uri": "https://localhost:8080/"
        },
        "id": "H93W6S0KEFus",
        "outputId": "8abee60c-b6cc-43f0-d283-9af042a97d76"
      },
      "execution_count": 10,
      "outputs": [
        {
          "output_type": "stream",
          "name": "stdout",
          "text": [
            "normal\n",
            "user's kind: normal\n",
            "user code: if2311k\n",
            "It is end of the info\n"
          ]
        }
      ]
    },
    {
      "cell_type": "markdown",
      "source": [
        "##Inheritance"
      ],
      "metadata": {
        "id": "9YO6W0PsEYSs"
      }
    },
    {
      "cell_type": "markdown",
      "source": [
        "When multiple classes share similar attributes, you can reduce redundant code by defining a **base class** and then **subclasses** can inherit from the **base class** (or **superclass**)."
      ],
      "metadata": {
        "id": "JkK1_C-hFi3e"
      }
    },
    {
      "cell_type": "code",
      "source": [
        "class Vehicle:\n",
        "    def __init__(self, name, speed, price):\n",
        "        self.name = name\n",
        "        self.speed = speed\n",
        "        self.price = price\n",
        "\n",
        "    def move(self, distance):\n",
        "        print(\"It spend %.3f hours\" % (distance / self.speed))\n",
        "\n",
        "\n",
        "class Car(Vehicle):\n",
        "    def print_info(self):\n",
        "        print(\"Manufacturer: %s\" % self.name)\n",
        "        print(\"speed: %d km/h\" % self.speed)\n",
        "        print(\"price: %d $\" % self.price)"
      ],
      "metadata": {
        "id": "dp3cGRZ7EOs3"
      },
      "execution_count": 11,
      "outputs": []
    },
    {
      "cell_type": "code",
      "source": [
        "car = Car('Hyundai', 80, 15000)\n",
        "car.print_info()\n",
        "print()\n",
        "car.move(200)"
      ],
      "metadata": {
        "colab": {
          "base_uri": "https://localhost:8080/"
        },
        "id": "6mMLobhJHNP6",
        "outputId": "90765440-69bf-41f2-e216-1d4360bf50c8"
      },
      "execution_count": 12,
      "outputs": [
        {
          "output_type": "stream",
          "name": "stdout",
          "text": [
            "Manufacturer: Hyundai\n",
            "speed: 80 km/h\n",
            "price: 15000 $\n",
            "\n",
            "It spend 2.500 hours\n"
          ]
        }
      ]
    },
    {
      "cell_type": "markdown",
      "source": [
        "To refer to a superclass method, we can use super()\n",
        "\n",
        "It can apply for  `__init__` function too"
      ],
      "metadata": {
        "id": "ek5fN99oH9Tn"
      }
    },
    {
      "cell_type": "code",
      "source": [
        "class Vehicle:\n",
        "    def __init__(self, name, speed, price):\n",
        "        self.name = name\n",
        "        self.speed = speed\n",
        "        self.price = price\n",
        "\n",
        "    def move(self, distance):\n",
        "        print(\"It spend %.3f hours\" % (distance / self.speed))\n",
        "\n",
        "\n",
        "class Car(Vehicle):\n",
        "  # 아, 부모 class 에서 init 을 부분적으로 변경하고 싶을 때 Super() 사용할 수 있구나\n",
        "    def __init__(self, object_name, name, speed, price):\n",
        "        super().__init__(name, speed, price)\n",
        "        self.car_name = object_name\n",
        "\n",
        "    def print_info(self):\n",
        "        print(\"Car name: %s\" % self.car_name)\n",
        "        print(\"Manufacturer: %s\" % self.name)\n",
        "        print(\"speed: %d km/h\" % self.speed)\n",
        "        print(\"price: %d $\" % self.price)\n",
        "\n",
        "    def move(self, distance):\n",
        "        super().move(distance)\n",
        "        print(\"arrived\")"
      ],
      "metadata": {
        "id": "yTD7Cg5RHnT7"
      },
      "execution_count": 13,
      "outputs": []
    },
    {
      "cell_type": "code",
      "source": [
        "car = Car('Sonata', 'Hyundai', 80, 15000)\n",
        "car.print_info()\n",
        "print()\n",
        "car.move(200)"
      ],
      "metadata": {
        "colab": {
          "base_uri": "https://localhost:8080/"
        },
        "id": "2CElNudSISdH",
        "outputId": "6901f18a-6fa7-4045-b47c-68e8c778dfba"
      },
      "execution_count": 14,
      "outputs": [
        {
          "output_type": "stream",
          "name": "stdout",
          "text": [
            "Car name: Sonata\n",
            "Manufacturer: Hyundai\n",
            "speed: 80 km/h\n",
            "price: 15000 $\n",
            "\n",
            "It spend 2.500 hours\n",
            "arrived\n"
          ]
        }
      ]
    },
    {
      "cell_type": "markdown",
      "source": [
        "### Multiple Inheritance"
      ],
      "metadata": {
        "id": "EAgF64kULYjI"
      }
    },
    {
      "cell_type": "code",
      "source": [
        "class Vehicle:\n",
        "    def __init__(self, name, speed, price):\n",
        "        self.name = name\n",
        "        self.speed = speed\n",
        "        self.price = price\n",
        "\n",
        "    def move(self, distance):\n",
        "        print(\"It spend %.3f hours\" % (distance / self.speed))\n",
        "\n",
        "\n",
        "class Wheel:\n",
        "    def __init__(self, n):\n",
        "        self.number_wheels = n\n",
        "\n",
        "    def wheel_info(self):\n",
        "        print('It has %d wheels' % self.number_wheels)\n",
        "\n",
        "    def move(self, distance):\n",
        "        print(\"I don't know\")\n",
        "\n",
        "# Multiclass 상속 이유 : 양쪽에 존재하고 있는 variable & function 을 모두 사용하고 싶어서\n",
        "class Car(Vehicle, Wheel):\n",
        "    def __init__(self, object_name, name, speed, price, n):\n",
        "        Vehicle.__init__(self, name, speed, price)\n",
        "        Wheel.__init__(self, n)\n",
        "        self.car_name = object_name\n",
        "\n",
        "    def print_info(self):\n",
        "        print(\"Car name: %s\" % self.car_name)\n",
        "        print(\"Manufacturer: %s\" % self.name)\n",
        "        print(\"speed: %d km/h\" % self.speed)\n",
        "        print(\"price: %d $\" % self.price)\n",
        "\n",
        "    def move(self, distance):\n",
        "        super().move(distance)\n",
        "        print(\"arrived\")"
      ],
      "metadata": {
        "id": "kd3G8uV_IVR1"
      },
      "execution_count": 15,
      "outputs": []
    },
    {
      "cell_type": "code",
      "source": [
        "car = Car('Sonata', 'Hyundai', 80, 15000, 4)\n",
        "car.print_info()\n",
        "print()\n",
        "car.move(200)\n",
        "print()\n",
        "car.wheel_info()"
      ],
      "metadata": {
        "colab": {
          "base_uri": "https://localhost:8080/"
        },
        "id": "b_V9uKu-L2F4",
        "outputId": "04c422b3-994f-40de-eab7-1245ffdef735"
      },
      "execution_count": 16,
      "outputs": [
        {
          "output_type": "stream",
          "name": "stdout",
          "text": [
            "Car name: Sonata\n",
            "Manufacturer: Hyundai\n",
            "speed: 80 km/h\n",
            "price: 15000 $\n",
            "\n",
            "It spend 2.500 hours\n",
            "arrived\n",
            "\n",
            "It has 4 wheels\n"
          ]
        }
      ]
    },
    {
      "cell_type": "markdown",
      "source": [
        "#Algorithm"
      ],
      "metadata": {
        "id": "IeKdFP4OSqzt"
      }
    },
    {
      "cell_type": "markdown",
      "source": [
        "## Improve algorothm"
      ],
      "metadata": {
        "id": "Jlu-6i4ij-GP"
      }
    },
    {
      "cell_type": "markdown",
      "source": [
        "We want a algorithms that use time and memory efficiently\n",
        "\n",
        "Consider fibonacci problem"
      ],
      "metadata": {
        "id": "w9E7giBgUNCS"
      }
    },
    {
      "cell_type": "markdown",
      "source": [
        "As you can see in the previous recitation, it can be solved by recursion"
      ],
      "metadata": {
        "id": "t8Xbzv9gWIfW"
      }
    },
    {
      "cell_type": "code",
      "source": [
        "def fibo_rec(n):\n",
        "    if n == 1 or n == 2:\n",
        "        return 1\n",
        "    return fibo_rec(n - 1) + fibo_rec(n - 2)"
      ],
      "metadata": {
        "id": "X_AKAiCeSsXM"
      },
      "execution_count": 17,
      "outputs": []
    },
    {
      "cell_type": "markdown",
      "source": [
        "  $T(n) = \\begin{cases}1&n\\ =\\ 1\\ or\\ 2 \\\\T(n-1) + T(n-2) &else\\end{cases}$"
      ],
      "metadata": {
        "id": "a-02E5ymWghX"
      }
    },
    {
      "cell_type": "markdown",
      "source": [
        "              T(5)              |\n",
        "             /    \\             |\n",
        "          T(4)     T(3)         |\n",
        "        /    \\    /    \\        |  n - 1\n",
        "      T(3)  T(2) T(2)  T(1)     |\n",
        "     /   \\                      |\n",
        "    T(2) T(1)                   |\n",
        "    \n",
        "approximate $2^n$"
      ],
      "metadata": {
        "id": "d4AsZYznbnko"
      }
    },
    {
      "cell_type": "markdown",
      "source": [
        "Rather than approaching recursively, we can decrease time by calculating the value from the bottom"
      ],
      "metadata": {
        "id": "Zi4Zrt3ZdK11"
      }
    },
    {
      "cell_type": "code",
      "source": [
        "def fibo_bot(n):\n",
        "    seq_num = 1\n",
        "    cur = 1\n",
        "    past = 0\n",
        "    while seq_num < n:\n",
        "        new = cur + past\n",
        "        past = cur\n",
        "        cur = new\n",
        "        seq_num += 1\n",
        "    return cur"
      ],
      "metadata": {
        "id": "Txnl6hxIWeff"
      },
      "execution_count": 18,
      "outputs": []
    },
    {
      "cell_type": "code",
      "source": [
        "for i in range(1, 10):\n",
        "    print(fibo_rec(i), fibo_bot(i))"
      ],
      "metadata": {
        "colab": {
          "base_uri": "https://localhost:8080/"
        },
        "id": "7f6rNwK2egsE",
        "outputId": "2c51c0bc-e48c-4d81-9dd3-dacf8a8e1fb7"
      },
      "execution_count": 19,
      "outputs": [
        {
          "output_type": "stream",
          "name": "stdout",
          "text": [
            "1 1\n",
            "1 1\n",
            "2 2\n",
            "3 3\n",
            "5 5\n",
            "8 8\n",
            "13 13\n",
            "21 21\n",
            "34 34\n"
          ]
        }
      ]
    },
    {
      "cell_type": "markdown",
      "source": [
        "Since it has one while loop, it is faster than $2^n$ for large n"
      ],
      "metadata": {
        "id": "C_X4NLc8fKcn"
      }
    },
    {
      "cell_type": "code",
      "source": [
        "import time\n",
        "\n",
        "for i in [3, 10, 20, 30]:\n",
        "    start_time = time.time()\n",
        "    fibo_rec(i)\n",
        "    total_time = int((time.time() - start_time) * 1000000)\n",
        "    print(\"For %d: recursion spend %9d microsecs\" % (i, total_time))\n",
        "\n",
        "    start_time = time.time()\n",
        "    fibo_bot(i)\n",
        "    total_time = int((time.time() - start_time) * 1000000)\n",
        "    print(\"For %d: bottom up spend %9d microsecs\" % (i, total_time))\n",
        "    print()"
      ],
      "metadata": {
        "colab": {
          "base_uri": "https://localhost:8080/"
        },
        "id": "MgBB1G2uejq5",
        "outputId": "6091f43d-df5a-4d8a-d041-4a2353df99ba"
      },
      "execution_count": 20,
      "outputs": [
        {
          "output_type": "stream",
          "name": "stdout",
          "text": [
            "For 3: recursion spend         4 microsecs\n",
            "For 3: bottom up spend         3 microsecs\n",
            "\n",
            "For 10: recursion spend        29 microsecs\n",
            "For 10: bottom up spend         3 microsecs\n",
            "\n",
            "For 20: recursion spend      5428 microsecs\n",
            "For 20: bottom up spend         5 microsecs\n",
            "\n",
            "For 30: recursion spend    452834 microsecs\n",
            "For 30: bottom up spend         8 microsecs\n",
            "\n"
          ]
        }
      ]
    },
    {
      "cell_type": "markdown",
      "source": [
        "## Theoretical Analysis"
      ],
      "metadata": {
        "id": "bNNG4UTwj48U"
      }
    },
    {
      "cell_type": "markdown",
      "source": [
        "Big-Oh Notation\n",
        "\n",
        "f(x) ∈ O(g(x)) if there is a real c > 0 and an integer $n_0$ ≥ 1 such that\n",
        "f(n) ≤ cg(n) for n ≥ $n_0$"
      ],
      "metadata": {
        "id": "sJuRgoCPieSt"
      }
    },
    {
      "cell_type": "markdown",
      "source": [
        "Big-Omega Notation\n",
        "\n",
        "f(x)∈Ω(g(x)) if there is a real c > 0 and an integer $n_0$ ≥ 1 such that f(n) ≥ cg(n) for n ≥ $n_0$\n"
      ],
      "metadata": {
        "id": "AWuRhQD1jQXO"
      }
    },
    {
      "cell_type": "markdown",
      "source": [
        "Big-Theta Notaion\n",
        "\n",
        "𝑓(𝑛)∈Θ(𝑔(𝑛)) if and only if 𝑓(𝑛)∈O(𝑔(𝑛)) and 𝑓(𝑛)∈Ω(𝑔(𝑛))"
      ],
      "metadata": {
        "id": "thKbcFQWjfgS"
      }
    },
    {
      "cell_type": "markdown",
      "source": [
        "$1$ <  $log n$  < $n$ < $nlog n$ < $n^2$ < $2^n$ < $n!$"
      ],
      "metadata": {
        "id": "pyGehURkn2ws"
      }
    },
    {
      "cell_type": "markdown",
      "source": [
        "#Quiz"
      ],
      "metadata": {
        "id": "3uVnhc8-kg1-"
      }
    },
    {
      "cell_type": "code",
      "source": [
        "import doctest"
      ],
      "metadata": {
        "id": "JEMrnhFko2My"
      },
      "execution_count": 21,
      "outputs": []
    },
    {
      "cell_type": "markdown",
      "source": [
        "##Q1. Big-Oh Notation"
      ],
      "metadata": {
        "id": "VGtSLFCnkm2_"
      }
    },
    {
      "cell_type": "markdown",
      "source": [
        "Calculate the Big-Oh notation of 4$n^2$ + n + n$log_3 n$"
      ],
      "metadata": {
        "id": "CUtWvzaOkwIJ"
      }
    },
    {
      "cell_type": "markdown",
      "source": [
        "Since n < $n^2$ and $log_3 n$ < n for large enough n, ∃ real number c, positive integer $n_0$ such that\n",
        "\n",
        "4$n^2$ + n + n$log_3 n$ < c$n^2$ for n ≥ $n_0$\n",
        "\n",
        "Therefore 4$n^2$ + n + n$log_3 n$ ∈ O($n^2$)"
      ],
      "metadata": {
        "id": "RxOhH4fNw1t2"
      }
    },
    {
      "cell_type": "markdown",
      "source": [
        "## Q2."
      ],
      "metadata": {
        "id": "iloek-x6loj8"
      }
    },
    {
      "cell_type": "markdown",
      "source": [
        "The below code is a superclass of Pepsi.\n",
        "\n",
        "Complete the Pepsi class that operates in the test code with inheritance"
      ],
      "metadata": {
        "id": "BfCE7tqdo4bC"
      }
    },
    {
      "cell_type": "code",
      "source": [
        "class Coke:\n",
        "    def __init__(self, kcal, volum, price):\n",
        "        self.kcal = kcal     # int\n",
        "        self.volum = volum   # int\n",
        "        self.price = price   # int\n",
        "\n",
        "    def drink(self, n):\n",
        "        print(\"Total kcal is %d\" % (n * self.kcal))\n",
        "        print(\"Total price is %d\" % (n * self.price))"
      ],
      "metadata": {
        "id": "zl5kWbBIhg4R"
      },
      "execution_count": 22,
      "outputs": []
    },
    {
      "cell_type": "code",
      "source": [
        "class Pepsi(Coke):\n",
        "    '''\n",
        "    >>> pepsi_zero = Pepsi(0, 500, 2000, \"pepsi zero lime flavor\")\n",
        "\n",
        "    >>> pepsi_zero.drink(4)\n",
        "    You drick 4 of pepsi zero lime flavor\n",
        "    Total kcal is 0\n",
        "    Total price is 8000\n",
        "\n",
        "    >>> pepsi = Pepsi(160, 355, 1250, \"pepsi\")\n",
        "\n",
        "    >>> pepsi.drink(2)\n",
        "    You drick 2 of pepsi\n",
        "    Total kcal is 320\n",
        "    Total price is 2500\n",
        "    '''\n",
        "    # Your Code\n",
        "    def __init__(self, kcal, volum, price, name):\n",
        "        super().__init__(kcal, volum, price)\n",
        "        self.name = name\n",
        "\n",
        "    def drink(self, n):\n",
        "        print(\"You drick %d of %s\" % (n, self.name))\n",
        "        super().drink(n)"
      ],
      "metadata": {
        "id": "j799Cx3CoXl6"
      },
      "execution_count": 23,
      "outputs": []
    },
    {
      "cell_type": "code",
      "source": [
        "doctest.run_docstring_examples(Pepsi, globals(), False, __name__)"
      ],
      "metadata": {
        "id": "bpX94p5MsL22",
        "colab": {
          "base_uri": "https://localhost:8080/",
          "height": 295
        },
        "outputId": "5f51a70a-962f-4c2a-af0d-e0da33aaa44d"
      },
      "execution_count": 24,
      "outputs": [
        {
          "output_type": "error",
          "ename": "OSError",
          "evalue": "source code not available",
          "traceback": [
            "\u001b[0;31m---------------------------------------------------------------------------\u001b[0m",
            "\u001b[0;31mOSError\u001b[0m                                   Traceback (most recent call last)",
            "\u001b[0;32m<ipython-input-24-1cb87ed280e1>\u001b[0m in \u001b[0;36m<cell line: 1>\u001b[0;34m()\u001b[0m\n\u001b[0;32m----> 1\u001b[0;31m \u001b[0mdoctest\u001b[0m\u001b[0;34m.\u001b[0m\u001b[0mrun_docstring_examples\u001b[0m\u001b[0;34m(\u001b[0m\u001b[0mPepsi\u001b[0m\u001b[0;34m,\u001b[0m \u001b[0mglobals\u001b[0m\u001b[0;34m(\u001b[0m\u001b[0;34m)\u001b[0m\u001b[0;34m,\u001b[0m \u001b[0;32mFalse\u001b[0m\u001b[0;34m,\u001b[0m \u001b[0m__name__\u001b[0m\u001b[0;34m)\u001b[0m\u001b[0;34m\u001b[0m\u001b[0;34m\u001b[0m\u001b[0m\n\u001b[0m",
            "\u001b[0;32m/usr/lib/python3.10/doctest.py\u001b[0m in \u001b[0;36mrun_docstring_examples\u001b[0;34m(f, globs, verbose, name, compileflags, optionflags)\u001b[0m\n\u001b[1;32m   2123\u001b[0m     \u001b[0mfinder\u001b[0m \u001b[0;34m=\u001b[0m \u001b[0mDocTestFinder\u001b[0m\u001b[0;34m(\u001b[0m\u001b[0mverbose\u001b[0m\u001b[0;34m=\u001b[0m\u001b[0mverbose\u001b[0m\u001b[0;34m,\u001b[0m \u001b[0mrecurse\u001b[0m\u001b[0;34m=\u001b[0m\u001b[0;32mFalse\u001b[0m\u001b[0;34m)\u001b[0m\u001b[0;34m\u001b[0m\u001b[0;34m\u001b[0m\u001b[0m\n\u001b[1;32m   2124\u001b[0m     \u001b[0mrunner\u001b[0m \u001b[0;34m=\u001b[0m \u001b[0mDocTestRunner\u001b[0m\u001b[0;34m(\u001b[0m\u001b[0mverbose\u001b[0m\u001b[0;34m=\u001b[0m\u001b[0mverbose\u001b[0m\u001b[0;34m,\u001b[0m \u001b[0moptionflags\u001b[0m\u001b[0;34m=\u001b[0m\u001b[0moptionflags\u001b[0m\u001b[0;34m)\u001b[0m\u001b[0;34m\u001b[0m\u001b[0;34m\u001b[0m\u001b[0m\n\u001b[0;32m-> 2125\u001b[0;31m     \u001b[0;32mfor\u001b[0m \u001b[0mtest\u001b[0m \u001b[0;32min\u001b[0m \u001b[0mfinder\u001b[0m\u001b[0;34m.\u001b[0m\u001b[0mfind\u001b[0m\u001b[0;34m(\u001b[0m\u001b[0mf\u001b[0m\u001b[0;34m,\u001b[0m \u001b[0mname\u001b[0m\u001b[0;34m,\u001b[0m \u001b[0mglobs\u001b[0m\u001b[0;34m=\u001b[0m\u001b[0mglobs\u001b[0m\u001b[0;34m)\u001b[0m\u001b[0;34m:\u001b[0m\u001b[0;34m\u001b[0m\u001b[0;34m\u001b[0m\u001b[0m\n\u001b[0m\u001b[1;32m   2126\u001b[0m         \u001b[0mrunner\u001b[0m\u001b[0;34m.\u001b[0m\u001b[0mrun\u001b[0m\u001b[0;34m(\u001b[0m\u001b[0mtest\u001b[0m\u001b[0;34m,\u001b[0m \u001b[0mcompileflags\u001b[0m\u001b[0;34m=\u001b[0m\u001b[0mcompileflags\u001b[0m\u001b[0;34m)\u001b[0m\u001b[0;34m\u001b[0m\u001b[0;34m\u001b[0m\u001b[0m\n\u001b[1;32m   2127\u001b[0m \u001b[0;34m\u001b[0m\u001b[0m\n",
            "\u001b[0;32m/usr/lib/python3.10/doctest.py\u001b[0m in \u001b[0;36mfind\u001b[0;34m(self, obj, name, module, globs, extraglobs)\u001b[0m\n\u001b[1;32m    899\u001b[0m         \u001b[0;31m# given object's docstring.\u001b[0m\u001b[0;34m\u001b[0m\u001b[0;34m\u001b[0m\u001b[0m\n\u001b[1;32m    900\u001b[0m         \u001b[0;32mtry\u001b[0m\u001b[0;34m:\u001b[0m\u001b[0;34m\u001b[0m\u001b[0;34m\u001b[0m\u001b[0m\n\u001b[0;32m--> 901\u001b[0;31m             \u001b[0mfile\u001b[0m \u001b[0;34m=\u001b[0m \u001b[0minspect\u001b[0m\u001b[0;34m.\u001b[0m\u001b[0mgetsourcefile\u001b[0m\u001b[0;34m(\u001b[0m\u001b[0mobj\u001b[0m\u001b[0;34m)\u001b[0m\u001b[0;34m\u001b[0m\u001b[0;34m\u001b[0m\u001b[0m\n\u001b[0m\u001b[1;32m    902\u001b[0m         \u001b[0;32mexcept\u001b[0m \u001b[0mTypeError\u001b[0m\u001b[0;34m:\u001b[0m\u001b[0;34m\u001b[0m\u001b[0;34m\u001b[0m\u001b[0m\n\u001b[1;32m    903\u001b[0m             \u001b[0msource_lines\u001b[0m \u001b[0;34m=\u001b[0m \u001b[0;32mNone\u001b[0m\u001b[0;34m\u001b[0m\u001b[0;34m\u001b[0m\u001b[0m\n",
            "\u001b[0;32m/usr/lib/python3.10/inspect.py\u001b[0m in \u001b[0;36mgetsourcefile\u001b[0;34m(object)\u001b[0m\n\u001b[1;32m    815\u001b[0m     \u001b[0mReturn\u001b[0m \u001b[0;32mNone\u001b[0m \u001b[0;32mif\u001b[0m \u001b[0mno\u001b[0m \u001b[0mway\u001b[0m \u001b[0mcan\u001b[0m \u001b[0mbe\u001b[0m \u001b[0midentified\u001b[0m \u001b[0mto\u001b[0m \u001b[0mget\u001b[0m \u001b[0mthe\u001b[0m \u001b[0msource\u001b[0m\u001b[0;34m.\u001b[0m\u001b[0;34m\u001b[0m\u001b[0;34m\u001b[0m\u001b[0m\n\u001b[1;32m    816\u001b[0m     \"\"\"\n\u001b[0;32m--> 817\u001b[0;31m     \u001b[0mfilename\u001b[0m \u001b[0;34m=\u001b[0m \u001b[0mgetfile\u001b[0m\u001b[0;34m(\u001b[0m\u001b[0mobject\u001b[0m\u001b[0;34m)\u001b[0m\u001b[0;34m\u001b[0m\u001b[0;34m\u001b[0m\u001b[0m\n\u001b[0m\u001b[1;32m    818\u001b[0m     \u001b[0mall_bytecode_suffixes\u001b[0m \u001b[0;34m=\u001b[0m \u001b[0mimportlib\u001b[0m\u001b[0;34m.\u001b[0m\u001b[0mmachinery\u001b[0m\u001b[0;34m.\u001b[0m\u001b[0mDEBUG_BYTECODE_SUFFIXES\u001b[0m\u001b[0;34m[\u001b[0m\u001b[0;34m:\u001b[0m\u001b[0;34m]\u001b[0m\u001b[0;34m\u001b[0m\u001b[0;34m\u001b[0m\u001b[0m\n\u001b[1;32m    819\u001b[0m     \u001b[0mall_bytecode_suffixes\u001b[0m \u001b[0;34m+=\u001b[0m \u001b[0mimportlib\u001b[0m\u001b[0;34m.\u001b[0m\u001b[0mmachinery\u001b[0m\u001b[0;34m.\u001b[0m\u001b[0mOPTIMIZED_BYTECODE_SUFFIXES\u001b[0m\u001b[0;34m[\u001b[0m\u001b[0;34m:\u001b[0m\u001b[0;34m]\u001b[0m\u001b[0;34m\u001b[0m\u001b[0;34m\u001b[0m\u001b[0m\n",
            "\u001b[0;32m/usr/lib/python3.10/inspect.py\u001b[0m in \u001b[0;36mgetfile\u001b[0;34m(object)\u001b[0m\n\u001b[1;32m    783\u001b[0m                 \u001b[0;32mreturn\u001b[0m \u001b[0mmodule\u001b[0m\u001b[0;34m.\u001b[0m\u001b[0m__file__\u001b[0m\u001b[0;34m\u001b[0m\u001b[0;34m\u001b[0m\u001b[0m\n\u001b[1;32m    784\u001b[0m             \u001b[0;32mif\u001b[0m \u001b[0mobject\u001b[0m\u001b[0;34m.\u001b[0m\u001b[0m__module__\u001b[0m \u001b[0;34m==\u001b[0m \u001b[0;34m'__main__'\u001b[0m\u001b[0;34m:\u001b[0m\u001b[0;34m\u001b[0m\u001b[0;34m\u001b[0m\u001b[0m\n\u001b[0;32m--> 785\u001b[0;31m                 \u001b[0;32mraise\u001b[0m \u001b[0mOSError\u001b[0m\u001b[0;34m(\u001b[0m\u001b[0;34m'source code not available'\u001b[0m\u001b[0;34m)\u001b[0m\u001b[0;34m\u001b[0m\u001b[0;34m\u001b[0m\u001b[0m\n\u001b[0m\u001b[1;32m    786\u001b[0m         \u001b[0;32mraise\u001b[0m \u001b[0mTypeError\u001b[0m\u001b[0;34m(\u001b[0m\u001b[0;34m'{!r} is a built-in class'\u001b[0m\u001b[0;34m.\u001b[0m\u001b[0mformat\u001b[0m\u001b[0;34m(\u001b[0m\u001b[0mobject\u001b[0m\u001b[0;34m)\u001b[0m\u001b[0;34m)\u001b[0m\u001b[0;34m\u001b[0m\u001b[0;34m\u001b[0m\u001b[0m\n\u001b[1;32m    787\u001b[0m     \u001b[0;32mif\u001b[0m \u001b[0mismethod\u001b[0m\u001b[0;34m(\u001b[0m\u001b[0mobject\u001b[0m\u001b[0;34m)\u001b[0m\u001b[0;34m:\u001b[0m\u001b[0;34m\u001b[0m\u001b[0;34m\u001b[0m\u001b[0m\n",
            "\u001b[0;31mOSError\u001b[0m: source code not available"
          ]
        }
      ]
    },
    {
      "cell_type": "code",
      "source": [],
      "metadata": {
        "id": "8tvI1t5_M1Ih"
      },
      "execution_count": null,
      "outputs": []
    }
  ]
}