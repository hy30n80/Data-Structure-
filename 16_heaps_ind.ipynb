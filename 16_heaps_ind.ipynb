{
  "nbformat": 4,
  "nbformat_minor": 0,
  "metadata": {
    "colab": {
      "provenance": [],
      "include_colab_link": true
    },
    "kernelspec": {
      "name": "python3",
      "display_name": "Python 3"
    },
    "language_info": {
      "name": "python"
    }
  },
  "cells": [
    {
      "cell_type": "markdown",
      "metadata": {
        "id": "view-in-github",
        "colab_type": "text"
      },
      "source": [
        "<a href=\"https://colab.research.google.com/github/hy30n80/Data-Structure-/blob/main/16_heaps_ind.ipynb\" target=\"_parent\"><img src=\"https://colab.research.google.com/assets/colab-badge.svg\" alt=\"Open In Colab\"/></a>"
      ]
    },
    {
      "cell_type": "markdown",
      "source": [
        "# EC2202 Heaps"
      ],
      "metadata": {
        "id": "gqZUxjuw8OE4"
      }
    },
    {
      "cell_type": "markdown",
      "source": [
        "**Disclaimer.**\n",
        "This code examples are based on\n",
        "1. [KAIST CS206 (Professor Otfried Cheong)](https://otfried.org/courses/cs206/)\n",
        "2. [LeetCode](https://leetcode.com/)\n",
        "3. [GeeksForGeeks](https://practice.geeksforgeeks.org/)\n",
        "4. Coding Interviews"
      ],
      "metadata": {
        "id": "1bWHozli8SQ_"
      }
    },
    {
      "cell_type": "code",
      "source": [
        "%%HTML\n",
        "<iframe width=\"560\" height=\"315\" src=\"https://www.youtube.com/embed/TkIhetUdcKU\" title=\"YouTube video player\" frameborder=\"0\" allowfullscreen></iframe>\n",
        "<iframe width=\"560\" height=\"315\" src=\"https://www.youtube.com/embed/LYaQnVCPusY\" title=\"YouTube video player\" frameborder=\"0\" allowfullscreen></iframe>"
      ],
      "metadata": {
        "id": "djHKAPESVqiE",
        "colab": {
          "base_uri": "https://localhost:8080/",
          "height": 335
        },
        "outputId": "8a4e9c14-e322-4a4b-fec2-0017dcc4efc6"
      },
      "execution_count": null,
      "outputs": [
        {
          "output_type": "display_data",
          "data": {
            "text/plain": [
              "<IPython.core.display.HTML object>"
            ],
            "text/html": [
              "<iframe width=\"560\" height=\"315\" src=\"https://www.youtube.com/embed/TkIhetUdcKU\" title=\"YouTube video player\" frameborder=\"0\" allowfullscreen></iframe>\n",
              "<iframe width=\"560\" height=\"315\" src=\"https://www.youtube.com/embed/LYaQnVCPusY\" title=\"YouTube video player\" frameborder=\"0\" allowfullscreen></iframe>\n"
            ]
          },
          "metadata": {}
        }
      ]
    },
    {
      "cell_type": "code",
      "source": [
        "import doctest"
      ],
      "metadata": {
        "id": "k0FSZ0zsEBPz"
      },
      "execution_count": null,
      "outputs": []
    },
    {
      "cell_type": "markdown",
      "source": [
        "## Implementing Priority Queues"
      ],
      "metadata": {
        "id": "5F6q7nAShUQV"
      }
    },
    {
      "cell_type": "markdown",
      "source": [
        "### Simple Python List (Slow)"
      ],
      "metadata": {
        "id": "f-UgllNGBtGo"
      }
    },
    {
      "cell_type": "code",
      "source": [
        "# Priority Queue with Python list\n",
        "\n",
        "class PriorityQueue():\n",
        "  def __init__(self):\n",
        "    self._data = []\n",
        "\n",
        "  def insert(self, x):\n",
        "    self._data.append(x)\n",
        "\n",
        "  def findmin(self):\n",
        "    if len(self._data) == 0:\n",
        "      raise ValueError(\"empty priority queue\")\n",
        "    return min(self._data) #O(N) > O(log N)\n",
        "\n",
        "  # 'ppp' exercise\n",
        "  def deletemin(self):\n",
        "    #1. find the min value and its position\n",
        "    #2. then, delete the min value\n",
        "\n",
        "    #sol.1\n",
        "    min_val = self.findmin()\n",
        "    min_idx = self._data.index(min_val)\n",
        "    self._data.pop(min_idx)\n",
        "    return min_val\n",
        "\n",
        "    #sol.2\n",
        "    i = 0\n",
        "    x = self.data[0]\n",
        "    for j in range(1, len(self._data)):\n",
        "      if self._data[j] < x:\n",
        "        x = self._data[j]\n",
        "        i = j\n",
        "    self._data.pop(i)\n",
        "    return x\n",
        "\n",
        "    #sol.3\n",
        "    self._data.remove(self.findmin())\n"
      ],
      "metadata": {
        "id": "LQgobNQjhYVX"
      },
      "execution_count": 1,
      "outputs": []
    },
    {
      "cell_type": "code",
      "source": [
        "%%HTML\n",
        "<iframe width=\"560\" height=\"315\" src=\"https://www.youtube.com/embed/MTeTIG2abrE\" title=\"YouTube video player\" frameborder=\"0\" allowfullscreen></iframe>\n",
        "<iframe width=\"560\" height=\"315\" src=\"https://www.youtube.com/embed/tKo0j1xK5nI\" title=\"YouTube video player\" frameborder=\"0\" allowfullscreen></iframe>"
      ],
      "metadata": {
        "id": "AetyLc1aVs8x",
        "colab": {
          "base_uri": "https://localhost:8080/",
          "height": 335
        },
        "outputId": "9231e992-051c-4352-bf26-c456d2a8f459"
      },
      "execution_count": null,
      "outputs": [
        {
          "output_type": "display_data",
          "data": {
            "text/plain": [
              "<IPython.core.display.HTML object>"
            ],
            "text/html": [
              "<iframe width=\"560\" height=\"315\" src=\"https://www.youtube.com/embed/MTeTIG2abrE\" title=\"YouTube video player\" frameborder=\"0\" allowfullscreen></iframe>\n",
              "<iframe width=\"560\" height=\"315\" src=\"https://www.youtube.com/embed/tKo0j1xK5nI\" title=\"YouTube video player\" frameborder=\"0\" allowfullscreen></iframe>\n"
            ]
          },
          "metadata": {}
        }
      ]
    },
    {
      "cell_type": "markdown",
      "source": [
        "### Sorted Python List"
      ],
      "metadata": {
        "id": "WVKytfyEBxee"
      }
    },
    {
      "cell_type": "code",
      "source": [
        "# Priority Queue with sorted Python list\n",
        "# (last element in the list is smallest)\n",
        "\n",
        "class PriorityQueue():\n",
        "  def __init__(self):\n",
        "    self._data = []\n",
        "\n",
        "  def insert(self, x):\n",
        "    # smallest item => to the end of the list\n",
        "    i = 0\n",
        "    while i < len(self._data) and x < self._data[i]:\n",
        "      i += 1\n",
        "    self._data.insert(i, x)\n",
        "\n",
        "  def findmin(self):\n",
        "    if len(self._data) == 0:\n",
        "      raise ValueError(\"empty priority queue\")\n",
        "    return self._data[-1]  # O(1)\n",
        "\n",
        "  def deletemin(self):\n",
        "    if len(self._data) == 0:\n",
        "      raise ValueError(\"empty priority queue\")\n",
        "    return self._data.pop()  # O(1)"
      ],
      "metadata": {
        "id": "Ckd6jzvNAF2s"
      },
      "execution_count": 2,
      "outputs": []
    },
    {
      "cell_type": "markdown",
      "source": [
        "### Binary Heap"
      ],
      "metadata": {
        "id": "anAgYfkTB0vu"
      }
    },
    {
      "cell_type": "markdown",
      "source": [
        "Of course a complete binary tree can be implemented as a linked data structure, with Node objects that store references to their parent and children.\n",
        "\n",
        "However, because the tree is complete, we can actually store it very compactly in an array or Python list. To do so, simply number the nodes of the tree from top to bottom, left to right, starting with one for the root, so that the nodes are numbered from 1 to n.\n",
        "\n",
        "We observe that the left child of node i has index 2i and the right child has index 2i + 1. The parent of node i has index ≈(i/2). We will simply store node i in slot i of an array, and we can move from a node to its parent or its children by doing simple arithmetic on the index. (We started numbering from 1 for convenience—the numbers are nicer. Of course this means that we waste slot 0 of the array—not a big problem, but it could be fixed by changing the numbering scheme slightly.)"
      ],
      "metadata": {
        "id": "X6I0psutFhx8"
      }
    },
    {
      "cell_type": "code",
      "source": [
        "class PriorityQueue():\n",
        "  #Tree 를 array 식으로 구현 (인덱스 통해서)\n",
        "  DEFAULT_CAPACITY = 100\n",
        "\n",
        "  def __init__(self):\n",
        "    self._data = [ None ] * PriorityQueue.DEFAULT_CAPACITY\n",
        "    self._size = 0\n",
        "\n",
        "  def __len__(self):\n",
        "    return self._size\n",
        "\n",
        "  def findmin(self):\n",
        "    if self._size == 0:\n",
        "      raise ValueError(\"empty priority queue\")\n",
        "    return self._data[1]  # O(1)\n",
        "\n",
        "  def insert(self, x):\n",
        "    if self._size + 1 == len(self._data):\n",
        "      self._data.extend( [ None ] * len(self._data) ) # double size of the array storing the data\n",
        "    self._size += 1\n",
        "    hole = self._size\n",
        "\n",
        "    # bubble up\n",
        "    while x < self._data[hole // 2]: #hole 을 정수 나누기 하면, parent\n",
        "      # exchange the values of the child and the parent\n",
        "      self._data[hole] = self._data[hole // 2]\n",
        "      hole //= 2  # inspect the next parent\n",
        "    self._data[hole] = x\n",
        "\n",
        "  def deletemin(self):\n",
        "    min_item = self.findmin()         # raises error if empty\n",
        "    self._data[1] = self._data[self._size] #root 자리에다가 끝에 있는 원소 넣기\n",
        "    self._size -= 1\n",
        "    self._bubble_down(1)\n",
        "    return min_item\n",
        "\n",
        "  # 'ppp' exercise\n",
        "  def _bubble_down(self, i):\n",
        "    value = self._data[i]\n",
        "    hole = i\n",
        "    child = self._smaller_child(hole, value)\n",
        "    while child != 0:\n",
        "      self._data[hole] = self._data[child]\n",
        "      hole = child\n",
        "      child = self._smaller_child(hole, value)\n",
        "    self._data[hole] = value\n",
        "\n",
        "  # 'ppp' exercise\n",
        "  def _smaller_child(self, index, value):\n",
        "    child = 2*index\n",
        "    if child <= self._size:\n",
        "      if child != self._size and self._data[child + 1] < self._data[child]:\n",
        "        child += 1\n",
        "      if self._data[child] < value:\n",
        "        return child\n",
        "    return 0\n",
        "\n",
        ""
      ],
      "metadata": {
        "id": "RrgSdXaWAchc"
      },
      "execution_count": 3,
      "outputs": []
    },
    {
      "cell_type": "code",
      "source": [
        "%%HTML\n",
        "<iframe width=\"560\" height=\"315\" src=\"https://www.youtube.com/embed/LeLVg1bzVHo\" title=\"YouTube video player\" frameborder=\"0\" allowfullscreen></iframe>\n",
        "<iframe width=\"560\" height=\"315\" src=\"https://www.youtube.com/embed/31rsFtMli7Q\" title=\"YouTube video player\" frameborder=\"0\" allowfullscreen></iframe>"
      ],
      "metadata": {
        "id": "_rBmPyHt1NxU",
        "colab": {
          "base_uri": "https://localhost:8080/",
          "height": 335
        },
        "outputId": "78fd596c-cfd4-4427-c679-e0baba8b8311"
      },
      "execution_count": null,
      "outputs": [
        {
          "output_type": "display_data",
          "data": {
            "text/plain": [
              "<IPython.core.display.HTML object>"
            ],
            "text/html": [
              "<iframe width=\"560\" height=\"315\" src=\"https://www.youtube.com/embed/LeLVg1bzVHo\" title=\"YouTube video player\" frameborder=\"0\" allowfullscreen></iframe>\n",
              "<iframe width=\"560\" height=\"315\" src=\"https://www.youtube.com/embed/31rsFtMli7Q\" title=\"YouTube video player\" frameborder=\"0\" allowfullscreen></iframe>\n"
            ]
          },
          "metadata": {}
        }
      ]
    },
    {
      "cell_type": "markdown",
      "source": [
        "## Application of Heap"
      ],
      "metadata": {
        "id": "-TzLJgVaB8YM"
      }
    },
    {
      "cell_type": "markdown",
      "source": [
        "### Default Heap from Python"
      ],
      "metadata": {
        "id": "qjC1HNWI9ayf"
      }
    },
    {
      "cell_type": "code",
      "source": [
        "import heapq  # min heap\n",
        "\n",
        "heap = []\n",
        "items = [4, 1, 7, 9, 3]\n",
        "for item in items:\n",
        "  heapq.heappush(heap, item)\n",
        "\n",
        "min_val = heapq.heappop(heap)  # heap[0]\n",
        "print(min_val)\n",
        "\n",
        "rand_list = [4, 1, 7, 9, 3]\n",
        "heapq.heapify(heap)\n",
        "print(rand_list)"
      ],
      "metadata": {
        "id": "o4nrhVNb9elv",
        "colab": {
          "base_uri": "https://localhost:8080/"
        },
        "outputId": "561dccee-3738-4f04-e283-ff15cb288465"
      },
      "execution_count": 4,
      "outputs": [
        {
          "output_type": "stream",
          "name": "stdout",
          "text": [
            "1\n",
            "[4, 1, 7, 9, 3]\n"
          ]
        }
      ]
    },
    {
      "cell_type": "markdown",
      "source": [
        "### K-th largest element"
      ],
      "metadata": {
        "id": "UCKo8glDGlic"
      }
    },
    {
      "cell_type": "markdown",
      "source": [
        "**Approach 1**\n",
        "1. Construct a Max Heap.\n",
        "2. Add all elements into the Max Heap.\n",
        "3. Traversing and deleting the top element (using pop() or poll() for instance).\n",
        "4. Repeat Step 3 K times until we find the K-th largest element.\n",
        "\n",
        "**Approach 2**\n",
        "1. Construct a Min Heap with size K.\n",
        "2. Add elements to the Min Heap one by one.\n",
        "3. When there are K elements in the “Min Heap”, compare the current element with the top element of the Heap:\n",
        "  - If the current element is not larger than the top element of the Heap, drop it and proceed to the next element.\n",
        "  - If the current element is larger than the Heap’s top element, delete the Heap’s top element, and add the current element to the “Min Heap”.\n",
        "4. Repeat Steps 2 and 3 until all elements have been iterated."
      ],
      "metadata": {
        "id": "ZQubxKWZGoHH"
      }
    },
    {
      "cell_type": "code",
      "source": [
        "import heapq\n",
        "\n",
        "def kth_smallest(nums, k):\n",
        "  heap = []\n",
        "  for num in nums:\n",
        "    heapq.heappush(heap, num)  # insert\n",
        "  # heapq.heapify(nums)\n",
        "\n",
        "  kth_min = None\n",
        "  for _ in range(k):\n",
        "    kth_min = heapq.heappop(heap)  # deletemin\n",
        "  return kth_min\n",
        "\n",
        "print(kth_smallest([4, 1, 7, 3, 8, 5], 3))\n",
        "print(heapq.nlargest(4, [4, 1, 7, 3, 8, 5]))\n",
        "print(heapq.nsmallest(3, [4, 1, 7, 3, 8, 5]))"
      ],
      "metadata": {
        "colab": {
          "base_uri": "https://localhost:8080/"
        },
        "id": "OdbGdB0CG8We",
        "outputId": "c7158943-39d5-4c1e-bc71-99c97f08e3d9"
      },
      "execution_count": null,
      "outputs": [
        {
          "output_type": "stream",
          "name": "stdout",
          "text": [
            "4\n",
            "[8, 7, 5, 4]\n",
            "[1, 3, 4]\n"
          ]
        }
      ]
    },
    {
      "cell_type": "markdown",
      "source": [
        "### Heap Sort"
      ],
      "metadata": {
        "id": "cZ-JdSa9cjiG"
      }
    },
    {
      "cell_type": "markdown",
      "source": [
        "1. We put the objects inside the array into heap order.\n",
        "2. We then remove them\n",
        "one by one using deletemin"
      ],
      "metadata": {
        "id": "xmG_lKq0c1vB"
      }
    },
    {
      "cell_type": "code",
      "source": [
        "# 'ppp' exercise\n",
        "def heap_sort(nums):\n",
        "  '''\n",
        "  >>> heap_sort([4, 1, 7, 3, 8, 5])\n",
        "  [1, 3, 4, 5, 7, 8]\n",
        "  '''\n",
        "  heap = []\n",
        "  for i in nums:\n",
        "    heapq.heappush(heap, i)\n",
        "\n",
        "  sorted_nums = []\n",
        "  while heap:\n",
        "    sorted_nums.append(heapq.heappop(heap))\n",
        "  return sorted_nums\n",
        "\n",
        "print(heap_sort([4, 1, 7, 3, 8, 5]))"
      ],
      "metadata": {
        "colab": {
          "base_uri": "https://localhost:8080/"
        },
        "id": "5ukOsvT5clfh",
        "outputId": "65e50334-a1ad-42c2-f483-800bc7e987a1"
      },
      "execution_count": 7,
      "outputs": [
        {
          "output_type": "stream",
          "name": "stdout",
          "text": [
            "[1, 3, 4, 5, 7, 8]\n"
          ]
        }
      ]
    },
    {
      "cell_type": "code",
      "source": [
        "%%HTML\n",
        "<iframe width=\"560\" height=\"315\" src=\"https://www.youtube.com/embed/FET7R20m-J4\" title=\"YouTube video player\" frameborder=\"0\" allowfullscreen></iframe>\n",
        "<iframe width=\"560\" height=\"315\" src=\"https://www.youtube.com/embed/5NSeJJB2LnU\" title=\"YouTube video player\" frameborder=\"0\" allowfullscreen></iframe>"
      ],
      "metadata": {
        "id": "xtujtvMj1Pnb",
        "colab": {
          "base_uri": "https://localhost:8080/",
          "height": 335
        },
        "outputId": "74c92a5b-d077-44a3-b2ed-c1f0157075b5"
      },
      "execution_count": null,
      "outputs": [
        {
          "output_type": "display_data",
          "data": {
            "text/plain": [
              "<IPython.core.display.HTML object>"
            ],
            "text/html": [
              "<iframe width=\"560\" height=\"315\" src=\"https://www.youtube.com/embed/FET7R20m-J4\" title=\"YouTube video player\" frameborder=\"0\" allowfullscreen></iframe>\n",
              "<iframe width=\"560\" height=\"315\" src=\"https://www.youtube.com/embed/5NSeJJB2LnU\" title=\"YouTube video player\" frameborder=\"0\" allowfullscreen></iframe>\n"
            ]
          },
          "metadata": {}
        }
      ]
    }
  ]
}