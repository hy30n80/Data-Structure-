{
  "nbformat": 4,
  "nbformat_minor": 0,
  "metadata": {
    "colab": {
      "provenance": [],
      "collapsed_sections": [
        "FPbZjVKPu_p4",
        "Gf1JtLtj7ure",
        "9WAUpqtX7Wsd"
      ],
      "include_colab_link": true
    },
    "kernelspec": {
      "name": "python3",
      "display_name": "Python 3"
    },
    "language_info": {
      "name": "python"
    }
  },
  "cells": [
    {
      "cell_type": "markdown",
      "metadata": {
        "id": "view-in-github",
        "colab_type": "text"
      },
      "source": [
        "<a href=\"https://colab.research.google.com/github/hy30n80/Data-Structure-/blob/main/R_02_Recursion.ipynb\" target=\"_parent\"><img src=\"https://colab.research.google.com/assets/colab-badge.svg\" alt=\"Open In Colab\"/></a>"
      ]
    },
    {
      "cell_type": "markdown",
      "source": [
        "# Review\n",
        "\n",
        "[Source - Berkeley CS61a Ch06 Recursion](https://inst.eecs.berkeley.edu/~cs61a/su16/assets/slides/06-Recursion_1pp.pdf)"
      ],
      "metadata": {
        "id": "NYhbyEeyiBTw"
      }
    },
    {
      "cell_type": "markdown",
      "source": [
        "## List with map function\n",
        "\n",
        "We can transfer string to int list, string with one char list as below."
      ],
      "metadata": {
        "id": "zrXBZKX2pi3s"
      }
    },
    {
      "cell_type": "code",
      "source": [
        "def get_int_list_from_comma(arr_str):\n",
        "    return list(map(int, arr_str.split(\",\")))\n",
        "\n",
        "\n",
        "def get_int_list_from_space(arr_str):\n",
        "    return list(map(int, arr_str.split()))  # default sep = \" \"\n",
        "\n",
        "\n",
        "def get_char_list_from_sticked(arr_str):\n",
        "    return list(arr_str)\n",
        "\n",
        "\n",
        "my_input = \"1, 2, 3, 4, 5\"\n",
        "print(get_int_list_from_comma(my_input))\n",
        "\n",
        "my_input = \"12 23 3 4 5\"\n",
        "print(get_int_list_from_space(my_input))\n",
        "\n",
        "my_input = \"12345\"\n",
        "print(get_char_list_from_sticked(my_input))"
      ],
      "metadata": {
        "colab": {
          "base_uri": "https://localhost:8080/"
        },
        "id": "8lPa6VVSpz6x",
        "outputId": "11ccf2a6-d3c6-4052-963d-1d9e40373e0f"
      },
      "execution_count": 1,
      "outputs": [
        {
          "output_type": "stream",
          "name": "stdout",
          "text": [
            "[1, 2, 3, 4, 5]\n",
            "[12, 23, 3, 4, 5]\n",
            "['1', '2', '3', '4', '5']\n"
          ]
        }
      ]
    },
    {
      "cell_type": "code",
      "source": [
        "l = [i for i in range(5)]  # [0, 1, 2, 3, 4], list type"
      ],
      "metadata": {
        "id": "WDZwb37flkMP"
      },
      "execution_count": 2,
      "outputs": []
    },
    {
      "cell_type": "markdown",
      "source": [
        "## Dictionary\n",
        "\n",
        "A dictionary is a data type similar to arrays, but works with (key, value) pairs, similar to a Map in Java or an object in Javascript. Each value stored in a dictionary can be accessed using a key, which is any type of object (a string, a number, a list, etc.) instead of using its index to address it."
      ],
      "metadata": {
        "id": "fNmRPBM_YY9e"
      }
    },
    {
      "cell_type": "code",
      "source": [
        "dict1 = {1: 'a', 'a': 1}\n",
        "dict2 = dict([[1, 'a'], ['a', 1]])\n",
        "\n",
        "print(\"dict1 is:\", dict1)\n",
        "print(\"dict2 is:\", dict2)"
      ],
      "metadata": {
        "colab": {
          "base_uri": "https://localhost:8080/"
        },
        "id": "4QUPEUAUYhA_",
        "outputId": "25ba7ec7-65dd-418f-9120-23b597c79e95"
      },
      "execution_count": 3,
      "outputs": [
        {
          "output_type": "stream",
          "name": "stdout",
          "text": [
            "dict1 is: {1: 'a', 'a': 1}\n",
            "dict2 is: {1: 'a', 'a': 1}\n"
          ]
        }
      ]
    },
    {
      "cell_type": "code",
      "source": [
        "dict3 = {\"math\": 30, \"korean\": 70, \"english\": 50, \"I am\": \"so happy\"}\n",
        "\n",
        "for key, value in dict3.items():\n",
        "    if key == \"I am\":\n",
        "        print(key, value)\n",
        "        continue\n",
        "    print(f\"My score of {key} is: {value}\")"
      ],
      "metadata": {
        "colab": {
          "base_uri": "https://localhost:8080/"
        },
        "id": "tjIDGAnYZb60",
        "outputId": "2235cc32-9a9d-4b5a-ae40-5c1fb4fa5df5"
      },
      "execution_count": 4,
      "outputs": [
        {
          "output_type": "stream",
          "name": "stdout",
          "text": [
            "My score of math is: 30\n",
            "My score of korean is: 70\n",
            "My score of english is: 50\n",
            "I am so happy\n"
          ]
        }
      ]
    },
    {
      "cell_type": "code",
      "source": [
        "# Just dictionary variable gives only keys to the for loop\n",
        "for key in dict3:\n",
        "    if key == \"I am\":\n",
        "        print(key, \"strong\")\n",
        "        continue\n",
        "    print(f\"My score of {key} is secret :)\")"
      ],
      "metadata": {
        "colab": {
          "base_uri": "https://localhost:8080/"
        },
        "id": "on7RoRTmaff_",
        "outputId": "9a937b1a-f85f-402f-f24f-c654bc4700b8"
      },
      "execution_count": 5,
      "outputs": [
        {
          "output_type": "stream",
          "name": "stdout",
          "text": [
            "My score of math is secret :)\n",
            "My score of korean is secret :)\n",
            "My score of english is secret :)\n",
            "I am strong\n"
          ]
        }
      ]
    },
    {
      "cell_type": "code",
      "source": [
        "del dict3[\"math\"]\n",
        "dict3.pop(\"english\", \"N/A\")\n",
        "res = dict3.pop(\"englsish\", \"N/A\")\n",
        "print(dict3, \"pop() function pops:\", res)"
      ],
      "metadata": {
        "colab": {
          "base_uri": "https://localhost:8080/"
        },
        "id": "7F1Yo9y3bIup",
        "outputId": "69eb0ae2-3584-4b99-9d6b-13cec6952c65"
      },
      "execution_count": 6,
      "outputs": [
        {
          "output_type": "stream",
          "name": "stdout",
          "text": [
            "{'korean': 70, 'I am': 'so happy'} pop() function pops: N/A\n"
          ]
        }
      ]
    },
    {
      "cell_type": "code",
      "source": [
        "d = {i: i**2 for i in range(5)}  # {0: 0, 1: 1, 2: 4, 3: 9, 4: 16}, dictionary type"
      ],
      "metadata": {
        "id": "2ICwnh_gmBk9"
      },
      "execution_count": 7,
      "outputs": []
    },
    {
      "cell_type": "code",
      "source": [
        "d"
      ],
      "metadata": {
        "colab": {
          "base_uri": "https://localhost:8080/"
        },
        "id": "IPK1NC2X94Kg",
        "outputId": "083236b9-0d38-4edc-d1b7-8fc978fec4ec"
      },
      "execution_count": 8,
      "outputs": [
        {
          "output_type": "execute_result",
          "data": {
            "text/plain": [
              "{0: 0, 1: 1, 2: 4, 3: 9, 4: 16}"
            ]
          },
          "metadata": {},
          "execution_count": 8
        }
      ]
    },
    {
      "cell_type": "markdown",
      "source": [
        "## Sets\n",
        "A set is an unordered collection of distinct elements"
      ],
      "metadata": {
        "id": "wRuQub5RcMA_"
      }
    },
    {
      "cell_type": "code",
      "source": [
        "set1 = {30, 70, 50, \"so happy\"}\n",
        "\n",
        "for value in set1:\n",
        "    if value == \"so happy\":\n",
        "        print(\"I am\", value)\n",
        "        continue\n",
        "    print(f\"My score is: {value}\")"
      ],
      "metadata": {
        "colab": {
          "base_uri": "https://localhost:8080/"
        },
        "id": "jfF7Roj7coyc",
        "outputId": "b98d4152-d7b9-41d8-8f70-66d312a2cdfd"
      },
      "execution_count": 9,
      "outputs": [
        {
          "output_type": "stream",
          "name": "stdout",
          "text": [
            "I am so happy\n",
            "My score is: 50\n",
            "My score is: 70\n",
            "My score is: 30\n"
          ]
        }
      ]
    },
    {
      "cell_type": "code",
      "source": [
        "for index, value in enumerate(set1):\n",
        "  if value == \"so happy\":\n",
        "    print(\"{}. I am \".format(index), value)\n",
        "    continue\n",
        "  print(\"My {} score is :{}\".format(index, value))"
      ],
      "metadata": {
        "colab": {
          "base_uri": "https://localhost:8080/"
        },
        "id": "nuFAnGcRdt1G",
        "outputId": "6714990a-fbf4-44b9-8df5-3d195672e819"
      },
      "execution_count": 10,
      "outputs": [
        {
          "output_type": "stream",
          "name": "stdout",
          "text": [
            "0. I am  so happy\n",
            "My 1 score is :50\n",
            "My 2 score is :70\n",
            "My 3 score is :30\n"
          ]
        }
      ]
    },
    {
      "cell_type": "code",
      "source": [
        "# call the value of set elements using index occurs error.\n",
        "set1[0]"
      ],
      "metadata": {
        "id": "K0ZN1VhsSkEy",
        "colab": {
          "base_uri": "https://localhost:8080/",
          "height": 163
        },
        "outputId": "f11f14d6-9881-42a5-9ce7-6e1a16708540"
      },
      "execution_count": 11,
      "outputs": [
        {
          "output_type": "error",
          "ename": "TypeError",
          "evalue": "'set' object is not subscriptable",
          "traceback": [
            "\u001b[0;31m---------------------------------------------------------------------------\u001b[0m",
            "\u001b[0;31mTypeError\u001b[0m                                 Traceback (most recent call last)",
            "\u001b[0;32m<ipython-input-11-a57febcd0d04>\u001b[0m in \u001b[0;36m<cell line: 2>\u001b[0;34m()\u001b[0m\n\u001b[1;32m      1\u001b[0m \u001b[0;31m# call the value of set elements using index occurs error.\u001b[0m\u001b[0;34m\u001b[0m\u001b[0;34m\u001b[0m\u001b[0m\n\u001b[0;32m----> 2\u001b[0;31m \u001b[0mset1\u001b[0m\u001b[0;34m[\u001b[0m\u001b[0;36m0\u001b[0m\u001b[0;34m]\u001b[0m\u001b[0;34m\u001b[0m\u001b[0;34m\u001b[0m\u001b[0m\n\u001b[0m",
            "\u001b[0;31mTypeError\u001b[0m: 'set' object is not subscriptable"
          ]
        }
      ]
    },
    {
      "cell_type": "code",
      "source": [
        "s = {i for i in range(5)}  # {0, 1, 2, 3, 4}, set type"
      ],
      "metadata": {
        "id": "MQkUEazHl_lX"
      },
      "execution_count": 12,
      "outputs": []
    },
    {
      "cell_type": "markdown",
      "source": [
        "## Tuple\n",
        "\n",
        "A tuple is an (immutable) ordered list of values. A tuple is in many ways similar to a list; one of the most important differences is that tuples can be used as keys in dictionaries and as elements of sets, while lists cannot."
      ],
      "metadata": {
        "id": "AP3t_3Akd1En"
      }
    },
    {
      "cell_type": "code",
      "source": [
        "t = ('this', 'is', 'fixed', 'tuple', 'do', 'not', 'modify')\n",
        "print(t)\n",
        "for i in t:\n",
        "    print(i)"
      ],
      "metadata": {
        "colab": {
          "base_uri": "https://localhost:8080/"
        },
        "id": "JOgth_Fzd8Bn",
        "outputId": "d034548c-437b-438c-80f8-a3c6910e86d3"
      },
      "execution_count": 13,
      "outputs": [
        {
          "output_type": "stream",
          "name": "stdout",
          "text": [
            "('this', 'is', 'fixed', 'tuple', 'do', 'not', 'modify')\n",
            "this\n",
            "is\n",
            "fixed\n",
            "tuple\n",
            "do\n",
            "not\n",
            "modify\n"
          ]
        }
      ]
    },
    {
      "cell_type": "code",
      "source": [
        "t[0] = 'i want to try fix this value of tuple'"
      ],
      "metadata": {
        "colab": {
          "base_uri": "https://localhost:8080/",
          "height": 145
        },
        "id": "7bSukj0gehXu",
        "outputId": "2fdc260a-82c3-4e2b-98f4-64033f9f20be"
      },
      "execution_count": 14,
      "outputs": [
        {
          "output_type": "error",
          "ename": "TypeError",
          "evalue": "'tuple' object does not support item assignment",
          "traceback": [
            "\u001b[0;31m---------------------------------------------------------------------------\u001b[0m",
            "\u001b[0;31mTypeError\u001b[0m                                 Traceback (most recent call last)",
            "\u001b[0;32m<ipython-input-14-73dbe1e0c201>\u001b[0m in \u001b[0;36m<cell line: 1>\u001b[0;34m()\u001b[0m\n\u001b[0;32m----> 1\u001b[0;31m \u001b[0mt\u001b[0m\u001b[0;34m[\u001b[0m\u001b[0;36m0\u001b[0m\u001b[0;34m]\u001b[0m \u001b[0;34m=\u001b[0m \u001b[0;34m'i want to try fix this value of tuple'\u001b[0m\u001b[0;34m\u001b[0m\u001b[0;34m\u001b[0m\u001b[0m\n\u001b[0m",
            "\u001b[0;31mTypeError\u001b[0m: 'tuple' object does not support item assignment"
          ]
        }
      ]
    },
    {
      "cell_type": "markdown",
      "source": [
        "## Recursion\n",
        "\n",
        "### properties of recursive function?\n",
        "\n",
        "\n",
        "\n",
        "1.   Same or similar function is called multiple times\n",
        "2.   Different frames keep track of the\n",
        "different arguments in each call\n",
        "3.   What **n** evaluates to depends upon\n",
        "the current environment\n",
        "4.   Each call to recursive function solves a simpler\n",
        "problem than the last: smaller n\n",
        "\n"
      ],
      "metadata": {
        "id": "j2oskfnViR9D"
      }
    },
    {
      "cell_type": "code",
      "source": [
        "def fibo(n):\n",
        "    if n == 1 or n == 2:\n",
        "        return 1\n",
        "    return fibo(n - 1) + fibo(n - 2)\n",
        "\n",
        "for i in range(1, 10):\n",
        "    print(fibo(i))"
      ],
      "metadata": {
        "colab": {
          "base_uri": "https://localhost:8080/"
        },
        "id": "P_p5opD8h_hj",
        "outputId": "8ea0796b-4582-4c09-df02-3a3464600cab"
      },
      "execution_count": 15,
      "outputs": [
        {
          "output_type": "stream",
          "name": "stdout",
          "text": [
            "1\n",
            "1\n",
            "2\n",
            "3\n",
            "5\n",
            "8\n",
            "13\n",
            "21\n",
            "34\n"
          ]
        }
      ]
    },
    {
      "cell_type": "markdown",
      "source": [
        "\n",
        "\n",
        "*   Let's make your own recursive function\n",
        "  1. draw a functional abstraction of your solution\n",
        "\n",
        "        1-1. You should find the smaller or extended case of previous function\n",
        "  2.  Break down the problem into smaller, easier\n",
        "  3.  Set the base case which can not be recursive\n",
        "  4.  Wrap up with return-code line covering the whole case\n"
      ],
      "metadata": {
        "id": "2Ip5mQZIj-OB"
      }
    },
    {
      "cell_type": "code",
      "source": [
        "def matryoshka(n):\n",
        "    if n == 0:\n",
        "        return\n",
        "    for i in range(1, n + 1):\n",
        "        print(\"*\" * i)\n",
        "    for i in range(n - 1, 0, -1):\n",
        "        print(\"*\" * i)\n",
        "    print()\n",
        "    return matryoshka(n - 1)\n",
        "\n",
        "matryoshka(5)"
      ],
      "metadata": {
        "colab": {
          "base_uri": "https://localhost:8080/"
        },
        "id": "VbJFePlBndB1",
        "outputId": "1cf320db-079c-4b29-8a41-477f2a34a3a7"
      },
      "execution_count": 16,
      "outputs": [
        {
          "output_type": "stream",
          "name": "stdout",
          "text": [
            "*\n",
            "**\n",
            "***\n",
            "****\n",
            "*****\n",
            "****\n",
            "***\n",
            "**\n",
            "*\n",
            "\n",
            "*\n",
            "**\n",
            "***\n",
            "****\n",
            "***\n",
            "**\n",
            "*\n",
            "\n",
            "*\n",
            "**\n",
            "***\n",
            "**\n",
            "*\n",
            "\n",
            "*\n",
            "**\n",
            "*\n",
            "\n",
            "*\n",
            "\n"
          ]
        }
      ]
    },
    {
      "cell_type": "markdown",
      "source": [
        "## Quiz"
      ],
      "metadata": {
        "id": "zjivuQuViJZp"
      }
    },
    {
      "cell_type": "code",
      "source": [
        "import doctest"
      ],
      "metadata": {
        "id": "SGKGJDsQ6V-D"
      },
      "execution_count": 17,
      "outputs": []
    },
    {
      "cell_type": "markdown",
      "source": [
        "### Q1. Sets"
      ],
      "metadata": {
        "id": "RcWUKCy9fEjd"
      }
    },
    {
      "cell_type": "code",
      "source": [
        "# before executing this block, please guess the result of this print function\n",
        "string = 'data'\n",
        "\n",
        "permutation = set()\n",
        "for i in string:\n",
        "    for j in string:\n",
        "        permutation.add(i + j)\n",
        "\n",
        "# set does not care about order of its elements\n",
        "permutation = {i + j for i in string for j in string}\n",
        "print(permutation, len(permutation))  # please, before executing this block, please guess the result of this print function\n",
        "'''\n",
        "data + data\n",
        "=> dd, da, dt, da / ad, aa, at, aa / td, ta, tt, ta / ad, aa, at, aa\n",
        "=> {'at', 'ad', 'td', 'aa', 'ta', 'dt', 'tt', 'da', 'dd'}\n",
        "=> len(permutation) is 9\n",
        "'''"
      ],
      "metadata": {
        "colab": {
          "base_uri": "https://localhost:8080/",
          "height": 72
        },
        "id": "6UNOYgOC1FBd",
        "outputId": "1350d642-7de7-4ea1-b0d8-4607a375c0fc"
      },
      "execution_count": 18,
      "outputs": [
        {
          "output_type": "stream",
          "name": "stdout",
          "text": [
            "{'da', 'at', 'dd', 'tt', 'dt', 'td', 'aa', 'ta', 'ad'} 9\n"
          ]
        },
        {
          "output_type": "execute_result",
          "data": {
            "text/plain": [
              "\"\\ndata + data\\n=> dd, da, dt, da / ad, aa, at, aa / td, ta, tt, ta / ad, aa, at, aa\\n=> {'at', 'ad', 'td', 'aa', 'ta', 'dt', 'tt', 'da', 'dd'}\\n=> len(permutation) is 9\\n\""
            ],
            "application/vnd.google.colaboratory.intrinsic+json": {
              "type": "string"
            }
          },
          "metadata": {},
          "execution_count": 18
        }
      ]
    },
    {
      "cell_type": "markdown",
      "source": [
        "### Q2. Combination function with recursion"
      ],
      "metadata": {
        "id": "-hw23Lmxf1GJ"
      }
    },
    {
      "cell_type": "code",
      "source": [
        "# recurrence relation of combination : nCr = n-1Cr + n-1Cr-1\n",
        "# nC0 = 1, nCn = 1\n",
        "\n",
        "def comb(n, r):\n",
        "    \"\"\"\n",
        "    >>> comb(10, 7)\n",
        "    120\n",
        "    >>> comb(4, 2)\n",
        "    6\n",
        "    >>> comb(17, 5)\n",
        "    6188\n",
        "    \"\"\"\n",
        "    if n == r or r == 0:\n",
        "      return 1\n",
        "    return comb(n - 1, r) + comb(n - 1, r - 1)"
      ],
      "metadata": {
        "id": "O2DmVh6T9P3A"
      },
      "execution_count": 19,
      "outputs": []
    },
    {
      "cell_type": "code",
      "source": [
        "doctest.run_docstring_examples(comb, globals(), False, __name__)"
      ],
      "metadata": {
        "id": "DRu485l9SkQb",
        "colab": {
          "base_uri": "https://localhost:8080/"
        },
        "outputId": "bd0a82d2-26ac-440e-cd0a-c4383c922813"
      },
      "execution_count": 20,
      "outputs": [
        {
          "output_type": "stream",
          "name": "stderr",
          "text": [
            "\n",
            "PYDEV DEBUGGER WARNING:\n",
            "sys.settrace() should not be used when the debugger is being used.\n",
            "This may cause the debugger to stop working correctly.\n",
            "If this is needed, please check: \n",
            "http://pydev.blogspot.com/2007/06/why-cant-pydev-debugger-work-with.html\n",
            "to see how to restore the debug tracing back correctly.\n",
            "Call Location:\n",
            "  File \"/usr/lib/python3.10/doctest.py\", line 1501, in run\n",
            "    sys.settrace(save_trace)\n",
            "\n"
          ]
        }
      ]
    },
    {
      "cell_type": "markdown",
      "source": [
        "### appendix :  [] vs list()"
      ],
      "metadata": {
        "id": "mTbl_TdgCrN-"
      }
    },
    {
      "cell_type": "code",
      "source": [
        "\"\"\"\n",
        ">>> import dis\n",
        ">>> def f1(): return list()\n",
        "...\n",
        ">>> def f2(): return []\n",
        "...\n",
        ">>> dis.dis(f1)\n",
        "  1           0 LOAD_GLOBAL              0 (list)\n",
        "              3 CALL_FUNCTION            0\n",
        "              6 RETURN_VALUE\n",
        ">>> dis.dis(f2)\n",
        "  1           0 BUILD_LIST               0\n",
        "              3 RETURN_VALUE\n",
        "\"\"\""
      ],
      "metadata": {
        "id": "yFZENuD1Cs9N"
      },
      "execution_count": null,
      "outputs": []
    },
    {
      "cell_type": "markdown",
      "source": [
        "## (optional) Filter with lambda function\n",
        "\n",
        "We can filter specific characters using lambda function.\n",
        "\n"
      ],
      "metadata": {
        "id": "FPbZjVKPu_p4"
      }
    },
    {
      "cell_type": "code",
      "source": [
        "my_input = [\"alpha\", \"bravo\", \"charlie\", \"delta\", \"echo\", \"foxtrot\"]\n",
        "\n",
        "def filter_over_this(arr_str, character):\n",
        "    \"\"\"\n",
        "    This function filters characters under the order specified character\n",
        "    a < c, l > c, p > c, h > c, a < c\n",
        "    False, True,  True,  True,  False\n",
        "    l, p, h can survive\n",
        "    \"\"\"\n",
        "    return [\"\".join(filter(lambda x: x > character, element)) for element in arr_str]\n",
        "\n",
        "print(filter_over_this(my_input, \"c\"))\n",
        "print(filter_over_this(my_input, \"e\"))\n",
        "print(filter_over_this(my_input, \"1\"))\n",
        "# comparison of character is operated with ascii code number\n",
        "print(\"ascii order of 1:\", ord(\"1\"))\n",
        "print(\"ascii order of a:\", ord(\"a\"))"
      ],
      "metadata": {
        "colab": {
          "base_uri": "https://localhost:8080/"
        },
        "id": "TtJSrWd3vECE",
        "outputId": "b8f26271-f135-40cd-c5b1-8527e5d59ca2"
      },
      "execution_count": null,
      "outputs": [
        {
          "output_type": "stream",
          "name": "stdout",
          "text": [
            "['lph', 'rvo', 'hrlie', 'delt', 'eho', 'foxtrot']\n",
            "['lph', 'rvo', 'hrli', 'lt', 'ho', 'foxtrot']\n",
            "['alpha', 'bravo', 'charlie', 'delta', 'echo', 'foxtrot']\n",
            "ascii order of 1: 49\n",
            "ascii order of a: 97\n"
          ]
        }
      ]
    },
    {
      "cell_type": "markdown",
      "source": [
        "## optional Q1. Filter with lambda function"
      ],
      "metadata": {
        "id": "Gf1JtLtj7ure"
      }
    },
    {
      "cell_type": "code",
      "source": [
        "#hint\n",
        "#ascii order of A: 65\n",
        "#ascii order of Z: 90\n",
        "\n",
        "def only_capital_alphabet(my_words):\n",
        "    '''\n",
        "    >>> only_capital_alphabet([\"ASCii\", \"Code\"])\n",
        "    ['ASC', 'C']\n",
        "    >>> only_capital_alphabet([\"I\", \"AM\", \"SO\", \"STRONG\"])\n",
        "    ['I', 'AM', 'SO', 'STRONG']\n",
        "    >>> only_capital_alphabet([\"Gist\", \"Develop\", \"Students\", \"Club\"])\n",
        "    ['G', 'D', 'S', 'C']\n",
        "    '''\n",
        "    answer  = list(\"\".join(filter(lambda x: ord(x) >= 65 and ord(x) <= 90, word)) for word in my_words)\n",
        "    return answer"
      ],
      "metadata": {
        "id": "o6j5GZcO7WCk"
      },
      "execution_count": 21,
      "outputs": []
    },
    {
      "cell_type": "code",
      "source": [
        "doctest.run_docstring_examples(only_capital_alphabet, globals(), False, __name__)"
      ],
      "metadata": {
        "id": "dKWZgN43ht1N"
      },
      "execution_count": 22,
      "outputs": []
    },
    {
      "cell_type": "markdown",
      "source": [
        "## optional Q2. List, map, lambda"
      ],
      "metadata": {
        "id": "9WAUpqtX7Wsd"
      }
    },
    {
      "cell_type": "code",
      "source": [
        "def get_word_without_t (my_string): # str.replace(\"char\", \"new char\") can replace characters you want in string.\n",
        "    '''\n",
        "    >>> get_word_without_t(\"my little tristana\")\n",
        "    ['my', 'lile', 'risana']\n",
        "    >>> get_word_without_t(\"the identity of t is removed\")\n",
        "    ['he', 'ideniy', 'of', '', 'is', 'removed']\n",
        "    >>> get_word_without_t(\"BUT THE CAPITAL T CAN SURVIVE!\")\n",
        "    ['BUT', 'THE', 'CAPITAL', 'T', 'CAN', 'SURVIVE!']\n",
        "    '''\n",
        "    answer = list(map(lambda x: x.replace('t', ''), my_string.split()))\n",
        "    return answer"
      ],
      "metadata": {
        "id": "68qSlHUg75Rj"
      },
      "execution_count": 23,
      "outputs": []
    },
    {
      "cell_type": "code",
      "source": [
        "doctest.run_docstring_examples(get_word_without_t, globals(), False, __name__)"
      ],
      "metadata": {
        "id": "eeA3FoiN9tGO"
      },
      "execution_count": 24,
      "outputs": []
    },
    {
      "cell_type": "code",
      "source": [],
      "metadata": {
        "id": "uAUz--KUAcat"
      },
      "execution_count": null,
      "outputs": []
    }
  ]
}