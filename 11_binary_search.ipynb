{
  "nbformat": 4,
  "nbformat_minor": 0,
  "metadata": {
    "colab": {
      "provenance": [],
      "include_colab_link": true
    },
    "kernelspec": {
      "name": "python3",
      "display_name": "Python 3"
    },
    "language_info": {
      "name": "python"
    }
  },
  "cells": [
    {
      "cell_type": "markdown",
      "metadata": {
        "id": "view-in-github",
        "colab_type": "text"
      },
      "source": [
        "<a href=\"https://colab.research.google.com/github/hy30n80/Data-Structure-/blob/main/11_binary_search.ipynb\" target=\"_parent\"><img src=\"https://colab.research.google.com/assets/colab-badge.svg\" alt=\"Open In Colab\"/></a>"
      ]
    },
    {
      "cell_type": "code",
      "source": [
        "%%HTML\n",
        "<iframe width=\"560\" height=\"315\" src=\"https://www.youtube.com/embed/wk5wE8N3sgY\" title=\"YouTube video player\" frameborder=\"0\" allowfullscreen></iframe>"
      ],
      "metadata": {
        "colab": {
          "base_uri": "https://localhost:8080/",
          "height": 336
        },
        "id": "g95fMN8nz-ts",
        "outputId": "88ca517a-d8db-4fa5-9ec9-5e4f0d098e50"
      },
      "execution_count": null,
      "outputs": [
        {
          "output_type": "display_data",
          "data": {
            "text/plain": [
              "<IPython.core.display.HTML object>"
            ],
            "text/html": [
              "<iframe width=\"560\" height=\"315\" src=\"https://www.youtube.com/embed/wk5wE8N3sgY\" title=\"YouTube video player\" frameborder=\"0\" allowfullscreen></iframe>\n"
            ]
          },
          "metadata": {}
        }
      ]
    },
    {
      "cell_type": "markdown",
      "source": [
        "## 'ppp' exercise from last class"
      ],
      "metadata": {
        "id": "zVWd14JHRRv8"
      }
    },
    {
      "cell_type": "markdown",
      "source": [
        "#### [Facebook] Open the Locks"
      ],
      "metadata": {
        "id": "Up_KxyZGh6Kh"
      }
    },
    {
      "cell_type": "markdown",
      "source": [
        "You have a lock in front of you with 4 circular wheels. Each wheel has 10 slots: '0', '1', '2', '3', '4', '5', '6', '7', '8', '9'. The wheels can rotate freely and wrap around: for example we can turn '9' to be '0', or '0' to be '9'. Each move consists of turning one wheel one slot.\n",
        "\n",
        "The lock initially starts at '0000', a string representing the state of the 4 wheels.\n",
        "\n",
        "You are given a list of `deadends` dead ends, meaning if the lock displays any of these codes, the wheels of the lock will stop turning and you will be unable to open it.\n",
        "\n",
        "Given a `target` representing the value of the wheels that will unlock the lock, return the minimum total number of turns required to open the lock, or -1 if it is impossible."
      ],
      "metadata": {
        "id": "AoB3TI8XZet6"
      }
    },
    {
      "cell_type": "markdown",
      "source": [
        "##### 'ppp' Exercise"
      ],
      "metadata": {
        "id": "RUa4ywIgiAiV"
      }
    },
    {
      "cell_type": "code",
      "source": [
        "def open_lock(deadends, target):\n",
        "  '''\n",
        "  >>> open_lock([\"0201\",\"0101\",\"0102\",\"1212\",\"2002\"], \"0202\")\n",
        "  6\n",
        "  >>> open_lock([\"8888\"], \"0009\")\n",
        "  1\n",
        "  >>> open_lock([\"8887\",\"8889\",\"8878\",\"8898\",\"8788\",\"8988\",\"7888\",\"9888\"], \"8888\")\n",
        "  -1\n",
        "  '''\n",
        "  #    '0000'\n",
        "  # -> '1000'\n",
        "  # -> '9000'\n",
        "  # -> '0100'\n",
        "  # -> '0900'\n",
        "  pass"
      ],
      "metadata": {
        "id": "iw8kSl3OZfW7"
      },
      "execution_count": null,
      "outputs": []
    },
    {
      "cell_type": "code",
      "source": [
        "doctest.run_docstring_examples(open_lock, globals(), False, __name__)"
      ],
      "metadata": {
        "id": "vMPOBKElkiwi"
      },
      "execution_count": null,
      "outputs": []
    },
    {
      "cell_type": "markdown",
      "source": [
        "# EC2202 Binary Search"
      ],
      "metadata": {
        "id": "gqZUxjuw8OE4"
      }
    },
    {
      "cell_type": "markdown",
      "source": [
        "**Disclaimer.**\n",
        "This code examples are based on\n",
        "\n",
        "1. [KAIST CS206 (Professor Otfried Cheong)](https://otfried.org/courses/cs206/)\n",
        "2. [LeetCode](https://leetcode.com/)\n",
        "3. [GeeksForGeeks](https://practice.geeksforgeeks.org/)\n",
        "4. Coding Interviews"
      ],
      "metadata": {
        "id": "1bWHozli8SQ_"
      }
    },
    {
      "cell_type": "code",
      "source": [
        "import doctest\n",
        "import random\n",
        "import time\n",
        "\n",
        "def make_list(N, sorted=False):\n",
        "  a = [1] * N\n",
        "  for i in range(1, N):\n",
        "    a[i] = a[i-1] + random.randrange(1, 100)\n",
        "  if not sorted:\n",
        "    random.shuffle(a)\n",
        "  return a\n",
        "\n",
        "def python_search(a, x):\n",
        "  return a.index(x)\n",
        "\n",
        "def timing(alg, a, x):\n",
        "  startTime = time.time()\n",
        "  totalTime = 0\n",
        "  rounds = 0\n",
        "  while totalTime < 4.0:\n",
        "    result = alg(a, x)\n",
        "    totalTime = time.time() - startTime\n",
        "    rounds += 1\n",
        "  print(\"\\tN = %6d time = %9d microsecs\" %\n",
        "        (len(a), totalTime * 1000000 // rounds))\n",
        "  return result"
      ],
      "metadata": {
        "id": "q4M2tQpaaKQw"
      },
      "execution_count": 1,
      "outputs": []
    },
    {
      "cell_type": "markdown",
      "source": [
        "## Linear Search"
      ],
      "metadata": {
        "id": "zAuUftYFiHqC"
      }
    },
    {
      "cell_type": "markdown",
      "source": [
        "When the data is not sorted or indexed in some way, we have no choice but to look at each item one by one. This is called linear search or sequential search, because we are stepping through a list of items sequentially in linear order, comparing each of them with the item we are looking for."
      ],
      "metadata": {
        "id": "U9BL7NELjeY4"
      }
    },
    {
      "cell_type": "code",
      "source": [
        "def linear_search(a, x):  # a: given array, x: the item of iterest\n",
        "  for i in range(len(a)):\n",
        "    if a[i] == x:\n",
        "      return i\n",
        "  raise ValueError(x)"
      ],
      "metadata": {
        "id": "DHNh_zItiN92"
      },
      "execution_count": 2,
      "outputs": []
    },
    {
      "cell_type": "markdown",
      "source": [
        "## Sorted Linear Search"
      ],
      "metadata": {
        "id": "TSEtvHmhjBu2"
      }
    },
    {
      "cell_type": "markdown",
      "source": [
        "Given a list A with a non-decreasing sequence of integers, we can stop as soon as we find an element larger than x:"
      ],
      "metadata": {
        "id": "XWpp403ijHHo"
      }
    },
    {
      "cell_type": "code",
      "source": [
        " # If x is not in the list a,\n",
        " # return position where it should be inserted\n",
        "def sorted_linear_search(a, x):\n",
        "  for i in range(len(a)):\n",
        "    if a[i] >= x:\n",
        "      return i\n",
        "  return len(a)"
      ],
      "metadata": {
        "id": "VP0Ada5LjEwv"
      },
      "execution_count": 3,
      "outputs": []
    },
    {
      "cell_type": "markdown",
      "source": [
        "## Binary Search"
      ],
      "metadata": {
        "id": "qvgjBJacjgQR"
      }
    },
    {
      "cell_type": "markdown",
      "source": [
        "### Recursive Implementation"
      ],
      "metadata": {
        "id": "oy7LHerklAjj"
      }
    },
    {
      "cell_type": "markdown",
      "source": [
        "We compare `x` with the middle element of the list `a`, and recursively search in the left half or the right half."
      ],
      "metadata": {
        "id": "Vk4VDoeHkwts"
      }
    },
    {
      "cell_type": "code",
      "source": [
        "def find_rec(a, x, i, j):\n",
        "  if j < i:\n",
        "    return i\n",
        "  mid = (i + j) // 2\n",
        "  if a[mid] < x:\n",
        "    return find_rec(a, x, mid+1, j)  # right-half\n",
        "  else:\n",
        "    return find_rec(a, x, i, mid-1)  # left-half\n",
        "\n",
        "def binary_search(a, x):\n",
        "  return find_rec(a, x, 0, len(a) - 1)"
      ],
      "metadata": {
        "id": "2wvGGaTYje5y"
      },
      "execution_count": 4,
      "outputs": []
    },
    {
      "cell_type": "code",
      "source": [
        "print(binary_search(list(range(11)), 5))"
      ],
      "metadata": {
        "id": "DMkTDcB4aiy_",
        "colab": {
          "base_uri": "https://localhost:8080/"
        },
        "outputId": "d20ec884-76d1-4a1a-fc8d-59277d7a1e2b"
      },
      "execution_count": 5,
      "outputs": [
        {
          "output_type": "stream",
          "name": "stdout",
          "text": [
            "5\n"
          ]
        }
      ]
    },
    {
      "cell_type": "markdown",
      "source": [
        "### Iterative Implementation"
      ],
      "metadata": {
        "id": "5ztgFFNmmBC4"
      }
    },
    {
      "cell_type": "markdown",
      "source": [
        "**'ppp' Exercise**\n",
        "Can you convert the recursive implementation into iterative one?"
      ],
      "metadata": {
        "id": "syeksgmclE6a"
      }
    },
    {
      "cell_type": "code",
      "source": [
        "def binary_search_iterative(a, x):\n",
        "  i = 0\n",
        "  j = len(a)-1\n",
        "  while i <= j:\n",
        "    mid = (i+j) // 2\n",
        "    if a[mid] < x:\n",
        "      i = mid+1\n",
        "    elif a[mid] > x:\n",
        "      j = mid-1\n",
        "    else:\n",
        "      return mid\n",
        "\n",
        "\n",
        "  # 5 를 생각해보자\n",
        "  return -1\n"
      ],
      "metadata": {
        "id": "31cJdFLalJXf"
      },
      "execution_count": 45,
      "outputs": []
    },
    {
      "cell_type": "code",
      "source": [
        "print(binary_search_iterative(list(range(11)), 5))"
      ],
      "metadata": {
        "colab": {
          "base_uri": "https://localhost:8080/"
        },
        "id": "t-UfUB1o0XbB",
        "outputId": "815935bd-92c9-4d12-8156-6471ff5514e5"
      },
      "execution_count": 46,
      "outputs": [
        {
          "output_type": "stream",
          "name": "stdout",
          "text": [
            "5\n"
          ]
        }
      ]
    },
    {
      "cell_type": "markdown",
      "source": [
        "## Performance Comparison"
      ],
      "metadata": {
        "id": "ipIFBWO6k_Lq"
      }
    },
    {
      "cell_type": "code",
      "source": [
        "N = 1000000\n",
        "a = make_list(N, sorted=True)\n",
        "print(\"The list:\")\n",
        "print(a[:5])\n",
        "print(a[-5:])\n",
        "el = a[-5]\n",
        "print(\"\")\n",
        "print(\"1. Python Search\")\n",
        "print(\"\\tItem\", el, \"appears at index\", timing(python_search, a, el))\n",
        "print(\"2. Linear Search\")\n",
        "print(\"\\tItem\", el, \"appears at index\", timing(linear_search, a, el))\n",
        "print(\"3. Sorted Linear Search\")\n",
        "print(\"\\tItem\", el, \"appears at index\", timing(sorted_linear_search, a, el))\n",
        "print(\"4. Binary Search Recursive\")\n",
        "print(\"\\tItem\", el, \"appears at index\", timing(binary_search, a, el))\n",
        "print(\"5. Binary Search Iterative\")\n",
        "print(\"\\tItem\", el, \"appears at index\", timing(binary_search_iterative, a, el))"
      ],
      "metadata": {
        "colab": {
          "base_uri": "https://localhost:8080/"
        },
        "id": "RkXprv5ileAD",
        "outputId": "66ff6f62-73ba-43ed-ade3-d0b3def21e5b"
      },
      "execution_count": 10,
      "outputs": [
        {
          "output_type": "stream",
          "name": "stdout",
          "text": [
            "The list:\n",
            "[1, 24, 52, 136, 158]\n",
            "[49981100, 49981145, 49981173, 49981207, 49981234]\n",
            "\n",
            "1. Python Search\n",
            "\tN = 1000000 time =     11786 microsecs\n",
            "\tItem 49981100 appears at index 999995\n",
            "2. Linear Search\n",
            "\tN = 1000000 time =     89278 microsecs\n",
            "\tItem 49981100 appears at index 999995\n",
            "3. Sorted Linear Search\n",
            "\tN = 1000000 time =     85627 microsecs\n",
            "\tItem 49981100 appears at index 999995\n",
            "4. Binary Search Recursive\n",
            "\tN = 1000000 time =         6 microsecs\n",
            "\tItem 49981100 appears at index 999995\n",
            "5. Binary Search Iterative\n",
            "\tN = 1000000 time =         4 microsecs\n",
            "\tItem 49981100 appears at index 999995\n"
          ]
        }
      ]
    },
    {
      "cell_type": "markdown",
      "source": [
        "## 'ppp' Exercises"
      ],
      "metadata": {
        "id": "TzkFTmbvmcKF"
      }
    },
    {
      "cell_type": "markdown",
      "source": [
        "### Q1"
      ],
      "metadata": {
        "id": "yIlBVSOuoyP6"
      }
    },
    {
      "cell_type": "markdown",
      "source": [
        "Implement `pow(x, n)`, which calculates `x` raised to the power `n` (i.e., x^n)."
      ],
      "metadata": {
        "id": "PXJhmXrRozNT"
      }
    },
    {
      "cell_type": "code",
      "source": [
        "# O(N) -> O(logN)\n",
        "# Divide & Conquer\n",
        "def pow(x, n):\n",
        "  '''\n",
        "  >>> pow(2.00000, 10)\n",
        "  1024.0\n",
        "  >>> pow(2.10000, 3)\n",
        "  9.261000000000001\n",
        "  >>> pow(2.00000, -2)\n",
        "  0.25\n",
        "  '''\n",
        "  if n == 0:\n",
        "    return 1\n",
        "  if n == 1:\n",
        "    return x\n",
        "  if n < 0:\n",
        "    return 1 / pow(x, -n) # pow(x, n) == 1 / pow(x, -n)\n",
        "\n",
        "  dev = pow(x, n//2)\n",
        "\n",
        "  if n % 2 == 0:\n",
        "    return dev * dev\n",
        "  if n % 2 == 1:\n",
        "    return dev * dev * x\n"
      ],
      "metadata": {
        "id": "WuwQ1VgGozfz"
      },
      "execution_count": 11,
      "outputs": []
    },
    {
      "cell_type": "code",
      "source": [
        "doctest.run_docstring_examples(pow, globals(), False, __name__)"
      ],
      "metadata": {
        "id": "fTwjaLq8pT72",
        "colab": {
          "base_uri": "https://localhost:8080/"
        },
        "outputId": "29dd5444-1e97-4de9-dd52-a66d1035c7e2"
      },
      "execution_count": 12,
      "outputs": [
        {
          "output_type": "stream",
          "name": "stderr",
          "text": [
            "\n",
            "PYDEV DEBUGGER WARNING:\n",
            "sys.settrace() should not be used when the debugger is being used.\n",
            "This may cause the debugger to stop working correctly.\n",
            "If this is needed, please check: \n",
            "http://pydev.blogspot.com/2007/06/why-cant-pydev-debugger-work-with.html\n",
            "to see how to restore the debug tracing back correctly.\n",
            "Call Location:\n",
            "  File \"/usr/lib/python3.10/doctest.py\", line 1501, in run\n",
            "    sys.settrace(save_trace)\n",
            "\n"
          ]
        }
      ]
    },
    {
      "cell_type": "markdown",
      "source": [
        "### Q2"
      ],
      "metadata": {
        "id": "iLiGw8VqmhXW"
      }
    },
    {
      "cell_type": "markdown",
      "source": [
        "[MS & VMWare] Given a non-negative integer `x`, compute and return the square root of `x`.\n",
        "\n",
        "Since the return type is an integer, the decimal digits are truncated, and only the integer part of the result is returned.\n",
        "\n",
        "Note: You are not allowed to use any built-in exponent function or operator, such as `pow(x, 0.5)` or `x ** 0.5`."
      ],
      "metadata": {
        "id": "E_kv34rPmi4p"
      }
    },
    {
      "cell_type": "code",
      "source": [
        "def sqrt_custom(x):\n",
        "  '''\n",
        "  >>> sqrt_custom(4)\n",
        "  2\n",
        "  >>> sqrt_custom(8)\n",
        "  2\n",
        "  >>> sqrt_custom(16)\n",
        "  4\n",
        "  >>> sqrt_custom(24)\n",
        "  4\n",
        "  '''\n",
        "  i = 0\n",
        "  j = x\n",
        "\n",
        "  while i <= j:\n",
        "    mid = (i+j) // 2\n",
        "\n",
        "    if x > mid**2:\n",
        "      i = mid + 1\n",
        "\n",
        "    elif x < mid**2:\n",
        "      j = mid - 1\n",
        "\n",
        "    else:\n",
        "      return mid\n",
        "\n",
        "  # 24 case 를 보게되면, 최종적으로 (4,5) -> (5,5) -> (5,4) 로 이루어질 것 -> j 를 return 하는 게 맞음\n",
        "  return j\n"
      ],
      "metadata": {
        "id": "6yHd4nA3mfjz"
      },
      "execution_count": 49,
      "outputs": []
    },
    {
      "cell_type": "code",
      "source": [
        "doctest.run_docstring_examples(sqrt_custom, globals(), False, __name__)"
      ],
      "metadata": {
        "id": "A0kJ3dzqplS3"
      },
      "execution_count": 50,
      "outputs": []
    },
    {
      "cell_type": "markdown",
      "source": [
        "### Q3"
      ],
      "metadata": {
        "id": "k27B6GmyppOk"
      }
    },
    {
      "cell_type": "markdown",
      "source": [
        "[Adobe] There is an integer array `nums` sorted in ascending order (with **distinct** values).\n",
        "\n",
        "Prior to being passed to your function, `nums` is **possibly rotated** at an unknown pivot index `k` `(1 <= k < nums.length)` such that the resulting array is `[nums[k], nums[k+1], ..., nums[n-1], nums[0], nums[1], ..., nums[k-1]]` (0-indexed). For example, `[0,1,2,4,5,6,7]` might be rotated at pivot index `3` and become `[4,5,6,7,0,1,2]`.\n",
        "\n",
        "Given the array `nums` after the possible rotation and an integer `target`, return the index of `target` if it is in `nums`, or -1 if it is not in `nums`.\n",
        "\n",
        "You must write an algorithm with `O(log n)` runtime complexity."
      ],
      "metadata": {
        "id": "JG0rfvN9pqe8"
      }
    },
    {
      "cell_type": "code",
      "source": [
        "def search(nums, target):\n",
        "  '''\n",
        "  >>> search([4, 5, 6, 7, 0, 1, 2], 0)\n",
        "  4\n",
        "  >>> search([4, 5, 6, 7, 0, 1, 2], 3)\n",
        "  -1\n",
        "  >>> search([1], 0)\n",
        "  -1\n",
        "  '''\n",
        "\n",
        "  # 배열을 절반씩 나누어서, 왼쪽 오른쪽 중 정렬된 부분에서만 target 값이 존재하는지 확인하고, 있으면 binary search 없으면 그냥 후퇴\n",
        "\n",
        "  left, right = 0, len(nums) - 1\n",
        "\n",
        "  while left <= right:\n",
        "      mid = (left + right) // 2\n",
        "\n",
        "      if nums[mid] == target:\n",
        "          return mid\n",
        "\n",
        "\n",
        "      # 왼쪽 array 가 sorted 되어 있는 경우\n",
        "      if nums[left] <= nums[mid]:\n",
        "\n",
        "          if nums[left] <= target < nums[mid]: # target 이 왼쪽에 있는지 확인\n",
        "              right = mid - 1\n",
        "          else:\n",
        "              left = mid + 1 # 없다면, 오른쪽에 있구나\n",
        "\n",
        "\n",
        "      # 오른쪽 array 가 sorted 되어 있는 경우\n",
        "      else:\n",
        "          if nums[mid] < target <= nums[right]: # 오른쪽에 target 이 있나?\n",
        "              left = mid + 1\n",
        "          else:\n",
        "              right = mid - 1 # 없다면, 왼쪽에 있구나\n",
        "\n",
        "  return -1\n",
        "\n",
        "\n",
        "\n"
      ],
      "metadata": {
        "id": "P3nP-zouqMAx"
      },
      "execution_count": 55,
      "outputs": []
    },
    {
      "cell_type": "code",
      "source": [
        "doctest.run_docstring_examples(search, globals(), False, __name__)"
      ],
      "metadata": {
        "id": "hj1t1lNMmHhg"
      },
      "execution_count": 56,
      "outputs": []
    },
    {
      "cell_type": "code",
      "source": [],
      "metadata": {
        "id": "fJ7aCXSM-93x"
      },
      "execution_count": null,
      "outputs": []
    }
  ]
}