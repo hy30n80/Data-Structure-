{
  "nbformat": 4,
  "nbformat_minor": 0,
  "metadata": {
    "colab": {
      "provenance": [],
      "include_colab_link": true
    },
    "kernelspec": {
      "name": "python3",
      "display_name": "Python 3"
    },
    "language_info": {
      "name": "python"
    }
  },
  "cells": [
    {
      "cell_type": "markdown",
      "metadata": {
        "id": "view-in-github",
        "colab_type": "text"
      },
      "source": [
        "<a href=\"https://colab.research.google.com/github/hy30n80/Data-Structure-/blob/main/Python_primer_2.ipynb\" target=\"_parent\"><img src=\"https://colab.research.google.com/assets/colab-badge.svg\" alt=\"Open In Colab\"/></a>"
      ]
    },
    {
      "cell_type": "markdown",
      "source": [
        "# EC2202 Python Primer (cont'd)"
      ],
      "metadata": {
        "id": "_mdzNJiCaHTv"
      }
    },
    {
      "cell_type": "markdown",
      "source": [
        "## Student Information"
      ],
      "metadata": {
        "id": "1WSES3dclsy0"
      }
    },
    {
      "cell_type": "markdown",
      "source": [
        "* Student ID: YOUR ID\n",
        "* Name: YOUR NAME"
      ],
      "metadata": {
        "id": "X8jw0a9flsDQ"
      }
    },
    {
      "cell_type": "markdown",
      "source": [
        "**Disclaimer.**\n",
        "This Python primer is based on\n",
        "\n",
        "1. [Stanford CS231n Python Tutorial](https://colab.research.google.com/github/cs231n/cs231n.github.io/blob/master/python-colab.ipynb)\n",
        "2. [LearnPython.org](https://www.learnpython.org/en/Welcome)"
      ],
      "metadata": {
        "id": "VBD747fVdITe"
      }
    },
    {
      "cell_type": "markdown",
      "source": [
        "## Introduction"
      ],
      "metadata": {
        "id": "2bJ0e5jyYljo"
      }
    },
    {
      "cell_type": "markdown",
      "source": [
        "In this Python primer (cont'd), we will cover:\n",
        "* Containers\n",
        "* Functions\n",
        "* Map, filter and reduce\n",
        "* Higher order functions\n",
        "* Style guide for python code"
      ],
      "metadata": {
        "id": "3bV5oaSLYda3"
      }
    },
    {
      "cell_type": "code",
      "source": [
        "%%HTML\n",
        "<iframe width=\"560\" height=\"315\" src=\"https://www.youtube.com/embed/RbBMn-868iQ\" title=\"YouTube video player\" frameborder=\"0\" allowfullscreen></iframe>\n",
        "<iframe width=\"560\" height=\"315\" src=\"https://www.youtube.com/embed/_0-2NMPUViM\" title=\"YouTube video player\" frameborder=\"0\" allowfullscreen></iframe>"
      ],
      "metadata": {
        "colab": {
          "base_uri": "https://localhost:8080/",
          "height": 336
        },
        "id": "tfk6Mp6Ghz3d",
        "outputId": "13dcbdc0-cab6-4b90-e983-8cf56c1ed13d"
      },
      "execution_count": null,
      "outputs": [
        {
          "output_type": "display_data",
          "data": {
            "text/plain": [
              "<IPython.core.display.HTML object>"
            ],
            "text/html": [
              "<iframe width=\"560\" height=\"315\" src=\"https://www.youtube.com/embed/RbBMn-868iQ\" title=\"YouTube video player\" frameborder=\"0\" allowfullscreen></iframe>\n",
              "<iframe width=\"560\" height=\"315\" src=\"https://www.youtube.com/embed/_0-2NMPUViM\" title=\"YouTube video player\" frameborder=\"0\" allowfullscreen></iframe>\n"
            ]
          },
          "metadata": {}
        }
      ]
    },
    {
      "cell_type": "markdown",
      "source": [
        "## Containers\n"
      ],
      "metadata": {
        "id": "Gphnno46cRA4"
      }
    },
    {
      "cell_type": "markdown",
      "source": [
        "Python includes several built-in container types: lists, dictionaries, sets, and tuples. We will start with list comprehensions."
      ],
      "metadata": {
        "id": "MKYcDX1uYsty"
      }
    },
    {
      "cell_type": "markdown",
      "source": [
        "### Lists: Skip this part"
      ],
      "metadata": {
        "id": "5u-0xRPpgzZ-"
      }
    },
    {
      "cell_type": "code",
      "source": [
        "# Slicing\n",
        "odds = [3, 5, 7, 9, 11]\n",
        "a_list = list(range(1, 5))\n",
        "print(len([odds[i] for i in range(1, 5)]))\n",
        "print(max(a_list))\n",
        "print(min(a_list))\n",
        "\n",
        "# Aggregation\n",
        "print(sum(odds))\n",
        "print(sum({3:9, 5:25}))\n",
        "max(range(10))\n",
        "max(range(10), key=lambda x: 7 - (x-2)*(x-4))\n",
        "all([x < 5 for x in range(5)])\n",
        "perfect_square = lambda x: x == round(x ** 0.5) ** 2\n",
        "any([perfect_square(x) for x in range(50, 60)])"
      ],
      "metadata": {
        "id": "6qwcozUpg0lX"
      },
      "execution_count": null,
      "outputs": []
    },
    {
      "cell_type": "markdown",
      "source": [
        "### List Comprehensions"
      ],
      "metadata": {
        "id": "UuDiOkt_iUiZ"
      }
    },
    {
      "cell_type": "markdown",
      "source": [
        "When programming, frequently we want to transform one type of data into another. As a simple example, consider the following code that computes square numbers:"
      ],
      "metadata": {
        "id": "_57V5vsCiWYB"
      }
    },
    {
      "cell_type": "code",
      "source": [
        "nums = [0, 1, 2, 3, 4]\n",
        "squares = []\n",
        "for x in nums:\n",
        "    squares.append(x ** 2)\n",
        "print(squares)"
      ],
      "metadata": {
        "id": "-Eih04VwiX5C"
      },
      "execution_count": null,
      "outputs": []
    },
    {
      "cell_type": "markdown",
      "source": [
        "You can make this code simpler using a list comprehension:"
      ],
      "metadata": {
        "id": "iUq8ATWviZVL"
      }
    },
    {
      "cell_type": "code",
      "source": [
        "nums = [0, 1, 2, 3, 4]\n",
        "squares = [x ** 2 for x in nums]\n",
        "print(squares)"
      ],
      "metadata": {
        "id": "5CmEJDNMicJK"
      },
      "execution_count": null,
      "outputs": []
    },
    {
      "cell_type": "markdown",
      "source": [
        "List comprehensions can also contain conditions:"
      ],
      "metadata": {
        "id": "g165-QM7id1O"
      }
    },
    {
      "cell_type": "code",
      "source": [
        "nums = [0, 1, 2, 3, 4]\n",
        "even_squares = [x ** 2 for x in nums if x % 2 == 0]\n",
        "print(even_squares)"
      ],
      "metadata": {
        "id": "sxjYud-8ifum"
      },
      "execution_count": null,
      "outputs": []
    },
    {
      "cell_type": "markdown",
      "source": [
        "Another example:"
      ],
      "metadata": {
        "id": "FMmBZ0bLitdw"
      }
    },
    {
      "cell_type": "code",
      "source": [
        "sentence = \"the quick brown fox jumps over the lazy dog\"\n",
        "words = sentence.split()\n",
        "word_lengths = []\n",
        "for word in words:\n",
        "      if word != \"the\":\n",
        "          word_lengths.append(len(word))\n",
        "print(words)\n",
        "print(word_lengths)"
      ],
      "metadata": {
        "id": "Q1_M8OQXiu-G"
      },
      "execution_count": null,
      "outputs": []
    },
    {
      "cell_type": "code",
      "source": [
        "sentence = \"the quick brown fox jumps over the lazy dog\"\n",
        "words = sentence.split()\n",
        "word_lengths = [len(word) for word in words if word != \"the\"]\n",
        "print(words)\n",
        "print(word_lengths)"
      ],
      "metadata": {
        "id": "3bE1P-FYiwjV"
      },
      "execution_count": null,
      "outputs": []
    },
    {
      "cell_type": "markdown",
      "source": [
        "You can also iterate over two iterables as follows"
      ],
      "metadata": {
        "id": "ZibDyBOPikUG"
      }
    },
    {
      "cell_type": "code",
      "source": [
        "seq_x = [1, 2, 3, 4]\n",
        "seq_y = 'abc'\n",
        "print([(x,y) for x in seq_x for y in seq_y])"
      ],
      "metadata": {
        "id": "il7i57l7iocj"
      },
      "execution_count": null,
      "outputs": []
    },
    {
      "cell_type": "markdown",
      "source": [
        "It also supports both “if” statements and referencing the outer iterator from the inner one, like so:"
      ],
      "metadata": {
        "id": "P3NwRBrdixfZ"
      }
    },
    {
      "cell_type": "code",
      "source": [
        "text_in_text = [[\"Hello\", \"World!\"], [\"Lets\", \"Eat!\"]]\n",
        "print([word for words in text_in_text for word in words])"
      ],
      "metadata": {
        "id": "amyHcZJQjxV7"
      },
      "execution_count": null,
      "outputs": []
    },
    {
      "cell_type": "markdown",
      "source": [
        "**WWPP Question**"
      ],
      "metadata": {
        "id": "qNEoYEyTjVTl"
      }
    },
    {
      "cell_type": "code",
      "source": [
        "seq = ['abc', 'def', 'g', 'hi']\n",
        "# seq = [['a', 'b', 'c'], ['d', 'e', 'f'], ['g'], ['h', 'i']]\n",
        "print([y for x in seq if len(x) > 1 for y in x if y != 'e'])"
      ],
      "metadata": {
        "id": "7oEAkvO2i0pO"
      },
      "execution_count": null,
      "outputs": []
    },
    {
      "cell_type": "markdown",
      "source": [
        "**Practice Questions**\n",
        "\n",
        "Q1) Find all numbers from 1 to 100 that are divisible by 7\n",
        "\n",
        "Q2) Find all numbers from 1 to 100 that have a 3 in them\n",
        "\n",
        "Q3) Count the number of spaces in \"the quick brown fox jumps over the lazy dog\"\n",
        "\n",
        "Q4) Create a list of all the consonants in the string \"Yellow Yaks like yelling and yawning and yesturday they yodled while eating yuky yams\"\n",
        "\n",
        "Q5) Find the common items in two lists\n",
        "- list_a = [1, 2, 3, 4, 5, 7, 10]\n",
        "- list_b = [3, 7, 8, 9, 11, 12]\n",
        "\n"
      ],
      "metadata": {
        "id": "m5cnrdiUgUMW"
      }
    },
    {
      "cell_type": "code",
      "source": [
        "q1 = [n for n in range(1,101) if n % 7 == 0]\n",
        "q2 = [n for n in range(1,101) if '3' in str(n)]\n",
        "q3 = sum([1 for l in \"the quick brown fox jumps over the lazy dog\" if l == ' '])\n",
        "q4 = [l for l in sentence if l not in 'a,e,i,o,u, \" \"']\n",
        "q5 = [a for a in list_a if a in list_b]"
      ],
      "metadata": {
        "id": "pFXf08vzhzma"
      },
      "execution_count": null,
      "outputs": []
    },
    {
      "cell_type": "code",
      "source": [
        "%%HTML\n",
        "<iframe width=\"560\" height=\"315\" src=\"https://www.youtube.com/embed/F-oayUtAgfM\" title=\"YouTube video player\" frameborder=\"0\" allowfullscreen></iframe>\n",
        "<iframe width=\"560\" height=\"315\" src=\"https://www.youtube.com/embed/t2MchlFNptE\" title=\"YouTube video player\" frameborder=\"0\" allowfullscreen></iframe>"
      ],
      "metadata": {
        "colab": {
          "base_uri": "https://localhost:8080/",
          "height": 336
        },
        "id": "rdYZ1y80id2a",
        "outputId": "4e765edc-7740-43c0-a925-9e8e693696be"
      },
      "execution_count": null,
      "outputs": [
        {
          "output_type": "display_data",
          "data": {
            "text/plain": [
              "<IPython.core.display.HTML object>"
            ],
            "text/html": [
              "<iframe width=\"560\" height=\"315\" src=\"https://www.youtube.com/embed/F-oayUtAgfM\" title=\"YouTube video player\" frameborder=\"0\" allowfullscreen></iframe>\n",
              "<iframe width=\"560\" height=\"315\" src=\"https://www.youtube.com/embed/t2MchlFNptE\" title=\"YouTube video player\" frameborder=\"0\" allowfullscreen></iframe>\n"
            ]
          },
          "metadata": {}
        }
      ]
    },
    {
      "cell_type": "markdown",
      "source": [
        "### Dictionaries"
      ],
      "metadata": {
        "id": "YPiJN6eIi3bd"
      }
    },
    {
      "cell_type": "markdown",
      "source": [
        "A dictionary is a data type similar to arrays, but works with (key, value) pairs, similar to a `Map` in Java or an `object` in Javascript. Each value stored in a dictionary can be accessed using a key, which is any type of object (a string, a number, a list, etc.) instead of using its index to address it."
      ],
      "metadata": {
        "id": "3rzSmQGdi4rL"
      }
    },
    {
      "cell_type": "code",
      "source": [
        "d = {'cat': 'cute', 'dog': 'furry'}  # Create a new dictionary with some data\n",
        "print(d['cat'])                      # Get an entry from a dictionary; prints \"cute\"\n",
        "print('cat' in d)                    # Check if a dictionary has a given key; prints \"True\""
      ],
      "metadata": {
        "id": "PS6J_mZDjNjD"
      },
      "execution_count": null,
      "outputs": []
    },
    {
      "cell_type": "code",
      "source": [
        "d['fish'] = 'wet'  # Set an entry in a dictionary\n",
        "print(d['fish'])   # Prints \"wet\""
      ],
      "metadata": {
        "id": "yJx9ZpK1jNbw"
      },
      "execution_count": null,
      "outputs": []
    },
    {
      "cell_type": "code",
      "source": [
        "print(d['monkey'])  # KeyError: 'monkey' not a key of d"
      ],
      "metadata": {
        "id": "okqujqwAjRiE"
      },
      "execution_count": null,
      "outputs": []
    },
    {
      "cell_type": "code",
      "source": [
        "print(d.get('monkey', 'N/A'))  # Get an element with a default; prints \"N/A\"\n",
        "print(d.get('fish', 'N/A'))    # Get an element with a default; prints \"wet\"\n",
        "print(d)"
      ],
      "metadata": {
        "id": "rtBIlVXXjVOU"
      },
      "execution_count": null,
      "outputs": []
    },
    {
      "cell_type": "code",
      "source": [
        "numerals = {'I': 1, 'V': 5, 'X': 10}\n",
        "numerals['X']\n",
        "# numerals['X-ray']\n",
        "# numerals[10]\n",
        "len(numerals)\n",
        "list(numerals)\n",
        "numerals.values()\n",
        "list(numerals.values())\n",
        "sum(numerals.values())\n",
        "dict([[3, 9], [4, 16]]\n",
        "numerals.get('X', 0)\n",
        "numerals.get('X-ray', 0)\n",
        "{1: 2, 1: 3}\n",
        "{[1]: 2}\n",
        "{1: [2]}"
      ],
      "metadata": {
        "id": "29thE01ohWkP"
      },
      "execution_count": null,
      "outputs": []
    },
    {
      "cell_type": "markdown",
      "source": [
        "To remove a specified index, use either one of the following notations:"
      ],
      "metadata": {
        "id": "UOsK3T0Wjsc9"
      }
    },
    {
      "cell_type": "code",
      "source": [
        "del d['fish']        # Remove an element from a dictionary\n",
        "# d.pop('fish')\n",
        "print(d)\n",
        "print(d.get('fish', 'N/A')) # \"fish\" is no longer a key; prints \"N/A\"\n",
        "print(d)"
      ],
      "metadata": {
        "id": "lxwy09uijXkD"
      },
      "execution_count": null,
      "outputs": []
    },
    {
      "cell_type": "markdown",
      "source": [
        "You can find all you need to know about dictionaries in the [documentation](https://docs.python.org/2/library/stdtypes.html#dict)."
      ],
      "metadata": {
        "id": "gyt7GS5-jci1"
      }
    },
    {
      "cell_type": "markdown",
      "source": [
        "It is easy to iterate over the keys in a dictionary:"
      ],
      "metadata": {
        "id": "ADRHOrDNjnAL"
      }
    },
    {
      "cell_type": "code",
      "source": [
        "d = {'person': 2, 'cat': 4, 'spider': 8}\n",
        "for animal, legs in d.items():\n",
        "    print('A {} has {} legs'.format(animal, legs))"
      ],
      "metadata": {
        "id": "eJ7nGTg3jdAm"
      },
      "execution_count": null,
      "outputs": []
    },
    {
      "cell_type": "markdown",
      "source": [
        "Dictionary comprehensions: These are similar to list comprehensions, but allow you to easily construct dictionaries. For example:"
      ],
      "metadata": {
        "id": "3JgQTrT3jpEJ"
      }
    },
    {
      "cell_type": "code",
      "source": [
        "nums = [0, 1, 2, 3, 4]\n",
        "even_num_to_square = {x: x ** 2 for x in nums if x % 2 == 0}\n",
        "print(even_num_to_square)"
      ],
      "metadata": {
        "id": "9sadCVV8jqrj"
      },
      "execution_count": null,
      "outputs": []
    },
    {
      "cell_type": "markdown",
      "source": [
        "### Sets"
      ],
      "metadata": {
        "id": "ifRIXNgpm7Rf"
      }
    },
    {
      "cell_type": "markdown",
      "source": [
        "A set is an unordered collection of distinct elements. As a simple example, consider the following:"
      ],
      "metadata": {
        "id": "CQ8UlYfSm8Ud"
      }
    },
    {
      "cell_type": "code",
      "source": [
        "animals = {'cat', 'dog'}\n",
        "print('cat' in animals)   # Check if an element is in a set; prints \"True\"\n",
        "print('fish' in animals)  # prints \"False\""
      ],
      "metadata": {
        "id": "f-6pEEz8m_0U"
      },
      "execution_count": null,
      "outputs": []
    },
    {
      "cell_type": "code",
      "source": [
        "animals.add('fish')      # Add an element to a set\n",
        "print('fish' in animals)\n",
        "print(len(animals))       # Number of elements in a set;"
      ],
      "metadata": {
        "id": "94yo11mAnBf4"
      },
      "execution_count": null,
      "outputs": []
    },
    {
      "cell_type": "code",
      "source": [
        "animals.add('cat')       # Adding an element that is already in the set does nothing\n",
        "print(len(animals))\n",
        "animals.remove('cat')    # Remove an element from a set\n",
        "print(len(animals))"
      ],
      "metadata": {
        "id": "UGEcCBMTnB6p"
      },
      "execution_count": null,
      "outputs": []
    },
    {
      "cell_type": "markdown",
      "source": [
        "Loops: Iterating over a set has the same syntax as iterating over a list; however since sets are unordered, you cannot make assumptions about the order in which you visit the elements of the set:"
      ],
      "metadata": {
        "id": "kjaA2F5ZnDsf"
      }
    },
    {
      "cell_type": "code",
      "source": [
        "animals = {'cat', 'dog', 'fish'}\n",
        "for idx, animal in enumerate(animals):\n",
        "    print('#{}: {}'.format(idx + 1, animal))"
      ],
      "metadata": {
        "id": "WQm9MT9InFgh"
      },
      "execution_count": null,
      "outputs": []
    },
    {
      "cell_type": "markdown",
      "source": [
        "Set comprehensions: Like lists and dictionaries, we can easily construct sets using set comprehensions:"
      ],
      "metadata": {
        "id": "gb5S58m0nHaZ"
      }
    },
    {
      "cell_type": "code",
      "source": [
        "from math import sqrt\n",
        "print({int(sqrt(x)) for x in range(30)})"
      ],
      "metadata": {
        "id": "xDAhuLFtnJ8E"
      },
      "execution_count": null,
      "outputs": []
    },
    {
      "cell_type": "markdown",
      "source": [
        "### Tuples"
      ],
      "metadata": {
        "id": "SxsTW9UsnNBd"
      }
    },
    {
      "cell_type": "markdown",
      "source": [
        "A tuple is an (***immutable***) ordered list of values. A tuple is in many ways similar to a list; one of the most important differences is that tuples can be used as keys in dictionaries and as elements of sets, while lists cannot. Here is a trivial example:"
      ],
      "metadata": {
        "id": "BHyP79WSnPbM"
      }
    },
    {
      "cell_type": "code",
      "source": [
        "d = {(x, x + 1): x for x in range(10)}  # Create a dictionary with tuple keys\n",
        "t = (5, 6)       # Create a tuple\n",
        "print(type(t))\n",
        "print(d[t])\n",
        "print(d[(1, 2)])"
      ],
      "metadata": {
        "id": "S-DwNp15nRQo"
      },
      "execution_count": null,
      "outputs": []
    },
    {
      "cell_type": "code",
      "source": [
        "t[0] = 1"
      ],
      "metadata": {
        "id": "zFtGnar8nTZR"
      },
      "execution_count": null,
      "outputs": []
    },
    {
      "cell_type": "markdown",
      "source": [
        "## Functions\n"
      ],
      "metadata": {
        "id": "6rjaNOSScO1b"
      }
    },
    {
      "cell_type": "markdown",
      "source": [
        "Python functions are defined using the `def` keyword. For example:"
      ],
      "metadata": {
        "id": "o6IxVX3XpurN"
      }
    },
    {
      "cell_type": "code",
      "source": [
        "def sign(x):\n",
        "    if x > 0:\n",
        "        return 'positive'\n",
        "    elif x < 0:\n",
        "        return 'negative'\n",
        "    else:\n",
        "        return 'zero'\n",
        "\n",
        "for x in [-1, 0, 1]:\n",
        "    print(sign(x))"
      ],
      "metadata": {
        "id": "av2gLlLWpvSm"
      },
      "execution_count": null,
      "outputs": []
    },
    {
      "cell_type": "markdown",
      "source": [
        "We will often define functions to take optional keyword arguments, like this:"
      ],
      "metadata": {
        "id": "13ICiO8wp0SX"
      }
    },
    {
      "cell_type": "code",
      "source": [
        "def hello(name, loud=False):\n",
        "    if loud:\n",
        "        print('HELLO, {}'.format(name.upper()))\n",
        "    else:\n",
        "        print('Hello, {}!'.format(name))\n",
        "\n",
        "hello('Bob')\n",
        "hello('Fred', loud=True)"
      ],
      "metadata": {
        "id": "PRwNSVO5p1B5"
      },
      "execution_count": null,
      "outputs": []
    },
    {
      "cell_type": "markdown",
      "source": [
        "**WWPP Question**"
      ],
      "metadata": {
        "id": "EM_XKX7mk-r6"
      }
    },
    {
      "cell_type": "code",
      "source": [
        "def bake(cake, make):\n",
        "  if cake == 0:\n",
        "    cake = cake + 1\n",
        "    print(cake)\n",
        "  if cake == 1:\n",
        "    print(make)\n",
        "  else:\n",
        "    return cake\n",
        "  return make\n",
        "\n",
        "print(bake(0, 29))\n",
        "print(bake(1, \"mashed potatoes\"))"
      ],
      "metadata": {
        "id": "VL_KOS8flBCH"
      },
      "execution_count": null,
      "outputs": []
    },
    {
      "cell_type": "code",
      "source": [
        "%%HTML\n",
        "<iframe width=\"560\" height=\"315\" src=\"https://www.youtube.com/embed/mt9Ox2bdv58\" title=\"YouTube video player\" frameborder=\"0\" allowfullscreen></iframe>\n",
        "<iframe width=\"560\" height=\"315\" src=\"https://www.youtube.com/embed/Xn_sESmq1T4\" title=\"YouTube video player\" frameborder=\"0\" allowfullscreen></iframe>"
      ],
      "metadata": {
        "colab": {
          "base_uri": "https://localhost:8080/",
          "height": 336
        },
        "id": "EPfZnttCjDpM",
        "outputId": "8537c42d-58fe-49bc-8737-b5ce386d34e5"
      },
      "execution_count": null,
      "outputs": [
        {
          "output_type": "display_data",
          "data": {
            "text/plain": [
              "<IPython.core.display.HTML object>"
            ],
            "text/html": [
              "<iframe width=\"560\" height=\"315\" src=\"https://www.youtube.com/embed/mt9Ox2bdv58\" title=\"YouTube video player\" frameborder=\"0\" allowfullscreen></iframe>\n",
              "<iframe width=\"560\" height=\"315\" src=\"https://www.youtube.com/embed/Xn_sESmq1T4\" title=\"YouTube video player\" frameborder=\"0\" allowfullscreen></iframe>\n"
            ]
          },
          "metadata": {}
        }
      ]
    },
    {
      "cell_type": "markdown",
      "source": [
        "We generally let a function do one task. This is sometimes called *modular design* or DRY (don't repeat yourself!)."
      ],
      "metadata": {
        "id": "ZO3Ir7AoeBib"
      }
    },
    {
      "cell_type": "code",
      "source": [
        "def same_length(a, b):\n",
        "    \"\"\"Return whether positive integers a and b have the same number of digits.\n",
        "\n",
        "    >>> same_length(50, 70)\n",
        "    True\n",
        "    >>> same_length(50, 100)\n",
        "    False\n",
        "    >>> same_length(1000, 100000)\n",
        "    False\n",
        "    \"\"\"\n",
        "    return num_digits(a) == num_digits(b)\n",
        "    # a_digits = 0\n",
        "    # while a > 0:\n",
        "    #     a = a // 10\n",
        "    #     a_digits = a_digits + 1\n",
        "    # b_digits = 0\n",
        "    # while b > 0:\n",
        "    #     b = b // 10\n",
        "    #     b_digits = b_digits + 1\n",
        "    # return a_digits == b_digits\n",
        "\n",
        "\n",
        "def num_digits(a):\n",
        "    a_digits = 0\n",
        "    while a > 0:\n",
        "        a = a // 10\n",
        "        a_digits = a_digits + 1\n",
        "    return a_digits"
      ],
      "metadata": {
        "id": "GuYkr5zheM4J"
      },
      "execution_count": null,
      "outputs": []
    },
    {
      "cell_type": "markdown",
      "source": [
        "## Map, Filter and Reduce"
      ],
      "metadata": {
        "id": "3OiKCWgMbxSh"
      }
    },
    {
      "cell_type": "markdown",
      "source": [
        "Map, Filter, and Reduce are paradigms of functional programming. They allow the programmer (you) to write simpler, shorter code, without neccessarily needing to bother about intricacies like loops and branching.\n",
        "\n",
        "Essentially, these three functions allow you to apply a function across a number of iterables, in one fell swoop. `map` and `filter` come built-in with Python (in the \\_\\_builtins\\_\\_ module) and require no importing. `reduce`, however, needs to be imported as it resides in the `functools` module. Let's get a better understanding of how they all work, starting with `map`."
      ],
      "metadata": {
        "id": "rf11JL_0Rsf3"
      }
    },
    {
      "cell_type": "markdown",
      "source": [
        "### `map`"
      ],
      "metadata": {
        "id": "A1lfDA1BSBxW"
      }
    },
    {
      "cell_type": "markdown",
      "source": [
        "The `map()` function in python has the following syntax:\n",
        "\n",
        "`map(func, *iterables)`\n",
        "\n",
        "Where `func` is the function on which each element in `iterables` (as many as they are) would be applied on. Notice the asterisk(`*`) on `iterables`? It means there can be as many iterables as possible, in so far `func` has that exact number as required input arguments. Before we move on to an example, it's important that you note the following:\n",
        "\n",
        "1. In Python 2, the `map()` function returns a list. In Python 3, however, the function returns a `map object` which is a generator object. To get the result as a list, the built-in `list()` function can be called on the map object. i.e. list(map(func, *iterables))\n",
        "2. The number of arguments to `func` must be the number of `iterables` listed.\n",
        "Let's see how these rules play out with the following examples.\n",
        "\n",
        "Say I have a list (`iterable`) of my favourite pet names, all in lower case and I need them in uppercase. Traditonally, in normal pythoning, I would do something like this:"
      ],
      "metadata": {
        "id": "XX82RffISKL7"
      }
    },
    {
      "cell_type": "code",
      "source": [
        "my_pets = ['alfred', 'tabitha', 'william', 'arla']\n",
        "uppered_pets = []\n",
        "\n",
        "for pet in my_pets:\n",
        "    pet_ = pet.upper()\n",
        "    uppered_pets.append(pet_)\n",
        "\n",
        "print(uppered_pets)"
      ],
      "metadata": {
        "id": "uFb8VqFUSsXY"
      },
      "execution_count": null,
      "outputs": []
    },
    {
      "cell_type": "markdown",
      "source": [
        "With `map()` functions, it's not only easier, but it's also much more flexible. I simply do this:"
      ],
      "metadata": {
        "id": "13q1XRkZSw4E"
      }
    },
    {
      "cell_type": "code",
      "source": [
        "def str_uppper(string):\n",
        "  return string.upper()\n",
        "\n",
        "my_pets = ['alfred', 'tabitha', 'william', 'arla']\n",
        "uppered_pets = list(map(str_uppper, my_pets))\n",
        "\n",
        "print(uppered_pets)"
      ],
      "metadata": {
        "id": "uoVKmkdPnwvG"
      },
      "execution_count": null,
      "outputs": []
    },
    {
      "cell_type": "code",
      "source": [
        "my_pets = ['alfred', 'tabitha', 'william', 'arla']\n",
        "uppered_pets = list(map(str.upper, my_pets))\n",
        "\n",
        "print(uppered_pets)"
      ],
      "metadata": {
        "id": "w0JWdV3rS2s9"
      },
      "execution_count": null,
      "outputs": []
    },
    {
      "cell_type": "markdown",
      "source": [
        "Note that using the defined `map()` syntax above, `func` in this case is `str.upper` and `iterables` is the `my_pets` list -- just one iterable. Also note that we did not call the `str.upper` function (doing this: `str.upper()`), as the map function does that for us on each element in the `my_pets` list.\n",
        "\n",
        "What's more important to note is that the `str.upper` function requires only one argument by definition and so we passed just one iterable to it. So, if the function you're passing requires two, or three, or n arguments, then you need to pass in two, three or n iterables to it. Let me clarify this with another example.\n",
        "\n",
        "Say I have a list of circle areas that I calculated somewhere, all in five decimal places. And I need to round each element in the list up to its position decimal places, meaning that I have to round up the first element in the list to one decimal place, the second element in the list to two decimal places, the third element in the list to three decimal places, etc. With `map()` this is a piece of cake. Let's see how.\n",
        "\n",
        "Python already blesses us with the `round()` built-in function that takes two arguments -- the number to round up and the number of decimal places to round the number up to. So, since the function requires two arguments, we need to pass in **two** iterables."
      ],
      "metadata": {
        "id": "sq29TuKLp3ZA"
      }
    },
    {
      "cell_type": "code",
      "source": [
        "print(round(3.1415923123, 1))\n",
        "print(round(3.1415923123, 3))\n",
        "print(round(3.1415923123, 5))\n",
        "\n",
        "circle_areas = [3.56773, 5.57668, 4.00914, 56.24241, 9.01344, 32.00013]\n",
        "result = list(map(round, circle_areas, range(1, 7)))\n",
        "print(result)\n",
        "\n",
        "result = list(map(round, circle_areas, [5] * 6))\n",
        "print(result)"
      ],
      "metadata": {
        "id": "yeveimEQqLc7"
      },
      "execution_count": null,
      "outputs": []
    },
    {
      "cell_type": "markdown",
      "source": [
        "See the beauty of `map()`? Can you imagine the flexibility this evokes?\n",
        "\n",
        "The `range(1, 7)` function acts as the second argument to the `round` function (the number of required decimal places per iteration). So as `map` iterates through `circle_areas`, during the first iteration, the first element of `circle_areas`, `3.56773` is passed along with the first element of `range(1,7)`, `1` to `round`, making it effectively become `round(3.56773, 1)`. During the second iteration, the second element of `circle_areas`, `5.57668` along with the second element of `range(1,7)`, `2` is passed to `round` making it translate to `round(5.57668, 2)`. This happens until the end of the `circle_areas` list is reached.\n",
        "\n",
        "I'm sure you're wondering: \"What if I pass in an iterable less than or more than the length of the first iterable? That is, what if I pass `range(1, 3)` or `range(1, 9999)` as the second iterable in the above function\". And the answer is simple: nothing! Okay, that's not true. \"Nothing\" happens in the sense that the `map()` function will not raise any exception, it will simply iterate over the elements until it can't find a second argument to the function, at which point it simply stops and returns the result.\n",
        "\n",
        "So, for example, if you evaluate `result = list(map(round, circle_areas, range(1, 3)))`, you won't get any error even as the length of `circle_areas` and the length of `range(1, 3)` differ. Instead, this is what Python does: It takes the first element of `circle_areas` and the first element of `range(1,3)` and passes it to `round`. `round` evaluates it then saves the result. Then it goes on to the second iteration, second element of `circle_areas` and second element of `range(1,3)`, round saves it again. Now, in the third iteration (`circle_areas` has a third element), Python takes the third element of `circle_areas` and then tries to take the third element of `range(1,3)` but since `range(1,3)` does not have a third element, Python simply stops and returns the result, which in this case would simply be `[3.6, 5.58]`.\n",
        "\n",
        "Go ahead, try it."
      ],
      "metadata": {
        "id": "DeaW8yyDqTDR"
      }
    },
    {
      "cell_type": "code",
      "source": [
        "circle_areas = [3.56773, 5.57668, 4.00914, 56.24241, 9.01344, 32.00013]\n",
        "result = list(map(round, circle_areas, range(1, 3)))\n",
        "\n",
        "print(result)"
      ],
      "metadata": {
        "id": "jx13PcdhrN0f"
      },
      "execution_count": null,
      "outputs": []
    },
    {
      "cell_type": "markdown",
      "source": [
        "The same thing happens if `circle_areas` is less than the length of the second iterable. Python simply stops when it can't find the next element in one of the iterables."
      ],
      "metadata": {
        "id": "4pJIMLDTrR79"
      }
    },
    {
      "cell_type": "markdown",
      "source": [
        "### `filter`"
      ],
      "metadata": {
        "id": "i5a665IySGJb"
      }
    },
    {
      "cell_type": "markdown",
      "source": [
        "While `map()` passes each element in the iterable through a function and returns the result of all elements having passed through the function, `filter()`, first of all, requires the function to return boolean values (true or false) and then passes each element in the iterable through the function, \"filtering\" away those that are false. It has the following syntax:\n",
        "\n",
        "`filter(func, iterable)`\n",
        "\n",
        "The following points are to be noted regarding filter():\n",
        "\n",
        "1. Unlike `map()`, only one iterable is required.\n",
        "2. The `func` argument is required to return a boolean type. If it doesn't, `filter` simply returns the `iterable` passed to it. Also, as only one iterable is required, it's implicit that `func` must only take one argument.\n",
        "3. `filter` passes each element in the iterable through `func` and returns only the ones that evaluate to true. I mean, it's right there in the name --- a \"filter\".\n",
        "\n",
        "Let's see some examples\n",
        "\n",
        "The following is a list (`iterable`) of the scores of 10 students in a Chemistry exam. Let's filter out those who passed with scores more than 75...using `filter`."
      ],
      "metadata": {
        "id": "xIQsUpc2sVA6"
      }
    },
    {
      "cell_type": "code",
      "source": [
        "scores = [66, 90, 68, 59, 76, 60, 88, 74, 81, 65]\n",
        "\n",
        "def is_A_student(score):\n",
        "    return score > 75\n",
        "\n",
        "over_75 = list(filter(is_A_student, scores))\n",
        "\n",
        "print(over_75)"
      ],
      "metadata": {
        "id": "Je3XZgSmstj2"
      },
      "execution_count": null,
      "outputs": []
    },
    {
      "cell_type": "markdown",
      "source": [
        "The next example will be a palindrome detector. A \"palindrome\" is a word, phrase, or sequence that reads the same backwards as forwards. Let's filter out words that are palindromes from a tuple (`iterable`) of suspected palindromes."
      ],
      "metadata": {
        "id": "uesT6pVkswGr"
      }
    },
    {
      "cell_type": "code",
      "source": [
        "dromes = (\"demigod\", \"rewire\", \"madam\", \"freer\", \"anutforajaroftuna\", \"kiosk\")\n",
        "\n",
        "def check_palindrome(string):\n",
        "  str_len = len(string)\n",
        "  first, last = 0, str_len - 1\n",
        "  while(first < last):\n",
        "    if string[first] == string[last]:\n",
        "      first = first + 1\n",
        "      last = last - 1\n",
        "    else:\n",
        "      return False\n",
        "  return True\n",
        "\n",
        "palindromes = list(filter(check_palindrome, dromes))\n",
        "\n",
        "print(palindromes)"
      ],
      "metadata": {
        "id": "BMLnOS6Csx0i"
      },
      "execution_count": null,
      "outputs": []
    },
    {
      "cell_type": "markdown",
      "source": [
        "### `reduce`"
      ],
      "metadata": {
        "id": "HZ7QillzSIWC"
      }
    },
    {
      "cell_type": "markdown",
      "source": [
        "`reduce` applies a function of two arguments cumulatively to the elements of an iterable, optionally starting with an initial argument. It has the following syntax:\n",
        "\n",
        "`reduce(func, iterable[, initial])`\n",
        "\n",
        "Where `func` is the function on which each element in the `iterable` gets cumulatively applied to, and `initial` is the optional value that gets placed before the elements of the iterable in the calculation, and serves as a default when the iterable is empty. The following should be noted about `reduce()`: 1. `func` requires two arguments, the first of which is the first element in `iterable` (if `initial` is not supplied) and the second element in `iterable`. If `initial` is supplied, then it becomes the first argument to func and the first element in iterable becomes the second element. 2. `reduce` \"reduces\" (I know, forgive me) `iterable` into a single value.\n",
        "\n",
        "As usual, let's see some examples.\n",
        "\n",
        "Let's create our own version of Python's built-in `sum()` function. The `sum()` function returns the sum of all the items in the iterable passed to it."
      ],
      "metadata": {
        "id": "XMYNWic8s3In"
      }
    },
    {
      "cell_type": "code",
      "source": [
        "from functools import reduce\n",
        "\n",
        "numbers = [3, 4, 6, 9, 34, 12]\n",
        "\n",
        "def custom_sum(first, second):\n",
        "    return first + second\n",
        "\n",
        "result = reduce(custom_sum, numbers)\n",
        "print(result)"
      ],
      "metadata": {
        "id": "vSTntQ8ltKGT"
      },
      "execution_count": null,
      "outputs": []
    },
    {
      "cell_type": "markdown",
      "source": [
        "So, what happened?\n",
        "\n",
        "As usual, it's all about iterations: `reduce` takes the first and second elements in `numbers` and passes them to `custom_sum` respectively. `custom_sum` computes their sum and returns it to `reduce. reduce` then takes that result and applies it as the first element to `custom_sum` and takes the next element (third) in `numbers` as the second element to `custom_sum`. It does this continuously (cumulatively) until `numbers` is exhausted.\n",
        "\n",
        "Let's see what happens when I use the optional `initial` value."
      ],
      "metadata": {
        "id": "QRuoxd5dtO0m"
      }
    },
    {
      "cell_type": "code",
      "source": [
        "from functools import reduce\n",
        "\n",
        "numbers = [3, 4, 6, 9, 34, 12]\n",
        "\n",
        "def custom_sum(first, second):\n",
        "    return first + second\n",
        "\n",
        "result = reduce(custom_sum, numbers, 10)\n",
        "print(result)"
      ],
      "metadata": {
        "id": "7bmRsIgGtln5"
      },
      "execution_count": null,
      "outputs": []
    },
    {
      "cell_type": "markdown",
      "source": [
        "## Higher Order Functions"
      ],
      "metadata": {
        "id": "fpJvYVg6crNW"
      }
    },
    {
      "cell_type": "markdown",
      "source": [
        "What are higer-order functions?\n",
        "\n",
        "A function that eiter:\n",
        "* Takes another function as an argument\n",
        "* Returns a function as its result\n",
        "\n",
        "All other functions are considered first-order functions."
      ],
      "metadata": {
        "id": "ETFfMekOt8G-"
      }
    },
    {
      "cell_type": "markdown",
      "source": [
        "### Functions as Arguments"
      ],
      "metadata": {
        "id": "e-0fSiSCLRJR"
      }
    },
    {
      "cell_type": "markdown",
      "source": [
        "For example, let's consider the following computations:\n",
        "\n",
        "\\begin{align}\n",
        "        &\\sum_{k=1}^5 k   = 1 + 2 + 3 + 4 + 5 = 15 \\\\\n",
        "        &\\sum_{k=1}^5 k^2 = 1^2 + 2^2 + 3^2 + 4^2 + 5^2 = 55 \\\\\n",
        "        &\\sum_{k=1}^5 k^3 = 1^3 + 2^3 + 3^3 + 4^3 + 5^3 = 225\n",
        "\\end{align}\n",
        "\n",
        "The common structure among functions may be a computational process, not just a number. A naive implementation of the above computational process would be:"
      ],
      "metadata": {
        "id": "K_pJLVqUuhi1"
      }
    },
    {
      "cell_type": "code",
      "source": [
        "def sum_naturals(n):\n",
        "  \"\"\"Sum the first N natural numbers.\n",
        "\n",
        "  >>> sum_naturals(5)\n",
        "  15\n",
        "  \"\"\"\n",
        "  total, k = 0, 1\n",
        "  while k <= n:\n",
        "    total, k = total + k, k + 1\n",
        "  return total\n",
        "\n",
        "\n",
        "def sum_squares(n):\n",
        "  \"\"\"Sum the first N squares of natural numbers.\n",
        "\n",
        "  >>> sum_squares(5)\n",
        "  55\n",
        "  \"\"\"\n",
        "  total, k = 0, 1\n",
        "  while k <= n:\n",
        "    total, k = total + pow(k, 2), k + 1\n",
        "  return total\n",
        "\n",
        "\n",
        "def sum_cubes(n):\n",
        "  \"\"\"Sum the first N cubes of natural numbers.\n",
        "\n",
        "  >>> sum_cubes(5)\n",
        "  225\n",
        "  \"\"\"\n",
        "  total, k = 0, 1\n",
        "  while k <= n:\n",
        "    total, k = total + pow(k, 3), k + 1\n",
        "  return total"
      ],
      "metadata": {
        "id": "22lu-lXWc5mJ"
      },
      "execution_count": null,
      "outputs": []
    },
    {
      "cell_type": "markdown",
      "source": [
        "We can generalize the computational process as follows:"
      ],
      "metadata": {
        "id": "_VXREsPSc6FW"
      }
    },
    {
      "cell_type": "code",
      "source": [
        "def identity(k):\n",
        "  return k\n",
        "\n",
        "\n",
        "def square(k):\n",
        "  return k ** 2\n",
        "\n",
        "\n",
        "def cube(k):\n",
        "  return k ** 3\n",
        "\n",
        "\n",
        "def summation(n, term):\n",
        "  \"\"\"sum the first N terms of a sequence.\n",
        "  >>> summation(5, identity)\n",
        "  15\n",
        "  >>> summation(5, square)\n",
        "  55\n",
        "  >>> summation(5, cube)\n",
        "  225\n",
        "  \"\"\"\n",
        "  total = 0\n",
        "  k = 1\n",
        "  while k <= n:\n",
        "    total = total + term(k)\n",
        "    k = k + 1\n",
        "  return total"
      ],
      "metadata": {
        "id": "wuiBTbbiwkNw"
      },
      "execution_count": null,
      "outputs": []
    },
    {
      "cell_type": "markdown",
      "source": [
        "### Functions as Return Values"
      ],
      "metadata": {
        "id": "w2DV0-gLMt5n"
      }
    },
    {
      "cell_type": "markdown",
      "source": [
        "Functions defined within other function bodies are bound to names in a local frame:"
      ],
      "metadata": {
        "id": "KoC35a3CxEHN"
      }
    },
    {
      "cell_type": "code",
      "source": [
        "def make_adder(n):\n",
        "  \"\"\"Return a function that takes one argument k\n",
        "     and returns k + n.\n",
        "  >>> add_three = make_adder(3)\n",
        "  >>> add_three(4)\n",
        "  7\n",
        "  \"\"\"\n",
        "  def adder(k):\n",
        "    return k + n\n",
        "  return adder"
      ],
      "metadata": {
        "id": "uW2JCCUYxJEQ"
      },
      "execution_count": null,
      "outputs": []
    },
    {
      "cell_type": "code",
      "source": [
        "print(type(make_adder(3)))\n",
        "print(make_adder(3)(4))\n",
        "\n",
        "func_add_three = make_adder(3)\n",
        "print(func_add_three(7))"
      ],
      "metadata": {
        "id": "1LHPdN4Tqx6R"
      },
      "execution_count": null,
      "outputs": []
    },
    {
      "cell_type": "markdown",
      "source": [
        "**WWPP Questions**"
      ],
      "metadata": {
        "id": "H8xS0HW5rO5i"
      }
    },
    {
      "cell_type": "code",
      "source": [
        "def even(f):\n",
        "  def odd(x):\n",
        "    if x < 0:\n",
        "      return f(-x)\n",
        "    return f(x)\n",
        "  return odd\n",
        "\n",
        "def steven(x):\n",
        "  return x\n",
        "\n",
        "stewart = even(steven)\n",
        "print(stewart)\n",
        "print(stewart(61))\n",
        "print(stewart(-4))"
      ],
      "metadata": {
        "id": "K42y3F8nrRHj"
      },
      "execution_count": null,
      "outputs": []
    },
    {
      "cell_type": "code",
      "source": [
        "def cake():\n",
        "  print('beets')\n",
        "  def pie():\n",
        "    print('sweets')\n",
        "    return 'cake'\n",
        "  return pie\n",
        "\n",
        "chocolate = cake()\n",
        "print('1', chocolate)\n",
        "print('2', chocolate())\n",
        "more_chocolate, more_cake = chocolate(), cake\n",
        "print('3', more_chocolate)\n",
        "\n",
        "def snake(x, y):\n",
        "  if cake == more_cake:\n",
        "    return chocolate\n",
        "  else:\n",
        "    return x + y\n",
        "\n",
        "print('4', snake(10, 20))\n",
        "print('5', snake(10, 20)())\n",
        "cake = 'cake'\n",
        "snake(10, 20)"
      ],
      "metadata": {
        "id": "F_Fy4KxerqWd"
      },
      "execution_count": null,
      "outputs": []
    },
    {
      "cell_type": "markdown",
      "source": [
        "### Lambda Functions\n"
      ],
      "metadata": {
        "id": "IpT1BUYaxW9X"
      }
    },
    {
      "cell_type": "markdown",
      "source": [
        "A `lambda` function is a simple function definition that evaluates to a function:\n",
        "\n",
        "`lambda <parameters>: <expression>`\n",
        "\n",
        "For example,"
      ],
      "metadata": {
        "id": "jhFHQahS4wc9"
      }
    },
    {
      "cell_type": "code",
      "source": [
        "square = lambda x: x * x\n",
        "# incorrect\n",
        "# square = lambda x: return x * x"
      ],
      "metadata": {
        "id": "l9GeDeAN5AUC"
      },
      "execution_count": null,
      "outputs": []
    },
    {
      "cell_type": "markdown",
      "source": [
        "The difference between `def func` and `lambda` is\n",
        "* `def` assigns a specific name to the function\n",
        "* Both create a function (same domain, range and behavior)\n",
        "\n",
        "We can simplifiy the examples we saw above as follows:"
      ],
      "metadata": {
        "id": "ITADRP6Q5M6D"
      }
    },
    {
      "cell_type": "code",
      "source": [
        "my_strings = ['a', 'b', 'c', 'd', 'e']\n",
        "my_numbers = [1, 2, 3, 4, 5]\n",
        "\n",
        "results = list(map(lambda x, y: (x, y), my_strings, my_numbers))\n",
        "\n",
        "print(results)"
      ],
      "metadata": {
        "id": "DSZ6tkKMrkGJ"
      },
      "execution_count": null,
      "outputs": []
    },
    {
      "cell_type": "code",
      "source": [
        "my_strings = ['a', 'b', 'c', 'd', 'e']\n",
        "my_numbers = [1, 2, 3, 4, 5]\n",
        "\n",
        "results = list(zip(my_strings, my_numbers))\n",
        "\n",
        "print(results)"
      ],
      "metadata": {
        "id": "skxxC_NVpl-_"
      },
      "execution_count": null,
      "outputs": []
    },
    {
      "cell_type": "code",
      "source": [
        "summation(5, lambda k: k ** 1)\n",
        "summation(5, lambda k: k ** 2)\n",
        "summation(5, lambda k: k ** 3)"
      ],
      "metadata": {
        "id": "T4KNnvzs5dLP"
      },
      "execution_count": null,
      "outputs": []
    },
    {
      "cell_type": "markdown",
      "source": [
        "Did you also notice that we didn't even need to create a function using the `def my_function()` standard way? That's how flexible Python in general is! Python allows to write less code (be \"Pythonic\")."
      ],
      "metadata": {
        "id": "L0iNEKRSrpfi"
      }
    },
    {
      "cell_type": "markdown",
      "source": [
        "**WWPP Questions**"
      ],
      "metadata": {
        "id": "kBnExPBWMFCv"
      }
    },
    {
      "cell_type": "code",
      "source": [
        "def add(a, b):\n",
        "  return a + 5, b + 5\n",
        "\n",
        "result = add(3, 2)\n",
        "print(result)"
      ],
      "metadata": {
        "id": "4NC1e6HEMZJB"
      },
      "execution_count": null,
      "outputs": []
    },
    {
      "cell_type": "code",
      "source": [
        "def outer_fun(a, b):\n",
        "  def inner_fun(c, d):\n",
        "      return c + d\n",
        "\n",
        "  return inner_fun(a, b)\n",
        "  return a\n",
        "\n",
        "result = outer_fun(5, 10)\n",
        "print(result)"
      ],
      "metadata": {
        "id": "t2EbJIxiMHAa"
      },
      "execution_count": null,
      "outputs": []
    },
    {
      "cell_type": "code",
      "source": [
        "b = lambda x: lambda: x\n",
        "c = b(88)\n",
        "print(c)"
      ],
      "metadata": {
        "id": "DPEvaLmyMJiY"
      },
      "execution_count": null,
      "outputs": []
    },
    {
      "cell_type": "code",
      "source": [
        "z = 3\n",
        "e = lambda x: lambda y: lambda: x + y + z\n",
        "print(e(0)(1)())"
      ],
      "metadata": {
        "id": "pLSixh5MMv4N"
      },
      "execution_count": null,
      "outputs": []
    },
    {
      "cell_type": "code",
      "source": [
        "higher_order_lambda = lambda f: lambda x: f(x)\n",
        "g = lambda x: x * x\n",
        "\n",
        "print(higher_order_lambda(2)(g))  # Which argument belongs to which function call?\n",
        "print(higher_order_lambda(g)(2))"
      ],
      "metadata": {
        "id": "UrD0VspDwGkb"
      },
      "execution_count": null,
      "outputs": []
    },
    {
      "cell_type": "code",
      "source": [
        "call_thrice = lambda f: lambda x: f(f(f(x)))\n",
        "call_thrice(lambda y: y + 1)(0)\n",
        "print_lambda = lambda z: print(z)  # When is the return expression of a lambda expression executed?\n",
        "\n",
        "print(print_lambda)\n",
        "one_thousand = print_lambda(1000)\n",
        "print(one_thousand)"
      ],
      "metadata": {
        "id": "spNM_uw00Tj_"
      },
      "execution_count": null,
      "outputs": []
    },
    {
      "cell_type": "markdown",
      "source": [
        "## Style Guide for Python Code"
      ],
      "metadata": {
        "id": "vnWbevArUgCf"
      }
    },
    {
      "cell_type": "markdown",
      "source": [
        "Python style guides are a list of dos and don’ts for Python programs; other languages have their own style guides. Style guides let a team of programmers write codes that are **consistent**. The codes following a style guide seems just one programmer have wriiten the codes. For Python, two conventions are most popular\n",
        "* [PEP-8](https://www.python.org/dev/peps/pep-0008/)\n",
        "* [Google Python Style Guide](https://google.github.io/styleguide/pyguide.html)"
      ],
      "metadata": {
        "id": "K21l7ZG4UyNW"
      }
    }
  ]
}