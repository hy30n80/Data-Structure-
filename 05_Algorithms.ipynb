{
  "nbformat": 4,
  "nbformat_minor": 0,
  "metadata": {
    "colab": {
      "provenance": [],
      "include_colab_link": true
    },
    "kernelspec": {
      "name": "python3",
      "display_name": "Python 3"
    },
    "language_info": {
      "name": "python"
    }
  },
  "cells": [
    {
      "cell_type": "markdown",
      "metadata": {
        "id": "view-in-github",
        "colab_type": "text"
      },
      "source": [
        "<a href=\"https://colab.research.google.com/github/hy30n80/Data-Structure-/blob/main/05_Algorithms.ipynb\" target=\"_parent\"><img src=\"https://colab.research.google.com/assets/colab-badge.svg\" alt=\"Open In Colab\"/></a>"
      ]
    },
    {
      "cell_type": "markdown",
      "source": [
        "# EC2202 Algorithm Analysis"
      ],
      "metadata": {
        "id": "gqZUxjuw8OE4"
      }
    },
    {
      "cell_type": "markdown",
      "source": [
        "**Disclaimer.**\n",
        "This code examples are based on\n",
        "\n",
        "1. [MIT 6.006 (Professor Erik Demaine, Dr. Jason Ku, and Professor Justin Solomon)](https://ocw.mit.edu/courses/electrical-engineering-and-computer-science/6-006-introduction-to-algorithms-spring-2020/index.htm)\n",
        "2. [UC Berkeley CS61B (Professor Paul Hilfinger)](https://inst.eecs.berkeley.edu/~cs61b/sp22/)\n",
        "3. [KAIST CS206 (Professor Otfried Cheong)](https://otfried.org/courses/cs206/)"
      ],
      "metadata": {
        "id": "1bWHozli8SQ_"
      }
    },
    {
      "cell_type": "markdown",
      "source": [
        "Import necessary modules for testing the code blocks"
      ],
      "metadata": {
        "id": "37DZV-CtIuN9"
      }
    },
    {
      "cell_type": "code",
      "source": [
        "import time\n",
        "import random"
      ],
      "metadata": {
        "id": "WzPMmtbWIDIx"
      },
      "execution_count": 1,
      "outputs": []
    },
    {
      "cell_type": "markdown",
      "source": [
        "## The Naive Solution"
      ],
      "metadata": {
        "id": "lDEbL7Wj8Vv6"
      }
    },
    {
      "cell_type": "code",
      "source": [
        "%%HTML\n",
        "<iframe width=\"560\" height=\"315\" src=\"https://www.youtube.com/embed/GuNaipP6mFI\" title=\"YouTube video player\" frameborder=\"0\" allowfullscreen></iframe>\n",
        "<iframe width=\"560\" height=\"315\" src=\"https://www.youtube.com/embed/EDa1ZgFYafM\" title=\"YouTube video player\" frameborder=\"0\" allowfullscreen></iframe>"
      ],
      "metadata": {
        "colab": {
          "base_uri": "https://localhost:8080/",
          "height": 336
        },
        "id": "pGAerS81fH1w",
        "outputId": "ff0861fb-c4be-45a6-867e-00d2d868d33b"
      },
      "execution_count": null,
      "outputs": [
        {
          "output_type": "display_data",
          "data": {
            "text/plain": [
              "<IPython.core.display.HTML object>"
            ],
            "text/html": [
              "<iframe width=\"560\" height=\"315\" src=\"https://www.youtube.com/embed/GuNaipP6mFI\" title=\"YouTube video player\" frameborder=\"0\" allowfullscreen></iframe>\n",
              "<iframe width=\"560\" height=\"315\" src=\"https://www.youtube.com/embed/EDa1ZgFYafM\" title=\"YouTube video player\" frameborder=\"0\" allowfullscreen></iframe>\n"
            ]
          },
          "metadata": {}
        }
      ]
    },
    {
      "cell_type": "markdown",
      "source": [
        "Let's check all the possible choices"
      ],
      "metadata": {
        "id": "7bGGC068Fvjz"
      }
    },
    {
      "cell_type": "code",
      "execution_count": 6,
      "metadata": {
        "id": "pa6OKiIWyu-H"
      },
      "outputs": [],
      "source": [
        "# Naive (cubic) maximum contiguous subsequence sum algorithm.\n",
        "# start and end represent the actual best sequence.\n",
        "def max_sub_sum_naive(a):\n",
        "  max_sum = 0\n",
        "  start = 0  # i\n",
        "  end = 0    # j\n",
        "  for i in range(len(a)):       # i: 0, ..., n-1\n",
        "    for j in range(i, len(a)):  # j: i, ..., n-1\n",
        "      sum = 0\n",
        "      # to evaluate the sub sum for current i & j\n",
        "      for k in range(i, j+1):\n",
        "        sum += a[k]\n",
        "      if sum > max_sum:  # update our track\n",
        "        max_sum = sum\n",
        "        start   = i\n",
        "        end     = j\n",
        "  return max_sum, start, end"
      ]
    },
    {
      "cell_type": "markdown",
      "source": [
        "## The Faster Solution"
      ],
      "metadata": {
        "id": "dQOPpFBbOAcR"
      }
    },
    {
      "cell_type": "markdown",
      "source": [
        "The faster solution removes redundant calculations!"
      ],
      "metadata": {
        "id": "HjTL_6qNOCoZ"
      }
    },
    {
      "cell_type": "code",
      "source": [
        "# Quadratic maximum contiguous subsequence sum algorithm.\n",
        "# start and end represent the actual best sequence.\n",
        "def max_sub_sum_faster(a):\n",
        "  # 'ppp' exercise\n",
        "  max_sum = 0\n",
        "  start = 0\n",
        "  end = 0\n",
        "  for i in range(len(a)):\n",
        "    sum = 0\n",
        "    for j in range(i, len(a)):\n",
        "      sum += a[j]\n",
        "      if sum > max_sum :\n",
        "        max_sum = sum\n",
        "        start = i\n",
        "        start = j\n",
        "  return max_sum, start, end"
      ],
      "metadata": {
        "id": "ryrTN-GrO7Kb"
      },
      "execution_count": 5,
      "outputs": []
    },
    {
      "cell_type": "code",
      "source": [
        "%%HTML\n",
        "<iframe width=\"560\" height=\"315\" src=\"https://www.youtube.com/embed/zTraIhBOU_k\" title=\"YouTube video player\" frameborder=\"0\" allowfullscreen></iframe>\n",
        "<iframe width=\"560\" height=\"315\" src=\"https://www.youtube.com/embed/oiWZUxVLGsE\" title=\"YouTube video player\" frameborder=\"0\" allowfullscreen></iframe>"
      ],
      "metadata": {
        "colab": {
          "base_uri": "https://localhost:8080/",
          "height": 336
        },
        "id": "Wq57deV_fNr3",
        "outputId": "075c10d4-6227-428f-e949-a5be81c27d02"
      },
      "execution_count": null,
      "outputs": [
        {
          "output_type": "display_data",
          "data": {
            "text/plain": [
              "<IPython.core.display.HTML object>"
            ],
            "text/html": [
              "<iframe width=\"560\" height=\"315\" src=\"https://www.youtube.com/embed/zTraIhBOU_k\" title=\"YouTube video player\" frameborder=\"0\" allowfullscreen></iframe>\n",
              "<iframe width=\"560\" height=\"315\" src=\"https://www.youtube.com/embed/oiWZUxVLGsE\" title=\"YouTube video player\" frameborder=\"0\" allowfullscreen></iframe>\n"
            ]
          },
          "metadata": {}
        }
      ]
    },
    {
      "cell_type": "markdown",
      "source": [
        "## The recursive solution"
      ],
      "metadata": {
        "id": "aCF8emoScfgE"
      }
    },
    {
      "cell_type": "markdown",
      "source": [
        "The recursive solution categorizes cases as follows:\n",
        "- The max subsum is in the left half\n",
        "- The max subsum is in the right half\n",
        "- The max subsum begins in the left half and ends in the right half\n"
      ],
      "metadata": {
        "id": "o8LQNPJkchvT"
      }
    },
    {
      "cell_type": "code",
      "source": [
        "# Recursive maximum contiguous subsequence sum algorithm.\n",
        "# Finds maximum sum in subarray spanning a[left..right].\n",
        "def max_sub_sum_recursive(a, left, right):\n",
        "  #base cases\n",
        "  if left == right:\n",
        "    if a[left] > 0:\n",
        "      return a[left]\n",
        "    else:\n",
        "      return 0\n",
        "\n",
        "  else:\n",
        "    center = (left + right) // 2\n",
        "    max_sum_left = max_sub_sum_recursive(a, left, center) # 1st case\n",
        "    max_sum_right = max_sub_sum_recursive(a, center+1, right) # 2nd case\n",
        "\n",
        "    #3rd case\n",
        "    max_border_sum_left = 0 # 왼쪽 배열에서 max sum\n",
        "    max_border_sum_right = 0 # 오른쪽 배열에서 max sum\n",
        "\n",
        "    left_border_sum = 0 # 왼쪽 배열의 sum\n",
        "    right_border_sum = 0 # 오른쪽 배열의 sum\n",
        "\n",
        "    for i in range(center, left-1, -1):\n",
        "      left_border_sum += a[i]\n",
        "      if left_border_sum > max_border_sum_left:\n",
        "        max_border_sum_left = left_border_sum\n",
        "\n",
        "    for i in range(center+1, right+1):\n",
        "      right_border_sum += a[i]\n",
        "      if right_border_sum > max_border_sum_right:\n",
        "        max_border_sum_right = right_border_sum\n",
        "\n",
        "    return max(max_sum_left, max_sum_right, max_border_sum_left + max_border_sum_right)\n",
        "\n",
        "def max_sub_sum_recursive_driver(a):\n",
        "  if len(a) > 0:\n",
        "    return max_sub_sum_recursive(a, 0, len(a)-1)\n",
        "  else:\n",
        "    return 0"
      ],
      "metadata": {
        "id": "EKrbU0NXcoQC"
      },
      "execution_count": 3,
      "outputs": []
    },
    {
      "cell_type": "code",
      "source": [],
      "metadata": {
        "id": "IKG3Om0O2jUc"
      },
      "execution_count": null,
      "outputs": []
    },
    {
      "cell_type": "code",
      "source": [
        "%%HTML\n",
        "<iframe width=\"560\" height=\"315\" src=\"https://www.youtube.com/embed/yVC-sX-gDjU\" title=\"YouTube video player\" frameborder=\"0\" allowfullscreen></iframe>\n",
        "<iframe width=\"560\" height=\"315\" src=\"https://www.youtube.com/embed/A9-wXRFwIpk\" title=\"YouTube video player\" frameborder=\"0\" allowfullscreen></iframe>"
      ],
      "metadata": {
        "colab": {
          "base_uri": "https://localhost:8080/",
          "height": 336
        },
        "id": "ZjeqM6ByfVHy",
        "outputId": "bc582036-7161-4553-ec76-bcde7a166127"
      },
      "execution_count": null,
      "outputs": [
        {
          "output_type": "display_data",
          "data": {
            "text/plain": [
              "<IPython.core.display.HTML object>"
            ],
            "text/html": [
              "<iframe width=\"560\" height=\"315\" src=\"https://www.youtube.com/embed/yVC-sX-gDjU\" title=\"YouTube video player\" frameborder=\"0\" allowfullscreen></iframe>\n",
              "<iframe width=\"560\" height=\"315\" src=\"https://www.youtube.com/embed/A9-wXRFwIpk\" title=\"YouTube video player\" frameborder=\"0\" allowfullscreen></iframe>\n"
            ]
          },
          "metadata": {}
        }
      ]
    },
    {
      "cell_type": "code",
      "source": [
        "%%HTML\n",
        "<iframe width=\"560\" height=\"315\" src=\"https://www.youtube.com/embed/dkKXEvgD0tg\" title=\"YouTube video player\" frameborder=\"0\" allowfullscreen></iframe>\n",
        "<iframe width=\"560\" height=\"315\" src=\"https://www.youtube.com/embed/L4A_lT-rz5I\" title=\"YouTube video player\" frameborder=\"0\" allowfullscreen></iframe>"
      ],
      "metadata": {
        "colab": {
          "base_uri": "https://localhost:8080/",
          "height": 336
        },
        "id": "3Th0fu8zfZUI",
        "outputId": "acc8fa55-6130-44bb-f7c0-fa9c764654af"
      },
      "execution_count": null,
      "outputs": [
        {
          "output_type": "display_data",
          "data": {
            "text/plain": [
              "<IPython.core.display.HTML object>"
            ],
            "text/html": [
              "<iframe width=\"560\" height=\"315\" src=\"https://www.youtube.com/embed/dkKXEvgD0tg\" title=\"YouTube video player\" frameborder=\"0\" allowfullscreen></iframe>\n",
              "<iframe width=\"560\" height=\"315\" src=\"https://www.youtube.com/embed/L4A_lT-rz5I\" title=\"YouTube video player\" frameborder=\"0\" allowfullscreen></iframe>\n"
            ]
          },
          "metadata": {}
        }
      ]
    },
    {
      "cell_type": "markdown",
      "source": [
        "## Comparing Three Solutions"
      ],
      "metadata": {
        "id": "bDRuLfRCdr1N"
      }
    },
    {
      "cell_type": "code",
      "source": [
        "def get_timing_info(n, alg):\n",
        "  start_time = time.time()\n",
        "  total_time = 0\n",
        "\n",
        "  rounds = 0\n",
        "  while total_time < 4.0:\n",
        "    test = [ random.randrange(100) for i in range(n) ]\n",
        "\n",
        "    if alg == 1:\n",
        "      max_sub_sum_naive(test)\n",
        "    elif alg == 2:\n",
        "      max_sub_sum_faster(test)\n",
        "    else:\n",
        "      max_sub_sum_recursive_driver(test)\n",
        "\n",
        "    total_time = time.time() - start_time\n",
        "    rounds += 1\n",
        "\n",
        "  print(\"Algorithm #%d N = %6d time = %9d microsecs\" %\n",
        "        (alg, n, total_time * 1000000 // rounds))\n",
        "\n",
        "def time_comparison():\n",
        "  n = 10\n",
        "  while n <= 10000:\n",
        "    for alg in range(1, 4):\n",
        "      if alg != 1 or n < 5000:\n",
        "        get_timing_info(n, alg)\n",
        "    n *= 10\n",
        "\n",
        "def simple_demo():\n",
        "  A = [ 4, -3, 5, -2, -1, 2, 6, -2 ]\n",
        "  res1, start1, end1 = max_sub_sum_naive(A)\n",
        "  res2, start2, end2 = max_sub_sum_faster(A)\n",
        "  res3 = max_sub_sum_recursive_driver(A)\n",
        "  print(\"Alg 1: Max sum is %d; it goes from %d to %d\" % (res1, start1, end1))\n",
        "  print(\"Alg 2: Max sum is %d; it goes from %d to %d\" % (res2, start2, end2))\n",
        "  print(\"Alg 3: Max sum is %d\" % res3)\n",
        "\n",
        "simple_demo()\n",
        "time_comparison()"
      ],
      "metadata": {
        "colab": {
          "base_uri": "https://localhost:8080/"
        },
        "id": "O3XPP8-adt83",
        "outputId": "07c6821c-1f63-4a18-86d9-35851f677019"
      },
      "execution_count": 7,
      "outputs": [
        {
          "output_type": "stream",
          "name": "stdout",
          "text": [
            "Alg 1: Max sum is 11; it goes from 0 to 6\n",
            "Alg 2: Max sum is 11; it goes from 6 to 0\n",
            "Alg 3: Max sum is 11\n",
            "Algorithm #1 N =     10 time =        39 microsecs\n",
            "Algorithm #2 N =     10 time =        15 microsecs\n",
            "Algorithm #3 N =     10 time =        19 microsecs\n",
            "Algorithm #1 N =    100 time =     12793 microsecs\n",
            "Algorithm #2 N =    100 time =       643 microsecs\n",
            "Algorithm #3 N =    100 time =       216 microsecs\n",
            "Algorithm #1 N =   1000 time =  13025683 microsecs\n",
            "Algorithm #2 N =   1000 time =     56017 microsecs\n",
            "Algorithm #3 N =   1000 time =      3178 microsecs\n",
            "Algorithm #2 N =  10000 time =   4807619 microsecs\n",
            "Algorithm #3 N =  10000 time =     36385 microsecs\n"
          ]
        }
      ]
    },
    {
      "cell_type": "code",
      "source": [
        "def cows_go(n):\n",
        "  for i in range(100):\n",
        "    for j in range(i):\n",
        "      for k in range(j):\n",
        "        print(\"moove\")\n",
        "\n",
        "def bars_rearranged(n):\n",
        "  i = 1\n",
        "  while i <= n:\n",
        "    for j in range(i):\n",
        "      cows_go(j)\n",
        "    i *= 2"
      ],
      "metadata": {
        "id": "M-mfbxrL0GGe"
      },
      "execution_count": null,
      "outputs": []
    }
  ]
}